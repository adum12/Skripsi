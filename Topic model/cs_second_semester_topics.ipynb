{
 "cells": [
  {
   "cell_type": "code",
   "execution_count": 5,
   "metadata": {},
   "outputs": [],
   "source": [
    "from sklearn.feature_extraction.text import CountVectorizer\n",
    "from gensim.models.coherencemodel import CoherenceModel\n",
    "from bertopic.vectorizers import ClassTfidfTransformer\n",
    "from sentence_transformers import SentenceTransformer\n",
    "from gensim.corpora.dictionary import Dictionary\n",
    "import matplotlib.pyplot as plt\n",
    "from bertopic import BERTopic\n",
    "from hdbscan import HDBSCAN\n",
    "from umap import UMAP\n",
    "import seaborn as sns\n",
    "import pandas as pd\n",
    "import numpy as np\n",
    "import pickle"
   ]
  },
  {
   "cell_type": "code",
   "execution_count": 2,
   "metadata": {},
   "outputs": [],
   "source": [
    "df = pd.read_csv(\"../../Data preprocessing/Preprocessed data V2/arxiv_cs_preprocessed_second_semester.csv\")\n",
    "abstracts = df[\"summary\"].to_list()\n",
    "dates = df[\"date\"].to_list()\n",
    "ids = df[\"id\"].to_list()"
   ]
  },
  {
   "cell_type": "code",
   "execution_count": 6,
   "metadata": {},
   "outputs": [],
   "source": [
    "embedding_model = SentenceTransformer(\"all-mpnet-base-v2\")\n",
    "embeddings = np.load(\"../../Topic extraction/abstract embeddings/all-mpnet-base-v2-embeddings V2/cs_embeddings_second_semesterV2.npy\")\n",
    "vectorizer_model = CountVectorizer(stop_words=\"english\", ngram_range=(1,2))\n",
    "ctfidf_model = ClassTfidfTransformer(reduce_frequent_words=True)"
   ]
  },
  {
   "cell_type": "code",
   "execution_count": 7,
   "metadata": {},
   "outputs": [],
   "source": [
    "# umap_model = UMAP(n_neighbors=10, \n",
    "#                   n_components=10,\n",
    "#                   min_dist=0.0,\n",
    "#                   metric='cosine',\n",
    "#                   random_state=42)\n",
    "umap_model = UMAP(n_neighbors=10, \n",
    "                  n_components=15,\n",
    "                  min_dist=0.0,\n",
    "                  metric='cosine',\n",
    "                  random_state=42)"
   ]
  },
  {
   "cell_type": "code",
   "execution_count": 8,
   "metadata": {},
   "outputs": [],
   "source": [
    "hdbscan_model = HDBSCAN(min_cluster_size=100,\n",
    "                        metric='euclidean',\n",
    "                        cluster_selection_method='eom',\n",
    "                        prediction_data=True)"
   ]
  },
  {
   "cell_type": "code",
   "execution_count": 9,
   "metadata": {},
   "outputs": [
    {
     "data": {
      "text/html": [
       "<div>\n",
       "<style scoped>\n",
       "    .dataframe tbody tr th:only-of-type {\n",
       "        vertical-align: middle;\n",
       "    }\n",
       "\n",
       "    .dataframe tbody tr th {\n",
       "        vertical-align: top;\n",
       "    }\n",
       "\n",
       "    .dataframe thead th {\n",
       "        text-align: right;\n",
       "    }\n",
       "</style>\n",
       "<table border=\"1\" class=\"dataframe\">\n",
       "  <thead>\n",
       "    <tr style=\"text-align: right;\">\n",
       "      <th></th>\n",
       "      <th>Topic</th>\n",
       "      <th>Count</th>\n",
       "      <th>Name</th>\n",
       "      <th>Representation</th>\n",
       "      <th>Representative_Docs</th>\n",
       "    </tr>\n",
       "  </thead>\n",
       "  <tbody>\n",
       "    <tr>\n",
       "      <th>0</th>\n",
       "      <td>-1</td>\n",
       "      <td>24272</td>\n",
       "      <td>-1_model_data_method_problem</td>\n",
       "      <td>[model, data, method, problem, image, based, a...</td>\n",
       "      <td>[['recent', 'advancement', 'large', 'scale', '...</td>\n",
       "    </tr>\n",
       "    <tr>\n",
       "      <th>1</th>\n",
       "      <td>0</td>\n",
       "      <td>5858</td>\n",
       "      <td>0_llm_image_training_task</td>\n",
       "      <td>[llm, image, training, task, learning, scene, ...</td>\n",
       "      <td>[['pre', 'trained', 'vision', 'language', 'mod...</td>\n",
       "    </tr>\n",
       "    <tr>\n",
       "      <th>2</th>\n",
       "      <td>1</td>\n",
       "      <td>2830</td>\n",
       "      <td>1_patient_medical_clinical_disease</td>\n",
       "      <td>[patient, medical, clinical, disease, segmenta...</td>\n",
       "      <td>[['rectal', 'cancer', 'segmentation', 'ct', 'i...</td>\n",
       "    </tr>\n",
       "    <tr>\n",
       "      <th>3</th>\n",
       "      <td>2</td>\n",
       "      <td>1964</td>\n",
       "      <td>2_robot_robotic_manipulation_robotics</td>\n",
       "      <td>[robot, robotic, manipulation, robotics, envir...</td>\n",
       "      <td>[['ability', 'robot', 'navigate', 'door', 'cru...</td>\n",
       "    </tr>\n",
       "    <tr>\n",
       "      <th>4</th>\n",
       "      <td>3</td>\n",
       "      <td>1251</td>\n",
       "      <td>3_fl_client_attack_federated</td>\n",
       "      <td>[fl, client, attack, federated, vertex, federa...</td>\n",
       "      <td>[['federated', 'learning', 'fl', 'enables', 'c...</td>\n",
       "    </tr>\n",
       "    <tr>\n",
       "      <th>5</th>\n",
       "      <td>4</td>\n",
       "      <td>1177</td>\n",
       "      <td>4_speech_audio_speaker_music</td>\n",
       "      <td>[speech, audio, speaker, music, asr, acoustic,...</td>\n",
       "      <td>[['speech', 'synthesis', 'technology', 'witnes...</td>\n",
       "    </tr>\n",
       "    <tr>\n",
       "      <th>6</th>\n",
       "      <td>5</td>\n",
       "      <td>1096</td>\n",
       "      <td>5_vehicle_driving_traffic_autonomous</td>\n",
       "      <td>[vehicle, driving, traffic, autonomous, road, ...</td>\n",
       "      <td>[['advent', 'autonomous', 'vehicle', 'av', 'al...</td>\n",
       "    </tr>\n",
       "    <tr>\n",
       "      <th>7</th>\n",
       "      <td>6</td>\n",
       "      <td>902</td>\n",
       "      <td>6_ri_channel_antenna_wireless</td>\n",
       "      <td>[ri, channel, antenna, wireless, communication...</td>\n",
       "      <td>[['although', 'reconfigurable', 'intelligent',...</td>\n",
       "    </tr>\n",
       "    <tr>\n",
       "      <th>8</th>\n",
       "      <td>7</td>\n",
       "      <td>874</td>\n",
       "      <td>7_equation_numerical_order_scheme</td>\n",
       "      <td>[equation, numerical, order, scheme, convergen...</td>\n",
       "      <td>[['present', 'new', 'class', 'efficient', 'rob...</td>\n",
       "    </tr>\n",
       "    <tr>\n",
       "      <th>9</th>\n",
       "      <td>8</td>\n",
       "      <td>771</td>\n",
       "      <td>8_graph_node_gnns_gnn</td>\n",
       "      <td>[graph, node, gnns, gnn, graph neural, network...</td>\n",
       "      <td>[['graph', 'neural', 'network', 'gnns', 'shown...</td>\n",
       "    </tr>\n",
       "    <tr>\n",
       "      <th>10</th>\n",
       "      <td>9</td>\n",
       "      <td>753</td>\n",
       "      <td>9_software_code_bug_developer</td>\n",
       "      <td>[software, code, bug, developer, software deve...</td>\n",
       "      <td>[['recently', 'large', 'language', 'model', 'l...</td>\n",
       "    </tr>\n",
       "    <tr>\n",
       "      <th>11</th>\n",
       "      <td>10</td>\n",
       "      <td>679</td>\n",
       "      <td>10_language_translation_multilingual_english</td>\n",
       "      <td>[language, translation, multilingual, english,...</td>\n",
       "      <td>[['despite', 'substantial', 'progress', 'multi...</td>\n",
       "    </tr>\n",
       "    <tr>\n",
       "      <th>12</th>\n",
       "      <td>11</td>\n",
       "      <td>542</td>\n",
       "      <td>11_energy_power_grid_renewable</td>\n",
       "      <td>[energy, power, grid, renewable, voltage, batt...</td>\n",
       "      <td>[['paper', 'integrated', 'multi', 'period', 'm...</td>\n",
       "    </tr>\n",
       "    <tr>\n",
       "      <th>13</th>\n",
       "      <td>12</td>\n",
       "      <td>516</td>\n",
       "      <td>12_social_social medium_medium_news</td>\n",
       "      <td>[social, social medium, medium, news, politica...</td>\n",
       "      <td>[['covid', 'pandemic', 'caused', 'internet', '...</td>\n",
       "    </tr>\n",
       "    <tr>\n",
       "      <th>14</th>\n",
       "      <td>13</td>\n",
       "      <td>501</td>\n",
       "      <td>13_protein_drug_molecular_molecule</td>\n",
       "      <td>[protein, drug, molecular, molecule, gene, che...</td>\n",
       "      <td>[['application', 'machine', 'learning', 'ml', ...</td>\n",
       "    </tr>\n",
       "    <tr>\n",
       "      <th>15</th>\n",
       "      <td>14</td>\n",
       "      <td>473</td>\n",
       "      <td>14_posterior_distribution_gaussian_bayesian</td>\n",
       "      <td>[posterior, distribution, gaussian, bayesian, ...</td>\n",
       "      <td>[['deep', 'gaussian', 'process', 'dgp', 'model...</td>\n",
       "    </tr>\n",
       "    <tr>\n",
       "      <th>16</th>\n",
       "      <td>15</td>\n",
       "      <td>470</td>\n",
       "      <td>15_quantum_circuit_classical_qubits</td>\n",
       "      <td>[quantum, circuit, classical, qubits, quantum ...</td>\n",
       "      <td>[['quantum', 'information', 'perfectly', 'clon...</td>\n",
       "    </tr>\n",
       "    <tr>\n",
       "      <th>17</th>\n",
       "      <td>16</td>\n",
       "      <td>448</td>\n",
       "      <td>16_ai_intelligence_artificial intelligence_art...</td>\n",
       "      <td>[ai, intelligence, artificial intelligence, ar...</td>\n",
       "      <td>[['scientific', 'innovation', 'natural', 'lang...</td>\n",
       "    </tr>\n",
       "    <tr>\n",
       "      <th>18</th>\n",
       "      <td>17</td>\n",
       "      <td>430</td>\n",
       "      <td>17_recommendation_item_recommender_user</td>\n",
       "      <td>[recommendation, item, recommender, user, user...</td>\n",
       "      <td>[['multi', 'modal', 'recommendation', 'system'...</td>\n",
       "    </tr>\n",
       "    <tr>\n",
       "      <th>19</th>\n",
       "      <td>18</td>\n",
       "      <td>380</td>\n",
       "      <td>18_control_controller_disturbance_nonlinear</td>\n",
       "      <td>[control, controller, disturbance, nonlinear, ...</td>\n",
       "      <td>[['designing', 'data', 'driven', 'controller',...</td>\n",
       "    </tr>\n",
       "    <tr>\n",
       "      <th>20</th>\n",
       "      <td>19</td>\n",
       "      <td>376</td>\n",
       "      <td>19_uav_uavs_drone_aerial</td>\n",
       "      <td>[uav, uavs, drone, aerial, flight, aerial vehi...</td>\n",
       "      <td>[['unmanned', 'aerial', 'vehicle', 'uav', 'net...</td>\n",
       "    </tr>\n",
       "    <tr>\n",
       "      <th>21</th>\n",
       "      <td>20</td>\n",
       "      <td>361</td>\n",
       "      <td>20_blockchain_transaction_smart contract_contract</td>\n",
       "      <td>[blockchain, transaction, smart contract, cont...</td>\n",
       "      <td>[['paper', 'address', 'critical', 'challenge',...</td>\n",
       "    </tr>\n",
       "    <tr>\n",
       "      <th>22</th>\n",
       "      <td>21</td>\n",
       "      <td>339</td>\n",
       "      <td>21_citation_scientific_publication_research</td>\n",
       "      <td>[citation, scientific, publication, research, ...</td>\n",
       "      <td>[['impact', 'outlier', 'anomaly', 'model', 'es...</td>\n",
       "    </tr>\n",
       "    <tr>\n",
       "      <th>23</th>\n",
       "      <td>22</td>\n",
       "      <td>336</td>\n",
       "      <td>22_memory_accelerator_hardware_pim</td>\n",
       "      <td>[memory, accelerator, hardware, pim, gpu, hpc,...</td>\n",
       "      <td>[['progress', 'artificial', 'intelligence', 'm...</td>\n",
       "    </tr>\n",
       "    <tr>\n",
       "      <th>24</th>\n",
       "      <td>23</td>\n",
       "      <td>319</td>\n",
       "      <td>23_code_linear code_polynomial_bound</td>\n",
       "      <td>[code, linear code, polynomial, bound, md, ben...</td>\n",
       "      <td>[['show', 'known', 'list', 'decoding', 'algori...</td>\n",
       "    </tr>\n",
       "    <tr>\n",
       "      <th>25</th>\n",
       "      <td>24</td>\n",
       "      <td>318</td>\n",
       "      <td>24_video_frame_temporal_text video</td>\n",
       "      <td>[video, frame, temporal, text video, motion, v...</td>\n",
       "      <td>[['recent', 'year', 'witnessed', 'great', 'pro...</td>\n",
       "    </tr>\n",
       "    <tr>\n",
       "      <th>26</th>\n",
       "      <td>25</td>\n",
       "      <td>280</td>\n",
       "      <td>25_logic_proof_calculus_theory</td>\n",
       "      <td>[logic, proof, calculus, theory, algebra, sema...</td>\n",
       "      <td>[['linear', 'logic', 'provided', 'new', 'persp...</td>\n",
       "    </tr>\n",
       "    <tr>\n",
       "      <th>27</th>\n",
       "      <td>26</td>\n",
       "      <td>280</td>\n",
       "      <td>26_game_player_equilibrium_nash equilibrium</td>\n",
       "      <td>[game, player, equilibrium, nash equilibrium, ...</td>\n",
       "      <td>[['study', 'open', 'question', 'player', 'lear...</td>\n",
       "    </tr>\n",
       "    <tr>\n",
       "      <th>28</th>\n",
       "      <td>27</td>\n",
       "      <td>278</td>\n",
       "      <td>27_cyber_cybersecurity_attack_security</td>\n",
       "      <td>[cyber, cybersecurity, attack, security, threa...</td>\n",
       "      <td>[['recent', 'year', 'shown', 'increased', 'cyb...</td>\n",
       "    </tr>\n",
       "    <tr>\n",
       "      <th>29</th>\n",
       "      <td>28</td>\n",
       "      <td>270</td>\n",
       "      <td>28_student_education_course_educational</td>\n",
       "      <td>[student, education, course, educational, teac...</td>\n",
       "      <td>[['text', 'based', 'open', 'ended', 'question'...</td>\n",
       "    </tr>\n",
       "    <tr>\n",
       "      <th>30</th>\n",
       "      <td>29</td>\n",
       "      <td>238</td>\n",
       "      <td>29_forecasting_forecast_time series_series</td>\n",
       "      <td>[forecasting, forecast, time series, series, f...</td>\n",
       "      <td>[['time', 'series', 'forecasting', 'played', '...</td>\n",
       "    </tr>\n",
       "    <tr>\n",
       "      <th>31</th>\n",
       "      <td>30</td>\n",
       "      <td>193</td>\n",
       "      <td>30_encryption_cryptographic_cryptography_security</td>\n",
       "      <td>[encryption, cryptographic, cryptography, secu...</td>\n",
       "      <td>[['due', 'weakness', 'public', 'key', 'cryptos...</td>\n",
       "    </tr>\n",
       "    <tr>\n",
       "      <th>32</th>\n",
       "      <td>31</td>\n",
       "      <td>170</td>\n",
       "      <td>31_anomaly_anomaly detection_detection_outlier</td>\n",
       "      <td>[anomaly, anomaly detection, detection, outlie...</td>\n",
       "      <td>[['video', 'anomaly', 'detection', 'vad', 'wea...</td>\n",
       "    </tr>\n",
       "    <tr>\n",
       "      <th>33</th>\n",
       "      <td>32</td>\n",
       "      <td>168</td>\n",
       "      <td>32_optimization_solver_algorithm_optimization ...</td>\n",
       "      <td>[optimization, solver, algorithm, optimization...</td>\n",
       "      <td>[['lagrangian', 'relaxation', 'versatile', 'ma...</td>\n",
       "    </tr>\n",
       "    <tr>\n",
       "      <th>34</th>\n",
       "      <td>33</td>\n",
       "      <td>165</td>\n",
       "      <td>33_cloud_serverless_service_container</td>\n",
       "      <td>[cloud, serverless, service, container, cloud ...</td>\n",
       "      <td>[['firecracker', 'virtual', 'machine', 'manage...</td>\n",
       "    </tr>\n",
       "    <tr>\n",
       "      <th>35</th>\n",
       "      <td>34</td>\n",
       "      <td>164</td>\n",
       "      <td>34_clustering_cluster_clustering algorithm_clu...</td>\n",
       "      <td>[clustering, cluster, clustering algorithm, cl...</td>\n",
       "      <td>[['graph', 'clustering', 'fundamental', 'task'...</td>\n",
       "    </tr>\n",
       "    <tr>\n",
       "      <th>36</th>\n",
       "      <td>35</td>\n",
       "      <td>162</td>\n",
       "      <td>35_crop_soil_agricultural_plant</td>\n",
       "      <td>[crop, soil, agricultural, plant, agriculture,...</td>\n",
       "      <td>[['forest', 'essential', 'part', 'earth', 'eco...</td>\n",
       "    </tr>\n",
       "    <tr>\n",
       "      <th>37</th>\n",
       "      <td>36</td>\n",
       "      <td>151</td>\n",
       "      <td>36_gan_gans_generative adversarial_adversarial...</td>\n",
       "      <td>[gan, gans, generative adversarial, adversaria...</td>\n",
       "      <td>[['propose', 'novel', 'modular', 'inference', ...</td>\n",
       "    </tr>\n",
       "    <tr>\n",
       "      <th>38</th>\n",
       "      <td>37</td>\n",
       "      <td>150</td>\n",
       "      <td>37_auction_valuation_price_allocation</td>\n",
       "      <td>[auction, valuation, price, allocation, buyer,...</td>\n",
       "      <td>[['study', 'fair', 'distribution', 'collection...</td>\n",
       "    </tr>\n",
       "    <tr>\n",
       "      <th>39</th>\n",
       "      <td>38</td>\n",
       "      <td>141</td>\n",
       "      <td>38_underwater_marine_underwater image_ocean</td>\n",
       "      <td>[underwater, marine, underwater image, ocean, ...</td>\n",
       "      <td>[['marine', 'debris', 'pose', 'significant', '...</td>\n",
       "    </tr>\n",
       "    <tr>\n",
       "      <th>40</th>\n",
       "      <td>39</td>\n",
       "      <td>138</td>\n",
       "      <td>39_pose_pose estimation_human pose_estimation</td>\n",
       "      <td>[pose, pose estimation, human pose, estimation...</td>\n",
       "      <td>[['estimating', '6d', 'pose', 'reconstructing'...</td>\n",
       "    </tr>\n",
       "    <tr>\n",
       "      <th>41</th>\n",
       "      <td>40</td>\n",
       "      <td>128</td>\n",
       "      <td>40_face_facial_face recognition_face image</td>\n",
       "      <td>[face, facial, face recognition, face image, f...</td>\n",
       "      <td>[['state', 'art', 'face', 'recognition', 'netw...</td>\n",
       "    </tr>\n",
       "    <tr>\n",
       "      <th>42</th>\n",
       "      <td>41</td>\n",
       "      <td>126</td>\n",
       "      <td>41_galaxy_telescope_asteroid_mission</td>\n",
       "      <td>[galaxy, telescope, asteroid, mission, crater,...</td>\n",
       "      <td>[['virtual', 'super', 'resolution', 'optic', '...</td>\n",
       "    </tr>\n",
       "    <tr>\n",
       "      <th>43</th>\n",
       "      <td>42</td>\n",
       "      <td>119</td>\n",
       "      <td>42_spiking_snns_spike_snn</td>\n",
       "      <td>[spiking, snns, spike, snn, neuron, neuromorph...</td>\n",
       "      <td>[['spiking', 'neural', 'network', 'snn', 'dist...</td>\n",
       "    </tr>\n",
       "    <tr>\n",
       "      <th>44</th>\n",
       "      <td>43</td>\n",
       "      <td>115</td>\n",
       "      <td>43_causal_causal discovery_causal relationship...</td>\n",
       "      <td>[causal, causal discovery, causal relationship...</td>\n",
       "      <td>[['causal', 'representation', 'learning', 'alg...</td>\n",
       "    </tr>\n",
       "    <tr>\n",
       "      <th>45</th>\n",
       "      <td>44</td>\n",
       "      <td>114</td>\n",
       "      <td>44_iot_device_home_smart</td>\n",
       "      <td>[iot, device, home, smart, iot device, smart h...</td>\n",
       "      <td>[['cinnamon', 'eureka', 'traditional', 'projec...</td>\n",
       "    </tr>\n",
       "    <tr>\n",
       "      <th>46</th>\n",
       "      <td>45</td>\n",
       "      <td>108</td>\n",
       "      <td>45_data_synthetic data_synthetic_privacy</td>\n",
       "      <td>[data, synthetic data, synthetic, privacy, dat...</td>\n",
       "      <td>[['individual', 'organization', 'cope', 'alway...</td>\n",
       "    </tr>\n",
       "  </tbody>\n",
       "</table>\n",
       "</div>"
      ],
      "text/plain": [
       "    Topic  Count                                               Name  \\\n",
       "0      -1  24272                       -1_model_data_method_problem   \n",
       "1       0   5858                          0_llm_image_training_task   \n",
       "2       1   2830                 1_patient_medical_clinical_disease   \n",
       "3       2   1964              2_robot_robotic_manipulation_robotics   \n",
       "4       3   1251                       3_fl_client_attack_federated   \n",
       "5       4   1177                       4_speech_audio_speaker_music   \n",
       "6       5   1096               5_vehicle_driving_traffic_autonomous   \n",
       "7       6    902                      6_ri_channel_antenna_wireless   \n",
       "8       7    874                  7_equation_numerical_order_scheme   \n",
       "9       8    771                              8_graph_node_gnns_gnn   \n",
       "10      9    753                      9_software_code_bug_developer   \n",
       "11     10    679       10_language_translation_multilingual_english   \n",
       "12     11    542                     11_energy_power_grid_renewable   \n",
       "13     12    516                12_social_social medium_medium_news   \n",
       "14     13    501                 13_protein_drug_molecular_molecule   \n",
       "15     14    473        14_posterior_distribution_gaussian_bayesian   \n",
       "16     15    470                15_quantum_circuit_classical_qubits   \n",
       "17     16    448  16_ai_intelligence_artificial intelligence_art...   \n",
       "18     17    430            17_recommendation_item_recommender_user   \n",
       "19     18    380        18_control_controller_disturbance_nonlinear   \n",
       "20     19    376                           19_uav_uavs_drone_aerial   \n",
       "21     20    361  20_blockchain_transaction_smart contract_contract   \n",
       "22     21    339        21_citation_scientific_publication_research   \n",
       "23     22    336                 22_memory_accelerator_hardware_pim   \n",
       "24     23    319               23_code_linear code_polynomial_bound   \n",
       "25     24    318                 24_video_frame_temporal_text video   \n",
       "26     25    280                     25_logic_proof_calculus_theory   \n",
       "27     26    280        26_game_player_equilibrium_nash equilibrium   \n",
       "28     27    278             27_cyber_cybersecurity_attack_security   \n",
       "29     28    270            28_student_education_course_educational   \n",
       "30     29    238         29_forecasting_forecast_time series_series   \n",
       "31     30    193  30_encryption_cryptographic_cryptography_security   \n",
       "32     31    170     31_anomaly_anomaly detection_detection_outlier   \n",
       "33     32    168  32_optimization_solver_algorithm_optimization ...   \n",
       "34     33    165              33_cloud_serverless_service_container   \n",
       "35     34    164  34_clustering_cluster_clustering algorithm_clu...   \n",
       "36     35    162                    35_crop_soil_agricultural_plant   \n",
       "37     36    151  36_gan_gans_generative adversarial_adversarial...   \n",
       "38     37    150              37_auction_valuation_price_allocation   \n",
       "39     38    141        38_underwater_marine_underwater image_ocean   \n",
       "40     39    138      39_pose_pose estimation_human pose_estimation   \n",
       "41     40    128         40_face_facial_face recognition_face image   \n",
       "42     41    126               41_galaxy_telescope_asteroid_mission   \n",
       "43     42    119                          42_spiking_snns_spike_snn   \n",
       "44     43    115  43_causal_causal discovery_causal relationship...   \n",
       "45     44    114                           44_iot_device_home_smart   \n",
       "46     45    108           45_data_synthetic data_synthetic_privacy   \n",
       "\n",
       "                                       Representation  \\\n",
       "0   [model, data, method, problem, image, based, a...   \n",
       "1   [llm, image, training, task, learning, scene, ...   \n",
       "2   [patient, medical, clinical, disease, segmenta...   \n",
       "3   [robot, robotic, manipulation, robotics, envir...   \n",
       "4   [fl, client, attack, federated, vertex, federa...   \n",
       "5   [speech, audio, speaker, music, asr, acoustic,...   \n",
       "6   [vehicle, driving, traffic, autonomous, road, ...   \n",
       "7   [ri, channel, antenna, wireless, communication...   \n",
       "8   [equation, numerical, order, scheme, convergen...   \n",
       "9   [graph, node, gnns, gnn, graph neural, network...   \n",
       "10  [software, code, bug, developer, software deve...   \n",
       "11  [language, translation, multilingual, english,...   \n",
       "12  [energy, power, grid, renewable, voltage, batt...   \n",
       "13  [social, social medium, medium, news, politica...   \n",
       "14  [protein, drug, molecular, molecule, gene, che...   \n",
       "15  [posterior, distribution, gaussian, bayesian, ...   \n",
       "16  [quantum, circuit, classical, qubits, quantum ...   \n",
       "17  [ai, intelligence, artificial intelligence, ar...   \n",
       "18  [recommendation, item, recommender, user, user...   \n",
       "19  [control, controller, disturbance, nonlinear, ...   \n",
       "20  [uav, uavs, drone, aerial, flight, aerial vehi...   \n",
       "21  [blockchain, transaction, smart contract, cont...   \n",
       "22  [citation, scientific, publication, research, ...   \n",
       "23  [memory, accelerator, hardware, pim, gpu, hpc,...   \n",
       "24  [code, linear code, polynomial, bound, md, ben...   \n",
       "25  [video, frame, temporal, text video, motion, v...   \n",
       "26  [logic, proof, calculus, theory, algebra, sema...   \n",
       "27  [game, player, equilibrium, nash equilibrium, ...   \n",
       "28  [cyber, cybersecurity, attack, security, threa...   \n",
       "29  [student, education, course, educational, teac...   \n",
       "30  [forecasting, forecast, time series, series, f...   \n",
       "31  [encryption, cryptographic, cryptography, secu...   \n",
       "32  [anomaly, anomaly detection, detection, outlie...   \n",
       "33  [optimization, solver, algorithm, optimization...   \n",
       "34  [cloud, serverless, service, container, cloud ...   \n",
       "35  [clustering, cluster, clustering algorithm, cl...   \n",
       "36  [crop, soil, agricultural, plant, agriculture,...   \n",
       "37  [gan, gans, generative adversarial, adversaria...   \n",
       "38  [auction, valuation, price, allocation, buyer,...   \n",
       "39  [underwater, marine, underwater image, ocean, ...   \n",
       "40  [pose, pose estimation, human pose, estimation...   \n",
       "41  [face, facial, face recognition, face image, f...   \n",
       "42  [galaxy, telescope, asteroid, mission, crater,...   \n",
       "43  [spiking, snns, spike, snn, neuron, neuromorph...   \n",
       "44  [causal, causal discovery, causal relationship...   \n",
       "45  [iot, device, home, smart, iot device, smart h...   \n",
       "46  [data, synthetic data, synthetic, privacy, dat...   \n",
       "\n",
       "                                  Representative_Docs  \n",
       "0   [['recent', 'advancement', 'large', 'scale', '...  \n",
       "1   [['pre', 'trained', 'vision', 'language', 'mod...  \n",
       "2   [['rectal', 'cancer', 'segmentation', 'ct', 'i...  \n",
       "3   [['ability', 'robot', 'navigate', 'door', 'cru...  \n",
       "4   [['federated', 'learning', 'fl', 'enables', 'c...  \n",
       "5   [['speech', 'synthesis', 'technology', 'witnes...  \n",
       "6   [['advent', 'autonomous', 'vehicle', 'av', 'al...  \n",
       "7   [['although', 'reconfigurable', 'intelligent',...  \n",
       "8   [['present', 'new', 'class', 'efficient', 'rob...  \n",
       "9   [['graph', 'neural', 'network', 'gnns', 'shown...  \n",
       "10  [['recently', 'large', 'language', 'model', 'l...  \n",
       "11  [['despite', 'substantial', 'progress', 'multi...  \n",
       "12  [['paper', 'integrated', 'multi', 'period', 'm...  \n",
       "13  [['covid', 'pandemic', 'caused', 'internet', '...  \n",
       "14  [['application', 'machine', 'learning', 'ml', ...  \n",
       "15  [['deep', 'gaussian', 'process', 'dgp', 'model...  \n",
       "16  [['quantum', 'information', 'perfectly', 'clon...  \n",
       "17  [['scientific', 'innovation', 'natural', 'lang...  \n",
       "18  [['multi', 'modal', 'recommendation', 'system'...  \n",
       "19  [['designing', 'data', 'driven', 'controller',...  \n",
       "20  [['unmanned', 'aerial', 'vehicle', 'uav', 'net...  \n",
       "21  [['paper', 'address', 'critical', 'challenge',...  \n",
       "22  [['impact', 'outlier', 'anomaly', 'model', 'es...  \n",
       "23  [['progress', 'artificial', 'intelligence', 'm...  \n",
       "24  [['show', 'known', 'list', 'decoding', 'algori...  \n",
       "25  [['recent', 'year', 'witnessed', 'great', 'pro...  \n",
       "26  [['linear', 'logic', 'provided', 'new', 'persp...  \n",
       "27  [['study', 'open', 'question', 'player', 'lear...  \n",
       "28  [['recent', 'year', 'shown', 'increased', 'cyb...  \n",
       "29  [['text', 'based', 'open', 'ended', 'question'...  \n",
       "30  [['time', 'series', 'forecasting', 'played', '...  \n",
       "31  [['due', 'weakness', 'public', 'key', 'cryptos...  \n",
       "32  [['video', 'anomaly', 'detection', 'vad', 'wea...  \n",
       "33  [['lagrangian', 'relaxation', 'versatile', 'ma...  \n",
       "34  [['firecracker', 'virtual', 'machine', 'manage...  \n",
       "35  [['graph', 'clustering', 'fundamental', 'task'...  \n",
       "36  [['forest', 'essential', 'part', 'earth', 'eco...  \n",
       "37  [['propose', 'novel', 'modular', 'inference', ...  \n",
       "38  [['study', 'fair', 'distribution', 'collection...  \n",
       "39  [['marine', 'debris', 'pose', 'significant', '...  \n",
       "40  [['estimating', '6d', 'pose', 'reconstructing'...  \n",
       "41  [['state', 'art', 'face', 'recognition', 'netw...  \n",
       "42  [['virtual', 'super', 'resolution', 'optic', '...  \n",
       "43  [['spiking', 'neural', 'network', 'snn', 'dist...  \n",
       "44  [['causal', 'representation', 'learning', 'alg...  \n",
       "45  [['cinnamon', 'eureka', 'traditional', 'projec...  \n",
       "46  [['individual', 'organization', 'cope', 'alway...  "
      ]
     },
     "execution_count": 9,
     "metadata": {},
     "output_type": "execute_result"
    }
   ],
   "source": [
    "topic_model = BERTopic(\n",
    "    \n",
    "  embedding_model=embedding_model,\n",
    "  umap_model=umap_model,\n",
    "  hdbscan_model=hdbscan_model,\n",
    "  vectorizer_model=vectorizer_model,\n",
    "  ctfidf_model=ctfidf_model,\n",
    "\n",
    "  n_gram_range=(1,2),\n",
    "  top_n_words=10,\n",
    "  nr_topics=\"auto\"\n",
    ")\n",
    "\n",
    "# Train model\n",
    "topics, probs = topic_model.fit_transform(abstracts, embeddings)\n",
    "\n",
    "# Show topics\n",
    "topic_model.get_topic_info()"
   ]
  },
  {
   "cell_type": "code",
   "execution_count": 10,
   "metadata": {},
   "outputs": [
    {
     "name": "stderr",
     "output_type": "stream",
     "text": [
      "2024-11-11 17:49:10,691 - BERTopic - WARNING: Using a custom list of topic assignments may lead to errors if topic reduction techniques are used afterwards. Make sure that manually assigning topics is the last step in the pipeline.Note that topic embeddings will also be created through weightedc-TF-IDF embeddings instead of centroid embeddings.\n"
     ]
    },
    {
     "data": {
      "text/html": [
       "<div>\n",
       "<style scoped>\n",
       "    .dataframe tbody tr th:only-of-type {\n",
       "        vertical-align: middle;\n",
       "    }\n",
       "\n",
       "    .dataframe tbody tr th {\n",
       "        vertical-align: top;\n",
       "    }\n",
       "\n",
       "    .dataframe thead th {\n",
       "        text-align: right;\n",
       "    }\n",
       "</style>\n",
       "<table border=\"1\" class=\"dataframe\">\n",
       "  <thead>\n",
       "    <tr style=\"text-align: right;\">\n",
       "      <th></th>\n",
       "      <th>Topic</th>\n",
       "      <th>Count</th>\n",
       "      <th>Name</th>\n",
       "      <th>Representation</th>\n",
       "      <th>Representative_Docs</th>\n",
       "    </tr>\n",
       "  </thead>\n",
       "  <tbody>\n",
       "    <tr>\n",
       "      <th>0</th>\n",
       "      <td>0</td>\n",
       "      <td>10804</td>\n",
       "      <td>0_model_task_image_method</td>\n",
       "      <td>[model, task, image, method, learning, trainin...</td>\n",
       "      <td>[['pre', 'trained', 'vision', 'language', 'mod...</td>\n",
       "    </tr>\n",
       "    <tr>\n",
       "      <th>1</th>\n",
       "      <td>1</td>\n",
       "      <td>3368</td>\n",
       "      <td>1_image_medical_model_segmentation</td>\n",
       "      <td>[image, medical, model, segmentation, patient,...</td>\n",
       "      <td>[['rectal', 'cancer', 'segmentation', 'ct', 'i...</td>\n",
       "    </tr>\n",
       "    <tr>\n",
       "      <th>2</th>\n",
       "      <td>2</td>\n",
       "      <td>2438</td>\n",
       "      <td>2_robot_object_task_human</td>\n",
       "      <td>[robot, object, task, human, environment, robo...</td>\n",
       "      <td>[['ability', 'robot', 'navigate', 'door', 'cru...</td>\n",
       "    </tr>\n",
       "    <tr>\n",
       "      <th>3</th>\n",
       "      <td>3</td>\n",
       "      <td>1967</td>\n",
       "      <td>3_attack_graph_fl_client</td>\n",
       "      <td>[attack, graph, fl, client, adversarial, feder...</td>\n",
       "      <td>[['federated', 'learning', 'fl', 'enables', 'c...</td>\n",
       "    </tr>\n",
       "    <tr>\n",
       "      <th>4</th>\n",
       "      <td>4</td>\n",
       "      <td>1554</td>\n",
       "      <td>4_speech_audio_speaker_model</td>\n",
       "      <td>[speech, audio, speaker, model, music, asr, re...</td>\n",
       "      <td>[['speech', 'synthesis', 'technology', 'witnes...</td>\n",
       "    </tr>\n",
       "    <tr>\n",
       "      <th>5</th>\n",
       "      <td>5</td>\n",
       "      <td>1598</td>\n",
       "      <td>5_vehicle_driving_traffic_autonomous</td>\n",
       "      <td>[vehicle, driving, traffic, autonomous, road, ...</td>\n",
       "      <td>[['advent', 'autonomous', 'vehicle', 'av', 'al...</td>\n",
       "    </tr>\n",
       "    <tr>\n",
       "      <th>6</th>\n",
       "      <td>6</td>\n",
       "      <td>1461</td>\n",
       "      <td>6_channel_communication_network_ri</td>\n",
       "      <td>[channel, communication, network, ri, wireless...</td>\n",
       "      <td>[['although', 'reconfigurable', 'intelligent',...</td>\n",
       "    </tr>\n",
       "    <tr>\n",
       "      <th>7</th>\n",
       "      <td>7</td>\n",
       "      <td>2143</td>\n",
       "      <td>7_equation_numerical_method_problem</td>\n",
       "      <td>[equation, numerical, method, problem, solutio...</td>\n",
       "      <td>[['present', 'new', 'class', 'efficient', 'rob...</td>\n",
       "    </tr>\n",
       "    <tr>\n",
       "      <th>8</th>\n",
       "      <td>8</td>\n",
       "      <td>1291</td>\n",
       "      <td>8_graph_node_network_gnns</td>\n",
       "      <td>[graph, node, network, gnns, gnn, graph neural...</td>\n",
       "      <td>[['graph', 'neural', 'network', 'gnns', 'shown...</td>\n",
       "    </tr>\n",
       "    <tr>\n",
       "      <th>9</th>\n",
       "      <td>9</td>\n",
       "      <td>1491</td>\n",
       "      <td>9_code_software_llm_language</td>\n",
       "      <td>[code, software, llm, language, tool, develope...</td>\n",
       "      <td>[['recently', 'large', 'language', 'model', 'l...</td>\n",
       "    </tr>\n",
       "    <tr>\n",
       "      <th>10</th>\n",
       "      <td>10</td>\n",
       "      <td>2073</td>\n",
       "      <td>10_language_model_text_task</td>\n",
       "      <td>[language, model, text, task, language model, ...</td>\n",
       "      <td>[['despite', 'substantial', 'progress', 'multi...</td>\n",
       "    </tr>\n",
       "    <tr>\n",
       "      <th>11</th>\n",
       "      <td>11</td>\n",
       "      <td>766</td>\n",
       "      <td>11_power_energy_system_grid</td>\n",
       "      <td>[power, energy, system, grid, battery, voltage...</td>\n",
       "      <td>[['paper', 'integrated', 'multi', 'period', 'm...</td>\n",
       "    </tr>\n",
       "    <tr>\n",
       "      <th>12</th>\n",
       "      <td>12</td>\n",
       "      <td>927</td>\n",
       "      <td>12_social_medium_social medium_news</td>\n",
       "      <td>[social, medium, social medium, news, user, co...</td>\n",
       "      <td>[['covid', 'pandemic', 'caused', 'internet', '...</td>\n",
       "    </tr>\n",
       "    <tr>\n",
       "      <th>13</th>\n",
       "      <td>13</td>\n",
       "      <td>685</td>\n",
       "      <td>13_protein_drug_molecular_molecule</td>\n",
       "      <td>[protein, drug, molecular, molecule, material,...</td>\n",
       "      <td>[['application', 'machine', 'learning', 'ml', ...</td>\n",
       "    </tr>\n",
       "    <tr>\n",
       "      <th>14</th>\n",
       "      <td>14</td>\n",
       "      <td>1754</td>\n",
       "      <td>14_distribution_model_data_method</td>\n",
       "      <td>[distribution, model, data, method, algorithm,...</td>\n",
       "      <td>[['deep', 'gaussian', 'process', 'dgp', 'model...</td>\n",
       "    </tr>\n",
       "    <tr>\n",
       "      <th>15</th>\n",
       "      <td>15</td>\n",
       "      <td>703</td>\n",
       "      <td>15_quantum_circuit_classical_algorithm</td>\n",
       "      <td>[quantum, circuit, classical, algorithm, state...</td>\n",
       "      <td>[['quantum', 'information', 'perfectly', 'clon...</td>\n",
       "    </tr>\n",
       "    <tr>\n",
       "      <th>16</th>\n",
       "      <td>16</td>\n",
       "      <td>1225</td>\n",
       "      <td>16_ai_human_intelligence_system</td>\n",
       "      <td>[ai, human, intelligence, system, artificial, ...</td>\n",
       "      <td>[['scientific', 'innovation', 'natural', 'lang...</td>\n",
       "    </tr>\n",
       "    <tr>\n",
       "      <th>17</th>\n",
       "      <td>17</td>\n",
       "      <td>807</td>\n",
       "      <td>17_recommendation_user_item_recommender</td>\n",
       "      <td>[recommendation, user, item, recommender, reco...</td>\n",
       "      <td>[['multi', 'modal', 'recommendation', 'system'...</td>\n",
       "    </tr>\n",
       "    <tr>\n",
       "      <th>18</th>\n",
       "      <td>18</td>\n",
       "      <td>971</td>\n",
       "      <td>18_control_system_controller_state</td>\n",
       "      <td>[control, system, controller, state, nonlinear...</td>\n",
       "      <td>[['designing', 'data', 'driven', 'controller',...</td>\n",
       "    </tr>\n",
       "    <tr>\n",
       "      <th>19</th>\n",
       "      <td>19</td>\n",
       "      <td>495</td>\n",
       "      <td>19_uav_uavs_drone_aerial</td>\n",
       "      <td>[uav, uavs, drone, aerial, flight, vehicle, ae...</td>\n",
       "      <td>[['unmanned', 'aerial', 'vehicle', 'uav', 'net...</td>\n",
       "    </tr>\n",
       "    <tr>\n",
       "      <th>20</th>\n",
       "      <td>20</td>\n",
       "      <td>498</td>\n",
       "      <td>20_blockchain_transaction_contract_smart contract</td>\n",
       "      <td>[blockchain, transaction, contract, smart cont...</td>\n",
       "      <td>[['paper', 'address', 'critical', 'challenge',...</td>\n",
       "    </tr>\n",
       "    <tr>\n",
       "      <th>21</th>\n",
       "      <td>21</td>\n",
       "      <td>641</td>\n",
       "      <td>21_research_scientific_science_paper</td>\n",
       "      <td>[research, scientific, science, paper, review,...</td>\n",
       "      <td>[['impact', 'outlier', 'anomaly', 'model', 'es...</td>\n",
       "    </tr>\n",
       "    <tr>\n",
       "      <th>22</th>\n",
       "      <td>22</td>\n",
       "      <td>839</td>\n",
       "      <td>22_memory_hardware_performance_accelerator</td>\n",
       "      <td>[memory, hardware, performance, accelerator, g...</td>\n",
       "      <td>[['progress', 'artificial', 'intelligence', 'm...</td>\n",
       "    </tr>\n",
       "    <tr>\n",
       "      <th>23</th>\n",
       "      <td>23</td>\n",
       "      <td>818</td>\n",
       "      <td>23_code_bound_polynomial_problem</td>\n",
       "      <td>[code, bound, polynomial, problem, algorithm, ...</td>\n",
       "      <td>[['show', 'known', 'list', 'decoding', 'algori...</td>\n",
       "    </tr>\n",
       "    <tr>\n",
       "      <th>24</th>\n",
       "      <td>24</td>\n",
       "      <td>935</td>\n",
       "      <td>24_video_frame_temporal_motion</td>\n",
       "      <td>[video, frame, temporal, motion, method, text,...</td>\n",
       "      <td>[['recent', 'year', 'witnessed', 'great', 'pro...</td>\n",
       "    </tr>\n",
       "    <tr>\n",
       "      <th>25</th>\n",
       "      <td>25</td>\n",
       "      <td>721</td>\n",
       "      <td>25_logic_proof_theory_program</td>\n",
       "      <td>[logic, proof, theory, program, semantics, typ...</td>\n",
       "      <td>[['linear', 'logic', 'provided', 'new', 'persp...</td>\n",
       "    </tr>\n",
       "    <tr>\n",
       "      <th>26</th>\n",
       "      <td>26</td>\n",
       "      <td>474</td>\n",
       "      <td>26_game_player_equilibrium_agent</td>\n",
       "      <td>[game, player, equilibrium, agent, nash, nash ...</td>\n",
       "      <td>[['study', 'open', 'question', 'player', 'lear...</td>\n",
       "    </tr>\n",
       "    <tr>\n",
       "      <th>27</th>\n",
       "      <td>27</td>\n",
       "      <td>573</td>\n",
       "      <td>27_attack_security_threat_cyber</td>\n",
       "      <td>[attack, security, threat, cyber, cybersecurit...</td>\n",
       "      <td>[['recent', 'year', 'shown', 'increased', 'cyb...</td>\n",
       "    </tr>\n",
       "    <tr>\n",
       "      <th>28</th>\n",
       "      <td>28</td>\n",
       "      <td>490</td>\n",
       "      <td>28_student_education_chatgpt_educational</td>\n",
       "      <td>[student, education, chatgpt, educational, cou...</td>\n",
       "      <td>[['text', 'based', 'open', 'ended', 'question'...</td>\n",
       "    </tr>\n",
       "    <tr>\n",
       "      <th>29</th>\n",
       "      <td>29</td>\n",
       "      <td>650</td>\n",
       "      <td>29_forecasting_series_time series_time</td>\n",
       "      <td>[forecasting, series, time series, time, model...</td>\n",
       "      <td>[['time', 'series', 'forecasting', 'played', '...</td>\n",
       "    </tr>\n",
       "    <tr>\n",
       "      <th>30</th>\n",
       "      <td>30</td>\n",
       "      <td>338</td>\n",
       "      <td>30_encryption_security_key_protocol</td>\n",
       "      <td>[encryption, security, key, protocol, secure, ...</td>\n",
       "      <td>[['due', 'weakness', 'public', 'key', 'cryptos...</td>\n",
       "    </tr>\n",
       "    <tr>\n",
       "      <th>31</th>\n",
       "      <td>31</td>\n",
       "      <td>513</td>\n",
       "      <td>31_anomaly_detection_anomaly detection_ood</td>\n",
       "      <td>[anomaly, detection, anomaly detection, ood, d...</td>\n",
       "      <td>[['video', 'anomaly', 'detection', 'vad', 'wea...</td>\n",
       "    </tr>\n",
       "    <tr>\n",
       "      <th>32</th>\n",
       "      <td>32</td>\n",
       "      <td>842</td>\n",
       "      <td>32_problem_optimization_algorithm_solution</td>\n",
       "      <td>[problem, optimization, algorithm, solution, s...</td>\n",
       "      <td>[['lagrangian', 'relaxation', 'versatile', 'ma...</td>\n",
       "    </tr>\n",
       "    <tr>\n",
       "      <th>33</th>\n",
       "      <td>33</td>\n",
       "      <td>364</td>\n",
       "      <td>33_cloud_service_resource_computing</td>\n",
       "      <td>[cloud, service, resource, computing, applicat...</td>\n",
       "      <td>[['firecracker', 'virtual', 'machine', 'manage...</td>\n",
       "    </tr>\n",
       "    <tr>\n",
       "      <th>34</th>\n",
       "      <td>34</td>\n",
       "      <td>350</td>\n",
       "      <td>34_clustering_cluster_algorithm_data</td>\n",
       "      <td>[clustering, cluster, algorithm, data, cluster...</td>\n",
       "      <td>[['graph', 'clustering', 'fundamental', 'task'...</td>\n",
       "    </tr>\n",
       "    <tr>\n",
       "      <th>35</th>\n",
       "      <td>35</td>\n",
       "      <td>263</td>\n",
       "      <td>35_crop_plant_soil_data</td>\n",
       "      <td>[crop, plant, soil, data, image, agricultural,...</td>\n",
       "      <td>[['forest', 'essential', 'part', 'earth', 'eco...</td>\n",
       "    </tr>\n",
       "    <tr>\n",
       "      <th>36</th>\n",
       "      <td>36</td>\n",
       "      <td>737</td>\n",
       "      <td>36_image_diffusion_generative_model</td>\n",
       "      <td>[image, diffusion, generative, model, diffusio...</td>\n",
       "      <td>[['propose', 'novel', 'modular', 'inference', ...</td>\n",
       "    </tr>\n",
       "    <tr>\n",
       "      <th>37</th>\n",
       "      <td>37</td>\n",
       "      <td>327</td>\n",
       "      <td>37_agent_price_auction_allocation</td>\n",
       "      <td>[agent, price, auction, allocation, valuation,...</td>\n",
       "      <td>[['study', 'fair', 'distribution', 'collection...</td>\n",
       "    </tr>\n",
       "    <tr>\n",
       "      <th>38</th>\n",
       "      <td>38</td>\n",
       "      <td>183</td>\n",
       "      <td>38_underwater_marine_image_ocean</td>\n",
       "      <td>[underwater, marine, image, ocean, underwater ...</td>\n",
       "      <td>[['marine', 'debris', 'pose', 'significant', '...</td>\n",
       "    </tr>\n",
       "    <tr>\n",
       "      <th>39</th>\n",
       "      <td>39</td>\n",
       "      <td>824</td>\n",
       "      <td>39_pose_3d_object_point</td>\n",
       "      <td>[pose, 3d, object, point, method, estimation, ...</td>\n",
       "      <td>[['estimating', '6d', 'pose', 'reconstructing'...</td>\n",
       "    </tr>\n",
       "    <tr>\n",
       "      <th>40</th>\n",
       "      <td>40</td>\n",
       "      <td>416</td>\n",
       "      <td>40_face_facial_image_recognition</td>\n",
       "      <td>[face, facial, image, recognition, identity, m...</td>\n",
       "      <td>[['state', 'art', 'face', 'recognition', 'netw...</td>\n",
       "    </tr>\n",
       "    <tr>\n",
       "      <th>41</th>\n",
       "      <td>41</td>\n",
       "      <td>182</td>\n",
       "      <td>41_galaxy_data_image_mission</td>\n",
       "      <td>[galaxy, data, image, mission, telescope, cosm...</td>\n",
       "      <td>[['virtual', 'super', 'resolution', 'optic', '...</td>\n",
       "    </tr>\n",
       "    <tr>\n",
       "      <th>42</th>\n",
       "      <td>42</td>\n",
       "      <td>354</td>\n",
       "      <td>42_spiking_neuron_network_neural</td>\n",
       "      <td>[spiking, neuron, network, neural, snns, neura...</td>\n",
       "      <td>[['spiking', 'neural', 'network', 'snn', 'dist...</td>\n",
       "    </tr>\n",
       "    <tr>\n",
       "      <th>43</th>\n",
       "      <td>43</td>\n",
       "      <td>339</td>\n",
       "      <td>43_causal_effect_variable_treatment</td>\n",
       "      <td>[causal, effect, variable, treatment, data, di...</td>\n",
       "      <td>[['causal', 'representation', 'learning', 'alg...</td>\n",
       "    </tr>\n",
       "    <tr>\n",
       "      <th>44</th>\n",
       "      <td>44</td>\n",
       "      <td>369</td>\n",
       "      <td>44_iot_device_smart_iot device</td>\n",
       "      <td>[iot, device, smart, iot device, sensor, data,...</td>\n",
       "      <td>[['cinnamon', 'eureka', 'traditional', 'projec...</td>\n",
       "    </tr>\n",
       "    <tr>\n",
       "      <th>45</th>\n",
       "      <td>45</td>\n",
       "      <td>333</td>\n",
       "      <td>45_data_privacy_synthetic_synthetic data</td>\n",
       "      <td>[data, privacy, synthetic, synthetic data, dp,...</td>\n",
       "      <td>[['individual', 'organization', 'cope', 'alway...</td>\n",
       "    </tr>\n",
       "  </tbody>\n",
       "</table>\n",
       "</div>"
      ],
      "text/plain": [
       "    Topic  Count                                               Name  \\\n",
       "0       0  10804                          0_model_task_image_method   \n",
       "1       1   3368                 1_image_medical_model_segmentation   \n",
       "2       2   2438                          2_robot_object_task_human   \n",
       "3       3   1967                           3_attack_graph_fl_client   \n",
       "4       4   1554                       4_speech_audio_speaker_model   \n",
       "5       5   1598               5_vehicle_driving_traffic_autonomous   \n",
       "6       6   1461                 6_channel_communication_network_ri   \n",
       "7       7   2143                7_equation_numerical_method_problem   \n",
       "8       8   1291                          8_graph_node_network_gnns   \n",
       "9       9   1491                       9_code_software_llm_language   \n",
       "10     10   2073                        10_language_model_text_task   \n",
       "11     11    766                        11_power_energy_system_grid   \n",
       "12     12    927                12_social_medium_social medium_news   \n",
       "13     13    685                 13_protein_drug_molecular_molecule   \n",
       "14     14   1754                  14_distribution_model_data_method   \n",
       "15     15    703             15_quantum_circuit_classical_algorithm   \n",
       "16     16   1225                    16_ai_human_intelligence_system   \n",
       "17     17    807            17_recommendation_user_item_recommender   \n",
       "18     18    971                 18_control_system_controller_state   \n",
       "19     19    495                           19_uav_uavs_drone_aerial   \n",
       "20     20    498  20_blockchain_transaction_contract_smart contract   \n",
       "21     21    641               21_research_scientific_science_paper   \n",
       "22     22    839         22_memory_hardware_performance_accelerator   \n",
       "23     23    818                   23_code_bound_polynomial_problem   \n",
       "24     24    935                     24_video_frame_temporal_motion   \n",
       "25     25    721                      25_logic_proof_theory_program   \n",
       "26     26    474                   26_game_player_equilibrium_agent   \n",
       "27     27    573                    27_attack_security_threat_cyber   \n",
       "28     28    490           28_student_education_chatgpt_educational   \n",
       "29     29    650             29_forecasting_series_time series_time   \n",
       "30     30    338                30_encryption_security_key_protocol   \n",
       "31     31    513         31_anomaly_detection_anomaly detection_ood   \n",
       "32     32    842         32_problem_optimization_algorithm_solution   \n",
       "33     33    364                33_cloud_service_resource_computing   \n",
       "34     34    350               34_clustering_cluster_algorithm_data   \n",
       "35     35    263                            35_crop_plant_soil_data   \n",
       "36     36    737                36_image_diffusion_generative_model   \n",
       "37     37    327                  37_agent_price_auction_allocation   \n",
       "38     38    183                   38_underwater_marine_image_ocean   \n",
       "39     39    824                            39_pose_3d_object_point   \n",
       "40     40    416                   40_face_facial_image_recognition   \n",
       "41     41    182                       41_galaxy_data_image_mission   \n",
       "42     42    354                   42_spiking_neuron_network_neural   \n",
       "43     43    339                43_causal_effect_variable_treatment   \n",
       "44     44    369                     44_iot_device_smart_iot device   \n",
       "45     45    333           45_data_privacy_synthetic_synthetic data   \n",
       "\n",
       "                                       Representation  \\\n",
       "0   [model, task, image, method, learning, trainin...   \n",
       "1   [image, medical, model, segmentation, patient,...   \n",
       "2   [robot, object, task, human, environment, robo...   \n",
       "3   [attack, graph, fl, client, adversarial, feder...   \n",
       "4   [speech, audio, speaker, model, music, asr, re...   \n",
       "5   [vehicle, driving, traffic, autonomous, road, ...   \n",
       "6   [channel, communication, network, ri, wireless...   \n",
       "7   [equation, numerical, method, problem, solutio...   \n",
       "8   [graph, node, network, gnns, gnn, graph neural...   \n",
       "9   [code, software, llm, language, tool, develope...   \n",
       "10  [language, model, text, task, language model, ...   \n",
       "11  [power, energy, system, grid, battery, voltage...   \n",
       "12  [social, medium, social medium, news, user, co...   \n",
       "13  [protein, drug, molecular, molecule, material,...   \n",
       "14  [distribution, model, data, method, algorithm,...   \n",
       "15  [quantum, circuit, classical, algorithm, state...   \n",
       "16  [ai, human, intelligence, system, artificial, ...   \n",
       "17  [recommendation, user, item, recommender, reco...   \n",
       "18  [control, system, controller, state, nonlinear...   \n",
       "19  [uav, uavs, drone, aerial, flight, vehicle, ae...   \n",
       "20  [blockchain, transaction, contract, smart cont...   \n",
       "21  [research, scientific, science, paper, review,...   \n",
       "22  [memory, hardware, performance, accelerator, g...   \n",
       "23  [code, bound, polynomial, problem, algorithm, ...   \n",
       "24  [video, frame, temporal, motion, method, text,...   \n",
       "25  [logic, proof, theory, program, semantics, typ...   \n",
       "26  [game, player, equilibrium, agent, nash, nash ...   \n",
       "27  [attack, security, threat, cyber, cybersecurit...   \n",
       "28  [student, education, chatgpt, educational, cou...   \n",
       "29  [forecasting, series, time series, time, model...   \n",
       "30  [encryption, security, key, protocol, secure, ...   \n",
       "31  [anomaly, detection, anomaly detection, ood, d...   \n",
       "32  [problem, optimization, algorithm, solution, s...   \n",
       "33  [cloud, service, resource, computing, applicat...   \n",
       "34  [clustering, cluster, algorithm, data, cluster...   \n",
       "35  [crop, plant, soil, data, image, agricultural,...   \n",
       "36  [image, diffusion, generative, model, diffusio...   \n",
       "37  [agent, price, auction, allocation, valuation,...   \n",
       "38  [underwater, marine, image, ocean, underwater ...   \n",
       "39  [pose, 3d, object, point, method, estimation, ...   \n",
       "40  [face, facial, image, recognition, identity, m...   \n",
       "41  [galaxy, data, image, mission, telescope, cosm...   \n",
       "42  [spiking, neuron, network, neural, snns, neura...   \n",
       "43  [causal, effect, variable, treatment, data, di...   \n",
       "44  [iot, device, smart, iot device, sensor, data,...   \n",
       "45  [data, privacy, synthetic, synthetic data, dp,...   \n",
       "\n",
       "                                  Representative_Docs  \n",
       "0   [['pre', 'trained', 'vision', 'language', 'mod...  \n",
       "1   [['rectal', 'cancer', 'segmentation', 'ct', 'i...  \n",
       "2   [['ability', 'robot', 'navigate', 'door', 'cru...  \n",
       "3   [['federated', 'learning', 'fl', 'enables', 'c...  \n",
       "4   [['speech', 'synthesis', 'technology', 'witnes...  \n",
       "5   [['advent', 'autonomous', 'vehicle', 'av', 'al...  \n",
       "6   [['although', 'reconfigurable', 'intelligent',...  \n",
       "7   [['present', 'new', 'class', 'efficient', 'rob...  \n",
       "8   [['graph', 'neural', 'network', 'gnns', 'shown...  \n",
       "9   [['recently', 'large', 'language', 'model', 'l...  \n",
       "10  [['despite', 'substantial', 'progress', 'multi...  \n",
       "11  [['paper', 'integrated', 'multi', 'period', 'm...  \n",
       "12  [['covid', 'pandemic', 'caused', 'internet', '...  \n",
       "13  [['application', 'machine', 'learning', 'ml', ...  \n",
       "14  [['deep', 'gaussian', 'process', 'dgp', 'model...  \n",
       "15  [['quantum', 'information', 'perfectly', 'clon...  \n",
       "16  [['scientific', 'innovation', 'natural', 'lang...  \n",
       "17  [['multi', 'modal', 'recommendation', 'system'...  \n",
       "18  [['designing', 'data', 'driven', 'controller',...  \n",
       "19  [['unmanned', 'aerial', 'vehicle', 'uav', 'net...  \n",
       "20  [['paper', 'address', 'critical', 'challenge',...  \n",
       "21  [['impact', 'outlier', 'anomaly', 'model', 'es...  \n",
       "22  [['progress', 'artificial', 'intelligence', 'm...  \n",
       "23  [['show', 'known', 'list', 'decoding', 'algori...  \n",
       "24  [['recent', 'year', 'witnessed', 'great', 'pro...  \n",
       "25  [['linear', 'logic', 'provided', 'new', 'persp...  \n",
       "26  [['study', 'open', 'question', 'player', 'lear...  \n",
       "27  [['recent', 'year', 'shown', 'increased', 'cyb...  \n",
       "28  [['text', 'based', 'open', 'ended', 'question'...  \n",
       "29  [['time', 'series', 'forecasting', 'played', '...  \n",
       "30  [['due', 'weakness', 'public', 'key', 'cryptos...  \n",
       "31  [['video', 'anomaly', 'detection', 'vad', 'wea...  \n",
       "32  [['lagrangian', 'relaxation', 'versatile', 'ma...  \n",
       "33  [['firecracker', 'virtual', 'machine', 'manage...  \n",
       "34  [['graph', 'clustering', 'fundamental', 'task'...  \n",
       "35  [['forest', 'essential', 'part', 'earth', 'eco...  \n",
       "36  [['propose', 'novel', 'modular', 'inference', ...  \n",
       "37  [['study', 'fair', 'distribution', 'collection...  \n",
       "38  [['marine', 'debris', 'pose', 'significant', '...  \n",
       "39  [['estimating', '6d', 'pose', 'reconstructing'...  \n",
       "40  [['state', 'art', 'face', 'recognition', 'netw...  \n",
       "41  [['virtual', 'super', 'resolution', 'optic', '...  \n",
       "42  [['spiking', 'neural', 'network', 'snn', 'dist...  \n",
       "43  [['causal', 'representation', 'learning', 'alg...  \n",
       "44  [['cinnamon', 'eureka', 'traditional', 'projec...  \n",
       "45  [['individual', 'organization', 'cope', 'alway...  "
      ]
     },
     "execution_count": 10,
     "metadata": {},
     "output_type": "execute_result"
    }
   ],
   "source": [
    "new_topics = topic_model.reduce_outliers(abstracts, topics, strategy=\"c-tf-idf\")\n",
    "topic_model.update_topics(abstracts, topics=new_topics)\n",
    "topic_model.get_topic_info()"
   ]
  },
  {
   "cell_type": "code",
   "execution_count": 11,
   "metadata": {},
   "outputs": [],
   "source": [
    "def calculate_coherence_score(model, abstracts, topics):\n",
    "    documents = pd.DataFrame({\"Abstracts\": abstracts, \"ID\": range(len(abstracts)), \"Topic\": topics})\n",
    "    documents_per_topic = documents.groupby(['Topic'], as_index=False).agg({'Abstracts': ' '.join})\n",
    "\n",
    "    analyzer = model.vectorizer_model.build_analyzer()\n",
    "    tokens = [analyzer(doc) for doc in documents_per_topic.Abstracts]\n",
    "\n",
    "    dictionary = Dictionary(tokens)\n",
    "    corpus = [dictionary.doc2bow(token) for token in tokens]\n",
    "\n",
    "    topic_words = [[word for word, _ in model.get_topic(topic)] for topic in range(len(set(topics))-1)]\n",
    "\n",
    "    coherence_model = CoherenceModel(topics=topic_words, texts=tokens, corpus=corpus, dictionary=dictionary, coherence='c_v')\n",
    "    coherence = coherence_model.get_coherence()\n",
    "    \n",
    "    return coherence"
   ]
  },
  {
   "cell_type": "code",
   "execution_count": 13,
   "metadata": {},
   "outputs": [
    {
     "name": "stdout",
     "output_type": "stream",
     "text": [
      "0.7033113923203038\n"
     ]
    }
   ],
   "source": [
    "coherence = calculate_coherence_score(topic_model, abstracts, new_topics)\n",
    "print(coherence)"
   ]
  },
  {
   "cell_type": "code",
   "execution_count": 13,
   "metadata": {},
   "outputs": [
    {
     "data": {
      "application/vnd.plotly.v1+json": {
       "config": {
        "plotlyServerURL": "https://plot.ly"
       },
       "data": [
        {
         "customdata": [
          [
           0,
           "model | task | image | method | learning",
           10804
          ],
          [
           1,
           "image | medical | model | segmentation | patient",
           3368
          ],
          [
           2,
           "robot | object | task | human | environment",
           2438
          ],
          [
           3,
           "attack | graph | fl | client | adversarial",
           1967
          ],
          [
           4,
           "speech | audio | speaker | model | music",
           1554
          ],
          [
           5,
           "vehicle | driving | traffic | autonomous | road",
           1598
          ],
          [
           6,
           "channel | communication | network | ri | wireless",
           1461
          ],
          [
           7,
           "equation | numerical | method | problem | solution",
           2143
          ],
          [
           8,
           "graph | node | network | gnns | gnn",
           1291
          ],
          [
           9,
           "code | software | llm | language | tool",
           1491
          ],
          [
           10,
           "language | model | text | task | language model",
           2073
          ],
          [
           11,
           "power | energy | system | grid | battery",
           766
          ],
          [
           12,
           "social | medium | social medium | news | user",
           927
          ],
          [
           13,
           "protein | drug | molecular | molecule | material",
           685
          ],
          [
           14,
           "distribution | model | data | method | algorithm",
           1754
          ],
          [
           15,
           "quantum | circuit | classical | algorithm | state",
           703
          ],
          [
           16,
           "ai | human | intelligence | system | artificial",
           1225
          ],
          [
           17,
           "recommendation | user | item | recommender | recommender system",
           807
          ],
          [
           18,
           "control | system | controller | state | nonlinear",
           971
          ],
          [
           19,
           "uav | uavs | drone | aerial | flight",
           495
          ],
          [
           20,
           "blockchain | transaction | contract | smart contract | protocol",
           498
          ],
          [
           21,
           "research | scientific | science | paper | review",
           641
          ],
          [
           22,
           "memory | hardware | performance | accelerator | gpu",
           839
          ],
          [
           23,
           "code | bound | polynomial | problem | algorithm",
           818
          ],
          [
           24,
           "video | frame | temporal | motion | method",
           935
          ],
          [
           25,
           "logic | proof | theory | program | semantics",
           721
          ],
          [
           26,
           "game | player | equilibrium | agent | nash",
           474
          ],
          [
           27,
           "attack | security | threat | cyber | cybersecurity",
           573
          ],
          [
           28,
           "student | education | chatgpt | educational | course",
           490
          ],
          [
           29,
           "forecasting | series | time series | time | model",
           650
          ],
          [
           30,
           "encryption | security | key | protocol | secure",
           338
          ],
          [
           31,
           "anomaly | detection | anomaly detection | ood | data",
           513
          ],
          [
           32,
           "problem | optimization | algorithm | solution | search",
           842
          ],
          [
           33,
           "cloud | service | resource | computing | application",
           364
          ],
          [
           34,
           "clustering | cluster | algorithm | data | clustering algorithm",
           350
          ],
          [
           35,
           "crop | plant | soil | data | image",
           263
          ],
          [
           36,
           "image | diffusion | generative | model | diffusion model",
           737
          ],
          [
           37,
           "agent | price | auction | allocation | valuation",
           327
          ],
          [
           38,
           "underwater | marine | image | ocean | underwater image",
           183
          ],
          [
           39,
           "pose | 3d | object | point | method",
           824
          ],
          [
           40,
           "face | facial | image | recognition | identity",
           416
          ],
          [
           41,
           "galaxy | data | image | mission | telescope",
           182
          ],
          [
           42,
           "spiking | neuron | network | neural | snns",
           354
          ],
          [
           43,
           "causal | effect | variable | treatment | data",
           339
          ],
          [
           44,
           "iot | device | smart | iot device | sensor",
           369
          ],
          [
           45,
           "data | privacy | synthetic | synthetic data | dp",
           333
          ]
         ],
         "hovertemplate": "<b>Topic %{customdata[0]}</b><br>%{customdata[1]}<br>Size: %{customdata[2]}",
         "legendgroup": "",
         "marker": {
          "color": "#B0BEC5",
          "line": {
           "color": "DarkSlateGrey",
           "width": 2
          },
          "size": [
           10804,
           3368,
           2438,
           1967,
           1554,
           1598,
           1461,
           2143,
           1291,
           1491,
           2073,
           766,
           927,
           685,
           1754,
           703,
           1225,
           807,
           971,
           495,
           498,
           641,
           839,
           818,
           935,
           721,
           474,
           573,
           490,
           650,
           338,
           513,
           842,
           364,
           350,
           263,
           737,
           327,
           183,
           824,
           416,
           182,
           354,
           339,
           369,
           333
          ],
          "sizemode": "area",
          "sizeref": 6.7525,
          "symbol": "circle"
         },
         "mode": "markers",
         "name": "",
         "orientation": "v",
         "showlegend": false,
         "type": "scatter",
         "x": [
          2.8429388999938965,
          2.3391685485839844,
          -1.923529028892517,
          1.4792722463607788,
          4.001643657684326,
          -1.6845630407333374,
          13.629751205444336,
          -11.982418060302734,
          25.227703094482422,
          -3.177783489227295,
          3.74013352394104,
          12.57146167755127,
          13.765442848205566,
          2.2609002590179443,
          1.457011342048645,
          -0.8845723271369934,
          -2.0686049461364746,
          13.9279146194458,
          13.854832649230957,
          -1.5872880220413208,
          -0.7889836430549622,
          1.6660698652267456,
          12.758925437927246,
          -3.1009926795959473,
          -12.129273414611816,
          3.8225595951080322,
          -12.211262702941895,
          -0.9562158584594727,
          2.9771196842193604,
          1.6933889389038086,
          -0.8215921521186829,
          1.039465069770813,
          -12.160835266113281,
          13.227904319763184,
          1.3480784893035889,
          2.0940823554992676,
          2.8828649520874023,
          -12.33882999420166,
          2.374973773956299,
          -11.993824005126953,
          -11.877579689025879,
          3.126335620880127,
          25.153928756713867,
          2.194810628890991,
          13.162198066711426,
          1.3587230443954468
         ],
         "xaxis": "x",
         "y": [
          9.507758140563965,
          9.50761604309082,
          19.77324676513672,
          7.661364555358887,
          10.18250846862793,
          19.534730911254883,
          5.044157028198242,
          2.364069938659668,
          17.759702682495117,
          -5.507043838500977,
          9.932901382446289,
          5.153353691101074,
          5.163358688354492,
          10.005961418151855,
          7.0794878005981445,
          -1.6030715703964233,
          19.917945861816406,
          5.045652389526367,
          5.304380893707275,
          19.43730354309082,
          -1.5097377300262451,
          7.364329814910889,
          5.055461883544922,
          -5.430344581604004,
          16.73895263671875,
          10.003875732421875,
          2.1350250244140625,
          -1.6717230081558228,
          9.748523712158203,
          7.30264139175415,
          -1.5384907722473145,
          7.449749946594238,
          2.1857399940490723,
          5.1033101081848145,
          7.218563556671143,
          9.572345733642578,
          9.27547836303711,
          2.007619857788086,
          9.261110305786133,
          16.603437423706055,
          16.48722267150879,
          9.336283683776855,
          17.68714141845703,
          9.7767333984375,
          5.251430034637451,
          6.943385124206543
         ],
         "yaxis": "y"
        }
       ],
       "layout": {
        "annotations": [
         {
          "showarrow": false,
          "text": "D1",
          "x": -14.18965449333191,
          "y": 8.286268663406371,
          "yshift": 10
         },
         {
          "showarrow": false,
          "text": "D2",
          "x": 7.4111020326614385,
          "xshift": 10,
          "y": 22.905637741088867
         }
        ],
        "height": 650,
        "hoverlabel": {
         "bgcolor": "white",
         "font": {
          "family": "Rockwell",
          "size": 16
         }
        },
        "legend": {
         "itemsizing": "constant",
         "tracegroupgap": 0
        },
        "margin": {
         "t": 60
        },
        "shapes": [
         {
          "line": {
           "color": "#CFD8DC",
           "width": 2
          },
          "type": "line",
          "x0": 7.4111020326614385,
          "x1": 7.4111020326614385,
          "y0": -6.333100414276123,
          "y1": 22.905637741088867
         },
         {
          "line": {
           "color": "#9E9E9E",
           "width": 2
          },
          "type": "line",
          "x0": -14.18965449333191,
          "x1": 29.011858558654787,
          "y0": 8.286268663406371,
          "y1": 8.286268663406371
         }
        ],
        "sliders": [
         {
          "active": 0,
          "pad": {
           "t": 50
          },
          "steps": [
           {
            "args": [
             {
              "marker.color": [
               [
                "red",
                "#B0BEC5",
                "#B0BEC5",
                "#B0BEC5",
                "#B0BEC5",
                "#B0BEC5",
                "#B0BEC5",
                "#B0BEC5",
                "#B0BEC5",
                "#B0BEC5",
                "#B0BEC5",
                "#B0BEC5",
                "#B0BEC5",
                "#B0BEC5",
                "#B0BEC5",
                "#B0BEC5",
                "#B0BEC5",
                "#B0BEC5",
                "#B0BEC5",
                "#B0BEC5",
                "#B0BEC5",
                "#B0BEC5",
                "#B0BEC5",
                "#B0BEC5",
                "#B0BEC5",
                "#B0BEC5",
                "#B0BEC5",
                "#B0BEC5",
                "#B0BEC5",
                "#B0BEC5",
                "#B0BEC5",
                "#B0BEC5",
                "#B0BEC5",
                "#B0BEC5",
                "#B0BEC5",
                "#B0BEC5",
                "#B0BEC5",
                "#B0BEC5",
                "#B0BEC5",
                "#B0BEC5",
                "#B0BEC5",
                "#B0BEC5",
                "#B0BEC5",
                "#B0BEC5",
                "#B0BEC5",
                "#B0BEC5"
               ]
              ]
             }
            ],
            "label": "Topic 0",
            "method": "update"
           },
           {
            "args": [
             {
              "marker.color": [
               [
                "#B0BEC5",
                "red",
                "#B0BEC5",
                "#B0BEC5",
                "#B0BEC5",
                "#B0BEC5",
                "#B0BEC5",
                "#B0BEC5",
                "#B0BEC5",
                "#B0BEC5",
                "#B0BEC5",
                "#B0BEC5",
                "#B0BEC5",
                "#B0BEC5",
                "#B0BEC5",
                "#B0BEC5",
                "#B0BEC5",
                "#B0BEC5",
                "#B0BEC5",
                "#B0BEC5",
                "#B0BEC5",
                "#B0BEC5",
                "#B0BEC5",
                "#B0BEC5",
                "#B0BEC5",
                "#B0BEC5",
                "#B0BEC5",
                "#B0BEC5",
                "#B0BEC5",
                "#B0BEC5",
                "#B0BEC5",
                "#B0BEC5",
                "#B0BEC5",
                "#B0BEC5",
                "#B0BEC5",
                "#B0BEC5",
                "#B0BEC5",
                "#B0BEC5",
                "#B0BEC5",
                "#B0BEC5",
                "#B0BEC5",
                "#B0BEC5",
                "#B0BEC5",
                "#B0BEC5",
                "#B0BEC5",
                "#B0BEC5"
               ]
              ]
             }
            ],
            "label": "Topic 1",
            "method": "update"
           },
           {
            "args": [
             {
              "marker.color": [
               [
                "#B0BEC5",
                "#B0BEC5",
                "red",
                "#B0BEC5",
                "#B0BEC5",
                "#B0BEC5",
                "#B0BEC5",
                "#B0BEC5",
                "#B0BEC5",
                "#B0BEC5",
                "#B0BEC5",
                "#B0BEC5",
                "#B0BEC5",
                "#B0BEC5",
                "#B0BEC5",
                "#B0BEC5",
                "#B0BEC5",
                "#B0BEC5",
                "#B0BEC5",
                "#B0BEC5",
                "#B0BEC5",
                "#B0BEC5",
                "#B0BEC5",
                "#B0BEC5",
                "#B0BEC5",
                "#B0BEC5",
                "#B0BEC5",
                "#B0BEC5",
                "#B0BEC5",
                "#B0BEC5",
                "#B0BEC5",
                "#B0BEC5",
                "#B0BEC5",
                "#B0BEC5",
                "#B0BEC5",
                "#B0BEC5",
                "#B0BEC5",
                "#B0BEC5",
                "#B0BEC5",
                "#B0BEC5",
                "#B0BEC5",
                "#B0BEC5",
                "#B0BEC5",
                "#B0BEC5",
                "#B0BEC5",
                "#B0BEC5"
               ]
              ]
             }
            ],
            "label": "Topic 2",
            "method": "update"
           },
           {
            "args": [
             {
              "marker.color": [
               [
                "#B0BEC5",
                "#B0BEC5",
                "#B0BEC5",
                "red",
                "#B0BEC5",
                "#B0BEC5",
                "#B0BEC5",
                "#B0BEC5",
                "#B0BEC5",
                "#B0BEC5",
                "#B0BEC5",
                "#B0BEC5",
                "#B0BEC5",
                "#B0BEC5",
                "#B0BEC5",
                "#B0BEC5",
                "#B0BEC5",
                "#B0BEC5",
                "#B0BEC5",
                "#B0BEC5",
                "#B0BEC5",
                "#B0BEC5",
                "#B0BEC5",
                "#B0BEC5",
                "#B0BEC5",
                "#B0BEC5",
                "#B0BEC5",
                "#B0BEC5",
                "#B0BEC5",
                "#B0BEC5",
                "#B0BEC5",
                "#B0BEC5",
                "#B0BEC5",
                "#B0BEC5",
                "#B0BEC5",
                "#B0BEC5",
                "#B0BEC5",
                "#B0BEC5",
                "#B0BEC5",
                "#B0BEC5",
                "#B0BEC5",
                "#B0BEC5",
                "#B0BEC5",
                "#B0BEC5",
                "#B0BEC5",
                "#B0BEC5"
               ]
              ]
             }
            ],
            "label": "Topic 3",
            "method": "update"
           },
           {
            "args": [
             {
              "marker.color": [
               [
                "#B0BEC5",
                "#B0BEC5",
                "#B0BEC5",
                "#B0BEC5",
                "red",
                "#B0BEC5",
                "#B0BEC5",
                "#B0BEC5",
                "#B0BEC5",
                "#B0BEC5",
                "#B0BEC5",
                "#B0BEC5",
                "#B0BEC5",
                "#B0BEC5",
                "#B0BEC5",
                "#B0BEC5",
                "#B0BEC5",
                "#B0BEC5",
                "#B0BEC5",
                "#B0BEC5",
                "#B0BEC5",
                "#B0BEC5",
                "#B0BEC5",
                "#B0BEC5",
                "#B0BEC5",
                "#B0BEC5",
                "#B0BEC5",
                "#B0BEC5",
                "#B0BEC5",
                "#B0BEC5",
                "#B0BEC5",
                "#B0BEC5",
                "#B0BEC5",
                "#B0BEC5",
                "#B0BEC5",
                "#B0BEC5",
                "#B0BEC5",
                "#B0BEC5",
                "#B0BEC5",
                "#B0BEC5",
                "#B0BEC5",
                "#B0BEC5",
                "#B0BEC5",
                "#B0BEC5",
                "#B0BEC5",
                "#B0BEC5"
               ]
              ]
             }
            ],
            "label": "Topic 4",
            "method": "update"
           },
           {
            "args": [
             {
              "marker.color": [
               [
                "#B0BEC5",
                "#B0BEC5",
                "#B0BEC5",
                "#B0BEC5",
                "#B0BEC5",
                "red",
                "#B0BEC5",
                "#B0BEC5",
                "#B0BEC5",
                "#B0BEC5",
                "#B0BEC5",
                "#B0BEC5",
                "#B0BEC5",
                "#B0BEC5",
                "#B0BEC5",
                "#B0BEC5",
                "#B0BEC5",
                "#B0BEC5",
                "#B0BEC5",
                "#B0BEC5",
                "#B0BEC5",
                "#B0BEC5",
                "#B0BEC5",
                "#B0BEC5",
                "#B0BEC5",
                "#B0BEC5",
                "#B0BEC5",
                "#B0BEC5",
                "#B0BEC5",
                "#B0BEC5",
                "#B0BEC5",
                "#B0BEC5",
                "#B0BEC5",
                "#B0BEC5",
                "#B0BEC5",
                "#B0BEC5",
                "#B0BEC5",
                "#B0BEC5",
                "#B0BEC5",
                "#B0BEC5",
                "#B0BEC5",
                "#B0BEC5",
                "#B0BEC5",
                "#B0BEC5",
                "#B0BEC5",
                "#B0BEC5"
               ]
              ]
             }
            ],
            "label": "Topic 5",
            "method": "update"
           },
           {
            "args": [
             {
              "marker.color": [
               [
                "#B0BEC5",
                "#B0BEC5",
                "#B0BEC5",
                "#B0BEC5",
                "#B0BEC5",
                "#B0BEC5",
                "red",
                "#B0BEC5",
                "#B0BEC5",
                "#B0BEC5",
                "#B0BEC5",
                "#B0BEC5",
                "#B0BEC5",
                "#B0BEC5",
                "#B0BEC5",
                "#B0BEC5",
                "#B0BEC5",
                "#B0BEC5",
                "#B0BEC5",
                "#B0BEC5",
                "#B0BEC5",
                "#B0BEC5",
                "#B0BEC5",
                "#B0BEC5",
                "#B0BEC5",
                "#B0BEC5",
                "#B0BEC5",
                "#B0BEC5",
                "#B0BEC5",
                "#B0BEC5",
                "#B0BEC5",
                "#B0BEC5",
                "#B0BEC5",
                "#B0BEC5",
                "#B0BEC5",
                "#B0BEC5",
                "#B0BEC5",
                "#B0BEC5",
                "#B0BEC5",
                "#B0BEC5",
                "#B0BEC5",
                "#B0BEC5",
                "#B0BEC5",
                "#B0BEC5",
                "#B0BEC5",
                "#B0BEC5"
               ]
              ]
             }
            ],
            "label": "Topic 6",
            "method": "update"
           },
           {
            "args": [
             {
              "marker.color": [
               [
                "#B0BEC5",
                "#B0BEC5",
                "#B0BEC5",
                "#B0BEC5",
                "#B0BEC5",
                "#B0BEC5",
                "#B0BEC5",
                "red",
                "#B0BEC5",
                "#B0BEC5",
                "#B0BEC5",
                "#B0BEC5",
                "#B0BEC5",
                "#B0BEC5",
                "#B0BEC5",
                "#B0BEC5",
                "#B0BEC5",
                "#B0BEC5",
                "#B0BEC5",
                "#B0BEC5",
                "#B0BEC5",
                "#B0BEC5",
                "#B0BEC5",
                "#B0BEC5",
                "#B0BEC5",
                "#B0BEC5",
                "#B0BEC5",
                "#B0BEC5",
                "#B0BEC5",
                "#B0BEC5",
                "#B0BEC5",
                "#B0BEC5",
                "#B0BEC5",
                "#B0BEC5",
                "#B0BEC5",
                "#B0BEC5",
                "#B0BEC5",
                "#B0BEC5",
                "#B0BEC5",
                "#B0BEC5",
                "#B0BEC5",
                "#B0BEC5",
                "#B0BEC5",
                "#B0BEC5",
                "#B0BEC5",
                "#B0BEC5"
               ]
              ]
             }
            ],
            "label": "Topic 7",
            "method": "update"
           },
           {
            "args": [
             {
              "marker.color": [
               [
                "#B0BEC5",
                "#B0BEC5",
                "#B0BEC5",
                "#B0BEC5",
                "#B0BEC5",
                "#B0BEC5",
                "#B0BEC5",
                "#B0BEC5",
                "red",
                "#B0BEC5",
                "#B0BEC5",
                "#B0BEC5",
                "#B0BEC5",
                "#B0BEC5",
                "#B0BEC5",
                "#B0BEC5",
                "#B0BEC5",
                "#B0BEC5",
                "#B0BEC5",
                "#B0BEC5",
                "#B0BEC5",
                "#B0BEC5",
                "#B0BEC5",
                "#B0BEC5",
                "#B0BEC5",
                "#B0BEC5",
                "#B0BEC5",
                "#B0BEC5",
                "#B0BEC5",
                "#B0BEC5",
                "#B0BEC5",
                "#B0BEC5",
                "#B0BEC5",
                "#B0BEC5",
                "#B0BEC5",
                "#B0BEC5",
                "#B0BEC5",
                "#B0BEC5",
                "#B0BEC5",
                "#B0BEC5",
                "#B0BEC5",
                "#B0BEC5",
                "#B0BEC5",
                "#B0BEC5",
                "#B0BEC5",
                "#B0BEC5"
               ]
              ]
             }
            ],
            "label": "Topic 8",
            "method": "update"
           },
           {
            "args": [
             {
              "marker.color": [
               [
                "#B0BEC5",
                "#B0BEC5",
                "#B0BEC5",
                "#B0BEC5",
                "#B0BEC5",
                "#B0BEC5",
                "#B0BEC5",
                "#B0BEC5",
                "#B0BEC5",
                "red",
                "#B0BEC5",
                "#B0BEC5",
                "#B0BEC5",
                "#B0BEC5",
                "#B0BEC5",
                "#B0BEC5",
                "#B0BEC5",
                "#B0BEC5",
                "#B0BEC5",
                "#B0BEC5",
                "#B0BEC5",
                "#B0BEC5",
                "#B0BEC5",
                "#B0BEC5",
                "#B0BEC5",
                "#B0BEC5",
                "#B0BEC5",
                "#B0BEC5",
                "#B0BEC5",
                "#B0BEC5",
                "#B0BEC5",
                "#B0BEC5",
                "#B0BEC5",
                "#B0BEC5",
                "#B0BEC5",
                "#B0BEC5",
                "#B0BEC5",
                "#B0BEC5",
                "#B0BEC5",
                "#B0BEC5",
                "#B0BEC5",
                "#B0BEC5",
                "#B0BEC5",
                "#B0BEC5",
                "#B0BEC5",
                "#B0BEC5"
               ]
              ]
             }
            ],
            "label": "Topic 9",
            "method": "update"
           },
           {
            "args": [
             {
              "marker.color": [
               [
                "#B0BEC5",
                "#B0BEC5",
                "#B0BEC5",
                "#B0BEC5",
                "#B0BEC5",
                "#B0BEC5",
                "#B0BEC5",
                "#B0BEC5",
                "#B0BEC5",
                "#B0BEC5",
                "red",
                "#B0BEC5",
                "#B0BEC5",
                "#B0BEC5",
                "#B0BEC5",
                "#B0BEC5",
                "#B0BEC5",
                "#B0BEC5",
                "#B0BEC5",
                "#B0BEC5",
                "#B0BEC5",
                "#B0BEC5",
                "#B0BEC5",
                "#B0BEC5",
                "#B0BEC5",
                "#B0BEC5",
                "#B0BEC5",
                "#B0BEC5",
                "#B0BEC5",
                "#B0BEC5",
                "#B0BEC5",
                "#B0BEC5",
                "#B0BEC5",
                "#B0BEC5",
                "#B0BEC5",
                "#B0BEC5",
                "#B0BEC5",
                "#B0BEC5",
                "#B0BEC5",
                "#B0BEC5",
                "#B0BEC5",
                "#B0BEC5",
                "#B0BEC5",
                "#B0BEC5",
                "#B0BEC5",
                "#B0BEC5"
               ]
              ]
             }
            ],
            "label": "Topic 10",
            "method": "update"
           },
           {
            "args": [
             {
              "marker.color": [
               [
                "#B0BEC5",
                "#B0BEC5",
                "#B0BEC5",
                "#B0BEC5",
                "#B0BEC5",
                "#B0BEC5",
                "#B0BEC5",
                "#B0BEC5",
                "#B0BEC5",
                "#B0BEC5",
                "#B0BEC5",
                "red",
                "#B0BEC5",
                "#B0BEC5",
                "#B0BEC5",
                "#B0BEC5",
                "#B0BEC5",
                "#B0BEC5",
                "#B0BEC5",
                "#B0BEC5",
                "#B0BEC5",
                "#B0BEC5",
                "#B0BEC5",
                "#B0BEC5",
                "#B0BEC5",
                "#B0BEC5",
                "#B0BEC5",
                "#B0BEC5",
                "#B0BEC5",
                "#B0BEC5",
                "#B0BEC5",
                "#B0BEC5",
                "#B0BEC5",
                "#B0BEC5",
                "#B0BEC5",
                "#B0BEC5",
                "#B0BEC5",
                "#B0BEC5",
                "#B0BEC5",
                "#B0BEC5",
                "#B0BEC5",
                "#B0BEC5",
                "#B0BEC5",
                "#B0BEC5",
                "#B0BEC5",
                "#B0BEC5"
               ]
              ]
             }
            ],
            "label": "Topic 11",
            "method": "update"
           },
           {
            "args": [
             {
              "marker.color": [
               [
                "#B0BEC5",
                "#B0BEC5",
                "#B0BEC5",
                "#B0BEC5",
                "#B0BEC5",
                "#B0BEC5",
                "#B0BEC5",
                "#B0BEC5",
                "#B0BEC5",
                "#B0BEC5",
                "#B0BEC5",
                "#B0BEC5",
                "red",
                "#B0BEC5",
                "#B0BEC5",
                "#B0BEC5",
                "#B0BEC5",
                "#B0BEC5",
                "#B0BEC5",
                "#B0BEC5",
                "#B0BEC5",
                "#B0BEC5",
                "#B0BEC5",
                "#B0BEC5",
                "#B0BEC5",
                "#B0BEC5",
                "#B0BEC5",
                "#B0BEC5",
                "#B0BEC5",
                "#B0BEC5",
                "#B0BEC5",
                "#B0BEC5",
                "#B0BEC5",
                "#B0BEC5",
                "#B0BEC5",
                "#B0BEC5",
                "#B0BEC5",
                "#B0BEC5",
                "#B0BEC5",
                "#B0BEC5",
                "#B0BEC5",
                "#B0BEC5",
                "#B0BEC5",
                "#B0BEC5",
                "#B0BEC5",
                "#B0BEC5"
               ]
              ]
             }
            ],
            "label": "Topic 12",
            "method": "update"
           },
           {
            "args": [
             {
              "marker.color": [
               [
                "#B0BEC5",
                "#B0BEC5",
                "#B0BEC5",
                "#B0BEC5",
                "#B0BEC5",
                "#B0BEC5",
                "#B0BEC5",
                "#B0BEC5",
                "#B0BEC5",
                "#B0BEC5",
                "#B0BEC5",
                "#B0BEC5",
                "#B0BEC5",
                "red",
                "#B0BEC5",
                "#B0BEC5",
                "#B0BEC5",
                "#B0BEC5",
                "#B0BEC5",
                "#B0BEC5",
                "#B0BEC5",
                "#B0BEC5",
                "#B0BEC5",
                "#B0BEC5",
                "#B0BEC5",
                "#B0BEC5",
                "#B0BEC5",
                "#B0BEC5",
                "#B0BEC5",
                "#B0BEC5",
                "#B0BEC5",
                "#B0BEC5",
                "#B0BEC5",
                "#B0BEC5",
                "#B0BEC5",
                "#B0BEC5",
                "#B0BEC5",
                "#B0BEC5",
                "#B0BEC5",
                "#B0BEC5",
                "#B0BEC5",
                "#B0BEC5",
                "#B0BEC5",
                "#B0BEC5",
                "#B0BEC5",
                "#B0BEC5"
               ]
              ]
             }
            ],
            "label": "Topic 13",
            "method": "update"
           },
           {
            "args": [
             {
              "marker.color": [
               [
                "#B0BEC5",
                "#B0BEC5",
                "#B0BEC5",
                "#B0BEC5",
                "#B0BEC5",
                "#B0BEC5",
                "#B0BEC5",
                "#B0BEC5",
                "#B0BEC5",
                "#B0BEC5",
                "#B0BEC5",
                "#B0BEC5",
                "#B0BEC5",
                "#B0BEC5",
                "red",
                "#B0BEC5",
                "#B0BEC5",
                "#B0BEC5",
                "#B0BEC5",
                "#B0BEC5",
                "#B0BEC5",
                "#B0BEC5",
                "#B0BEC5",
                "#B0BEC5",
                "#B0BEC5",
                "#B0BEC5",
                "#B0BEC5",
                "#B0BEC5",
                "#B0BEC5",
                "#B0BEC5",
                "#B0BEC5",
                "#B0BEC5",
                "#B0BEC5",
                "#B0BEC5",
                "#B0BEC5",
                "#B0BEC5",
                "#B0BEC5",
                "#B0BEC5",
                "#B0BEC5",
                "#B0BEC5",
                "#B0BEC5",
                "#B0BEC5",
                "#B0BEC5",
                "#B0BEC5",
                "#B0BEC5",
                "#B0BEC5"
               ]
              ]
             }
            ],
            "label": "Topic 14",
            "method": "update"
           },
           {
            "args": [
             {
              "marker.color": [
               [
                "#B0BEC5",
                "#B0BEC5",
                "#B0BEC5",
                "#B0BEC5",
                "#B0BEC5",
                "#B0BEC5",
                "#B0BEC5",
                "#B0BEC5",
                "#B0BEC5",
                "#B0BEC5",
                "#B0BEC5",
                "#B0BEC5",
                "#B0BEC5",
                "#B0BEC5",
                "#B0BEC5",
                "red",
                "#B0BEC5",
                "#B0BEC5",
                "#B0BEC5",
                "#B0BEC5",
                "#B0BEC5",
                "#B0BEC5",
                "#B0BEC5",
                "#B0BEC5",
                "#B0BEC5",
                "#B0BEC5",
                "#B0BEC5",
                "#B0BEC5",
                "#B0BEC5",
                "#B0BEC5",
                "#B0BEC5",
                "#B0BEC5",
                "#B0BEC5",
                "#B0BEC5",
                "#B0BEC5",
                "#B0BEC5",
                "#B0BEC5",
                "#B0BEC5",
                "#B0BEC5",
                "#B0BEC5",
                "#B0BEC5",
                "#B0BEC5",
                "#B0BEC5",
                "#B0BEC5",
                "#B0BEC5",
                "#B0BEC5"
               ]
              ]
             }
            ],
            "label": "Topic 15",
            "method": "update"
           },
           {
            "args": [
             {
              "marker.color": [
               [
                "#B0BEC5",
                "#B0BEC5",
                "#B0BEC5",
                "#B0BEC5",
                "#B0BEC5",
                "#B0BEC5",
                "#B0BEC5",
                "#B0BEC5",
                "#B0BEC5",
                "#B0BEC5",
                "#B0BEC5",
                "#B0BEC5",
                "#B0BEC5",
                "#B0BEC5",
                "#B0BEC5",
                "#B0BEC5",
                "red",
                "#B0BEC5",
                "#B0BEC5",
                "#B0BEC5",
                "#B0BEC5",
                "#B0BEC5",
                "#B0BEC5",
                "#B0BEC5",
                "#B0BEC5",
                "#B0BEC5",
                "#B0BEC5",
                "#B0BEC5",
                "#B0BEC5",
                "#B0BEC5",
                "#B0BEC5",
                "#B0BEC5",
                "#B0BEC5",
                "#B0BEC5",
                "#B0BEC5",
                "#B0BEC5",
                "#B0BEC5",
                "#B0BEC5",
                "#B0BEC5",
                "#B0BEC5",
                "#B0BEC5",
                "#B0BEC5",
                "#B0BEC5",
                "#B0BEC5",
                "#B0BEC5",
                "#B0BEC5"
               ]
              ]
             }
            ],
            "label": "Topic 16",
            "method": "update"
           },
           {
            "args": [
             {
              "marker.color": [
               [
                "#B0BEC5",
                "#B0BEC5",
                "#B0BEC5",
                "#B0BEC5",
                "#B0BEC5",
                "#B0BEC5",
                "#B0BEC5",
                "#B0BEC5",
                "#B0BEC5",
                "#B0BEC5",
                "#B0BEC5",
                "#B0BEC5",
                "#B0BEC5",
                "#B0BEC5",
                "#B0BEC5",
                "#B0BEC5",
                "#B0BEC5",
                "red",
                "#B0BEC5",
                "#B0BEC5",
                "#B0BEC5",
                "#B0BEC5",
                "#B0BEC5",
                "#B0BEC5",
                "#B0BEC5",
                "#B0BEC5",
                "#B0BEC5",
                "#B0BEC5",
                "#B0BEC5",
                "#B0BEC5",
                "#B0BEC5",
                "#B0BEC5",
                "#B0BEC5",
                "#B0BEC5",
                "#B0BEC5",
                "#B0BEC5",
                "#B0BEC5",
                "#B0BEC5",
                "#B0BEC5",
                "#B0BEC5",
                "#B0BEC5",
                "#B0BEC5",
                "#B0BEC5",
                "#B0BEC5",
                "#B0BEC5",
                "#B0BEC5"
               ]
              ]
             }
            ],
            "label": "Topic 17",
            "method": "update"
           },
           {
            "args": [
             {
              "marker.color": [
               [
                "#B0BEC5",
                "#B0BEC5",
                "#B0BEC5",
                "#B0BEC5",
                "#B0BEC5",
                "#B0BEC5",
                "#B0BEC5",
                "#B0BEC5",
                "#B0BEC5",
                "#B0BEC5",
                "#B0BEC5",
                "#B0BEC5",
                "#B0BEC5",
                "#B0BEC5",
                "#B0BEC5",
                "#B0BEC5",
                "#B0BEC5",
                "#B0BEC5",
                "red",
                "#B0BEC5",
                "#B0BEC5",
                "#B0BEC5",
                "#B0BEC5",
                "#B0BEC5",
                "#B0BEC5",
                "#B0BEC5",
                "#B0BEC5",
                "#B0BEC5",
                "#B0BEC5",
                "#B0BEC5",
                "#B0BEC5",
                "#B0BEC5",
                "#B0BEC5",
                "#B0BEC5",
                "#B0BEC5",
                "#B0BEC5",
                "#B0BEC5",
                "#B0BEC5",
                "#B0BEC5",
                "#B0BEC5",
                "#B0BEC5",
                "#B0BEC5",
                "#B0BEC5",
                "#B0BEC5",
                "#B0BEC5",
                "#B0BEC5"
               ]
              ]
             }
            ],
            "label": "Topic 18",
            "method": "update"
           },
           {
            "args": [
             {
              "marker.color": [
               [
                "#B0BEC5",
                "#B0BEC5",
                "#B0BEC5",
                "#B0BEC5",
                "#B0BEC5",
                "#B0BEC5",
                "#B0BEC5",
                "#B0BEC5",
                "#B0BEC5",
                "#B0BEC5",
                "#B0BEC5",
                "#B0BEC5",
                "#B0BEC5",
                "#B0BEC5",
                "#B0BEC5",
                "#B0BEC5",
                "#B0BEC5",
                "#B0BEC5",
                "#B0BEC5",
                "red",
                "#B0BEC5",
                "#B0BEC5",
                "#B0BEC5",
                "#B0BEC5",
                "#B0BEC5",
                "#B0BEC5",
                "#B0BEC5",
                "#B0BEC5",
                "#B0BEC5",
                "#B0BEC5",
                "#B0BEC5",
                "#B0BEC5",
                "#B0BEC5",
                "#B0BEC5",
                "#B0BEC5",
                "#B0BEC5",
                "#B0BEC5",
                "#B0BEC5",
                "#B0BEC5",
                "#B0BEC5",
                "#B0BEC5",
                "#B0BEC5",
                "#B0BEC5",
                "#B0BEC5",
                "#B0BEC5",
                "#B0BEC5"
               ]
              ]
             }
            ],
            "label": "Topic 19",
            "method": "update"
           },
           {
            "args": [
             {
              "marker.color": [
               [
                "#B0BEC5",
                "#B0BEC5",
                "#B0BEC5",
                "#B0BEC5",
                "#B0BEC5",
                "#B0BEC5",
                "#B0BEC5",
                "#B0BEC5",
                "#B0BEC5",
                "#B0BEC5",
                "#B0BEC5",
                "#B0BEC5",
                "#B0BEC5",
                "#B0BEC5",
                "#B0BEC5",
                "#B0BEC5",
                "#B0BEC5",
                "#B0BEC5",
                "#B0BEC5",
                "#B0BEC5",
                "red",
                "#B0BEC5",
                "#B0BEC5",
                "#B0BEC5",
                "#B0BEC5",
                "#B0BEC5",
                "#B0BEC5",
                "#B0BEC5",
                "#B0BEC5",
                "#B0BEC5",
                "#B0BEC5",
                "#B0BEC5",
                "#B0BEC5",
                "#B0BEC5",
                "#B0BEC5",
                "#B0BEC5",
                "#B0BEC5",
                "#B0BEC5",
                "#B0BEC5",
                "#B0BEC5",
                "#B0BEC5",
                "#B0BEC5",
                "#B0BEC5",
                "#B0BEC5",
                "#B0BEC5",
                "#B0BEC5"
               ]
              ]
             }
            ],
            "label": "Topic 20",
            "method": "update"
           },
           {
            "args": [
             {
              "marker.color": [
               [
                "#B0BEC5",
                "#B0BEC5",
                "#B0BEC5",
                "#B0BEC5",
                "#B0BEC5",
                "#B0BEC5",
                "#B0BEC5",
                "#B0BEC5",
                "#B0BEC5",
                "#B0BEC5",
                "#B0BEC5",
                "#B0BEC5",
                "#B0BEC5",
                "#B0BEC5",
                "#B0BEC5",
                "#B0BEC5",
                "#B0BEC5",
                "#B0BEC5",
                "#B0BEC5",
                "#B0BEC5",
                "#B0BEC5",
                "red",
                "#B0BEC5",
                "#B0BEC5",
                "#B0BEC5",
                "#B0BEC5",
                "#B0BEC5",
                "#B0BEC5",
                "#B0BEC5",
                "#B0BEC5",
                "#B0BEC5",
                "#B0BEC5",
                "#B0BEC5",
                "#B0BEC5",
                "#B0BEC5",
                "#B0BEC5",
                "#B0BEC5",
                "#B0BEC5",
                "#B0BEC5",
                "#B0BEC5",
                "#B0BEC5",
                "#B0BEC5",
                "#B0BEC5",
                "#B0BEC5",
                "#B0BEC5",
                "#B0BEC5"
               ]
              ]
             }
            ],
            "label": "Topic 21",
            "method": "update"
           },
           {
            "args": [
             {
              "marker.color": [
               [
                "#B0BEC5",
                "#B0BEC5",
                "#B0BEC5",
                "#B0BEC5",
                "#B0BEC5",
                "#B0BEC5",
                "#B0BEC5",
                "#B0BEC5",
                "#B0BEC5",
                "#B0BEC5",
                "#B0BEC5",
                "#B0BEC5",
                "#B0BEC5",
                "#B0BEC5",
                "#B0BEC5",
                "#B0BEC5",
                "#B0BEC5",
                "#B0BEC5",
                "#B0BEC5",
                "#B0BEC5",
                "#B0BEC5",
                "#B0BEC5",
                "red",
                "#B0BEC5",
                "#B0BEC5",
                "#B0BEC5",
                "#B0BEC5",
                "#B0BEC5",
                "#B0BEC5",
                "#B0BEC5",
                "#B0BEC5",
                "#B0BEC5",
                "#B0BEC5",
                "#B0BEC5",
                "#B0BEC5",
                "#B0BEC5",
                "#B0BEC5",
                "#B0BEC5",
                "#B0BEC5",
                "#B0BEC5",
                "#B0BEC5",
                "#B0BEC5",
                "#B0BEC5",
                "#B0BEC5",
                "#B0BEC5",
                "#B0BEC5"
               ]
              ]
             }
            ],
            "label": "Topic 22",
            "method": "update"
           },
           {
            "args": [
             {
              "marker.color": [
               [
                "#B0BEC5",
                "#B0BEC5",
                "#B0BEC5",
                "#B0BEC5",
                "#B0BEC5",
                "#B0BEC5",
                "#B0BEC5",
                "#B0BEC5",
                "#B0BEC5",
                "#B0BEC5",
                "#B0BEC5",
                "#B0BEC5",
                "#B0BEC5",
                "#B0BEC5",
                "#B0BEC5",
                "#B0BEC5",
                "#B0BEC5",
                "#B0BEC5",
                "#B0BEC5",
                "#B0BEC5",
                "#B0BEC5",
                "#B0BEC5",
                "#B0BEC5",
                "red",
                "#B0BEC5",
                "#B0BEC5",
                "#B0BEC5",
                "#B0BEC5",
                "#B0BEC5",
                "#B0BEC5",
                "#B0BEC5",
                "#B0BEC5",
                "#B0BEC5",
                "#B0BEC5",
                "#B0BEC5",
                "#B0BEC5",
                "#B0BEC5",
                "#B0BEC5",
                "#B0BEC5",
                "#B0BEC5",
                "#B0BEC5",
                "#B0BEC5",
                "#B0BEC5",
                "#B0BEC5",
                "#B0BEC5",
                "#B0BEC5"
               ]
              ]
             }
            ],
            "label": "Topic 23",
            "method": "update"
           },
           {
            "args": [
             {
              "marker.color": [
               [
                "#B0BEC5",
                "#B0BEC5",
                "#B0BEC5",
                "#B0BEC5",
                "#B0BEC5",
                "#B0BEC5",
                "#B0BEC5",
                "#B0BEC5",
                "#B0BEC5",
                "#B0BEC5",
                "#B0BEC5",
                "#B0BEC5",
                "#B0BEC5",
                "#B0BEC5",
                "#B0BEC5",
                "#B0BEC5",
                "#B0BEC5",
                "#B0BEC5",
                "#B0BEC5",
                "#B0BEC5",
                "#B0BEC5",
                "#B0BEC5",
                "#B0BEC5",
                "#B0BEC5",
                "red",
                "#B0BEC5",
                "#B0BEC5",
                "#B0BEC5",
                "#B0BEC5",
                "#B0BEC5",
                "#B0BEC5",
                "#B0BEC5",
                "#B0BEC5",
                "#B0BEC5",
                "#B0BEC5",
                "#B0BEC5",
                "#B0BEC5",
                "#B0BEC5",
                "#B0BEC5",
                "#B0BEC5",
                "#B0BEC5",
                "#B0BEC5",
                "#B0BEC5",
                "#B0BEC5",
                "#B0BEC5",
                "#B0BEC5"
               ]
              ]
             }
            ],
            "label": "Topic 24",
            "method": "update"
           },
           {
            "args": [
             {
              "marker.color": [
               [
                "#B0BEC5",
                "#B0BEC5",
                "#B0BEC5",
                "#B0BEC5",
                "#B0BEC5",
                "#B0BEC5",
                "#B0BEC5",
                "#B0BEC5",
                "#B0BEC5",
                "#B0BEC5",
                "#B0BEC5",
                "#B0BEC5",
                "#B0BEC5",
                "#B0BEC5",
                "#B0BEC5",
                "#B0BEC5",
                "#B0BEC5",
                "#B0BEC5",
                "#B0BEC5",
                "#B0BEC5",
                "#B0BEC5",
                "#B0BEC5",
                "#B0BEC5",
                "#B0BEC5",
                "#B0BEC5",
                "red",
                "#B0BEC5",
                "#B0BEC5",
                "#B0BEC5",
                "#B0BEC5",
                "#B0BEC5",
                "#B0BEC5",
                "#B0BEC5",
                "#B0BEC5",
                "#B0BEC5",
                "#B0BEC5",
                "#B0BEC5",
                "#B0BEC5",
                "#B0BEC5",
                "#B0BEC5",
                "#B0BEC5",
                "#B0BEC5",
                "#B0BEC5",
                "#B0BEC5",
                "#B0BEC5",
                "#B0BEC5"
               ]
              ]
             }
            ],
            "label": "Topic 25",
            "method": "update"
           },
           {
            "args": [
             {
              "marker.color": [
               [
                "#B0BEC5",
                "#B0BEC5",
                "#B0BEC5",
                "#B0BEC5",
                "#B0BEC5",
                "#B0BEC5",
                "#B0BEC5",
                "#B0BEC5",
                "#B0BEC5",
                "#B0BEC5",
                "#B0BEC5",
                "#B0BEC5",
                "#B0BEC5",
                "#B0BEC5",
                "#B0BEC5",
                "#B0BEC5",
                "#B0BEC5",
                "#B0BEC5",
                "#B0BEC5",
                "#B0BEC5",
                "#B0BEC5",
                "#B0BEC5",
                "#B0BEC5",
                "#B0BEC5",
                "#B0BEC5",
                "#B0BEC5",
                "red",
                "#B0BEC5",
                "#B0BEC5",
                "#B0BEC5",
                "#B0BEC5",
                "#B0BEC5",
                "#B0BEC5",
                "#B0BEC5",
                "#B0BEC5",
                "#B0BEC5",
                "#B0BEC5",
                "#B0BEC5",
                "#B0BEC5",
                "#B0BEC5",
                "#B0BEC5",
                "#B0BEC5",
                "#B0BEC5",
                "#B0BEC5",
                "#B0BEC5",
                "#B0BEC5"
               ]
              ]
             }
            ],
            "label": "Topic 26",
            "method": "update"
           },
           {
            "args": [
             {
              "marker.color": [
               [
                "#B0BEC5",
                "#B0BEC5",
                "#B0BEC5",
                "#B0BEC5",
                "#B0BEC5",
                "#B0BEC5",
                "#B0BEC5",
                "#B0BEC5",
                "#B0BEC5",
                "#B0BEC5",
                "#B0BEC5",
                "#B0BEC5",
                "#B0BEC5",
                "#B0BEC5",
                "#B0BEC5",
                "#B0BEC5",
                "#B0BEC5",
                "#B0BEC5",
                "#B0BEC5",
                "#B0BEC5",
                "#B0BEC5",
                "#B0BEC5",
                "#B0BEC5",
                "#B0BEC5",
                "#B0BEC5",
                "#B0BEC5",
                "#B0BEC5",
                "red",
                "#B0BEC5",
                "#B0BEC5",
                "#B0BEC5",
                "#B0BEC5",
                "#B0BEC5",
                "#B0BEC5",
                "#B0BEC5",
                "#B0BEC5",
                "#B0BEC5",
                "#B0BEC5",
                "#B0BEC5",
                "#B0BEC5",
                "#B0BEC5",
                "#B0BEC5",
                "#B0BEC5",
                "#B0BEC5",
                "#B0BEC5",
                "#B0BEC5"
               ]
              ]
             }
            ],
            "label": "Topic 27",
            "method": "update"
           },
           {
            "args": [
             {
              "marker.color": [
               [
                "#B0BEC5",
                "#B0BEC5",
                "#B0BEC5",
                "#B0BEC5",
                "#B0BEC5",
                "#B0BEC5",
                "#B0BEC5",
                "#B0BEC5",
                "#B0BEC5",
                "#B0BEC5",
                "#B0BEC5",
                "#B0BEC5",
                "#B0BEC5",
                "#B0BEC5",
                "#B0BEC5",
                "#B0BEC5",
                "#B0BEC5",
                "#B0BEC5",
                "#B0BEC5",
                "#B0BEC5",
                "#B0BEC5",
                "#B0BEC5",
                "#B0BEC5",
                "#B0BEC5",
                "#B0BEC5",
                "#B0BEC5",
                "#B0BEC5",
                "#B0BEC5",
                "red",
                "#B0BEC5",
                "#B0BEC5",
                "#B0BEC5",
                "#B0BEC5",
                "#B0BEC5",
                "#B0BEC5",
                "#B0BEC5",
                "#B0BEC5",
                "#B0BEC5",
                "#B0BEC5",
                "#B0BEC5",
                "#B0BEC5",
                "#B0BEC5",
                "#B0BEC5",
                "#B0BEC5",
                "#B0BEC5",
                "#B0BEC5"
               ]
              ]
             }
            ],
            "label": "Topic 28",
            "method": "update"
           },
           {
            "args": [
             {
              "marker.color": [
               [
                "#B0BEC5",
                "#B0BEC5",
                "#B0BEC5",
                "#B0BEC5",
                "#B0BEC5",
                "#B0BEC5",
                "#B0BEC5",
                "#B0BEC5",
                "#B0BEC5",
                "#B0BEC5",
                "#B0BEC5",
                "#B0BEC5",
                "#B0BEC5",
                "#B0BEC5",
                "#B0BEC5",
                "#B0BEC5",
                "#B0BEC5",
                "#B0BEC5",
                "#B0BEC5",
                "#B0BEC5",
                "#B0BEC5",
                "#B0BEC5",
                "#B0BEC5",
                "#B0BEC5",
                "#B0BEC5",
                "#B0BEC5",
                "#B0BEC5",
                "#B0BEC5",
                "#B0BEC5",
                "red",
                "#B0BEC5",
                "#B0BEC5",
                "#B0BEC5",
                "#B0BEC5",
                "#B0BEC5",
                "#B0BEC5",
                "#B0BEC5",
                "#B0BEC5",
                "#B0BEC5",
                "#B0BEC5",
                "#B0BEC5",
                "#B0BEC5",
                "#B0BEC5",
                "#B0BEC5",
                "#B0BEC5",
                "#B0BEC5"
               ]
              ]
             }
            ],
            "label": "Topic 29",
            "method": "update"
           },
           {
            "args": [
             {
              "marker.color": [
               [
                "#B0BEC5",
                "#B0BEC5",
                "#B0BEC5",
                "#B0BEC5",
                "#B0BEC5",
                "#B0BEC5",
                "#B0BEC5",
                "#B0BEC5",
                "#B0BEC5",
                "#B0BEC5",
                "#B0BEC5",
                "#B0BEC5",
                "#B0BEC5",
                "#B0BEC5",
                "#B0BEC5",
                "#B0BEC5",
                "#B0BEC5",
                "#B0BEC5",
                "#B0BEC5",
                "#B0BEC5",
                "#B0BEC5",
                "#B0BEC5",
                "#B0BEC5",
                "#B0BEC5",
                "#B0BEC5",
                "#B0BEC5",
                "#B0BEC5",
                "#B0BEC5",
                "#B0BEC5",
                "#B0BEC5",
                "red",
                "#B0BEC5",
                "#B0BEC5",
                "#B0BEC5",
                "#B0BEC5",
                "#B0BEC5",
                "#B0BEC5",
                "#B0BEC5",
                "#B0BEC5",
                "#B0BEC5",
                "#B0BEC5",
                "#B0BEC5",
                "#B0BEC5",
                "#B0BEC5",
                "#B0BEC5",
                "#B0BEC5"
               ]
              ]
             }
            ],
            "label": "Topic 30",
            "method": "update"
           },
           {
            "args": [
             {
              "marker.color": [
               [
                "#B0BEC5",
                "#B0BEC5",
                "#B0BEC5",
                "#B0BEC5",
                "#B0BEC5",
                "#B0BEC5",
                "#B0BEC5",
                "#B0BEC5",
                "#B0BEC5",
                "#B0BEC5",
                "#B0BEC5",
                "#B0BEC5",
                "#B0BEC5",
                "#B0BEC5",
                "#B0BEC5",
                "#B0BEC5",
                "#B0BEC5",
                "#B0BEC5",
                "#B0BEC5",
                "#B0BEC5",
                "#B0BEC5",
                "#B0BEC5",
                "#B0BEC5",
                "#B0BEC5",
                "#B0BEC5",
                "#B0BEC5",
                "#B0BEC5",
                "#B0BEC5",
                "#B0BEC5",
                "#B0BEC5",
                "#B0BEC5",
                "red",
                "#B0BEC5",
                "#B0BEC5",
                "#B0BEC5",
                "#B0BEC5",
                "#B0BEC5",
                "#B0BEC5",
                "#B0BEC5",
                "#B0BEC5",
                "#B0BEC5",
                "#B0BEC5",
                "#B0BEC5",
                "#B0BEC5",
                "#B0BEC5",
                "#B0BEC5"
               ]
              ]
             }
            ],
            "label": "Topic 31",
            "method": "update"
           },
           {
            "args": [
             {
              "marker.color": [
               [
                "#B0BEC5",
                "#B0BEC5",
                "#B0BEC5",
                "#B0BEC5",
                "#B0BEC5",
                "#B0BEC5",
                "#B0BEC5",
                "#B0BEC5",
                "#B0BEC5",
                "#B0BEC5",
                "#B0BEC5",
                "#B0BEC5",
                "#B0BEC5",
                "#B0BEC5",
                "#B0BEC5",
                "#B0BEC5",
                "#B0BEC5",
                "#B0BEC5",
                "#B0BEC5",
                "#B0BEC5",
                "#B0BEC5",
                "#B0BEC5",
                "#B0BEC5",
                "#B0BEC5",
                "#B0BEC5",
                "#B0BEC5",
                "#B0BEC5",
                "#B0BEC5",
                "#B0BEC5",
                "#B0BEC5",
                "#B0BEC5",
                "#B0BEC5",
                "red",
                "#B0BEC5",
                "#B0BEC5",
                "#B0BEC5",
                "#B0BEC5",
                "#B0BEC5",
                "#B0BEC5",
                "#B0BEC5",
                "#B0BEC5",
                "#B0BEC5",
                "#B0BEC5",
                "#B0BEC5",
                "#B0BEC5",
                "#B0BEC5"
               ]
              ]
             }
            ],
            "label": "Topic 32",
            "method": "update"
           },
           {
            "args": [
             {
              "marker.color": [
               [
                "#B0BEC5",
                "#B0BEC5",
                "#B0BEC5",
                "#B0BEC5",
                "#B0BEC5",
                "#B0BEC5",
                "#B0BEC5",
                "#B0BEC5",
                "#B0BEC5",
                "#B0BEC5",
                "#B0BEC5",
                "#B0BEC5",
                "#B0BEC5",
                "#B0BEC5",
                "#B0BEC5",
                "#B0BEC5",
                "#B0BEC5",
                "#B0BEC5",
                "#B0BEC5",
                "#B0BEC5",
                "#B0BEC5",
                "#B0BEC5",
                "#B0BEC5",
                "#B0BEC5",
                "#B0BEC5",
                "#B0BEC5",
                "#B0BEC5",
                "#B0BEC5",
                "#B0BEC5",
                "#B0BEC5",
                "#B0BEC5",
                "#B0BEC5",
                "#B0BEC5",
                "red",
                "#B0BEC5",
                "#B0BEC5",
                "#B0BEC5",
                "#B0BEC5",
                "#B0BEC5",
                "#B0BEC5",
                "#B0BEC5",
                "#B0BEC5",
                "#B0BEC5",
                "#B0BEC5",
                "#B0BEC5",
                "#B0BEC5"
               ]
              ]
             }
            ],
            "label": "Topic 33",
            "method": "update"
           },
           {
            "args": [
             {
              "marker.color": [
               [
                "#B0BEC5",
                "#B0BEC5",
                "#B0BEC5",
                "#B0BEC5",
                "#B0BEC5",
                "#B0BEC5",
                "#B0BEC5",
                "#B0BEC5",
                "#B0BEC5",
                "#B0BEC5",
                "#B0BEC5",
                "#B0BEC5",
                "#B0BEC5",
                "#B0BEC5",
                "#B0BEC5",
                "#B0BEC5",
                "#B0BEC5",
                "#B0BEC5",
                "#B0BEC5",
                "#B0BEC5",
                "#B0BEC5",
                "#B0BEC5",
                "#B0BEC5",
                "#B0BEC5",
                "#B0BEC5",
                "#B0BEC5",
                "#B0BEC5",
                "#B0BEC5",
                "#B0BEC5",
                "#B0BEC5",
                "#B0BEC5",
                "#B0BEC5",
                "#B0BEC5",
                "#B0BEC5",
                "red",
                "#B0BEC5",
                "#B0BEC5",
                "#B0BEC5",
                "#B0BEC5",
                "#B0BEC5",
                "#B0BEC5",
                "#B0BEC5",
                "#B0BEC5",
                "#B0BEC5",
                "#B0BEC5",
                "#B0BEC5"
               ]
              ]
             }
            ],
            "label": "Topic 34",
            "method": "update"
           },
           {
            "args": [
             {
              "marker.color": [
               [
                "#B0BEC5",
                "#B0BEC5",
                "#B0BEC5",
                "#B0BEC5",
                "#B0BEC5",
                "#B0BEC5",
                "#B0BEC5",
                "#B0BEC5",
                "#B0BEC5",
                "#B0BEC5",
                "#B0BEC5",
                "#B0BEC5",
                "#B0BEC5",
                "#B0BEC5",
                "#B0BEC5",
                "#B0BEC5",
                "#B0BEC5",
                "#B0BEC5",
                "#B0BEC5",
                "#B0BEC5",
                "#B0BEC5",
                "#B0BEC5",
                "#B0BEC5",
                "#B0BEC5",
                "#B0BEC5",
                "#B0BEC5",
                "#B0BEC5",
                "#B0BEC5",
                "#B0BEC5",
                "#B0BEC5",
                "#B0BEC5",
                "#B0BEC5",
                "#B0BEC5",
                "#B0BEC5",
                "#B0BEC5",
                "red",
                "#B0BEC5",
                "#B0BEC5",
                "#B0BEC5",
                "#B0BEC5",
                "#B0BEC5",
                "#B0BEC5",
                "#B0BEC5",
                "#B0BEC5",
                "#B0BEC5",
                "#B0BEC5"
               ]
              ]
             }
            ],
            "label": "Topic 35",
            "method": "update"
           },
           {
            "args": [
             {
              "marker.color": [
               [
                "#B0BEC5",
                "#B0BEC5",
                "#B0BEC5",
                "#B0BEC5",
                "#B0BEC5",
                "#B0BEC5",
                "#B0BEC5",
                "#B0BEC5",
                "#B0BEC5",
                "#B0BEC5",
                "#B0BEC5",
                "#B0BEC5",
                "#B0BEC5",
                "#B0BEC5",
                "#B0BEC5",
                "#B0BEC5",
                "#B0BEC5",
                "#B0BEC5",
                "#B0BEC5",
                "#B0BEC5",
                "#B0BEC5",
                "#B0BEC5",
                "#B0BEC5",
                "#B0BEC5",
                "#B0BEC5",
                "#B0BEC5",
                "#B0BEC5",
                "#B0BEC5",
                "#B0BEC5",
                "#B0BEC5",
                "#B0BEC5",
                "#B0BEC5",
                "#B0BEC5",
                "#B0BEC5",
                "#B0BEC5",
                "#B0BEC5",
                "red",
                "#B0BEC5",
                "#B0BEC5",
                "#B0BEC5",
                "#B0BEC5",
                "#B0BEC5",
                "#B0BEC5",
                "#B0BEC5",
                "#B0BEC5",
                "#B0BEC5"
               ]
              ]
             }
            ],
            "label": "Topic 36",
            "method": "update"
           },
           {
            "args": [
             {
              "marker.color": [
               [
                "#B0BEC5",
                "#B0BEC5",
                "#B0BEC5",
                "#B0BEC5",
                "#B0BEC5",
                "#B0BEC5",
                "#B0BEC5",
                "#B0BEC5",
                "#B0BEC5",
                "#B0BEC5",
                "#B0BEC5",
                "#B0BEC5",
                "#B0BEC5",
                "#B0BEC5",
                "#B0BEC5",
                "#B0BEC5",
                "#B0BEC5",
                "#B0BEC5",
                "#B0BEC5",
                "#B0BEC5",
                "#B0BEC5",
                "#B0BEC5",
                "#B0BEC5",
                "#B0BEC5",
                "#B0BEC5",
                "#B0BEC5",
                "#B0BEC5",
                "#B0BEC5",
                "#B0BEC5",
                "#B0BEC5",
                "#B0BEC5",
                "#B0BEC5",
                "#B0BEC5",
                "#B0BEC5",
                "#B0BEC5",
                "#B0BEC5",
                "#B0BEC5",
                "red",
                "#B0BEC5",
                "#B0BEC5",
                "#B0BEC5",
                "#B0BEC5",
                "#B0BEC5",
                "#B0BEC5",
                "#B0BEC5",
                "#B0BEC5"
               ]
              ]
             }
            ],
            "label": "Topic 37",
            "method": "update"
           },
           {
            "args": [
             {
              "marker.color": [
               [
                "#B0BEC5",
                "#B0BEC5",
                "#B0BEC5",
                "#B0BEC5",
                "#B0BEC5",
                "#B0BEC5",
                "#B0BEC5",
                "#B0BEC5",
                "#B0BEC5",
                "#B0BEC5",
                "#B0BEC5",
                "#B0BEC5",
                "#B0BEC5",
                "#B0BEC5",
                "#B0BEC5",
                "#B0BEC5",
                "#B0BEC5",
                "#B0BEC5",
                "#B0BEC5",
                "#B0BEC5",
                "#B0BEC5",
                "#B0BEC5",
                "#B0BEC5",
                "#B0BEC5",
                "#B0BEC5",
                "#B0BEC5",
                "#B0BEC5",
                "#B0BEC5",
                "#B0BEC5",
                "#B0BEC5",
                "#B0BEC5",
                "#B0BEC5",
                "#B0BEC5",
                "#B0BEC5",
                "#B0BEC5",
                "#B0BEC5",
                "#B0BEC5",
                "#B0BEC5",
                "red",
                "#B0BEC5",
                "#B0BEC5",
                "#B0BEC5",
                "#B0BEC5",
                "#B0BEC5",
                "#B0BEC5",
                "#B0BEC5"
               ]
              ]
             }
            ],
            "label": "Topic 38",
            "method": "update"
           },
           {
            "args": [
             {
              "marker.color": [
               [
                "#B0BEC5",
                "#B0BEC5",
                "#B0BEC5",
                "#B0BEC5",
                "#B0BEC5",
                "#B0BEC5",
                "#B0BEC5",
                "#B0BEC5",
                "#B0BEC5",
                "#B0BEC5",
                "#B0BEC5",
                "#B0BEC5",
                "#B0BEC5",
                "#B0BEC5",
                "#B0BEC5",
                "#B0BEC5",
                "#B0BEC5",
                "#B0BEC5",
                "#B0BEC5",
                "#B0BEC5",
                "#B0BEC5",
                "#B0BEC5",
                "#B0BEC5",
                "#B0BEC5",
                "#B0BEC5",
                "#B0BEC5",
                "#B0BEC5",
                "#B0BEC5",
                "#B0BEC5",
                "#B0BEC5",
                "#B0BEC5",
                "#B0BEC5",
                "#B0BEC5",
                "#B0BEC5",
                "#B0BEC5",
                "#B0BEC5",
                "#B0BEC5",
                "#B0BEC5",
                "#B0BEC5",
                "red",
                "#B0BEC5",
                "#B0BEC5",
                "#B0BEC5",
                "#B0BEC5",
                "#B0BEC5",
                "#B0BEC5"
               ]
              ]
             }
            ],
            "label": "Topic 39",
            "method": "update"
           },
           {
            "args": [
             {
              "marker.color": [
               [
                "#B0BEC5",
                "#B0BEC5",
                "#B0BEC5",
                "#B0BEC5",
                "#B0BEC5",
                "#B0BEC5",
                "#B0BEC5",
                "#B0BEC5",
                "#B0BEC5",
                "#B0BEC5",
                "#B0BEC5",
                "#B0BEC5",
                "#B0BEC5",
                "#B0BEC5",
                "#B0BEC5",
                "#B0BEC5",
                "#B0BEC5",
                "#B0BEC5",
                "#B0BEC5",
                "#B0BEC5",
                "#B0BEC5",
                "#B0BEC5",
                "#B0BEC5",
                "#B0BEC5",
                "#B0BEC5",
                "#B0BEC5",
                "#B0BEC5",
                "#B0BEC5",
                "#B0BEC5",
                "#B0BEC5",
                "#B0BEC5",
                "#B0BEC5",
                "#B0BEC5",
                "#B0BEC5",
                "#B0BEC5",
                "#B0BEC5",
                "#B0BEC5",
                "#B0BEC5",
                "#B0BEC5",
                "#B0BEC5",
                "red",
                "#B0BEC5",
                "#B0BEC5",
                "#B0BEC5",
                "#B0BEC5",
                "#B0BEC5"
               ]
              ]
             }
            ],
            "label": "Topic 40",
            "method": "update"
           },
           {
            "args": [
             {
              "marker.color": [
               [
                "#B0BEC5",
                "#B0BEC5",
                "#B0BEC5",
                "#B0BEC5",
                "#B0BEC5",
                "#B0BEC5",
                "#B0BEC5",
                "#B0BEC5",
                "#B0BEC5",
                "#B0BEC5",
                "#B0BEC5",
                "#B0BEC5",
                "#B0BEC5",
                "#B0BEC5",
                "#B0BEC5",
                "#B0BEC5",
                "#B0BEC5",
                "#B0BEC5",
                "#B0BEC5",
                "#B0BEC5",
                "#B0BEC5",
                "#B0BEC5",
                "#B0BEC5",
                "#B0BEC5",
                "#B0BEC5",
                "#B0BEC5",
                "#B0BEC5",
                "#B0BEC5",
                "#B0BEC5",
                "#B0BEC5",
                "#B0BEC5",
                "#B0BEC5",
                "#B0BEC5",
                "#B0BEC5",
                "#B0BEC5",
                "#B0BEC5",
                "#B0BEC5",
                "#B0BEC5",
                "#B0BEC5",
                "#B0BEC5",
                "#B0BEC5",
                "red",
                "#B0BEC5",
                "#B0BEC5",
                "#B0BEC5",
                "#B0BEC5"
               ]
              ]
             }
            ],
            "label": "Topic 41",
            "method": "update"
           },
           {
            "args": [
             {
              "marker.color": [
               [
                "#B0BEC5",
                "#B0BEC5",
                "#B0BEC5",
                "#B0BEC5",
                "#B0BEC5",
                "#B0BEC5",
                "#B0BEC5",
                "#B0BEC5",
                "#B0BEC5",
                "#B0BEC5",
                "#B0BEC5",
                "#B0BEC5",
                "#B0BEC5",
                "#B0BEC5",
                "#B0BEC5",
                "#B0BEC5",
                "#B0BEC5",
                "#B0BEC5",
                "#B0BEC5",
                "#B0BEC5",
                "#B0BEC5",
                "#B0BEC5",
                "#B0BEC5",
                "#B0BEC5",
                "#B0BEC5",
                "#B0BEC5",
                "#B0BEC5",
                "#B0BEC5",
                "#B0BEC5",
                "#B0BEC5",
                "#B0BEC5",
                "#B0BEC5",
                "#B0BEC5",
                "#B0BEC5",
                "#B0BEC5",
                "#B0BEC5",
                "#B0BEC5",
                "#B0BEC5",
                "#B0BEC5",
                "#B0BEC5",
                "#B0BEC5",
                "#B0BEC5",
                "red",
                "#B0BEC5",
                "#B0BEC5",
                "#B0BEC5"
               ]
              ]
             }
            ],
            "label": "Topic 42",
            "method": "update"
           },
           {
            "args": [
             {
              "marker.color": [
               [
                "#B0BEC5",
                "#B0BEC5",
                "#B0BEC5",
                "#B0BEC5",
                "#B0BEC5",
                "#B0BEC5",
                "#B0BEC5",
                "#B0BEC5",
                "#B0BEC5",
                "#B0BEC5",
                "#B0BEC5",
                "#B0BEC5",
                "#B0BEC5",
                "#B0BEC5",
                "#B0BEC5",
                "#B0BEC5",
                "#B0BEC5",
                "#B0BEC5",
                "#B0BEC5",
                "#B0BEC5",
                "#B0BEC5",
                "#B0BEC5",
                "#B0BEC5",
                "#B0BEC5",
                "#B0BEC5",
                "#B0BEC5",
                "#B0BEC5",
                "#B0BEC5",
                "#B0BEC5",
                "#B0BEC5",
                "#B0BEC5",
                "#B0BEC5",
                "#B0BEC5",
                "#B0BEC5",
                "#B0BEC5",
                "#B0BEC5",
                "#B0BEC5",
                "#B0BEC5",
                "#B0BEC5",
                "#B0BEC5",
                "#B0BEC5",
                "#B0BEC5",
                "#B0BEC5",
                "red",
                "#B0BEC5",
                "#B0BEC5"
               ]
              ]
             }
            ],
            "label": "Topic 43",
            "method": "update"
           },
           {
            "args": [
             {
              "marker.color": [
               [
                "#B0BEC5",
                "#B0BEC5",
                "#B0BEC5",
                "#B0BEC5",
                "#B0BEC5",
                "#B0BEC5",
                "#B0BEC5",
                "#B0BEC5",
                "#B0BEC5",
                "#B0BEC5",
                "#B0BEC5",
                "#B0BEC5",
                "#B0BEC5",
                "#B0BEC5",
                "#B0BEC5",
                "#B0BEC5",
                "#B0BEC5",
                "#B0BEC5",
                "#B0BEC5",
                "#B0BEC5",
                "#B0BEC5",
                "#B0BEC5",
                "#B0BEC5",
                "#B0BEC5",
                "#B0BEC5",
                "#B0BEC5",
                "#B0BEC5",
                "#B0BEC5",
                "#B0BEC5",
                "#B0BEC5",
                "#B0BEC5",
                "#B0BEC5",
                "#B0BEC5",
                "#B0BEC5",
                "#B0BEC5",
                "#B0BEC5",
                "#B0BEC5",
                "#B0BEC5",
                "#B0BEC5",
                "#B0BEC5",
                "#B0BEC5",
                "#B0BEC5",
                "#B0BEC5",
                "#B0BEC5",
                "red",
                "#B0BEC5"
               ]
              ]
             }
            ],
            "label": "Topic 44",
            "method": "update"
           },
           {
            "args": [
             {
              "marker.color": [
               [
                "#B0BEC5",
                "#B0BEC5",
                "#B0BEC5",
                "#B0BEC5",
                "#B0BEC5",
                "#B0BEC5",
                "#B0BEC5",
                "#B0BEC5",
                "#B0BEC5",
                "#B0BEC5",
                "#B0BEC5",
                "#B0BEC5",
                "#B0BEC5",
                "#B0BEC5",
                "#B0BEC5",
                "#B0BEC5",
                "#B0BEC5",
                "#B0BEC5",
                "#B0BEC5",
                "#B0BEC5",
                "#B0BEC5",
                "#B0BEC5",
                "#B0BEC5",
                "#B0BEC5",
                "#B0BEC5",
                "#B0BEC5",
                "#B0BEC5",
                "#B0BEC5",
                "#B0BEC5",
                "#B0BEC5",
                "#B0BEC5",
                "#B0BEC5",
                "#B0BEC5",
                "#B0BEC5",
                "#B0BEC5",
                "#B0BEC5",
                "#B0BEC5",
                "#B0BEC5",
                "#B0BEC5",
                "#B0BEC5",
                "#B0BEC5",
                "#B0BEC5",
                "#B0BEC5",
                "#B0BEC5",
                "#B0BEC5",
                "red"
               ]
              ]
             }
            ],
            "label": "Topic 45",
            "method": "update"
           }
          ]
         }
        ],
        "template": {
         "data": {
          "bar": [
           {
            "error_x": {
             "color": "rgb(36,36,36)"
            },
            "error_y": {
             "color": "rgb(36,36,36)"
            },
            "marker": {
             "line": {
              "color": "white",
              "width": 0.5
             },
             "pattern": {
              "fillmode": "overlay",
              "size": 10,
              "solidity": 0.2
             }
            },
            "type": "bar"
           }
          ],
          "barpolar": [
           {
            "marker": {
             "line": {
              "color": "white",
              "width": 0.5
             },
             "pattern": {
              "fillmode": "overlay",
              "size": 10,
              "solidity": 0.2
             }
            },
            "type": "barpolar"
           }
          ],
          "carpet": [
           {
            "aaxis": {
             "endlinecolor": "rgb(36,36,36)",
             "gridcolor": "white",
             "linecolor": "white",
             "minorgridcolor": "white",
             "startlinecolor": "rgb(36,36,36)"
            },
            "baxis": {
             "endlinecolor": "rgb(36,36,36)",
             "gridcolor": "white",
             "linecolor": "white",
             "minorgridcolor": "white",
             "startlinecolor": "rgb(36,36,36)"
            },
            "type": "carpet"
           }
          ],
          "choropleth": [
           {
            "colorbar": {
             "outlinewidth": 1,
             "tickcolor": "rgb(36,36,36)",
             "ticks": "outside"
            },
            "type": "choropleth"
           }
          ],
          "contour": [
           {
            "colorbar": {
             "outlinewidth": 1,
             "tickcolor": "rgb(36,36,36)",
             "ticks": "outside"
            },
            "colorscale": [
             [
              0,
              "#440154"
             ],
             [
              0.1111111111111111,
              "#482878"
             ],
             [
              0.2222222222222222,
              "#3e4989"
             ],
             [
              0.3333333333333333,
              "#31688e"
             ],
             [
              0.4444444444444444,
              "#26828e"
             ],
             [
              0.5555555555555556,
              "#1f9e89"
             ],
             [
              0.6666666666666666,
              "#35b779"
             ],
             [
              0.7777777777777778,
              "#6ece58"
             ],
             [
              0.8888888888888888,
              "#b5de2b"
             ],
             [
              1,
              "#fde725"
             ]
            ],
            "type": "contour"
           }
          ],
          "contourcarpet": [
           {
            "colorbar": {
             "outlinewidth": 1,
             "tickcolor": "rgb(36,36,36)",
             "ticks": "outside"
            },
            "type": "contourcarpet"
           }
          ],
          "heatmap": [
           {
            "colorbar": {
             "outlinewidth": 1,
             "tickcolor": "rgb(36,36,36)",
             "ticks": "outside"
            },
            "colorscale": [
             [
              0,
              "#440154"
             ],
             [
              0.1111111111111111,
              "#482878"
             ],
             [
              0.2222222222222222,
              "#3e4989"
             ],
             [
              0.3333333333333333,
              "#31688e"
             ],
             [
              0.4444444444444444,
              "#26828e"
             ],
             [
              0.5555555555555556,
              "#1f9e89"
             ],
             [
              0.6666666666666666,
              "#35b779"
             ],
             [
              0.7777777777777778,
              "#6ece58"
             ],
             [
              0.8888888888888888,
              "#b5de2b"
             ],
             [
              1,
              "#fde725"
             ]
            ],
            "type": "heatmap"
           }
          ],
          "heatmapgl": [
           {
            "colorbar": {
             "outlinewidth": 1,
             "tickcolor": "rgb(36,36,36)",
             "ticks": "outside"
            },
            "colorscale": [
             [
              0,
              "#440154"
             ],
             [
              0.1111111111111111,
              "#482878"
             ],
             [
              0.2222222222222222,
              "#3e4989"
             ],
             [
              0.3333333333333333,
              "#31688e"
             ],
             [
              0.4444444444444444,
              "#26828e"
             ],
             [
              0.5555555555555556,
              "#1f9e89"
             ],
             [
              0.6666666666666666,
              "#35b779"
             ],
             [
              0.7777777777777778,
              "#6ece58"
             ],
             [
              0.8888888888888888,
              "#b5de2b"
             ],
             [
              1,
              "#fde725"
             ]
            ],
            "type": "heatmapgl"
           }
          ],
          "histogram": [
           {
            "marker": {
             "line": {
              "color": "white",
              "width": 0.6
             }
            },
            "type": "histogram"
           }
          ],
          "histogram2d": [
           {
            "colorbar": {
             "outlinewidth": 1,
             "tickcolor": "rgb(36,36,36)",
             "ticks": "outside"
            },
            "colorscale": [
             [
              0,
              "#440154"
             ],
             [
              0.1111111111111111,
              "#482878"
             ],
             [
              0.2222222222222222,
              "#3e4989"
             ],
             [
              0.3333333333333333,
              "#31688e"
             ],
             [
              0.4444444444444444,
              "#26828e"
             ],
             [
              0.5555555555555556,
              "#1f9e89"
             ],
             [
              0.6666666666666666,
              "#35b779"
             ],
             [
              0.7777777777777778,
              "#6ece58"
             ],
             [
              0.8888888888888888,
              "#b5de2b"
             ],
             [
              1,
              "#fde725"
             ]
            ],
            "type": "histogram2d"
           }
          ],
          "histogram2dcontour": [
           {
            "colorbar": {
             "outlinewidth": 1,
             "tickcolor": "rgb(36,36,36)",
             "ticks": "outside"
            },
            "colorscale": [
             [
              0,
              "#440154"
             ],
             [
              0.1111111111111111,
              "#482878"
             ],
             [
              0.2222222222222222,
              "#3e4989"
             ],
             [
              0.3333333333333333,
              "#31688e"
             ],
             [
              0.4444444444444444,
              "#26828e"
             ],
             [
              0.5555555555555556,
              "#1f9e89"
             ],
             [
              0.6666666666666666,
              "#35b779"
             ],
             [
              0.7777777777777778,
              "#6ece58"
             ],
             [
              0.8888888888888888,
              "#b5de2b"
             ],
             [
              1,
              "#fde725"
             ]
            ],
            "type": "histogram2dcontour"
           }
          ],
          "mesh3d": [
           {
            "colorbar": {
             "outlinewidth": 1,
             "tickcolor": "rgb(36,36,36)",
             "ticks": "outside"
            },
            "type": "mesh3d"
           }
          ],
          "parcoords": [
           {
            "line": {
             "colorbar": {
              "outlinewidth": 1,
              "tickcolor": "rgb(36,36,36)",
              "ticks": "outside"
             }
            },
            "type": "parcoords"
           }
          ],
          "pie": [
           {
            "automargin": true,
            "type": "pie"
           }
          ],
          "scatter": [
           {
            "fillpattern": {
             "fillmode": "overlay",
             "size": 10,
             "solidity": 0.2
            },
            "type": "scatter"
           }
          ],
          "scatter3d": [
           {
            "line": {
             "colorbar": {
              "outlinewidth": 1,
              "tickcolor": "rgb(36,36,36)",
              "ticks": "outside"
             }
            },
            "marker": {
             "colorbar": {
              "outlinewidth": 1,
              "tickcolor": "rgb(36,36,36)",
              "ticks": "outside"
             }
            },
            "type": "scatter3d"
           }
          ],
          "scattercarpet": [
           {
            "marker": {
             "colorbar": {
              "outlinewidth": 1,
              "tickcolor": "rgb(36,36,36)",
              "ticks": "outside"
             }
            },
            "type": "scattercarpet"
           }
          ],
          "scattergeo": [
           {
            "marker": {
             "colorbar": {
              "outlinewidth": 1,
              "tickcolor": "rgb(36,36,36)",
              "ticks": "outside"
             }
            },
            "type": "scattergeo"
           }
          ],
          "scattergl": [
           {
            "marker": {
             "colorbar": {
              "outlinewidth": 1,
              "tickcolor": "rgb(36,36,36)",
              "ticks": "outside"
             }
            },
            "type": "scattergl"
           }
          ],
          "scattermapbox": [
           {
            "marker": {
             "colorbar": {
              "outlinewidth": 1,
              "tickcolor": "rgb(36,36,36)",
              "ticks": "outside"
             }
            },
            "type": "scattermapbox"
           }
          ],
          "scatterpolar": [
           {
            "marker": {
             "colorbar": {
              "outlinewidth": 1,
              "tickcolor": "rgb(36,36,36)",
              "ticks": "outside"
             }
            },
            "type": "scatterpolar"
           }
          ],
          "scatterpolargl": [
           {
            "marker": {
             "colorbar": {
              "outlinewidth": 1,
              "tickcolor": "rgb(36,36,36)",
              "ticks": "outside"
             }
            },
            "type": "scatterpolargl"
           }
          ],
          "scatterternary": [
           {
            "marker": {
             "colorbar": {
              "outlinewidth": 1,
              "tickcolor": "rgb(36,36,36)",
              "ticks": "outside"
             }
            },
            "type": "scatterternary"
           }
          ],
          "surface": [
           {
            "colorbar": {
             "outlinewidth": 1,
             "tickcolor": "rgb(36,36,36)",
             "ticks": "outside"
            },
            "colorscale": [
             [
              0,
              "#440154"
             ],
             [
              0.1111111111111111,
              "#482878"
             ],
             [
              0.2222222222222222,
              "#3e4989"
             ],
             [
              0.3333333333333333,
              "#31688e"
             ],
             [
              0.4444444444444444,
              "#26828e"
             ],
             [
              0.5555555555555556,
              "#1f9e89"
             ],
             [
              0.6666666666666666,
              "#35b779"
             ],
             [
              0.7777777777777778,
              "#6ece58"
             ],
             [
              0.8888888888888888,
              "#b5de2b"
             ],
             [
              1,
              "#fde725"
             ]
            ],
            "type": "surface"
           }
          ],
          "table": [
           {
            "cells": {
             "fill": {
              "color": "rgb(237,237,237)"
             },
             "line": {
              "color": "white"
             }
            },
            "header": {
             "fill": {
              "color": "rgb(217,217,217)"
             },
             "line": {
              "color": "white"
             }
            },
            "type": "table"
           }
          ]
         },
         "layout": {
          "annotationdefaults": {
           "arrowhead": 0,
           "arrowwidth": 1
          },
          "autotypenumbers": "strict",
          "coloraxis": {
           "colorbar": {
            "outlinewidth": 1,
            "tickcolor": "rgb(36,36,36)",
            "ticks": "outside"
           }
          },
          "colorscale": {
           "diverging": [
            [
             0,
             "rgb(103,0,31)"
            ],
            [
             0.1,
             "rgb(178,24,43)"
            ],
            [
             0.2,
             "rgb(214,96,77)"
            ],
            [
             0.3,
             "rgb(244,165,130)"
            ],
            [
             0.4,
             "rgb(253,219,199)"
            ],
            [
             0.5,
             "rgb(247,247,247)"
            ],
            [
             0.6,
             "rgb(209,229,240)"
            ],
            [
             0.7,
             "rgb(146,197,222)"
            ],
            [
             0.8,
             "rgb(67,147,195)"
            ],
            [
             0.9,
             "rgb(33,102,172)"
            ],
            [
             1,
             "rgb(5,48,97)"
            ]
           ],
           "sequential": [
            [
             0,
             "#440154"
            ],
            [
             0.1111111111111111,
             "#482878"
            ],
            [
             0.2222222222222222,
             "#3e4989"
            ],
            [
             0.3333333333333333,
             "#31688e"
            ],
            [
             0.4444444444444444,
             "#26828e"
            ],
            [
             0.5555555555555556,
             "#1f9e89"
            ],
            [
             0.6666666666666666,
             "#35b779"
            ],
            [
             0.7777777777777778,
             "#6ece58"
            ],
            [
             0.8888888888888888,
             "#b5de2b"
            ],
            [
             1,
             "#fde725"
            ]
           ],
           "sequentialminus": [
            [
             0,
             "#440154"
            ],
            [
             0.1111111111111111,
             "#482878"
            ],
            [
             0.2222222222222222,
             "#3e4989"
            ],
            [
             0.3333333333333333,
             "#31688e"
            ],
            [
             0.4444444444444444,
             "#26828e"
            ],
            [
             0.5555555555555556,
             "#1f9e89"
            ],
            [
             0.6666666666666666,
             "#35b779"
            ],
            [
             0.7777777777777778,
             "#6ece58"
            ],
            [
             0.8888888888888888,
             "#b5de2b"
            ],
            [
             1,
             "#fde725"
            ]
           ]
          },
          "colorway": [
           "#1F77B4",
           "#FF7F0E",
           "#2CA02C",
           "#D62728",
           "#9467BD",
           "#8C564B",
           "#E377C2",
           "#7F7F7F",
           "#BCBD22",
           "#17BECF"
          ],
          "font": {
           "color": "rgb(36,36,36)"
          },
          "geo": {
           "bgcolor": "white",
           "lakecolor": "white",
           "landcolor": "white",
           "showlakes": true,
           "showland": true,
           "subunitcolor": "white"
          },
          "hoverlabel": {
           "align": "left"
          },
          "hovermode": "closest",
          "mapbox": {
           "style": "light"
          },
          "paper_bgcolor": "white",
          "plot_bgcolor": "white",
          "polar": {
           "angularaxis": {
            "gridcolor": "rgb(232,232,232)",
            "linecolor": "rgb(36,36,36)",
            "showgrid": false,
            "showline": true,
            "ticks": "outside"
           },
           "bgcolor": "white",
           "radialaxis": {
            "gridcolor": "rgb(232,232,232)",
            "linecolor": "rgb(36,36,36)",
            "showgrid": false,
            "showline": true,
            "ticks": "outside"
           }
          },
          "scene": {
           "xaxis": {
            "backgroundcolor": "white",
            "gridcolor": "rgb(232,232,232)",
            "gridwidth": 2,
            "linecolor": "rgb(36,36,36)",
            "showbackground": true,
            "showgrid": false,
            "showline": true,
            "ticks": "outside",
            "zeroline": false,
            "zerolinecolor": "rgb(36,36,36)"
           },
           "yaxis": {
            "backgroundcolor": "white",
            "gridcolor": "rgb(232,232,232)",
            "gridwidth": 2,
            "linecolor": "rgb(36,36,36)",
            "showbackground": true,
            "showgrid": false,
            "showline": true,
            "ticks": "outside",
            "zeroline": false,
            "zerolinecolor": "rgb(36,36,36)"
           },
           "zaxis": {
            "backgroundcolor": "white",
            "gridcolor": "rgb(232,232,232)",
            "gridwidth": 2,
            "linecolor": "rgb(36,36,36)",
            "showbackground": true,
            "showgrid": false,
            "showline": true,
            "ticks": "outside",
            "zeroline": false,
            "zerolinecolor": "rgb(36,36,36)"
           }
          },
          "shapedefaults": {
           "fillcolor": "black",
           "line": {
            "width": 0
           },
           "opacity": 0.3
          },
          "ternary": {
           "aaxis": {
            "gridcolor": "rgb(232,232,232)",
            "linecolor": "rgb(36,36,36)",
            "showgrid": false,
            "showline": true,
            "ticks": "outside"
           },
           "baxis": {
            "gridcolor": "rgb(232,232,232)",
            "linecolor": "rgb(36,36,36)",
            "showgrid": false,
            "showline": true,
            "ticks": "outside"
           },
           "bgcolor": "white",
           "caxis": {
            "gridcolor": "rgb(232,232,232)",
            "linecolor": "rgb(36,36,36)",
            "showgrid": false,
            "showline": true,
            "ticks": "outside"
           }
          },
          "title": {
           "x": 0.05
          },
          "xaxis": {
           "automargin": true,
           "gridcolor": "rgb(232,232,232)",
           "linecolor": "rgb(36,36,36)",
           "showgrid": false,
           "showline": true,
           "ticks": "outside",
           "title": {
            "standoff": 15
           },
           "zeroline": false,
           "zerolinecolor": "rgb(36,36,36)"
          },
          "yaxis": {
           "automargin": true,
           "gridcolor": "rgb(232,232,232)",
           "linecolor": "rgb(36,36,36)",
           "showgrid": false,
           "showline": true,
           "ticks": "outside",
           "title": {
            "standoff": 15
           },
           "zeroline": false,
           "zerolinecolor": "rgb(36,36,36)"
          }
         }
        },
        "title": {
         "font": {
          "color": "Black",
          "size": 22
         },
         "text": "<b>Intertopic Distance Map</b>",
         "x": 0.5,
         "xanchor": "center",
         "y": 0.95,
         "yanchor": "top"
        },
        "width": 650,
        "xaxis": {
         "anchor": "y",
         "domain": [
          0,
          1
         ],
         "range": [
          -14.18965449333191,
          29.011858558654787
         ],
         "title": {
          "text": ""
         },
         "visible": false
        },
        "yaxis": {
         "anchor": "x",
         "domain": [
          0,
          1
         ],
         "range": [
          -6.333100414276123,
          22.905637741088867
         ],
         "title": {
          "text": ""
         },
         "visible": false
        }
       }
      }
     },
     "metadata": {},
     "output_type": "display_data"
    }
   ],
   "source": [
    "topic_model.visualize_topics()"
   ]
  },
  {
   "cell_type": "code",
   "execution_count": null,
   "metadata": {},
   "outputs": [],
   "source": [
    "with open('cs_second_topics_over_time.pkl', 'rb') as f:\n",
    "    topics_over_time = pickle.load(f)\n",
    "\n",
    "topics_over_time_df = pd.DataFrame(topics_over_time, columns=[\"Topic\", \"Timestamp\", \"Frequency\"])\n",
    "\n",
    "# Convert the 'Timestamp' column to a datetime object for easier grouping\n",
    "topics_over_time_df['Timestamp'] = pd.to_datetime(topics_over_time_df['Timestamp'])\n",
    "\n",
    "# Group by month and topic, summing only the 'Frequency' column\n",
    "monthly_data = topics_over_time_df.groupby([topics_over_time_df['Timestamp'].dt.to_period('M'), 'Topic'])['Frequency'].sum().reset_index()"
   ]
  },
  {
   "cell_type": "code",
   "execution_count": null,
   "metadata": {},
   "outputs": [],
   "source": [
    "topic_labels = {\n",
    "0:'Machine learning and task specific performance improvement',\n",
    "1:'Medical imaging and segmentation',\n",
    "2:'Robotics and human-robot interaction',\n",
    "3:'Adversarial and Federated Learning',\n",
    "4:'Speech and audio processing',\n",
    "5:'Autonomous vehicles',\n",
    "6:'Wireless communication system',\n",
    "7:'Numerical analysis and approximation methods',\n",
    "8:'Graph Neural Networks (GNNs)',\n",
    "9:'Software engineering and development tools',\n",
    "10:'Multilingual language models',\n",
    "11:'Power grids and energy system',\n",
    "12:'Social media analytiscs',\n",
    "13:'Bioinformatics and protein modelling',\n",
    "14:'Probabilistic modeling',\n",
    "15:'Quantum computing',\n",
    "16:'AI systems and Human-AI interaction',\n",
    "17:'User recommendation systems',\n",
    "18:'Control theory and dynamic systems',\n",
    "19:'Unmanned Aerial Vehicles (UAVs)',\n",
    "20:'Blockchain and smart contracts',\n",
    "21:'Scientometrics and research analysis',\n",
    "22:'High performance computing',\n",
    "23:'Coding theory and error correcting codes',\n",
    "24:'Video processing and temporal features',\n",
    "25:'Logic and formal verification',\n",
    "26:'Game theory and nash equilibrium',\n",
    "27:'Cybersecurity and threat detection',\n",
    "28:'AI integration in education',\n",
    "29:'Time series forecasting',\n",
    "30:'Cryptography and encryption',\n",
    "31:'Anomaly detection',\n",
    "32:'Optimization algorithms',\n",
    "33:'Cloud and edge computing',\n",
    "34:'Clustering algorithm',\n",
    "35:'Agricultural modelling',\n",
    "36:'Generative models (GANs)',\n",
    "37:'Auction theory and mechanism design',\n",
    "38:'Underwater and marine imaging',\n",
    "39:'3D object detection and pose estimation',\n",
    "40:'Facial image recognition',\n",
    "41:'Machine learning application in astrophysics and space exploration',\n",
    "42:'Spiking Neural Networks (SNNs)',\n",
    "43:'Causal Inference and Causal Models',\n",
    "44:'Internet of Things (IoT) applications',\n",
    "45:'Data privacy and synthetic datasets'\n",
    "}"
   ]
  },
  {
   "cell_type": "code",
   "execution_count": 29,
   "metadata": {},
   "outputs": [
    {
     "data": {
      "image/png": "[encoded data removed]",
      "text/plain": [
       "<Figure size 1400x600 with 1 Axes>"
      ]
     },
     "metadata": {},
     "output_type": "display_data"
    }
   ],
   "source": [
    "specific_topics = [0,1,2,3,4,5,6]\n",
    "\n",
    "# Filter monthly_data to include only these specific topics\n",
    "filtered_monthly_data = monthly_data[monthly_data['Topic'].isin(specific_topics)]\n",
    "\n",
    "# Pivot the table to make it suitable for bar plotting (topics as columns)\n",
    "pivoted_data = filtered_monthly_data.pivot(index='Timestamp', columns='Topic', values='Frequency')\n",
    "\n",
    "# Plot as stacked bar chart\n",
    "ax = pivoted_data.plot(kind='bar', stacked=False, figsize=(14, 6), colormap='Paired')\n",
    "\n",
    "# Add legend outside the plot\n",
    "ax.legend(title='Global Topic Representation', labels=[topic_labels.get(topic, topic) for topic in pivoted_data.columns],  bbox_to_anchor=(1, 1), loc='upper left')\n",
    "\n",
    "# Customize the plot (similar to your image)\n",
    "ax.set_title('Topics over time', fontsize=14)\n",
    "ax.set_xlabel('')\n",
    "ax.set_ylabel('Frequency')\n",
    "\n",
    "# Rotate x-axis labels for better readability\n",
    "ax.set_xticklabels(pivoted_data.index.astype(str), rotation=0)\n",
    "\n",
    "# Add gridlines for better readability\n",
    "plt.grid(axis='y', linestyle='--', alpha=0.7)\n",
    "\n",
    "# Adjust layout to fit everything well\n",
    "plt.tight_layout()\n",
    "\n",
    "# Show the plot\n",
    "plt.show()"
   ]
  },
  {
   "cell_type": "code",
   "execution_count": 28,
   "metadata": {},
   "outputs": [
    {
     "data": {
      "image/png": "[encoded data removed]",
      "text/plain": [
       "<Figure size 1400x600 with 1 Axes>"
      ]
     },
     "metadata": {},
     "output_type": "display_data"
    }
   ],
   "source": [
    "specific_topics = [7,8,9,10,11,12,13]\n",
    "\n",
    "# Filter monthly_data to include only these specific topics\n",
    "filtered_monthly_data = monthly_data[monthly_data['Topic'].isin(specific_topics)]\n",
    "\n",
    "# Pivot the table to make it suitable for bar plotting (topics as columns)\n",
    "pivoted_data = filtered_monthly_data.pivot(index='Timestamp', columns='Topic', values='Frequency')\n",
    "\n",
    "# Plot as stacked bar chart\n",
    "ax = pivoted_data.plot(kind='bar', stacked=False, figsize=(14, 6), colormap='Paired')\n",
    "\n",
    "# Add legend outside the plot\n",
    "ax.legend(title='Global Topic Representation', labels=[topic_labels.get(topic, topic) for topic in pivoted_data.columns],  bbox_to_anchor=(1, 1), loc='upper left')\n",
    "\n",
    "# Customize the plot (similar to your image)\n",
    "ax.set_title('Topics over time', fontsize=14)\n",
    "ax.set_xlabel('')\n",
    "ax.set_ylabel('Frequency')\n",
    "\n",
    "# Rotate x-axis labels for better readability\n",
    "ax.set_xticklabels(pivoted_data.index.astype(str), rotation=0)\n",
    "\n",
    "# Add gridlines for better readability\n",
    "plt.grid(axis='y', linestyle='--', alpha=0.7)\n",
    "\n",
    "# Adjust layout to fit everything well\n",
    "plt.tight_layout()\n",
    "\n",
    "# Show the plot\n",
    "plt.show()"
   ]
  },
  {
   "cell_type": "code",
   "execution_count": 27,
   "metadata": {},
   "outputs": [
    {
     "data": {
      "image/png": "[encoded data removed]",
      "text/plain": [
       "<Figure size 1400x600 with 1 Axes>"
      ]
     },
     "metadata": {},
     "output_type": "display_data"
    }
   ],
   "source": [
    "specific_topics = [14,15,16,17,18,19,20]\n",
    "\n",
    "# Filter monthly_data to include only these specific topics\n",
    "filtered_monthly_data = monthly_data[monthly_data['Topic'].isin(specific_topics)]\n",
    "\n",
    "# Pivot the table to make it suitable for bar plotting (topics as columns)\n",
    "pivoted_data = filtered_monthly_data.pivot(index='Timestamp', columns='Topic', values='Frequency')\n",
    "\n",
    "# Plot as stacked bar chart\n",
    "ax = pivoted_data.plot(kind='bar', stacked=False, figsize=(14, 6), colormap='Paired')\n",
    "\n",
    "# Add legend outside the plot\n",
    "ax.legend(title='Global Topic Representation', labels=[topic_labels.get(topic, topic) for topic in pivoted_data.columns],  bbox_to_anchor=(1, 1), loc='upper left')\n",
    "\n",
    "# Customize the plot (similar to your image)\n",
    "ax.set_title('Topics over time', fontsize=14)\n",
    "ax.set_xlabel('')\n",
    "ax.set_ylabel('Frequency')\n",
    "\n",
    "# Rotate x-axis labels for better readability\n",
    "ax.set_xticklabels(pivoted_data.index.astype(str), rotation=0)\n",
    "\n",
    "# Add gridlines for better readability\n",
    "plt.grid(axis='y', linestyle='--', alpha=0.7)\n",
    "\n",
    "# Adjust layout to fit everything well\n",
    "plt.tight_layout()\n",
    "\n",
    "# Show the plot\n",
    "plt.show()"
   ]
  },
  {
   "cell_type": "code",
   "execution_count": 26,
   "metadata": {},
   "outputs": [
    {
     "data": {
      "image/png": "[encoded data removed]",
      "text/plain": [
       "<Figure size 1400x600 with 1 Axes>"
      ]
     },
     "metadata": {},
     "output_type": "display_data"
    }
   ],
   "source": [
    "specific_topics = [21,22,23,24,25,26,27]\n",
    "\n",
    "# Filter monthly_data to include only these specific topics\n",
    "filtered_monthly_data = monthly_data[monthly_data['Topic'].isin(specific_topics)]\n",
    "\n",
    "# Pivot the table to make it suitable for bar plotting (topics as columns)\n",
    "pivoted_data = filtered_monthly_data.pivot(index='Timestamp', columns='Topic', values='Frequency')\n",
    "\n",
    "# Plot as stacked bar chart\n",
    "ax = pivoted_data.plot(kind='bar', stacked=False, figsize=(14, 6), colormap='Paired')\n",
    "\n",
    "# Add legend outside the plot\n",
    "ax.legend(title='Global Topic Representation', labels=[topic_labels.get(topic, topic) for topic in pivoted_data.columns],  bbox_to_anchor=(1, 1), loc='upper left')\n",
    "\n",
    "# Customize the plot (similar to your image)\n",
    "ax.set_title('Topics over time', fontsize=14)\n",
    "ax.set_xlabel('')\n",
    "ax.set_ylabel('Frequency')\n",
    "\n",
    "# Rotate x-axis labels for better readability\n",
    "ax.set_xticklabels(pivoted_data.index.astype(str), rotation=0)\n",
    "\n",
    "# Add gridlines for better readability\n",
    "plt.grid(axis='y', linestyle='--', alpha=0.7)\n",
    "\n",
    "# Adjust layout to fit everything well\n",
    "plt.tight_layout()\n",
    "\n",
    "# Show the plot\n",
    "plt.show()"
   ]
  },
  {
   "cell_type": "code",
   "execution_count": 25,
   "metadata": {},
   "outputs": [
    {
     "data": {
      "image/png": "[encoded data removed]",
      "text/plain": [
       "<Figure size 1400x600 with 1 Axes>"
      ]
     },
     "metadata": {},
     "output_type": "display_data"
    }
   ],
   "source": [
    "specific_topics = [28,29,30,31,32,33]\n",
    "\n",
    "# Filter monthly_data to include only these specific topics\n",
    "filtered_monthly_data = monthly_data[monthly_data['Topic'].isin(specific_topics)]\n",
    "\n",
    "# Pivot the table to make it suitable for bar plotting (topics as columns)\n",
    "pivoted_data = filtered_monthly_data.pivot(index='Timestamp', columns='Topic', values='Frequency')\n",
    "\n",
    "# Plot as stacked bar chart\n",
    "ax = pivoted_data.plot(kind='bar', stacked=False, figsize=(14, 6), colormap='Paired')\n",
    "\n",
    "# Add legend outside the plot\n",
    "ax.legend(title='Global Topic Representation', labels=[topic_labels.get(topic, topic) for topic in pivoted_data.columns],  bbox_to_anchor=(1, 1), loc='upper left')\n",
    "\n",
    "# Customize the plot (similar to your image)\n",
    "ax.set_title('Topics over time', fontsize=14)\n",
    "ax.set_xlabel('')\n",
    "ax.set_ylabel('Frequency')\n",
    "\n",
    "# Rotate x-axis labels for better readability\n",
    "ax.set_xticklabels(pivoted_data.index.astype(str), rotation=0)\n",
    "\n",
    "# Add gridlines for better readability\n",
    "plt.grid(axis='y', linestyle='--', alpha=0.7)\n",
    "\n",
    "# Adjust layout to fit everything well\n",
    "plt.tight_layout()\n",
    "\n",
    "# Show the plot\n",
    "plt.show()"
   ]
  },
  {
   "cell_type": "code",
   "execution_count": 24,
   "metadata": {},
   "outputs": [
    {
     "data": {
      "image/png": "[encoded data removed]",
      "text/plain": [
       "<Figure size 1400x600 with 1 Axes>"
      ]
     },
     "metadata": {},
     "output_type": "display_data"
    }
   ],
   "source": [
    "specific_topics = [34,35,36,37,38,39]\n",
    "\n",
    "# Filter monthly_data to include only these specific topics\n",
    "filtered_monthly_data = monthly_data[monthly_data['Topic'].isin(specific_topics)]\n",
    "\n",
    "# Pivot the table to make it suitable for bar plotting (topics as columns)\n",
    "pivoted_data = filtered_monthly_data.pivot(index='Timestamp', columns='Topic', values='Frequency')\n",
    "\n",
    "# Plot as stacked bar chart\n",
    "ax = pivoted_data.plot(kind='bar', stacked=False, figsize=(14, 6), colormap='Paired')\n",
    "\n",
    "# Add legend outside the plot\n",
    "ax.legend(title='Global Topic Representation', labels=[topic_labels.get(topic, topic) for topic in pivoted_data.columns],  bbox_to_anchor=(1, 1), loc='upper left')\n",
    "\n",
    "# Customize the plot (similar to your image)\n",
    "ax.set_title('Topics over time', fontsize=14)\n",
    "ax.set_xlabel('')\n",
    "ax.set_ylabel('Frequency')\n",
    "\n",
    "# Rotate x-axis labels for better readability\n",
    "ax.set_xticklabels(pivoted_data.index.astype(str), rotation=0)\n",
    "\n",
    "# Add gridlines for better readability\n",
    "plt.grid(axis='y', linestyle='--', alpha=0.7)\n",
    "\n",
    "# Adjust layout to fit everything well\n",
    "plt.tight_layout()\n",
    "\n",
    "# Show the plot\n",
    "plt.show()"
   ]
  },
  {
   "cell_type": "code",
   "execution_count": 23,
   "metadata": {},
   "outputs": [
    {
     "data": {
      "image/png": "[encoded data removed]",
      "text/plain": [
       "<Figure size 1400x600 with 1 Axes>"
      ]
     },
     "metadata": {},
     "output_type": "display_data"
    }
   ],
   "source": [
    "specific_topics = [40,41,42,43,44,45]\n",
    "\n",
    "# Filter monthly_data to include only these specific topics\n",
    "filtered_monthly_data = monthly_data[monthly_data['Topic'].isin(specific_topics)]\n",
    "\n",
    "# Pivot the table to make it suitable for bar plotting (topics as columns)\n",
    "pivoted_data = filtered_monthly_data.pivot(index='Timestamp', columns='Topic', values='Frequency')\n",
    "\n",
    "# Plot as stacked bar chart\n",
    "ax = pivoted_data.plot(kind='bar', stacked=False, figsize=(14, 6), colormap='Paired')\n",
    "\n",
    "# Add legend outside the plot\n",
    "ax.legend(title='Global Topic Representation', labels=[topic_labels.get(topic, topic) for topic in pivoted_data.columns],  bbox_to_anchor=(1, 1), loc='upper left')\n",
    "\n",
    "# Customize the plot (similar to your image)\n",
    "ax.set_title('Topics over time', fontsize=14)\n",
    "ax.set_xlabel('')\n",
    "ax.set_ylabel('Frequency')\n",
    "\n",
    "# Rotate x-axis labels for better readability\n",
    "ax.set_xticklabels(pivoted_data.index.astype(str), rotation=0)\n",
    "\n",
    "# Add gridlines for better readability\n",
    "plt.grid(axis='y', linestyle='--', alpha=0.7)\n",
    "\n",
    "# Adjust layout to fit everything well\n",
    "plt.tight_layout()\n",
    "\n",
    "# Show the plot\n",
    "plt.show()"
   ]
  }
 ],
 "metadata": {
  "kernelspec": {
   "display_name": "myenv2",
   "language": "python",
   "name": "python3"
  },
  "language_info": {
   "codemirror_mode": {
    "name": "ipython",
    "version": 3
   },
   "file_extension": ".py",
   "mimetype": "text/x-python",
   "name": "python",
   "nbconvert_exporter": "python",
   "pygments_lexer": "ipython3",
   "version": "3.10.6"
  }
 },
 "nbformat": 4,
 "nbformat_minor": 2
}
