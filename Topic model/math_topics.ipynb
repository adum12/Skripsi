{
 "cells": [
  {
   "cell_type": "code",
   "execution_count": 1,
   "metadata": {},
   "outputs": [
    {
     "name": "stderr",
     "output_type": "stream",
     "text": [
      "x:\\Kuliah\\Semester 8\\Sandbox\\myenv2\\lib\\site-packages\\tqdm\\auto.py:21: TqdmWarning: IProgress not found. Please update jupyter and ipywidgets. See https://ipywidgets.readthedocs.io/en/stable/user_install.html\n",
      "  from .autonotebook import tqdm as notebook_tqdm\n"
     ]
    }
   ],
   "source": [
    "from sklearn.feature_extraction.text import CountVectorizer\n",
    "from gensim.models.coherencemodel import CoherenceModel\n",
    "from bertopic.vectorizers import ClassTfidfTransformer\n",
    "from sentence_transformers import SentenceTransformer\n",
    "from gensim.corpora.dictionary import Dictionary\n",
    "import matplotlib.pyplot as plt\n",
    "from bertopic import BERTopic\n",
    "from hdbscan import HDBSCAN\n",
    "from umap import UMAP\n",
    "import seaborn as sns\n",
    "import pandas as pd\n",
    "import numpy as np\n",
    "import pickle"
   ]
  },
  {
   "cell_type": "code",
   "execution_count": 2,
   "metadata": {},
   "outputs": [],
   "source": [
    "df = pd.read_csv(\"../../Data preprocessing/Preprocessed data V2/arxiv_math_preprocessed.csv\")\n",
    "abstracts = df[\"summary\"].to_list()\n",
    "dates = df[\"date\"].to_list()\n",
    "ids = df[\"id\"].to_list()"
   ]
  },
  {
   "cell_type": "code",
   "execution_count": 3,
   "metadata": {},
   "outputs": [],
   "source": [
    "embedding_model = SentenceTransformer(\"all-mpnet-base-v2\")\n",
    "embeddings = np.load(\"../../Topic extraction/abstract embeddings/all-mpnet-base-v2-embeddings V2/math_embeddingsV2.npy\")\n",
    "vectorizer_model = CountVectorizer(stop_words=\"english\", ngram_range=(1,2))\n",
    "ctfidf_model = ClassTfidfTransformer(reduce_frequent_words=True)"
   ]
  },
  {
   "cell_type": "code",
   "execution_count": 14,
   "metadata": {},
   "outputs": [],
   "source": [
    "umap_model = UMAP(n_neighbors=30, \n",
    "                  n_components=30,\n",
    "                  min_dist=0.1,\n",
    "                  metric='cosine',\n",
    "                  random_state=42)"
   ]
  },
  {
   "cell_type": "code",
   "execution_count": 15,
   "metadata": {},
   "outputs": [],
   "source": [
    "hdbscan_model = HDBSCAN(min_cluster_size=50,\n",
    "                        metric='euclidean',\n",
    "                        cluster_selection_method='eom',\n",
    "                        prediction_data=True)"
   ]
  },
  {
   "cell_type": "code",
   "execution_count": 16,
   "metadata": {},
   "outputs": [
    {
     "data": {
      "text/html": [
       "<div>\n",
       "<style scoped>\n",
       "    .dataframe tbody tr th:only-of-type {\n",
       "        vertical-align: middle;\n",
       "    }\n",
       "\n",
       "    .dataframe tbody tr th {\n",
       "        vertical-align: top;\n",
       "    }\n",
       "\n",
       "    .dataframe thead th {\n",
       "        text-align: right;\n",
       "    }\n",
       "</style>\n",
       "<table border=\"1\" class=\"dataframe\">\n",
       "  <thead>\n",
       "    <tr style=\"text-align: right;\">\n",
       "      <th></th>\n",
       "      <th>Topic</th>\n",
       "      <th>Count</th>\n",
       "      <th>Name</th>\n",
       "      <th>Representation</th>\n",
       "      <th>Representative_Docs</th>\n",
       "    </tr>\n",
       "  </thead>\n",
       "  <tbody>\n",
       "    <tr>\n",
       "      <th>0</th>\n",
       "      <td>-1</td>\n",
       "      <td>30663</td>\n",
       "      <td>-1_space_function_equation_problem</td>\n",
       "      <td>[space, function, equation, problem, method, r...</td>\n",
       "      <td>[['study', 'family', 'stochastic', 'control', ...</td>\n",
       "    </tr>\n",
       "    <tr>\n",
       "      <th>1</th>\n",
       "      <td>0</td>\n",
       "      <td>2485</td>\n",
       "      <td>0_category_algebra_code_control</td>\n",
       "      <td>[category, algebra, code, control, process, co...</td>\n",
       "      <td>[['work', 'investigates', 'formal', 'policy', ...</td>\n",
       "    </tr>\n",
       "    <tr>\n",
       "      <th>2</th>\n",
       "      <td>1</td>\n",
       "      <td>2160</td>\n",
       "      <td>1_graph_vertex_edge_number</td>\n",
       "      <td>[graph, vertex, edge, number, coloring, connec...</td>\n",
       "      <td>[['finite', 'set', 'mathcalh', 'h1ldotshp', 'g...</td>\n",
       "    </tr>\n",
       "    <tr>\n",
       "      <th>3</th>\n",
       "      <td>2</td>\n",
       "      <td>1414</td>\n",
       "      <td>2_manifold_curvature_metric_riemannian</td>\n",
       "      <td>[manifold, curvature, metric, riemannian, ricc...</td>\n",
       "      <td>[['define', 'mathbbq', 'valued', 'deformation'...</td>\n",
       "    </tr>\n",
       "    <tr>\n",
       "      <th>4</th>\n",
       "      <td>3</td>\n",
       "      <td>1411</td>\n",
       "      <td>3_solution_equation_boundary_omega</td>\n",
       "      <td>[solution, equation, boundary, omega, existenc...</td>\n",
       "      <td>[['final', 'part', 'series', 'paper', 'study',...</td>\n",
       "    </tr>\n",
       "    <tr>\n",
       "      <th>5</th>\n",
       "      <td>4</td>\n",
       "      <td>1390</td>\n",
       "      <td>4_channel_ri_communication_user</td>\n",
       "      <td>[channel, ri, communication, user, antenna, mi...</td>\n",
       "      <td>[['reconfigurable', 'intelligent', 'surface', ...</td>\n",
       "    </tr>\n",
       "    <tr>\n",
       "      <th>6</th>\n",
       "      <td>5</td>\n",
       "      <td>1110</td>\n",
       "      <td>5_estimator_sample_distribution_regression</td>\n",
       "      <td>[estimator, sample, distribution, regression, ...</td>\n",
       "      <td>[['propose', 'set', 'goodness', 'fit', 'test',...</td>\n",
       "    </tr>\n",
       "    <tr>\n",
       "      <th>7</th>\n",
       "      <td>6</td>\n",
       "      <td>1105</td>\n",
       "      <td>6_group_subgroup_finite group_finite</td>\n",
       "      <td>[group, subgroup, finite group, finite, abelia...</td>\n",
       "      <td>[['let', 'g', 'group', 'n', 'normal', 'subgrou...</td>\n",
       "    </tr>\n",
       "    <tr>\n",
       "      <th>8</th>\n",
       "      <td>7</td>\n",
       "      <td>961</td>\n",
       "      <td>7_optimization_algorithm_gradient_convergence</td>\n",
       "      <td>[optimization, algorithm, gradient, convergenc...</td>\n",
       "      <td>[['paper', 'aim', 'develop', 'newton', 'type',...</td>\n",
       "    </tr>\n",
       "    <tr>\n",
       "      <th>9</th>\n",
       "      <td>8</td>\n",
       "      <td>571</td>\n",
       "      <td>8_cohomology_sheaf_curve_variety</td>\n",
       "      <td>[cohomology, sheaf, curve, variety, projective...</td>\n",
       "      <td>[['let', 'x', 'variety', 'stratification', 'ma...</td>\n",
       "    </tr>\n",
       "    <tr>\n",
       "      <th>10</th>\n",
       "      <td>9</td>\n",
       "      <td>550</td>\n",
       "      <td>9_gauge_symmetry_spacetime_black hole</td>\n",
       "      <td>[gauge, symmetry, spacetime, black hole, theor...</td>\n",
       "      <td>[['paper', 'begin', 'summary', 'powerful', 'fo...</td>\n",
       "    </tr>\n",
       "    <tr>\n",
       "      <th>11</th>\n",
       "      <td>10</td>\n",
       "      <td>516</td>\n",
       "      <td>10_neural_training_neural network_learning</td>\n",
       "      <td>[neural, training, neural network, learning, n...</td>\n",
       "      <td>[['introduce', 'branched', 'latent', 'neural',...</td>\n",
       "    </tr>\n",
       "    <tr>\n",
       "      <th>12</th>\n",
       "      <td>11</td>\n",
       "      <td>493</td>\n",
       "      <td>11_stokes_navier_navier stokes_fluid</td>\n",
       "      <td>[stokes, navier, navier stokes, fluid, stokes ...</td>\n",
       "      <td>[['article', 'design', 'finite', 'volume', 'se...</td>\n",
       "    </tr>\n",
       "    <tr>\n",
       "      <th>13</th>\n",
       "      <td>12</td>\n",
       "      <td>420</td>\n",
       "      <td>12_vehicle_demand_energy_market</td>\n",
       "      <td>[vehicle, demand, energy, market, service, ele...</td>\n",
       "      <td>[['timely', 'transportation', 'good', 'custome...</td>\n",
       "    </tr>\n",
       "    <tr>\n",
       "      <th>14</th>\n",
       "      <td>13</td>\n",
       "      <td>340</td>\n",
       "      <td>13_prime_integer_positive integer_let</td>\n",
       "      <td>[prime, integer, positive integer, let, modulo...</td>\n",
       "      <td>[['positive', 'integer', 'tgeq', 'let', 'btn',...</td>\n",
       "    </tr>\n",
       "    <tr>\n",
       "      <th>15</th>\n",
       "      <td>14</td>\n",
       "      <td>218</td>\n",
       "      <td>14_ring_ideal_module_noetherian</td>\n",
       "      <td>[ring, ideal, module, noetherian, gorenstein, ...</td>\n",
       "      <td>[['let', 'r', 'commutative', 'noetherian', 'ri...</td>\n",
       "    </tr>\n",
       "    <tr>\n",
       "      <th>16</th>\n",
       "      <td>15</td>\n",
       "      <td>212</td>\n",
       "      <td>15_quantum_state_qubit_quantum state</td>\n",
       "      <td>[quantum, state, qubit, quantum state, qubits,...</td>\n",
       "      <td>[['reliable', 'quantum', 'technology', 'requir...</td>\n",
       "    </tr>\n",
       "    <tr>\n",
       "      <th>17</th>\n",
       "      <td>16</td>\n",
       "      <td>201</td>\n",
       "      <td>16_logic_semantics_modal_propositional</td>\n",
       "      <td>[logic, semantics, modal, propositional, modal...</td>\n",
       "      <td>[['hintikka', 'sandu', 'originally', 'proposed...</td>\n",
       "    </tr>\n",
       "    <tr>\n",
       "      <th>18</th>\n",
       "      <td>17</td>\n",
       "      <td>201</td>\n",
       "      <td>17_zeta_zeta function_riemann zeta_riemann</td>\n",
       "      <td>[zeta, zeta function, riemann zeta, riemann, s...</td>\n",
       "      <td>[['study', 'range', 'validity', 'density', 'hy...</td>\n",
       "    </tr>\n",
       "    <tr>\n",
       "      <th>19</th>\n",
       "      <td>18</td>\n",
       "      <td>188</td>\n",
       "      <td>18_conjecture_proof_survey_biframes</td>\n",
       "      <td>[conjecture, proof, survey, biframes, algebra,...</td>\n",
       "      <td>[['provide', 'outline', 'proof', 'donovan', 'w...</td>\n",
       "    </tr>\n",
       "    <tr>\n",
       "      <th>20</th>\n",
       "      <td>19</td>\n",
       "      <td>175</td>\n",
       "      <td>19_game_player_equilibrium_nash equilibrium</td>\n",
       "      <td>[game, player, equilibrium, nash equilibrium, ...</td>\n",
       "      <td>[['consider', 'following', 'two', 'person', 'm...</td>\n",
       "    </tr>\n",
       "    <tr>\n",
       "      <th>21</th>\n",
       "      <td>20</td>\n",
       "      <td>119</td>\n",
       "      <td>20_matrix_orthogonal_orthogonality_diagonal</td>\n",
       "      <td>[matrix, orthogonal, orthogonality, diagonal, ...</td>\n",
       "      <td>[['matrix', 'contains', 'another', 'matrix', '...</td>\n",
       "    </tr>\n",
       "    <tr>\n",
       "      <th>22</th>\n",
       "      <td>21</td>\n",
       "      <td>112</td>\n",
       "      <td>21_knot_link_surgery_mosaic</td>\n",
       "      <td>[knot, link, surgery, mosaic, crossing, diagra...</td>\n",
       "      <td>[['lomonaco', 'kauffman', 'introduced', 'knot'...</td>\n",
       "    </tr>\n",
       "    <tr>\n",
       "      <th>23</th>\n",
       "      <td>22</td>\n",
       "      <td>112</td>\n",
       "      <td>22_infection_disease_infected_epidemic</td>\n",
       "      <td>[infection, disease, infected, epidemic, vacci...</td>\n",
       "      <td>[['world', 'epidemic', 'mathematical', 'modeli...</td>\n",
       "    </tr>\n",
       "    <tr>\n",
       "      <th>24</th>\n",
       "      <td>23</td>\n",
       "      <td>96</td>\n",
       "      <td>23_portfolio_price_market_trading</td>\n",
       "      <td>[portfolio, price, market, trading, asset, sto...</td>\n",
       "      <td>[['classical', 'optimal', 'trading', 'problem'...</td>\n",
       "    </tr>\n",
       "    <tr>\n",
       "      <th>25</th>\n",
       "      <td>24</td>\n",
       "      <td>85</td>\n",
       "      <td>24_decoding_code_decoder_polar code</td>\n",
       "      <td>[decoding, code, decoder, polar code, polar, b...</td>\n",
       "      <td>[['establish', 'large', 'flexible', 'class', '...</td>\n",
       "    </tr>\n",
       "    <tr>\n",
       "      <th>26</th>\n",
       "      <td>25</td>\n",
       "      <td>85</td>\n",
       "      <td>25_polytopes_polytope_polyhedron_tetrahedron</td>\n",
       "      <td>[polytopes, polytope, polyhedron, tetrahedron,...</td>\n",
       "      <td>[['base', 'polytopes', 'polymatroids', 'also',...</td>\n",
       "    </tr>\n",
       "    <tr>\n",
       "      <th>27</th>\n",
       "      <td>26</td>\n",
       "      <td>66</td>\n",
       "      <td>26_cell_tumor_cancer_tumour</td>\n",
       "      <td>[cell, tumor, cancer, tumour, tissue, cell pop...</td>\n",
       "      <td>[['formulate', 'haptotaxis', 'model', 'cancer'...</td>\n",
       "    </tr>\n",
       "    <tr>\n",
       "      <th>28</th>\n",
       "      <td>27</td>\n",
       "      <td>65</td>\n",
       "      <td>27_robot_manipulator_safety_robotic</td>\n",
       "      <td>[robot, manipulator, safety, robotic, control,...</td>\n",
       "      <td>[['motion', 'planning', 'still', 'open', 'prob...</td>\n",
       "    </tr>\n",
       "    <tr>\n",
       "      <th>29</th>\n",
       "      <td>28</td>\n",
       "      <td>61</td>\n",
       "      <td>28_uav_uavs_aerial_drone</td>\n",
       "      <td>[uav, uavs, aerial, drone, aerial vehicle, unm...</td>\n",
       "      <td>[['unmanned', 'aerial', 'vehicle', 'uavs', 'ut...</td>\n",
       "    </tr>\n",
       "  </tbody>\n",
       "</table>\n",
       "</div>"
      ],
      "text/plain": [
       "    Topic  Count                                           Name  \\\n",
       "0      -1  30663             -1_space_function_equation_problem   \n",
       "1       0   2485                0_category_algebra_code_control   \n",
       "2       1   2160                     1_graph_vertex_edge_number   \n",
       "3       2   1414         2_manifold_curvature_metric_riemannian   \n",
       "4       3   1411             3_solution_equation_boundary_omega   \n",
       "5       4   1390                4_channel_ri_communication_user   \n",
       "6       5   1110     5_estimator_sample_distribution_regression   \n",
       "7       6   1105           6_group_subgroup_finite group_finite   \n",
       "8       7    961  7_optimization_algorithm_gradient_convergence   \n",
       "9       8    571               8_cohomology_sheaf_curve_variety   \n",
       "10      9    550          9_gauge_symmetry_spacetime_black hole   \n",
       "11     10    516     10_neural_training_neural network_learning   \n",
       "12     11    493           11_stokes_navier_navier stokes_fluid   \n",
       "13     12    420                12_vehicle_demand_energy_market   \n",
       "14     13    340          13_prime_integer_positive integer_let   \n",
       "15     14    218                14_ring_ideal_module_noetherian   \n",
       "16     15    212           15_quantum_state_qubit_quantum state   \n",
       "17     16    201         16_logic_semantics_modal_propositional   \n",
       "18     17    201     17_zeta_zeta function_riemann zeta_riemann   \n",
       "19     18    188            18_conjecture_proof_survey_biframes   \n",
       "20     19    175    19_game_player_equilibrium_nash equilibrium   \n",
       "21     20    119    20_matrix_orthogonal_orthogonality_diagonal   \n",
       "22     21    112                    21_knot_link_surgery_mosaic   \n",
       "23     22    112         22_infection_disease_infected_epidemic   \n",
       "24     23     96              23_portfolio_price_market_trading   \n",
       "25     24     85            24_decoding_code_decoder_polar code   \n",
       "26     25     85   25_polytopes_polytope_polyhedron_tetrahedron   \n",
       "27     26     66                    26_cell_tumor_cancer_tumour   \n",
       "28     27     65            27_robot_manipulator_safety_robotic   \n",
       "29     28     61                       28_uav_uavs_aerial_drone   \n",
       "\n",
       "                                       Representation  \\\n",
       "0   [space, function, equation, problem, method, r...   \n",
       "1   [category, algebra, code, control, process, co...   \n",
       "2   [graph, vertex, edge, number, coloring, connec...   \n",
       "3   [manifold, curvature, metric, riemannian, ricc...   \n",
       "4   [solution, equation, boundary, omega, existenc...   \n",
       "5   [channel, ri, communication, user, antenna, mi...   \n",
       "6   [estimator, sample, distribution, regression, ...   \n",
       "7   [group, subgroup, finite group, finite, abelia...   \n",
       "8   [optimization, algorithm, gradient, convergenc...   \n",
       "9   [cohomology, sheaf, curve, variety, projective...   \n",
       "10  [gauge, symmetry, spacetime, black hole, theor...   \n",
       "11  [neural, training, neural network, learning, n...   \n",
       "12  [stokes, navier, navier stokes, fluid, stokes ...   \n",
       "13  [vehicle, demand, energy, market, service, ele...   \n",
       "14  [prime, integer, positive integer, let, modulo...   \n",
       "15  [ring, ideal, module, noetherian, gorenstein, ...   \n",
       "16  [quantum, state, qubit, quantum state, qubits,...   \n",
       "17  [logic, semantics, modal, propositional, modal...   \n",
       "18  [zeta, zeta function, riemann zeta, riemann, s...   \n",
       "19  [conjecture, proof, survey, biframes, algebra,...   \n",
       "20  [game, player, equilibrium, nash equilibrium, ...   \n",
       "21  [matrix, orthogonal, orthogonality, diagonal, ...   \n",
       "22  [knot, link, surgery, mosaic, crossing, diagra...   \n",
       "23  [infection, disease, infected, epidemic, vacci...   \n",
       "24  [portfolio, price, market, trading, asset, sto...   \n",
       "25  [decoding, code, decoder, polar code, polar, b...   \n",
       "26  [polytopes, polytope, polyhedron, tetrahedron,...   \n",
       "27  [cell, tumor, cancer, tumour, tissue, cell pop...   \n",
       "28  [robot, manipulator, safety, robotic, control,...   \n",
       "29  [uav, uavs, aerial, drone, aerial vehicle, unm...   \n",
       "\n",
       "                                  Representative_Docs  \n",
       "0   [['study', 'family', 'stochastic', 'control', ...  \n",
       "1   [['work', 'investigates', 'formal', 'policy', ...  \n",
       "2   [['finite', 'set', 'mathcalh', 'h1ldotshp', 'g...  \n",
       "3   [['define', 'mathbbq', 'valued', 'deformation'...  \n",
       "4   [['final', 'part', 'series', 'paper', 'study',...  \n",
       "5   [['reconfigurable', 'intelligent', 'surface', ...  \n",
       "6   [['propose', 'set', 'goodness', 'fit', 'test',...  \n",
       "7   [['let', 'g', 'group', 'n', 'normal', 'subgrou...  \n",
       "8   [['paper', 'aim', 'develop', 'newton', 'type',...  \n",
       "9   [['let', 'x', 'variety', 'stratification', 'ma...  \n",
       "10  [['paper', 'begin', 'summary', 'powerful', 'fo...  \n",
       "11  [['introduce', 'branched', 'latent', 'neural',...  \n",
       "12  [['article', 'design', 'finite', 'volume', 'se...  \n",
       "13  [['timely', 'transportation', 'good', 'custome...  \n",
       "14  [['positive', 'integer', 'tgeq', 'let', 'btn',...  \n",
       "15  [['let', 'r', 'commutative', 'noetherian', 'ri...  \n",
       "16  [['reliable', 'quantum', 'technology', 'requir...  \n",
       "17  [['hintikka', 'sandu', 'originally', 'proposed...  \n",
       "18  [['study', 'range', 'validity', 'density', 'hy...  \n",
       "19  [['provide', 'outline', 'proof', 'donovan', 'w...  \n",
       "20  [['consider', 'following', 'two', 'person', 'm...  \n",
       "21  [['matrix', 'contains', 'another', 'matrix', '...  \n",
       "22  [['lomonaco', 'kauffman', 'introduced', 'knot'...  \n",
       "23  [['world', 'epidemic', 'mathematical', 'modeli...  \n",
       "24  [['classical', 'optimal', 'trading', 'problem'...  \n",
       "25  [['establish', 'large', 'flexible', 'class', '...  \n",
       "26  [['base', 'polytopes', 'polymatroids', 'also',...  \n",
       "27  [['formulate', 'haptotaxis', 'model', 'cancer'...  \n",
       "28  [['motion', 'planning', 'still', 'open', 'prob...  \n",
       "29  [['unmanned', 'aerial', 'vehicle', 'uavs', 'ut...  "
      ]
     },
     "execution_count": 16,
     "metadata": {},
     "output_type": "execute_result"
    }
   ],
   "source": [
    "topic_model = BERTopic(\n",
    "    \n",
    "  embedding_model=embedding_model,\n",
    "  umap_model=umap_model,\n",
    "  hdbscan_model=hdbscan_model,\n",
    "  vectorizer_model=vectorizer_model,\n",
    "  ctfidf_model=ctfidf_model,\n",
    "\n",
    "  n_gram_range=(1,2),\n",
    "  top_n_words=10,\n",
    "  nr_topics=\"auto\"\n",
    ")\n",
    "\n",
    "# Train model\n",
    "topics, probs = topic_model.fit_transform(abstracts, embeddings)\n",
    "\n",
    "# Show topics\n",
    "topic_model.get_topic_info()"
   ]
  },
  {
   "cell_type": "code",
   "execution_count": 17,
   "metadata": {},
   "outputs": [
    {
     "name": "stderr",
     "output_type": "stream",
     "text": [
      "2024-10-15 19:27:23,843 - BERTopic - WARNING: Using a custom list of topic assignments may lead to errors if topic reduction techniques are used afterwards. Make sure that manually assigning topics is the last step in the pipeline.Note that topic embeddings will also be created through weightedc-TF-IDF embeddings instead of centroid embeddings.\n"
     ]
    },
    {
     "data": {
      "text/html": [
       "<div>\n",
       "<style scoped>\n",
       "    .dataframe tbody tr th:only-of-type {\n",
       "        vertical-align: middle;\n",
       "    }\n",
       "\n",
       "    .dataframe tbody tr th {\n",
       "        vertical-align: top;\n",
       "    }\n",
       "\n",
       "    .dataframe thead th {\n",
       "        text-align: right;\n",
       "    }\n",
       "</style>\n",
       "<table border=\"1\" class=\"dataframe\">\n",
       "  <thead>\n",
       "    <tr style=\"text-align: right;\">\n",
       "      <th></th>\n",
       "      <th>Topic</th>\n",
       "      <th>Count</th>\n",
       "      <th>Name</th>\n",
       "      <th>Representation</th>\n",
       "      <th>Representative_Docs</th>\n",
       "    </tr>\n",
       "  </thead>\n",
       "  <tbody>\n",
       "    <tr>\n",
       "      <th>0</th>\n",
       "      <td>0</td>\n",
       "      <td>3906</td>\n",
       "      <td>0_algebra_category_system_process</td>\n",
       "      <td>[algebra, category, system, process, code, tim...</td>\n",
       "      <td>[['work', 'investigates', 'formal', 'policy', ...</td>\n",
       "    </tr>\n",
       "    <tr>\n",
       "      <th>1</th>\n",
       "      <td>1</td>\n",
       "      <td>3264</td>\n",
       "      <td>1_graph_vertex_edge_number</td>\n",
       "      <td>[graph, vertex, edge, number, set, tree, every...</td>\n",
       "      <td>[['finite', 'set', 'mathcalh', 'h1ldotshp', 'g...</td>\n",
       "    </tr>\n",
       "    <tr>\n",
       "      <th>2</th>\n",
       "      <td>2</td>\n",
       "      <td>3988</td>\n",
       "      <td>2_manifold_space_metric_curvature</td>\n",
       "      <td>[manifold, space, metric, curvature, surface, ...</td>\n",
       "      <td>[['define', 'mathbbq', 'valued', 'deformation'...</td>\n",
       "    </tr>\n",
       "    <tr>\n",
       "      <th>3</th>\n",
       "      <td>3</td>\n",
       "      <td>5572</td>\n",
       "      <td>3_equation_solution_problem_operator</td>\n",
       "      <td>[equation, solution, problem, operator, space,...</td>\n",
       "      <td>[['final', 'part', 'series', 'paper', 'study',...</td>\n",
       "    </tr>\n",
       "    <tr>\n",
       "      <th>4</th>\n",
       "      <td>4</td>\n",
       "      <td>1919</td>\n",
       "      <td>4_channel_communication_user_ri</td>\n",
       "      <td>[channel, communication, user, ri, performance...</td>\n",
       "      <td>[['reconfigurable', 'intelligent', 'surface', ...</td>\n",
       "    </tr>\n",
       "    <tr>\n",
       "      <th>5</th>\n",
       "      <td>5</td>\n",
       "      <td>2771</td>\n",
       "      <td>5_distribution_estimator_model_data</td>\n",
       "      <td>[distribution, estimator, model, data, sample,...</td>\n",
       "      <td>[['propose', 'set', 'goodness', 'fit', 'test',...</td>\n",
       "    </tr>\n",
       "    <tr>\n",
       "      <th>6</th>\n",
       "      <td>6</td>\n",
       "      <td>2962</td>\n",
       "      <td>6_group_subgroup_finite_algebra</td>\n",
       "      <td>[group, subgroup, finite, algebra, representat...</td>\n",
       "      <td>[['let', 'g', 'group', 'n', 'normal', 'subgrou...</td>\n",
       "    </tr>\n",
       "    <tr>\n",
       "      <th>7</th>\n",
       "      <td>7</td>\n",
       "      <td>3386</td>\n",
       "      <td>7_algorithm_problem_method_optimization</td>\n",
       "      <td>[algorithm, problem, method, optimization, con...</td>\n",
       "      <td>[['paper', 'aim', 'develop', 'newton', 'type',...</td>\n",
       "    </tr>\n",
       "    <tr>\n",
       "      <th>8</th>\n",
       "      <td>8</td>\n",
       "      <td>2827</td>\n",
       "      <td>8_variety_curve_cohomology_space</td>\n",
       "      <td>[variety, curve, cohomology, space, projective...</td>\n",
       "      <td>[['let', 'x', 'variety', 'stratification', 'ma...</td>\n",
       "    </tr>\n",
       "    <tr>\n",
       "      <th>9</th>\n",
       "      <td>9</td>\n",
       "      <td>1952</td>\n",
       "      <td>9_theory_field_symmetry_quantum</td>\n",
       "      <td>[theory, field, symmetry, quantum, model, equa...</td>\n",
       "      <td>[['paper', 'begin', 'summary', 'powerful', 'fo...</td>\n",
       "    </tr>\n",
       "    <tr>\n",
       "      <th>10</th>\n",
       "      <td>10</td>\n",
       "      <td>2029</td>\n",
       "      <td>10_neural_network_learning_neural network</td>\n",
       "      <td>[neural, network, learning, neural network, da...</td>\n",
       "      <td>[['introduce', 'branched', 'latent', 'neural',...</td>\n",
       "    </tr>\n",
       "    <tr>\n",
       "      <th>11</th>\n",
       "      <td>11</td>\n",
       "      <td>2541</td>\n",
       "      <td>11_equation_solution_method_flow</td>\n",
       "      <td>[equation, solution, method, flow, time, numer...</td>\n",
       "      <td>[['article', 'design', 'finite', 'volume', 'se...</td>\n",
       "    </tr>\n",
       "    <tr>\n",
       "      <th>12</th>\n",
       "      <td>12</td>\n",
       "      <td>809</td>\n",
       "      <td>12_model_problem_system_time</td>\n",
       "      <td>[model, problem, system, time, energy, cost, v...</td>\n",
       "      <td>[['timely', 'transportation', 'good', 'custome...</td>\n",
       "    </tr>\n",
       "    <tr>\n",
       "      <th>13</th>\n",
       "      <td>13</td>\n",
       "      <td>1414</td>\n",
       "      <td>13_integer_prime_number_let</td>\n",
       "      <td>[integer, prime, number, let, polynomial, fiel...</td>\n",
       "      <td>[['positive', 'integer', 'tgeq', 'let', 'btn',...</td>\n",
       "    </tr>\n",
       "    <tr>\n",
       "      <th>14</th>\n",
       "      <td>14</td>\n",
       "      <td>942</td>\n",
       "      <td>14_ring_ideal_module_algebra</td>\n",
       "      <td>[ring, ideal, module, algebra, graded, commuta...</td>\n",
       "      <td>[['let', 'r', 'commutative', 'noetherian', 'ri...</td>\n",
       "    </tr>\n",
       "    <tr>\n",
       "      <th>15</th>\n",
       "      <td>15</td>\n",
       "      <td>711</td>\n",
       "      <td>15_quantum_state_system_classical</td>\n",
       "      <td>[quantum, state, system, classical, entangleme...</td>\n",
       "      <td>[['reliable', 'quantum', 'technology', 'requir...</td>\n",
       "    </tr>\n",
       "    <tr>\n",
       "      <th>16</th>\n",
       "      <td>16</td>\n",
       "      <td>653</td>\n",
       "      <td>16_logic_theory_proof_set</td>\n",
       "      <td>[logic, theory, proof, set, axiom, model, card...</td>\n",
       "      <td>[['hintikka', 'sandu', 'originally', 'proposed...</td>\n",
       "    </tr>\n",
       "    <tr>\n",
       "      <th>17</th>\n",
       "      <td>17</td>\n",
       "      <td>1429</td>\n",
       "      <td>17_function_formula_zeta_series</td>\n",
       "      <td>[function, formula, zeta, series, polynomial, ...</td>\n",
       "      <td>[['study', 'range', 'validity', 'density', 'hy...</td>\n",
       "    </tr>\n",
       "    <tr>\n",
       "      <th>18</th>\n",
       "      <td>18</td>\n",
       "      <td>601</td>\n",
       "      <td>18_proof_conjecture_algebra_paper</td>\n",
       "      <td>[proof, conjecture, algebra, paper, theorem, g...</td>\n",
       "      <td>[['provide', 'outline', 'proof', 'donovan', 'w...</td>\n",
       "    </tr>\n",
       "    <tr>\n",
       "      <th>19</th>\n",
       "      <td>19</td>\n",
       "      <td>450</td>\n",
       "      <td>19_game_player_equilibrium_strategy</td>\n",
       "      <td>[game, player, equilibrium, strategy, nash, me...</td>\n",
       "      <td>[['consider', 'following', 'two', 'person', 'm...</td>\n",
       "    </tr>\n",
       "    <tr>\n",
       "      <th>20</th>\n",
       "      <td>20</td>\n",
       "      <td>1025</td>\n",
       "      <td>20_matrix_polynomial_operator_eigenvalue</td>\n",
       "      <td>[matrix, polynomial, operator, eigenvalue, ort...</td>\n",
       "      <td>[['matrix', 'contains', 'another', 'matrix', '...</td>\n",
       "    </tr>\n",
       "    <tr>\n",
       "      <th>21</th>\n",
       "      <td>21</td>\n",
       "      <td>454</td>\n",
       "      <td>21_knot_link_homology_invariant</td>\n",
       "      <td>[knot, link, homology, invariant, diagram, flo...</td>\n",
       "      <td>[['lomonaco', 'kauffman', 'introduced', 'knot'...</td>\n",
       "    </tr>\n",
       "    <tr>\n",
       "      <th>22</th>\n",
       "      <td>22</td>\n",
       "      <td>279</td>\n",
       "      <td>22_model_disease_infection_population</td>\n",
       "      <td>[model, disease, infection, population, epidem...</td>\n",
       "      <td>[['world', 'epidemic', 'mathematical', 'modeli...</td>\n",
       "    </tr>\n",
       "    <tr>\n",
       "      <th>23</th>\n",
       "      <td>23</td>\n",
       "      <td>369</td>\n",
       "      <td>23_optimal_problem_risk_process</td>\n",
       "      <td>[optimal, problem, risk, process, price, marke...</td>\n",
       "      <td>[['classical', 'optimal', 'trading', 'problem'...</td>\n",
       "    </tr>\n",
       "    <tr>\n",
       "      <th>24</th>\n",
       "      <td>24</td>\n",
       "      <td>357</td>\n",
       "      <td>24_code_decoding_channel_error</td>\n",
       "      <td>[code, decoding, channel, error, decoder, codi...</td>\n",
       "      <td>[['establish', 'large', 'flexible', 'class', '...</td>\n",
       "    </tr>\n",
       "    <tr>\n",
       "      <th>25</th>\n",
       "      <td>25</td>\n",
       "      <td>411</td>\n",
       "      <td>25_polytopes_polytope_lattice_convex</td>\n",
       "      <td>[polytopes, polytope, lattice, convex, polyhed...</td>\n",
       "      <td>[['base', 'polytopes', 'polymatroids', 'also',...</td>\n",
       "    </tr>\n",
       "    <tr>\n",
       "      <th>26</th>\n",
       "      <td>26</td>\n",
       "      <td>208</td>\n",
       "      <td>26_cell_model_tumor_cancer</td>\n",
       "      <td>[cell, model, tumor, cancer, reaction, dynamic...</td>\n",
       "      <td>[['formulate', 'haptotaxis', 'model', 'cancer'...</td>\n",
       "    </tr>\n",
       "    <tr>\n",
       "      <th>27</th>\n",
       "      <td>27</td>\n",
       "      <td>268</td>\n",
       "      <td>27_control_robot_system_agent</td>\n",
       "      <td>[control, robot, system, agent, trajectory, dy...</td>\n",
       "      <td>[['motion', 'planning', 'still', 'open', 'prob...</td>\n",
       "    </tr>\n",
       "    <tr>\n",
       "      <th>28</th>\n",
       "      <td>28</td>\n",
       "      <td>88</td>\n",
       "      <td>28_uav_uavs_aerial_network</td>\n",
       "      <td>[uav, uavs, aerial, network, vehicle, aerial v...</td>\n",
       "      <td>[['unmanned', 'aerial', 'vehicle', 'uavs', 'ut...</td>\n",
       "    </tr>\n",
       "  </tbody>\n",
       "</table>\n",
       "</div>"
      ],
      "text/plain": [
       "    Topic  Count                                       Name  \\\n",
       "0       0   3906          0_algebra_category_system_process   \n",
       "1       1   3264                 1_graph_vertex_edge_number   \n",
       "2       2   3988          2_manifold_space_metric_curvature   \n",
       "3       3   5572       3_equation_solution_problem_operator   \n",
       "4       4   1919            4_channel_communication_user_ri   \n",
       "5       5   2771        5_distribution_estimator_model_data   \n",
       "6       6   2962            6_group_subgroup_finite_algebra   \n",
       "7       7   3386    7_algorithm_problem_method_optimization   \n",
       "8       8   2827           8_variety_curve_cohomology_space   \n",
       "9       9   1952            9_theory_field_symmetry_quantum   \n",
       "10     10   2029  10_neural_network_learning_neural network   \n",
       "11     11   2541           11_equation_solution_method_flow   \n",
       "12     12    809               12_model_problem_system_time   \n",
       "13     13   1414                13_integer_prime_number_let   \n",
       "14     14    942               14_ring_ideal_module_algebra   \n",
       "15     15    711          15_quantum_state_system_classical   \n",
       "16     16    653                  16_logic_theory_proof_set   \n",
       "17     17   1429            17_function_formula_zeta_series   \n",
       "18     18    601          18_proof_conjecture_algebra_paper   \n",
       "19     19    450        19_game_player_equilibrium_strategy   \n",
       "20     20   1025   20_matrix_polynomial_operator_eigenvalue   \n",
       "21     21    454            21_knot_link_homology_invariant   \n",
       "22     22    279      22_model_disease_infection_population   \n",
       "23     23    369            23_optimal_problem_risk_process   \n",
       "24     24    357             24_code_decoding_channel_error   \n",
       "25     25    411       25_polytopes_polytope_lattice_convex   \n",
       "26     26    208                 26_cell_model_tumor_cancer   \n",
       "27     27    268              27_control_robot_system_agent   \n",
       "28     28     88                 28_uav_uavs_aerial_network   \n",
       "\n",
       "                                       Representation  \\\n",
       "0   [algebra, category, system, process, code, tim...   \n",
       "1   [graph, vertex, edge, number, set, tree, every...   \n",
       "2   [manifold, space, metric, curvature, surface, ...   \n",
       "3   [equation, solution, problem, operator, space,...   \n",
       "4   [channel, communication, user, ri, performance...   \n",
       "5   [distribution, estimator, model, data, sample,...   \n",
       "6   [group, subgroup, finite, algebra, representat...   \n",
       "7   [algorithm, problem, method, optimization, con...   \n",
       "8   [variety, curve, cohomology, space, projective...   \n",
       "9   [theory, field, symmetry, quantum, model, equa...   \n",
       "10  [neural, network, learning, neural network, da...   \n",
       "11  [equation, solution, method, flow, time, numer...   \n",
       "12  [model, problem, system, time, energy, cost, v...   \n",
       "13  [integer, prime, number, let, polynomial, fiel...   \n",
       "14  [ring, ideal, module, algebra, graded, commuta...   \n",
       "15  [quantum, state, system, classical, entangleme...   \n",
       "16  [logic, theory, proof, set, axiom, model, card...   \n",
       "17  [function, formula, zeta, series, polynomial, ...   \n",
       "18  [proof, conjecture, algebra, paper, theorem, g...   \n",
       "19  [game, player, equilibrium, strategy, nash, me...   \n",
       "20  [matrix, polynomial, operator, eigenvalue, ort...   \n",
       "21  [knot, link, homology, invariant, diagram, flo...   \n",
       "22  [model, disease, infection, population, epidem...   \n",
       "23  [optimal, problem, risk, process, price, marke...   \n",
       "24  [code, decoding, channel, error, decoder, codi...   \n",
       "25  [polytopes, polytope, lattice, convex, polyhed...   \n",
       "26  [cell, model, tumor, cancer, reaction, dynamic...   \n",
       "27  [control, robot, system, agent, trajectory, dy...   \n",
       "28  [uav, uavs, aerial, network, vehicle, aerial v...   \n",
       "\n",
       "                                  Representative_Docs  \n",
       "0   [['work', 'investigates', 'formal', 'policy', ...  \n",
       "1   [['finite', 'set', 'mathcalh', 'h1ldotshp', 'g...  \n",
       "2   [['define', 'mathbbq', 'valued', 'deformation'...  \n",
       "3   [['final', 'part', 'series', 'paper', 'study',...  \n",
       "4   [['reconfigurable', 'intelligent', 'surface', ...  \n",
       "5   [['propose', 'set', 'goodness', 'fit', 'test',...  \n",
       "6   [['let', 'g', 'group', 'n', 'normal', 'subgrou...  \n",
       "7   [['paper', 'aim', 'develop', 'newton', 'type',...  \n",
       "8   [['let', 'x', 'variety', 'stratification', 'ma...  \n",
       "9   [['paper', 'begin', 'summary', 'powerful', 'fo...  \n",
       "10  [['introduce', 'branched', 'latent', 'neural',...  \n",
       "11  [['article', 'design', 'finite', 'volume', 'se...  \n",
       "12  [['timely', 'transportation', 'good', 'custome...  \n",
       "13  [['positive', 'integer', 'tgeq', 'let', 'btn',...  \n",
       "14  [['let', 'r', 'commutative', 'noetherian', 'ri...  \n",
       "15  [['reliable', 'quantum', 'technology', 'requir...  \n",
       "16  [['hintikka', 'sandu', 'originally', 'proposed...  \n",
       "17  [['study', 'range', 'validity', 'density', 'hy...  \n",
       "18  [['provide', 'outline', 'proof', 'donovan', 'w...  \n",
       "19  [['consider', 'following', 'two', 'person', 'm...  \n",
       "20  [['matrix', 'contains', 'another', 'matrix', '...  \n",
       "21  [['lomonaco', 'kauffman', 'introduced', 'knot'...  \n",
       "22  [['world', 'epidemic', 'mathematical', 'modeli...  \n",
       "23  [['classical', 'optimal', 'trading', 'problem'...  \n",
       "24  [['establish', 'large', 'flexible', 'class', '...  \n",
       "25  [['base', 'polytopes', 'polymatroids', 'also',...  \n",
       "26  [['formulate', 'haptotaxis', 'model', 'cancer'...  \n",
       "27  [['motion', 'planning', 'still', 'open', 'prob...  \n",
       "28  [['unmanned', 'aerial', 'vehicle', 'uavs', 'ut...  "
      ]
     },
     "execution_count": 17,
     "metadata": {},
     "output_type": "execute_result"
    }
   ],
   "source": [
    "new_topics = topic_model.reduce_outliers(abstracts, topics, strategy=\"c-tf-idf\")\n",
    "topic_model.update_topics(abstracts, topics=new_topics)\n",
    "topic_model.get_topic_info()"
   ]
  },
  {
   "cell_type": "code",
   "execution_count": 8,
   "metadata": {},
   "outputs": [],
   "source": [
    "def calculate_coherence_score(model, abstracts, topics):\n",
    "    documents = pd.DataFrame({\"Abstracts\": abstracts, \"ID\": range(len(abstracts)), \"Topic\": topics})\n",
    "    documents_per_topic = documents.groupby(['Topic'], as_index=False).agg({'Abstracts': ' '.join})\n",
    "\n",
    "    analyzer = model.vectorizer_model.build_analyzer()\n",
    "    tokens = [analyzer(doc) for doc in documents_per_topic.Abstracts]\n",
    "\n",
    "    dictionary = Dictionary(tokens)\n",
    "    corpus = [dictionary.doc2bow(token) for token in tokens]\n",
    "\n",
    "    topic_words = [[word for word, _ in model.get_topic(topic)] for topic in range(len(set(topics))-1)]\n",
    "\n",
    "    coherence_model = CoherenceModel(topics=topic_words, texts=tokens, corpus=corpus, dictionary=dictionary, coherence='c_v')\n",
    "    coherence = coherence_model.get_coherence()\n",
    "    \n",
    "    return coherence"
   ]
  },
  {
   "cell_type": "code",
   "execution_count": 18,
   "metadata": {},
   "outputs": [
    {
     "name": "stdout",
     "output_type": "stream",
     "text": [
      "0.7737648979914973\n"
     ]
    }
   ],
   "source": [
    "coherence = calculate_coherence_score(topic_model, abstracts, new_topics)\n",
    "print(coherence)"
   ]
  },
  {
   "cell_type": "code",
   "execution_count": null,
   "metadata": {},
   "outputs": [
    {
     "name": "stderr",
     "output_type": "stream",
     "text": [
      "x:\\Kuliah\\Semester 8\\Sandbox\\myenv2\\lib\\site-packages\\tqdm\\auto.py:21: TqdmWarning: IProgress not found. Please update jupyter and ipywidgets. See https://ipywidgets.readthedocs.io/en/stable/user_install.html\n",
      "  from .autonotebook import tqdm as notebook_tqdm\n"
     ]
    }
   ],
   "source": [
    "with open('math_topics_over_time.pkl', 'rb') as f:\n",
    "    topics_over_time = pickle.load(f)\n",
    "\n",
    "topics_over_time_df = pd.DataFrame(topics_over_time, columns=[\"Topic\", \"Timestamp\", \"Frequency\"])\n",
    "\n",
    "# Convert the 'Timestamp' column to a datetime object for easier grouping\n",
    "topics_over_time_df['Timestamp'] = pd.to_datetime(topics_over_time_df['Timestamp'])\n",
    "\n",
    "# Group by month and topic, summing only the 'Frequency' column\n",
    "monthly_data = topics_over_time_df.groupby([topics_over_time_df['Timestamp'].dt.to_period('M'), 'Topic'])['Frequency'].sum().reset_index()"
   ]
  },
  {
   "cell_type": "code",
   "execution_count": 3,
   "metadata": {},
   "outputs": [
    {
     "data": {
      "application/vnd.plotly.v1+json": {
       "config": {
        "plotlyServerURL": "https://plot.ly"
       },
       "data": [
        {
         "customdata": [
          [
           0,
           "algebra | category | system | process | code",
           3906
          ],
          [
           1,
           "graph | vertex | edge | number | set",
           3264
          ],
          [
           2,
           "manifold | space | metric | curvature | surface",
           3988
          ],
          [
           3,
           "equation | solution | problem | operator | space",
           5572
          ],
          [
           4,
           "channel | communication | user | ri | performance",
           1919
          ],
          [
           5,
           "distribution | estimator | model | data | sample",
           2771
          ],
          [
           6,
           "group | subgroup | finite | algebra | representation",
           2962
          ],
          [
           7,
           "algorithm | problem | method | optimization | convergence",
           3386
          ],
          [
           8,
           "variety | curve | cohomology | space | projective",
           2827
          ],
          [
           9,
           "theory | field | symmetry | quantum | model",
           1952
          ],
          [
           10,
           "neural | network | learning | neural network | data",
           2029
          ],
          [
           11,
           "equation | solution | method | flow | time",
           2541
          ],
          [
           12,
           "model | problem | system | time | energy",
           809
          ],
          [
           13,
           "integer | prime | number | let | polynomial",
           1414
          ],
          [
           14,
           "ring | ideal | module | algebra | graded",
           942
          ],
          [
           15,
           "quantum | state | system | classical | entanglement",
           711
          ],
          [
           16,
           "logic | theory | proof | set | axiom",
           653
          ],
          [
           17,
           "function | formula | zeta | series | polynomial",
           1429
          ],
          [
           18,
           "proof | conjecture | algebra | paper | theorem",
           601
          ],
          [
           19,
           "game | player | equilibrium | strategy | nash",
           450
          ],
          [
           20,
           "matrix | polynomial | operator | eigenvalue | orthogonal",
           1025
          ],
          [
           21,
           "knot | link | homology | invariant | diagram",
           454
          ],
          [
           22,
           "model | disease | infection | population | epidemic",
           279
          ],
          [
           23,
           "optimal | problem | risk | process | price",
           369
          ],
          [
           24,
           "code | decoding | channel | error | decoder",
           357
          ],
          [
           25,
           "polytopes | polytope | lattice | convex | polyhedron",
           411
          ],
          [
           26,
           "cell | model | tumor | cancer | reaction",
           208
          ],
          [
           27,
           "control | robot | system | agent | trajectory",
           268
          ],
          [
           28,
           "uav | uavs | aerial | network | vehicle",
           88
          ]
         ],
         "hovertemplate": "<b>Topic %{customdata[0]}</b><br>%{customdata[1]}<br>Size: %{customdata[2]}",
         "legendgroup": "",
         "marker": {
          "color": "#B0BEC5",
          "line": {
           "color": "DarkSlateGrey",
           "width": 2
          },
          "size": [
           3906,
           3264,
           3988,
           5572,
           1919,
           2771,
           2962,
           3386,
           2827,
           1952,
           2029,
           2541,
           809,
           1414,
           942,
           711,
           653,
           1429,
           601,
           450,
           1025,
           454,
           279,
           369,
           357,
           411,
           208,
           268,
           88
          ],
          "sizemode": "area",
          "sizeref": 3.4825,
          "symbol": "circle"
         },
         "mode": "markers",
         "name": "",
         "orientation": "v",
         "showlegend": false,
         "type": "scatter",
         "x": [
          12.165736198425293,
          11.632146835327148,
          15.378669738769531,
          13.653264045715332,
          6.13808536529541,
          5.585943222045898,
          11.967222213745117,
          13.579680442810059,
          15.431220054626465,
          14.832337379455566,
          5.716150760650635,
          13.337843894958496,
          6.08123779296875,
          -1.3232053518295288,
          12.264159202575684,
          14.966897964477539,
          1.9139941930770874,
          -1.2305861711502075,
          1.8443958759307861,
          5.507550239562988,
          15.311619758605957,
          15.861597061157227,
          12.855562210083008,
          5.76647424697876,
          12.059967994689941,
          11.443811416625977,
          12.693778038024902,
          11.38380241394043,
          11.200431823730469
         ],
         "xaxis": "x",
         "y": [
          -2.3442866802215576,
          -1.5885965824127197,
          1.0769356489181519,
          -3.9633195400238037,
          0.936526358127594,
          1.8637892007827759,
          -3.418606996536255,
          -4.318627834320068,
          0.9180921912193298,
          0.6133003830909729,
          2.111361026763916,
          -3.576056718826294,
          0.896793007850647,
          5.87039041519165,
          -2.8380632400512695,
          0.34544089436531067,
          -9.051017761230469,
          5.777708053588867,
          -9.12059497833252,
          1.3760746717453003,
          0.20263151824474335,
          0.8076741099357605,
          -2.3568313121795654,
          1.3548325300216675,
          -2.462766647338867,
          -1.294202446937561,
          -2.263190984725952,
          -2.932346820831299,
          -3.1965134143829346
         ],
         "yaxis": "y"
        }
       ],
       "layout": {
        "annotations": [
         {
          "showarrow": false,
          "text": "D1",
          "x": -1.5216861546039582,
          "y": -1.868867623806,
          "yshift": 10
         },
         {
          "showarrow": false,
          "text": "D2",
          "x": 8.359575232863426,
          "xshift": 10,
          "y": 6.750948977470398
         }
        ],
        "height": 650,
        "hoverlabel": {
         "bgcolor": "white",
         "font": {
          "family": "Rockwell",
          "size": 16
         }
        },
        "legend": {
         "itemsizing": "constant",
         "tracegroupgap": 0
        },
        "margin": {
         "t": 60
        },
        "shapes": [
         {
          "line": {
           "color": "#CFD8DC",
           "width": 2
          },
          "type": "line",
          "x0": 8.359575232863426,
          "x1": 8.359575232863426,
          "y0": -10.488684225082398,
          "y1": 6.750948977470398
         },
         {
          "line": {
           "color": "#9E9E9E",
           "width": 2
          },
          "type": "line",
          "x0": -1.5216861546039582,
          "x1": 18.24083662033081,
          "y0": -1.868867623806,
          "y1": -1.868867623806
         }
        ],
        "sliders": [
         {
          "active": 0,
          "pad": {
           "t": 50
          },
          "steps": [
           {
            "args": [
             {
              "marker.color": [
               [
                "red",
                "#B0BEC5",
                "#B0BEC5",
                "#B0BEC5",
                "#B0BEC5",
                "#B0BEC5",
                "#B0BEC5",
                "#B0BEC5",
                "#B0BEC5",
                "#B0BEC5",
                "#B0BEC5",
                "#B0BEC5",
                "#B0BEC5",
                "#B0BEC5",
                "#B0BEC5",
                "#B0BEC5",
                "#B0BEC5",
                "#B0BEC5",
                "#B0BEC5",
                "#B0BEC5",
                "#B0BEC5",
                "#B0BEC5",
                "#B0BEC5",
                "#B0BEC5",
                "#B0BEC5",
                "#B0BEC5",
                "#B0BEC5",
                "#B0BEC5",
                "#B0BEC5"
               ]
              ]
             }
            ],
            "label": "Topic 0",
            "method": "update"
           },
           {
            "args": [
             {
              "marker.color": [
               [
                "#B0BEC5",
                "red",
                "#B0BEC5",
                "#B0BEC5",
                "#B0BEC5",
                "#B0BEC5",
                "#B0BEC5",
                "#B0BEC5",
                "#B0BEC5",
                "#B0BEC5",
                "#B0BEC5",
                "#B0BEC5",
                "#B0BEC5",
                "#B0BEC5",
                "#B0BEC5",
                "#B0BEC5",
                "#B0BEC5",
                "#B0BEC5",
                "#B0BEC5",
                "#B0BEC5",
                "#B0BEC5",
                "#B0BEC5",
                "#B0BEC5",
                "#B0BEC5",
                "#B0BEC5",
                "#B0BEC5",
                "#B0BEC5",
                "#B0BEC5",
                "#B0BEC5"
               ]
              ]
             }
            ],
            "label": "Topic 1",
            "method": "update"
           },
           {
            "args": [
             {
              "marker.color": [
               [
                "#B0BEC5",
                "#B0BEC5",
                "red",
                "#B0BEC5",
                "#B0BEC5",
                "#B0BEC5",
                "#B0BEC5",
                "#B0BEC5",
                "#B0BEC5",
                "#B0BEC5",
                "#B0BEC5",
                "#B0BEC5",
                "#B0BEC5",
                "#B0BEC5",
                "#B0BEC5",
                "#B0BEC5",
                "#B0BEC5",
                "#B0BEC5",
                "#B0BEC5",
                "#B0BEC5",
                "#B0BEC5",
                "#B0BEC5",
                "#B0BEC5",
                "#B0BEC5",
                "#B0BEC5",
                "#B0BEC5",
                "#B0BEC5",
                "#B0BEC5",
                "#B0BEC5"
               ]
              ]
             }
            ],
            "label": "Topic 2",
            "method": "update"
           },
           {
            "args": [
             {
              "marker.color": [
               [
                "#B0BEC5",
                "#B0BEC5",
                "#B0BEC5",
                "red",
                "#B0BEC5",
                "#B0BEC5",
                "#B0BEC5",
                "#B0BEC5",
                "#B0BEC5",
                "#B0BEC5",
                "#B0BEC5",
                "#B0BEC5",
                "#B0BEC5",
                "#B0BEC5",
                "#B0BEC5",
                "#B0BEC5",
                "#B0BEC5",
                "#B0BEC5",
                "#B0BEC5",
                "#B0BEC5",
                "#B0BEC5",
                "#B0BEC5",
                "#B0BEC5",
                "#B0BEC5",
                "#B0BEC5",
                "#B0BEC5",
                "#B0BEC5",
                "#B0BEC5",
                "#B0BEC5"
               ]
              ]
             }
            ],
            "label": "Topic 3",
            "method": "update"
           },
           {
            "args": [
             {
              "marker.color": [
               [
                "#B0BEC5",
                "#B0BEC5",
                "#B0BEC5",
                "#B0BEC5",
                "red",
                "#B0BEC5",
                "#B0BEC5",
                "#B0BEC5",
                "#B0BEC5",
                "#B0BEC5",
                "#B0BEC5",
                "#B0BEC5",
                "#B0BEC5",
                "#B0BEC5",
                "#B0BEC5",
                "#B0BEC5",
                "#B0BEC5",
                "#B0BEC5",
                "#B0BEC5",
                "#B0BEC5",
                "#B0BEC5",
                "#B0BEC5",
                "#B0BEC5",
                "#B0BEC5",
                "#B0BEC5",
                "#B0BEC5",
                "#B0BEC5",
                "#B0BEC5",
                "#B0BEC5"
               ]
              ]
             }
            ],
            "label": "Topic 4",
            "method": "update"
           },
           {
            "args": [
             {
              "marker.color": [
               [
                "#B0BEC5",
                "#B0BEC5",
                "#B0BEC5",
                "#B0BEC5",
                "#B0BEC5",
                "red",
                "#B0BEC5",
                "#B0BEC5",
                "#B0BEC5",
                "#B0BEC5",
                "#B0BEC5",
                "#B0BEC5",
                "#B0BEC5",
                "#B0BEC5",
                "#B0BEC5",
                "#B0BEC5",
                "#B0BEC5",
                "#B0BEC5",
                "#B0BEC5",
                "#B0BEC5",
                "#B0BEC5",
                "#B0BEC5",
                "#B0BEC5",
                "#B0BEC5",
                "#B0BEC5",
                "#B0BEC5",
                "#B0BEC5",
                "#B0BEC5",
                "#B0BEC5"
               ]
              ]
             }
            ],
            "label": "Topic 5",
            "method": "update"
           },
           {
            "args": [
             {
              "marker.color": [
               [
                "#B0BEC5",
                "#B0BEC5",
                "#B0BEC5",
                "#B0BEC5",
                "#B0BEC5",
                "#B0BEC5",
                "red",
                "#B0BEC5",
                "#B0BEC5",
                "#B0BEC5",
                "#B0BEC5",
                "#B0BEC5",
                "#B0BEC5",
                "#B0BEC5",
                "#B0BEC5",
                "#B0BEC5",
                "#B0BEC5",
                "#B0BEC5",
                "#B0BEC5",
                "#B0BEC5",
                "#B0BEC5",
                "#B0BEC5",
                "#B0BEC5",
                "#B0BEC5",
                "#B0BEC5",
                "#B0BEC5",
                "#B0BEC5",
                "#B0BEC5",
                "#B0BEC5"
               ]
              ]
             }
            ],
            "label": "Topic 6",
            "method": "update"
           },
           {
            "args": [
             {
              "marker.color": [
               [
                "#B0BEC5",
                "#B0BEC5",
                "#B0BEC5",
                "#B0BEC5",
                "#B0BEC5",
                "#B0BEC5",
                "#B0BEC5",
                "red",
                "#B0BEC5",
                "#B0BEC5",
                "#B0BEC5",
                "#B0BEC5",
                "#B0BEC5",
                "#B0BEC5",
                "#B0BEC5",
                "#B0BEC5",
                "#B0BEC5",
                "#B0BEC5",
                "#B0BEC5",
                "#B0BEC5",
                "#B0BEC5",
                "#B0BEC5",
                "#B0BEC5",
                "#B0BEC5",
                "#B0BEC5",
                "#B0BEC5",
                "#B0BEC5",
                "#B0BEC5",
                "#B0BEC5"
               ]
              ]
             }
            ],
            "label": "Topic 7",
            "method": "update"
           },
           {
            "args": [
             {
              "marker.color": [
               [
                "#B0BEC5",
                "#B0BEC5",
                "#B0BEC5",
                "#B0BEC5",
                "#B0BEC5",
                "#B0BEC5",
                "#B0BEC5",
                "#B0BEC5",
                "red",
                "#B0BEC5",
                "#B0BEC5",
                "#B0BEC5",
                "#B0BEC5",
                "#B0BEC5",
                "#B0BEC5",
                "#B0BEC5",
                "#B0BEC5",
                "#B0BEC5",
                "#B0BEC5",
                "#B0BEC5",
                "#B0BEC5",
                "#B0BEC5",
                "#B0BEC5",
                "#B0BEC5",
                "#B0BEC5",
                "#B0BEC5",
                "#B0BEC5",
                "#B0BEC5",
                "#B0BEC5"
               ]
              ]
             }
            ],
            "label": "Topic 8",
            "method": "update"
           },
           {
            "args": [
             {
              "marker.color": [
               [
                "#B0BEC5",
                "#B0BEC5",
                "#B0BEC5",
                "#B0BEC5",
                "#B0BEC5",
                "#B0BEC5",
                "#B0BEC5",
                "#B0BEC5",
                "#B0BEC5",
                "red",
                "#B0BEC5",
                "#B0BEC5",
                "#B0BEC5",
                "#B0BEC5",
                "#B0BEC5",
                "#B0BEC5",
                "#B0BEC5",
                "#B0BEC5",
                "#B0BEC5",
                "#B0BEC5",
                "#B0BEC5",
                "#B0BEC5",
                "#B0BEC5",
                "#B0BEC5",
                "#B0BEC5",
                "#B0BEC5",
                "#B0BEC5",
                "#B0BEC5",
                "#B0BEC5"
               ]
              ]
             }
            ],
            "label": "Topic 9",
            "method": "update"
           },
           {
            "args": [
             {
              "marker.color": [
               [
                "#B0BEC5",
                "#B0BEC5",
                "#B0BEC5",
                "#B0BEC5",
                "#B0BEC5",
                "#B0BEC5",
                "#B0BEC5",
                "#B0BEC5",
                "#B0BEC5",
                "#B0BEC5",
                "red",
                "#B0BEC5",
                "#B0BEC5",
                "#B0BEC5",
                "#B0BEC5",
                "#B0BEC5",
                "#B0BEC5",
                "#B0BEC5",
                "#B0BEC5",
                "#B0BEC5",
                "#B0BEC5",
                "#B0BEC5",
                "#B0BEC5",
                "#B0BEC5",
                "#B0BEC5",
                "#B0BEC5",
                "#B0BEC5",
                "#B0BEC5",
                "#B0BEC5"
               ]
              ]
             }
            ],
            "label": "Topic 10",
            "method": "update"
           },
           {
            "args": [
             {
              "marker.color": [
               [
                "#B0BEC5",
                "#B0BEC5",
                "#B0BEC5",
                "#B0BEC5",
                "#B0BEC5",
                "#B0BEC5",
                "#B0BEC5",
                "#B0BEC5",
                "#B0BEC5",
                "#B0BEC5",
                "#B0BEC5",
                "red",
                "#B0BEC5",
                "#B0BEC5",
                "#B0BEC5",
                "#B0BEC5",
                "#B0BEC5",
                "#B0BEC5",
                "#B0BEC5",
                "#B0BEC5",
                "#B0BEC5",
                "#B0BEC5",
                "#B0BEC5",
                "#B0BEC5",
                "#B0BEC5",
                "#B0BEC5",
                "#B0BEC5",
                "#B0BEC5",
                "#B0BEC5"
               ]
              ]
             }
            ],
            "label": "Topic 11",
            "method": "update"
           },
           {
            "args": [
             {
              "marker.color": [
               [
                "#B0BEC5",
                "#B0BEC5",
                "#B0BEC5",
                "#B0BEC5",
                "#B0BEC5",
                "#B0BEC5",
                "#B0BEC5",
                "#B0BEC5",
                "#B0BEC5",
                "#B0BEC5",
                "#B0BEC5",
                "#B0BEC5",
                "red",
                "#B0BEC5",
                "#B0BEC5",
                "#B0BEC5",
                "#B0BEC5",
                "#B0BEC5",
                "#B0BEC5",
                "#B0BEC5",
                "#B0BEC5",
                "#B0BEC5",
                "#B0BEC5",
                "#B0BEC5",
                "#B0BEC5",
                "#B0BEC5",
                "#B0BEC5",
                "#B0BEC5",
                "#B0BEC5"
               ]
              ]
             }
            ],
            "label": "Topic 12",
            "method": "update"
           },
           {
            "args": [
             {
              "marker.color": [
               [
                "#B0BEC5",
                "#B0BEC5",
                "#B0BEC5",
                "#B0BEC5",
                "#B0BEC5",
                "#B0BEC5",
                "#B0BEC5",
                "#B0BEC5",
                "#B0BEC5",
                "#B0BEC5",
                "#B0BEC5",
                "#B0BEC5",
                "#B0BEC5",
                "red",
                "#B0BEC5",
                "#B0BEC5",
                "#B0BEC5",
                "#B0BEC5",
                "#B0BEC5",
                "#B0BEC5",
                "#B0BEC5",
                "#B0BEC5",
                "#B0BEC5",
                "#B0BEC5",
                "#B0BEC5",
                "#B0BEC5",
                "#B0BEC5",
                "#B0BEC5",
                "#B0BEC5"
               ]
              ]
             }
            ],
            "label": "Topic 13",
            "method": "update"
           },
           {
            "args": [
             {
              "marker.color": [
               [
                "#B0BEC5",
                "#B0BEC5",
                "#B0BEC5",
                "#B0BEC5",
                "#B0BEC5",
                "#B0BEC5",
                "#B0BEC5",
                "#B0BEC5",
                "#B0BEC5",
                "#B0BEC5",
                "#B0BEC5",
                "#B0BEC5",
                "#B0BEC5",
                "#B0BEC5",
                "red",
                "#B0BEC5",
                "#B0BEC5",
                "#B0BEC5",
                "#B0BEC5",
                "#B0BEC5",
                "#B0BEC5",
                "#B0BEC5",
                "#B0BEC5",
                "#B0BEC5",
                "#B0BEC5",
                "#B0BEC5",
                "#B0BEC5",
                "#B0BEC5",
                "#B0BEC5"
               ]
              ]
             }
            ],
            "label": "Topic 14",
            "method": "update"
           },
           {
            "args": [
             {
              "marker.color": [
               [
                "#B0BEC5",
                "#B0BEC5",
                "#B0BEC5",
                "#B0BEC5",
                "#B0BEC5",
                "#B0BEC5",
                "#B0BEC5",
                "#B0BEC5",
                "#B0BEC5",
                "#B0BEC5",
                "#B0BEC5",
                "#B0BEC5",
                "#B0BEC5",
                "#B0BEC5",
                "#B0BEC5",
                "red",
                "#B0BEC5",
                "#B0BEC5",
                "#B0BEC5",
                "#B0BEC5",
                "#B0BEC5",
                "#B0BEC5",
                "#B0BEC5",
                "#B0BEC5",
                "#B0BEC5",
                "#B0BEC5",
                "#B0BEC5",
                "#B0BEC5",
                "#B0BEC5"
               ]
              ]
             }
            ],
            "label": "Topic 15",
            "method": "update"
           },
           {
            "args": [
             {
              "marker.color": [
               [
                "#B0BEC5",
                "#B0BEC5",
                "#B0BEC5",
                "#B0BEC5",
                "#B0BEC5",
                "#B0BEC5",
                "#B0BEC5",
                "#B0BEC5",
                "#B0BEC5",
                "#B0BEC5",
                "#B0BEC5",
                "#B0BEC5",
                "#B0BEC5",
                "#B0BEC5",
                "#B0BEC5",
                "#B0BEC5",
                "red",
                "#B0BEC5",
                "#B0BEC5",
                "#B0BEC5",
                "#B0BEC5",
                "#B0BEC5",
                "#B0BEC5",
                "#B0BEC5",
                "#B0BEC5",
                "#B0BEC5",
                "#B0BEC5",
                "#B0BEC5",
                "#B0BEC5"
               ]
              ]
             }
            ],
            "label": "Topic 16",
            "method": "update"
           },
           {
            "args": [
             {
              "marker.color": [
               [
                "#B0BEC5",
                "#B0BEC5",
                "#B0BEC5",
                "#B0BEC5",
                "#B0BEC5",
                "#B0BEC5",
                "#B0BEC5",
                "#B0BEC5",
                "#B0BEC5",
                "#B0BEC5",
                "#B0BEC5",
                "#B0BEC5",
                "#B0BEC5",
                "#B0BEC5",
                "#B0BEC5",
                "#B0BEC5",
                "#B0BEC5",
                "red",
                "#B0BEC5",
                "#B0BEC5",
                "#B0BEC5",
                "#B0BEC5",
                "#B0BEC5",
                "#B0BEC5",
                "#B0BEC5",
                "#B0BEC5",
                "#B0BEC5",
                "#B0BEC5",
                "#B0BEC5"
               ]
              ]
             }
            ],
            "label": "Topic 17",
            "method": "update"
           },
           {
            "args": [
             {
              "marker.color": [
               [
                "#B0BEC5",
                "#B0BEC5",
                "#B0BEC5",
                "#B0BEC5",
                "#B0BEC5",
                "#B0BEC5",
                "#B0BEC5",
                "#B0BEC5",
                "#B0BEC5",
                "#B0BEC5",
                "#B0BEC5",
                "#B0BEC5",
                "#B0BEC5",
                "#B0BEC5",
                "#B0BEC5",
                "#B0BEC5",
                "#B0BEC5",
                "#B0BEC5",
                "red",
                "#B0BEC5",
                "#B0BEC5",
                "#B0BEC5",
                "#B0BEC5",
                "#B0BEC5",
                "#B0BEC5",
                "#B0BEC5",
                "#B0BEC5",
                "#B0BEC5",
                "#B0BEC5"
               ]
              ]
             }
            ],
            "label": "Topic 18",
            "method": "update"
           },
           {
            "args": [
             {
              "marker.color": [
               [
                "#B0BEC5",
                "#B0BEC5",
                "#B0BEC5",
                "#B0BEC5",
                "#B0BEC5",
                "#B0BEC5",
                "#B0BEC5",
                "#B0BEC5",
                "#B0BEC5",
                "#B0BEC5",
                "#B0BEC5",
                "#B0BEC5",
                "#B0BEC5",
                "#B0BEC5",
                "#B0BEC5",
                "#B0BEC5",
                "#B0BEC5",
                "#B0BEC5",
                "#B0BEC5",
                "red",
                "#B0BEC5",
                "#B0BEC5",
                "#B0BEC5",
                "#B0BEC5",
                "#B0BEC5",
                "#B0BEC5",
                "#B0BEC5",
                "#B0BEC5",
                "#B0BEC5"
               ]
              ]
             }
            ],
            "label": "Topic 19",
            "method": "update"
           },
           {
            "args": [
             {
              "marker.color": [
               [
                "#B0BEC5",
                "#B0BEC5",
                "#B0BEC5",
                "#B0BEC5",
                "#B0BEC5",
                "#B0BEC5",
                "#B0BEC5",
                "#B0BEC5",
                "#B0BEC5",
                "#B0BEC5",
                "#B0BEC5",
                "#B0BEC5",
                "#B0BEC5",
                "#B0BEC5",
                "#B0BEC5",
                "#B0BEC5",
                "#B0BEC5",
                "#B0BEC5",
                "#B0BEC5",
                "#B0BEC5",
                "red",
                "#B0BEC5",
                "#B0BEC5",
                "#B0BEC5",
                "#B0BEC5",
                "#B0BEC5",
                "#B0BEC5",
                "#B0BEC5",
                "#B0BEC5"
               ]
              ]
             }
            ],
            "label": "Topic 20",
            "method": "update"
           },
           {
            "args": [
             {
              "marker.color": [
               [
                "#B0BEC5",
                "#B0BEC5",
                "#B0BEC5",
                "#B0BEC5",
                "#B0BEC5",
                "#B0BEC5",
                "#B0BEC5",
                "#B0BEC5",
                "#B0BEC5",
                "#B0BEC5",
                "#B0BEC5",
                "#B0BEC5",
                "#B0BEC5",
                "#B0BEC5",
                "#B0BEC5",
                "#B0BEC5",
                "#B0BEC5",
                "#B0BEC5",
                "#B0BEC5",
                "#B0BEC5",
                "#B0BEC5",
                "red",
                "#B0BEC5",
                "#B0BEC5",
                "#B0BEC5",
                "#B0BEC5",
                "#B0BEC5",
                "#B0BEC5",
                "#B0BEC5"
               ]
              ]
             }
            ],
            "label": "Topic 21",
            "method": "update"
           },
           {
            "args": [
             {
              "marker.color": [
               [
                "#B0BEC5",
                "#B0BEC5",
                "#B0BEC5",
                "#B0BEC5",
                "#B0BEC5",
                "#B0BEC5",
                "#B0BEC5",
                "#B0BEC5",
                "#B0BEC5",
                "#B0BEC5",
                "#B0BEC5",
                "#B0BEC5",
                "#B0BEC5",
                "#B0BEC5",
                "#B0BEC5",
                "#B0BEC5",
                "#B0BEC5",
                "#B0BEC5",
                "#B0BEC5",
                "#B0BEC5",
                "#B0BEC5",
                "#B0BEC5",
                "red",
                "#B0BEC5",
                "#B0BEC5",
                "#B0BEC5",
                "#B0BEC5",
                "#B0BEC5",
                "#B0BEC5"
               ]
              ]
             }
            ],
            "label": "Topic 22",
            "method": "update"
           },
           {
            "args": [
             {
              "marker.color": [
               [
                "#B0BEC5",
                "#B0BEC5",
                "#B0BEC5",
                "#B0BEC5",
                "#B0BEC5",
                "#B0BEC5",
                "#B0BEC5",
                "#B0BEC5",
                "#B0BEC5",
                "#B0BEC5",
                "#B0BEC5",
                "#B0BEC5",
                "#B0BEC5",
                "#B0BEC5",
                "#B0BEC5",
                "#B0BEC5",
                "#B0BEC5",
                "#B0BEC5",
                "#B0BEC5",
                "#B0BEC5",
                "#B0BEC5",
                "#B0BEC5",
                "#B0BEC5",
                "red",
                "#B0BEC5",
                "#B0BEC5",
                "#B0BEC5",
                "#B0BEC5",
                "#B0BEC5"
               ]
              ]
             }
            ],
            "label": "Topic 23",
            "method": "update"
           },
           {
            "args": [
             {
              "marker.color": [
               [
                "#B0BEC5",
                "#B0BEC5",
                "#B0BEC5",
                "#B0BEC5",
                "#B0BEC5",
                "#B0BEC5",
                "#B0BEC5",
                "#B0BEC5",
                "#B0BEC5",
                "#B0BEC5",
                "#B0BEC5",
                "#B0BEC5",
                "#B0BEC5",
                "#B0BEC5",
                "#B0BEC5",
                "#B0BEC5",
                "#B0BEC5",
                "#B0BEC5",
                "#B0BEC5",
                "#B0BEC5",
                "#B0BEC5",
                "#B0BEC5",
                "#B0BEC5",
                "#B0BEC5",
                "red",
                "#B0BEC5",
                "#B0BEC5",
                "#B0BEC5",
                "#B0BEC5"
               ]
              ]
             }
            ],
            "label": "Topic 24",
            "method": "update"
           },
           {
            "args": [
             {
              "marker.color": [
               [
                "#B0BEC5",
                "#B0BEC5",
                "#B0BEC5",
                "#B0BEC5",
                "#B0BEC5",
                "#B0BEC5",
                "#B0BEC5",
                "#B0BEC5",
                "#B0BEC5",
                "#B0BEC5",
                "#B0BEC5",
                "#B0BEC5",
                "#B0BEC5",
                "#B0BEC5",
                "#B0BEC5",
                "#B0BEC5",
                "#B0BEC5",
                "#B0BEC5",
                "#B0BEC5",
                "#B0BEC5",
                "#B0BEC5",
                "#B0BEC5",
                "#B0BEC5",
                "#B0BEC5",
                "#B0BEC5",
                "red",
                "#B0BEC5",
                "#B0BEC5",
                "#B0BEC5"
               ]
              ]
             }
            ],
            "label": "Topic 25",
            "method": "update"
           },
           {
            "args": [
             {
              "marker.color": [
               [
                "#B0BEC5",
                "#B0BEC5",
                "#B0BEC5",
                "#B0BEC5",
                "#B0BEC5",
                "#B0BEC5",
                "#B0BEC5",
                "#B0BEC5",
                "#B0BEC5",
                "#B0BEC5",
                "#B0BEC5",
                "#B0BEC5",
                "#B0BEC5",
                "#B0BEC5",
                "#B0BEC5",
                "#B0BEC5",
                "#B0BEC5",
                "#B0BEC5",
                "#B0BEC5",
                "#B0BEC5",
                "#B0BEC5",
                "#B0BEC5",
                "#B0BEC5",
                "#B0BEC5",
                "#B0BEC5",
                "#B0BEC5",
                "red",
                "#B0BEC5",
                "#B0BEC5"
               ]
              ]
             }
            ],
            "label": "Topic 26",
            "method": "update"
           },
           {
            "args": [
             {
              "marker.color": [
               [
                "#B0BEC5",
                "#B0BEC5",
                "#B0BEC5",
                "#B0BEC5",
                "#B0BEC5",
                "#B0BEC5",
                "#B0BEC5",
                "#B0BEC5",
                "#B0BEC5",
                "#B0BEC5",
                "#B0BEC5",
                "#B0BEC5",
                "#B0BEC5",
                "#B0BEC5",
                "#B0BEC5",
                "#B0BEC5",
                "#B0BEC5",
                "#B0BEC5",
                "#B0BEC5",
                "#B0BEC5",
                "#B0BEC5",
                "#B0BEC5",
                "#B0BEC5",
                "#B0BEC5",
                "#B0BEC5",
                "#B0BEC5",
                "#B0BEC5",
                "red",
                "#B0BEC5"
               ]
              ]
             }
            ],
            "label": "Topic 27",
            "method": "update"
           },
           {
            "args": [
             {
              "marker.color": [
               [
                "#B0BEC5",
                "#B0BEC5",
                "#B0BEC5",
                "#B0BEC5",
                "#B0BEC5",
                "#B0BEC5",
                "#B0BEC5",
                "#B0BEC5",
                "#B0BEC5",
                "#B0BEC5",
                "#B0BEC5",
                "#B0BEC5",
                "#B0BEC5",
                "#B0BEC5",
                "#B0BEC5",
                "#B0BEC5",
                "#B0BEC5",
                "#B0BEC5",
                "#B0BEC5",
                "#B0BEC5",
                "#B0BEC5",
                "#B0BEC5",
                "#B0BEC5",
                "#B0BEC5",
                "#B0BEC5",
                "#B0BEC5",
                "#B0BEC5",
                "#B0BEC5",
                "red"
               ]
              ]
             }
            ],
            "label": "Topic 28",
            "method": "update"
           }
          ]
         }
        ],
        "template": {
         "data": {
          "bar": [
           {
            "error_x": {
             "color": "rgb(36,36,36)"
            },
            "error_y": {
             "color": "rgb(36,36,36)"
            },
            "marker": {
             "line": {
              "color": "white",
              "width": 0.5
             },
             "pattern": {
              "fillmode": "overlay",
              "size": 10,
              "solidity": 0.2
             }
            },
            "type": "bar"
           }
          ],
          "barpolar": [
           {
            "marker": {
             "line": {
              "color": "white",
              "width": 0.5
             },
             "pattern": {
              "fillmode": "overlay",
              "size": 10,
              "solidity": 0.2
             }
            },
            "type": "barpolar"
           }
          ],
          "carpet": [
           {
            "aaxis": {
             "endlinecolor": "rgb(36,36,36)",
             "gridcolor": "white",
             "linecolor": "white",
             "minorgridcolor": "white",
             "startlinecolor": "rgb(36,36,36)"
            },
            "baxis": {
             "endlinecolor": "rgb(36,36,36)",
             "gridcolor": "white",
             "linecolor": "white",
             "minorgridcolor": "white",
             "startlinecolor": "rgb(36,36,36)"
            },
            "type": "carpet"
           }
          ],
          "choropleth": [
           {
            "colorbar": {
             "outlinewidth": 1,
             "tickcolor": "rgb(36,36,36)",
             "ticks": "outside"
            },
            "type": "choropleth"
           }
          ],
          "contour": [
           {
            "colorbar": {
             "outlinewidth": 1,
             "tickcolor": "rgb(36,36,36)",
             "ticks": "outside"
            },
            "colorscale": [
             [
              0,
              "#440154"
             ],
             [
              0.1111111111111111,
              "#482878"
             ],
             [
              0.2222222222222222,
              "#3e4989"
             ],
             [
              0.3333333333333333,
              "#31688e"
             ],
             [
              0.4444444444444444,
              "#26828e"
             ],
             [
              0.5555555555555556,
              "#1f9e89"
             ],
             [
              0.6666666666666666,
              "#35b779"
             ],
             [
              0.7777777777777778,
              "#6ece58"
             ],
             [
              0.8888888888888888,
              "#b5de2b"
             ],
             [
              1,
              "#fde725"
             ]
            ],
            "type": "contour"
           }
          ],
          "contourcarpet": [
           {
            "colorbar": {
             "outlinewidth": 1,
             "tickcolor": "rgb(36,36,36)",
             "ticks": "outside"
            },
            "type": "contourcarpet"
           }
          ],
          "heatmap": [
           {
            "colorbar": {
             "outlinewidth": 1,
             "tickcolor": "rgb(36,36,36)",
             "ticks": "outside"
            },
            "colorscale": [
             [
              0,
              "#440154"
             ],
             [
              0.1111111111111111,
              "#482878"
             ],
             [
              0.2222222222222222,
              "#3e4989"
             ],
             [
              0.3333333333333333,
              "#31688e"
             ],
             [
              0.4444444444444444,
              "#26828e"
             ],
             [
              0.5555555555555556,
              "#1f9e89"
             ],
             [
              0.6666666666666666,
              "#35b779"
             ],
             [
              0.7777777777777778,
              "#6ece58"
             ],
             [
              0.8888888888888888,
              "#b5de2b"
             ],
             [
              1,
              "#fde725"
             ]
            ],
            "type": "heatmap"
           }
          ],
          "heatmapgl": [
           {
            "colorbar": {
             "outlinewidth": 1,
             "tickcolor": "rgb(36,36,36)",
             "ticks": "outside"
            },
            "colorscale": [
             [
              0,
              "#440154"
             ],
             [
              0.1111111111111111,
              "#482878"
             ],
             [
              0.2222222222222222,
              "#3e4989"
             ],
             [
              0.3333333333333333,
              "#31688e"
             ],
             [
              0.4444444444444444,
              "#26828e"
             ],
             [
              0.5555555555555556,
              "#1f9e89"
             ],
             [
              0.6666666666666666,
              "#35b779"
             ],
             [
              0.7777777777777778,
              "#6ece58"
             ],
             [
              0.8888888888888888,
              "#b5de2b"
             ],
             [
              1,
              "#fde725"
             ]
            ],
            "type": "heatmapgl"
           }
          ],
          "histogram": [
           {
            "marker": {
             "line": {
              "color": "white",
              "width": 0.6
             }
            },
            "type": "histogram"
           }
          ],
          "histogram2d": [
           {
            "colorbar": {
             "outlinewidth": 1,
             "tickcolor": "rgb(36,36,36)",
             "ticks": "outside"
            },
            "colorscale": [
             [
              0,
              "#440154"
             ],
             [
              0.1111111111111111,
              "#482878"
             ],
             [
              0.2222222222222222,
              "#3e4989"
             ],
             [
              0.3333333333333333,
              "#31688e"
             ],
             [
              0.4444444444444444,
              "#26828e"
             ],
             [
              0.5555555555555556,
              "#1f9e89"
             ],
             [
              0.6666666666666666,
              "#35b779"
             ],
             [
              0.7777777777777778,
              "#6ece58"
             ],
             [
              0.8888888888888888,
              "#b5de2b"
             ],
             [
              1,
              "#fde725"
             ]
            ],
            "type": "histogram2d"
           }
          ],
          "histogram2dcontour": [
           {
            "colorbar": {
             "outlinewidth": 1,
             "tickcolor": "rgb(36,36,36)",
             "ticks": "outside"
            },
            "colorscale": [
             [
              0,
              "#440154"
             ],
             [
              0.1111111111111111,
              "#482878"
             ],
             [
              0.2222222222222222,
              "#3e4989"
             ],
             [
              0.3333333333333333,
              "#31688e"
             ],
             [
              0.4444444444444444,
              "#26828e"
             ],
             [
              0.5555555555555556,
              "#1f9e89"
             ],
             [
              0.6666666666666666,
              "#35b779"
             ],
             [
              0.7777777777777778,
              "#6ece58"
             ],
             [
              0.8888888888888888,
              "#b5de2b"
             ],
             [
              1,
              "#fde725"
             ]
            ],
            "type": "histogram2dcontour"
           }
          ],
          "mesh3d": [
           {
            "colorbar": {
             "outlinewidth": 1,
             "tickcolor": "rgb(36,36,36)",
             "ticks": "outside"
            },
            "type": "mesh3d"
           }
          ],
          "parcoords": [
           {
            "line": {
             "colorbar": {
              "outlinewidth": 1,
              "tickcolor": "rgb(36,36,36)",
              "ticks": "outside"
             }
            },
            "type": "parcoords"
           }
          ],
          "pie": [
           {
            "automargin": true,
            "type": "pie"
           }
          ],
          "scatter": [
           {
            "fillpattern": {
             "fillmode": "overlay",
             "size": 10,
             "solidity": 0.2
            },
            "type": "scatter"
           }
          ],
          "scatter3d": [
           {
            "line": {
             "colorbar": {
              "outlinewidth": 1,
              "tickcolor": "rgb(36,36,36)",
              "ticks": "outside"
             }
            },
            "marker": {
             "colorbar": {
              "outlinewidth": 1,
              "tickcolor": "rgb(36,36,36)",
              "ticks": "outside"
             }
            },
            "type": "scatter3d"
           }
          ],
          "scattercarpet": [
           {
            "marker": {
             "colorbar": {
              "outlinewidth": 1,
              "tickcolor": "rgb(36,36,36)",
              "ticks": "outside"
             }
            },
            "type": "scattercarpet"
           }
          ],
          "scattergeo": [
           {
            "marker": {
             "colorbar": {
              "outlinewidth": 1,
              "tickcolor": "rgb(36,36,36)",
              "ticks": "outside"
             }
            },
            "type": "scattergeo"
           }
          ],
          "scattergl": [
           {
            "marker": {
             "colorbar": {
              "outlinewidth": 1,
              "tickcolor": "rgb(36,36,36)",
              "ticks": "outside"
             }
            },
            "type": "scattergl"
           }
          ],
          "scattermapbox": [
           {
            "marker": {
             "colorbar": {
              "outlinewidth": 1,
              "tickcolor": "rgb(36,36,36)",
              "ticks": "outside"
             }
            },
            "type": "scattermapbox"
           }
          ],
          "scatterpolar": [
           {
            "marker": {
             "colorbar": {
              "outlinewidth": 1,
              "tickcolor": "rgb(36,36,36)",
              "ticks": "outside"
             }
            },
            "type": "scatterpolar"
           }
          ],
          "scatterpolargl": [
           {
            "marker": {
             "colorbar": {
              "outlinewidth": 1,
              "tickcolor": "rgb(36,36,36)",
              "ticks": "outside"
             }
            },
            "type": "scatterpolargl"
           }
          ],
          "scatterternary": [
           {
            "marker": {
             "colorbar": {
              "outlinewidth": 1,
              "tickcolor": "rgb(36,36,36)",
              "ticks": "outside"
             }
            },
            "type": "scatterternary"
           }
          ],
          "surface": [
           {
            "colorbar": {
             "outlinewidth": 1,
             "tickcolor": "rgb(36,36,36)",
             "ticks": "outside"
            },
            "colorscale": [
             [
              0,
              "#440154"
             ],
             [
              0.1111111111111111,
              "#482878"
             ],
             [
              0.2222222222222222,
              "#3e4989"
             ],
             [
              0.3333333333333333,
              "#31688e"
             ],
             [
              0.4444444444444444,
              "#26828e"
             ],
             [
              0.5555555555555556,
              "#1f9e89"
             ],
             [
              0.6666666666666666,
              "#35b779"
             ],
             [
              0.7777777777777778,
              "#6ece58"
             ],
             [
              0.8888888888888888,
              "#b5de2b"
             ],
             [
              1,
              "#fde725"
             ]
            ],
            "type": "surface"
           }
          ],
          "table": [
           {
            "cells": {
             "fill": {
              "color": "rgb(237,237,237)"
             },
             "line": {
              "color": "white"
             }
            },
            "header": {
             "fill": {
              "color": "rgb(217,217,217)"
             },
             "line": {
              "color": "white"
             }
            },
            "type": "table"
           }
          ]
         },
         "layout": {
          "annotationdefaults": {
           "arrowhead": 0,
           "arrowwidth": 1
          },
          "autotypenumbers": "strict",
          "coloraxis": {
           "colorbar": {
            "outlinewidth": 1,
            "tickcolor": "rgb(36,36,36)",
            "ticks": "outside"
           }
          },
          "colorscale": {
           "diverging": [
            [
             0,
             "rgb(103,0,31)"
            ],
            [
             0.1,
             "rgb(178,24,43)"
            ],
            [
             0.2,
             "rgb(214,96,77)"
            ],
            [
             0.3,
             "rgb(244,165,130)"
            ],
            [
             0.4,
             "rgb(253,219,199)"
            ],
            [
             0.5,
             "rgb(247,247,247)"
            ],
            [
             0.6,
             "rgb(209,229,240)"
            ],
            [
             0.7,
             "rgb(146,197,222)"
            ],
            [
             0.8,
             "rgb(67,147,195)"
            ],
            [
             0.9,
             "rgb(33,102,172)"
            ],
            [
             1,
             "rgb(5,48,97)"
            ]
           ],
           "sequential": [
            [
             0,
             "#440154"
            ],
            [
             0.1111111111111111,
             "#482878"
            ],
            [
             0.2222222222222222,
             "#3e4989"
            ],
            [
             0.3333333333333333,
             "#31688e"
            ],
            [
             0.4444444444444444,
             "#26828e"
            ],
            [
             0.5555555555555556,
             "#1f9e89"
            ],
            [
             0.6666666666666666,
             "#35b779"
            ],
            [
             0.7777777777777778,
             "#6ece58"
            ],
            [
             0.8888888888888888,
             "#b5de2b"
            ],
            [
             1,
             "#fde725"
            ]
           ],
           "sequentialminus": [
            [
             0,
             "#440154"
            ],
            [
             0.1111111111111111,
             "#482878"
            ],
            [
             0.2222222222222222,
             "#3e4989"
            ],
            [
             0.3333333333333333,
             "#31688e"
            ],
            [
             0.4444444444444444,
             "#26828e"
            ],
            [
             0.5555555555555556,
             "#1f9e89"
            ],
            [
             0.6666666666666666,
             "#35b779"
            ],
            [
             0.7777777777777778,
             "#6ece58"
            ],
            [
             0.8888888888888888,
             "#b5de2b"
            ],
            [
             1,
             "#fde725"
            ]
           ]
          },
          "colorway": [
           "#1F77B4",
           "#FF7F0E",
           "#2CA02C",
           "#D62728",
           "#9467BD",
           "#8C564B",
           "#E377C2",
           "#7F7F7F",
           "#BCBD22",
           "#17BECF"
          ],
          "font": {
           "color": "rgb(36,36,36)"
          },
          "geo": {
           "bgcolor": "white",
           "lakecolor": "white",
           "landcolor": "white",
           "showlakes": true,
           "showland": true,
           "subunitcolor": "white"
          },
          "hoverlabel": {
           "align": "left"
          },
          "hovermode": "closest",
          "mapbox": {
           "style": "light"
          },
          "paper_bgcolor": "white",
          "plot_bgcolor": "white",
          "polar": {
           "angularaxis": {
            "gridcolor": "rgb(232,232,232)",
            "linecolor": "rgb(36,36,36)",
            "showgrid": false,
            "showline": true,
            "ticks": "outside"
           },
           "bgcolor": "white",
           "radialaxis": {
            "gridcolor": "rgb(232,232,232)",
            "linecolor": "rgb(36,36,36)",
            "showgrid": false,
            "showline": true,
            "ticks": "outside"
           }
          },
          "scene": {
           "xaxis": {
            "backgroundcolor": "white",
            "gridcolor": "rgb(232,232,232)",
            "gridwidth": 2,
            "linecolor": "rgb(36,36,36)",
            "showbackground": true,
            "showgrid": false,
            "showline": true,
            "ticks": "outside",
            "zeroline": false,
            "zerolinecolor": "rgb(36,36,36)"
           },
           "yaxis": {
            "backgroundcolor": "white",
            "gridcolor": "rgb(232,232,232)",
            "gridwidth": 2,
            "linecolor": "rgb(36,36,36)",
            "showbackground": true,
            "showgrid": false,
            "showline": true,
            "ticks": "outside",
            "zeroline": false,
            "zerolinecolor": "rgb(36,36,36)"
           },
           "zaxis": {
            "backgroundcolor": "white",
            "gridcolor": "rgb(232,232,232)",
            "gridwidth": 2,
            "linecolor": "rgb(36,36,36)",
            "showbackground": true,
            "showgrid": false,
            "showline": true,
            "ticks": "outside",
            "zeroline": false,
            "zerolinecolor": "rgb(36,36,36)"
           }
          },
          "shapedefaults": {
           "fillcolor": "black",
           "line": {
            "width": 0
           },
           "opacity": 0.3
          },
          "ternary": {
           "aaxis": {
            "gridcolor": "rgb(232,232,232)",
            "linecolor": "rgb(36,36,36)",
            "showgrid": false,
            "showline": true,
            "ticks": "outside"
           },
           "baxis": {
            "gridcolor": "rgb(232,232,232)",
            "linecolor": "rgb(36,36,36)",
            "showgrid": false,
            "showline": true,
            "ticks": "outside"
           },
           "bgcolor": "white",
           "caxis": {
            "gridcolor": "rgb(232,232,232)",
            "linecolor": "rgb(36,36,36)",
            "showgrid": false,
            "showline": true,
            "ticks": "outside"
           }
          },
          "title": {
           "x": 0.05
          },
          "xaxis": {
           "automargin": true,
           "gridcolor": "rgb(232,232,232)",
           "linecolor": "rgb(36,36,36)",
           "showgrid": false,
           "showline": true,
           "ticks": "outside",
           "title": {
            "standoff": 15
           },
           "zeroline": false,
           "zerolinecolor": "rgb(36,36,36)"
          },
          "yaxis": {
           "automargin": true,
           "gridcolor": "rgb(232,232,232)",
           "linecolor": "rgb(36,36,36)",
           "showgrid": false,
           "showline": true,
           "ticks": "outside",
           "title": {
            "standoff": 15
           },
           "zeroline": false,
           "zerolinecolor": "rgb(36,36,36)"
          }
         }
        },
        "title": {
         "font": {
          "color": "Black",
          "size": 22
         },
         "text": "<b>Intertopic Distance Map</b>",
         "x": 0.5,
         "xanchor": "center",
         "y": 0.95,
         "yanchor": "top"
        },
        "width": 650,
        "xaxis": {
         "anchor": "y",
         "domain": [
          0,
          1
         ],
         "range": [
          -1.5216861546039582,
          18.24083662033081
         ],
         "title": {
          "text": ""
         },
         "visible": false
        },
        "yaxis": {
         "anchor": "x",
         "domain": [
          0,
          1
         ],
         "range": [
          -10.488684225082398,
          6.750948977470398
         ],
         "title": {
          "text": ""
         },
         "visible": false
        }
       }
      }
     },
     "metadata": {},
     "output_type": "display_data"
    }
   ],
   "source": [
    "topic_model.visualize_topics()"
   ]
  },
  {
   "cell_type": "code",
   "execution_count": 2,
   "metadata": {},
   "outputs": [],
   "source": [
    "topic_labels = {\n",
    "    0:'Algebraic and categorical structures in mathematical systems',\n",
    "    1:'Graph theory',\n",
    "    2:'Differential geometry',\n",
    "    3:'Partial Differential Equations (PDE)',\n",
    "    4:'Wireless communication systems',\n",
    "    5:'Statistical estimation and modeling',\n",
    "\n",
    "    6:'Group theory and algebraic structures',\n",
    "    7:'Gradient based optimization',\n",
    "    8:'Algebraic geometry',\n",
    "    9:'Mathematical model in quantum field theory',\n",
    "    10:'Neural networks and deep learning',\n",
    "    11:'Mathematical modelling in fluid dynamics',\n",
    "\n",
    "    12:'Mathematical modeling in energy systems',\n",
    "    13:'Number theory',\n",
    "    14:'Ring theory and commutative algebra',\n",
    "    15:'Quantum information and quantum computing',\n",
    "    16:'Logic and set theory',\n",
    "    17:'Special and zeta functions',\n",
    "\n",
    "    18:'Mathematical proofs and conjectures',\n",
    "    19:'Game theory and nash equilibrium',\n",
    "    20:'Linear algebra and matrices',\n",
    "    21:'Knot theory',\n",
    "    22:'Epidemic modeling and disease spread',\n",
    "    23:'Financial mathematics and stochastic processes',\n",
    "\n",
    "    24:'Channel coding and information theory',\n",
    "    25:'Polytope theory and convex geometry',\n",
    "    26:'Cancer and tumor growth modeling',\n",
    "    27:'Robotics and control systems',\n",
    "    28:'Unmanned Aerial Vehicles (UAVs)'\n",
    "}"
   ]
  },
  {
   "cell_type": "code",
   "execution_count": 4,
   "metadata": {},
   "outputs": [
    {
     "data": {
      "image/png": "[encoded data removed]",
      "text/plain": [
       "<Figure size 1400x600 with 1 Axes>"
      ]
     },
     "metadata": {},
     "output_type": "display_data"
    }
   ],
   "source": [
    "specific_topics = [0,1,2,3,4,5]\n",
    "\n",
    "# Filter monthly_data to include only these specific topics\n",
    "filtered_monthly_data = monthly_data[monthly_data['Topic'].isin(specific_topics)]\n",
    "\n",
    "# Pivot the table to make it suitable for bar plotting (topics as columns)\n",
    "pivoted_data = filtered_monthly_data.pivot(index='Timestamp', columns='Topic', values='Frequency')\n",
    "\n",
    "# Plot as stacked bar chart\n",
    "ax = pivoted_data.plot(kind='bar', stacked=False, figsize=(14, 6), colormap='Paired')\n",
    "\n",
    "# Add legend outside the plot\n",
    "ax.legend(title='Global Topic Representation', labels=[topic_labels.get(topic, topic) for topic in pivoted_data.columns],  bbox_to_anchor=(1, 1), loc='upper left')\n",
    "\n",
    "# Customize the plot (similar to your image)\n",
    "ax.set_title('Topics over time', fontsize=14)\n",
    "ax.set_xlabel('')\n",
    "ax.set_ylabel('Frequency')\n",
    "\n",
    "# Rotate x-axis labels for better readability\n",
    "ax.set_xticklabels(pivoted_data.index.astype(str), rotation=0)\n",
    "\n",
    "# Add gridlines for better readability\n",
    "plt.grid(axis='y', linestyle='--', alpha=0.7)\n",
    "\n",
    "# Adjust layout to fit everything well\n",
    "plt.tight_layout()\n",
    "\n",
    "# Show the plot\n",
    "plt.show()"
   ]
  },
  {
   "cell_type": "code",
   "execution_count": 5,
   "metadata": {},
   "outputs": [
    {
     "data": {
      "image/png": "[encoded data removed]",
      "text/plain": [
       "<Figure size 1400x600 with 1 Axes>"
      ]
     },
     "metadata": {},
     "output_type": "display_data"
    }
   ],
   "source": [
    "specific_topics = [6,7,8,9,10,11]\n",
    "\n",
    "# Filter monthly_data to include only these specific topics\n",
    "filtered_monthly_data = monthly_data[monthly_data['Topic'].isin(specific_topics)]\n",
    "\n",
    "# Pivot the table to make it suitable for bar plotting (topics as columns)\n",
    "pivoted_data = filtered_monthly_data.pivot(index='Timestamp', columns='Topic', values='Frequency')\n",
    "\n",
    "# Plot as stacked bar chart\n",
    "ax = pivoted_data.plot(kind='bar', stacked=False, figsize=(14, 6), colormap='Paired')\n",
    "\n",
    "# Add legend outside the plot\n",
    "ax.legend(title='Global Topic Representation', labels=[topic_labels.get(topic, topic) for topic in pivoted_data.columns],  bbox_to_anchor=(1, 1), loc='upper left')\n",
    "\n",
    "# Customize the plot (similar to your image)\n",
    "ax.set_title('Topics over time', fontsize=14)\n",
    "ax.set_xlabel('')\n",
    "ax.set_ylabel('Frequency')\n",
    "\n",
    "# Rotate x-axis labels for better readability\n",
    "ax.set_xticklabels(pivoted_data.index.astype(str), rotation=0)\n",
    "\n",
    "# Add gridlines for better readability\n",
    "plt.grid(axis='y', linestyle='--', alpha=0.7)\n",
    "\n",
    "# Adjust layout to fit everything well\n",
    "plt.tight_layout()\n",
    "\n",
    "# Show the plot\n",
    "plt.show()"
   ]
  },
  {
   "cell_type": "code",
   "execution_count": 4,
   "metadata": {},
   "outputs": [
    {
     "data": {
      "image/png": "[encoded data removed]",
      "text/plain": [
       "<Figure size 1400x600 with 1 Axes>"
      ]
     },
     "metadata": {},
     "output_type": "display_data"
    }
   ],
   "source": [
    "specific_topics = [17]\n",
    "\n",
    "# Filter monthly_data to include only these specific topics\n",
    "filtered_monthly_data = monthly_data[monthly_data['Topic'].isin(specific_topics)]\n",
    "\n",
    "# Pivot the table to make it suitable for bar plotting (topics as columns)\n",
    "pivoted_data = filtered_monthly_data.pivot(index='Timestamp', columns='Topic', values='Frequency')\n",
    "\n",
    "# Plot as stacked bar chart\n",
    "ax = pivoted_data.plot(kind='bar', stacked=False, figsize=(14, 6), colormap='Paired')\n",
    "\n",
    "# Add legend outside the plot\n",
    "ax.legend(title='Global Topic Representation', labels=[topic_labels.get(topic, topic) for topic in pivoted_data.columns],  bbox_to_anchor=(1, 1), loc='upper left')\n",
    "\n",
    "# Customize the plot (similar to your image)\n",
    "ax.set_title('Topics over time', fontsize=14)\n",
    "ax.set_xlabel('')\n",
    "ax.set_ylabel('Frequency')\n",
    "\n",
    "# Rotate x-axis labels for better readability\n",
    "ax.set_xticklabels(pivoted_data.index.astype(str), rotation=0)\n",
    "\n",
    "# Add gridlines for better readability\n",
    "plt.grid(axis='y', linestyle='--', alpha=0.7)\n",
    "\n",
    "# Adjust layout to fit everything well\n",
    "plt.tight_layout()\n",
    "\n",
    "# Show the plot\n",
    "plt.show()"
   ]
  },
  {
   "cell_type": "code",
   "execution_count": 3,
   "metadata": {},
   "outputs": [
    {
     "data": {
      "image/png": "[encoded data removed]",
      "text/plain": [
       "<Figure size 1400x600 with 1 Axes>"
      ]
     },
     "metadata": {},
     "output_type": "display_data"
    }
   ],
   "source": [
    "specific_topics = [23]\n",
    "\n",
    "# Filter monthly_data to include only these specific topics\n",
    "filtered_monthly_data = monthly_data[monthly_data['Topic'].isin(specific_topics)]\n",
    "\n",
    "# Pivot the table to make it suitable for bar plotting (topics as columns)\n",
    "pivoted_data = filtered_monthly_data.pivot(index='Timestamp', columns='Topic', values='Frequency')\n",
    "\n",
    "# Plot as stacked bar chart\n",
    "ax = pivoted_data.plot(kind='bar', stacked=False, figsize=(14, 6), colormap='Paired')\n",
    "\n",
    "# Add legend outside the plot\n",
    "ax.legend(title='Global Topic Representation', labels=[topic_labels.get(topic, topic) for topic in pivoted_data.columns],  bbox_to_anchor=(1, 1), loc='upper left')\n",
    "\n",
    "# Customize the plot (similar to your image)\n",
    "ax.set_title('Topics over time', fontsize=14)\n",
    "ax.set_xlabel('')\n",
    "ax.set_ylabel('Frequency')\n",
    "\n",
    "# Rotate x-axis labels for better readability\n",
    "ax.set_xticklabels(pivoted_data.index.astype(str), rotation=0)\n",
    "\n",
    "# Add gridlines for better readability\n",
    "plt.grid(axis='y', linestyle='--', alpha=0.7)\n",
    "\n",
    "# Adjust layout to fit everything well\n",
    "plt.tight_layout()\n",
    "\n",
    "# Show the plot\n",
    "plt.show()"
   ]
  },
  {
   "cell_type": "code",
   "execution_count": 6,
   "metadata": {},
   "outputs": [
    {
     "data": {
      "image/png": "[encoded data removed]",
      "text/plain": [
       "<Figure size 1400x600 with 1 Axes>"
      ]
     },
     "metadata": {},
     "output_type": "display_data"
    }
   ],
   "source": [
    "specific_topics = [25,26,27,28]\n",
    "\n",
    "# Filter monthly_data to include only these specific topics\n",
    "filtered_monthly_data = monthly_data[monthly_data['Topic'].isin(specific_topics)]\n",
    "\n",
    "# Pivot the table to make it suitable for bar plotting (topics as columns)\n",
    "pivoted_data = filtered_monthly_data.pivot(index='Timestamp', columns='Topic', values='Frequency')\n",
    "\n",
    "# Plot as stacked bar chart\n",
    "ax = pivoted_data.plot(kind='bar', stacked=False, figsize=(14, 6), colormap='Paired')\n",
    "\n",
    "# Add legend outside the plot\n",
    "ax.legend(title='Global Topic Representation', labels=[topic_labels.get(topic, topic) for topic in pivoted_data.columns],  bbox_to_anchor=(1, 1), loc='upper left')\n",
    "\n",
    "# Customize the plot (similar to your image)\n",
    "ax.set_title('Topics over time', fontsize=14)\n",
    "ax.set_xlabel('')\n",
    "ax.set_ylabel('Frequency')\n",
    "\n",
    "# Rotate x-axis labels for better readability\n",
    "ax.set_xticklabels(pivoted_data.index.astype(str), rotation=0)\n",
    "\n",
    "# Add gridlines for better readability\n",
    "plt.grid(axis='y', linestyle='--', alpha=0.7)\n",
    "\n",
    "# Adjust layout to fit everything well\n",
    "plt.tight_layout()\n",
    "\n",
    "# Show the plot\n",
    "plt.show()"
   ]
  }
 ],
 "metadata": {
  "kernelspec": {
   "display_name": "myenv2",
   "language": "python",
   "name": "python3"
  },
  "language_info": {
   "codemirror_mode": {
    "name": "ipython",
    "version": 3
   },
   "file_extension": ".py",
   "mimetype": "text/x-python",
   "name": "python",
   "nbconvert_exporter": "python",
   "pygments_lexer": "ipython3",
   "version": "3.10.6"
  }
 },
 "nbformat": 4,
 "nbformat_minor": 2
}
