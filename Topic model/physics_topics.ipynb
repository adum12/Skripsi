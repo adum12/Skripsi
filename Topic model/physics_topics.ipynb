{
 "cells": [
  {
   "cell_type": "code",
   "execution_count": 1,
   "metadata": {},
   "outputs": [
    {
     "name": "stderr",
     "output_type": "stream",
     "text": [
      "x:\\Kuliah\\Semester 8\\Sandbox\\myenv2\\lib\\site-packages\\tqdm\\auto.py:21: TqdmWarning: IProgress not found. Please update jupyter and ipywidgets. See https://ipywidgets.readthedocs.io/en/stable/user_install.html\n",
      "  from .autonotebook import tqdm as notebook_tqdm\n"
     ]
    }
   ],
   "source": [
    "from sklearn.feature_extraction.text import CountVectorizer\n",
    "from gensim.models.coherencemodel import CoherenceModel\n",
    "from bertopic.vectorizers import ClassTfidfTransformer\n",
    "from sentence_transformers import SentenceTransformer\n",
    "from gensim.corpora.dictionary import Dictionary\n",
    "import matplotlib.pyplot as plt\n",
    "from bertopic import BERTopic\n",
    "from hdbscan import HDBSCAN\n",
    "from umap import UMAP\n",
    "import seaborn as sns\n",
    "import pandas as pd\n",
    "import numpy as np\n",
    "import pickle"
   ]
  },
  {
   "cell_type": "code",
   "execution_count": 2,
   "metadata": {},
   "outputs": [],
   "source": [
    "df = pd.read_csv(\"../../Data preprocessing/Preprocessed data V2/arxiv_physics_preprocessed.csv\")\n",
    "abstracts = df[\"summary\"].to_list()\n",
    "dates = df[\"date\"].to_list()\n",
    "ids = df[\"id\"].to_list()"
   ]
  },
  {
   "cell_type": "code",
   "execution_count": 10,
   "metadata": {},
   "outputs": [],
   "source": [
    "embedding_model = SentenceTransformer(\"all-mpnet-base-v2\")\n",
    "embeddings = np.load(\"../../Topic extraction/abstract embeddings/all-mpnet-base-v2-embeddings V2/physics_embeddingsV2.npy\")\n",
    "vectorizer_model = CountVectorizer(stop_words=\"english\", ngram_range=(1,2))\n",
    "ctfidf_model = ClassTfidfTransformer(reduce_frequent_words=True)"
   ]
  },
  {
   "cell_type": "code",
   "execution_count": 4,
   "metadata": {},
   "outputs": [],
   "source": [
    "umap_model = UMAP(n_neighbors=50, \n",
    "                  n_components=5,\n",
    "                  min_dist=0.0,\n",
    "                  metric='cosine',\n",
    "                  random_state=42)"
   ]
  },
  {
   "cell_type": "code",
   "execution_count": 5,
   "metadata": {},
   "outputs": [],
   "source": [
    "hdbscan_model = HDBSCAN(min_cluster_size=100,\n",
    "                        metric='euclidean',\n",
    "                        cluster_selection_method='eom',\n",
    "                        prediction_data=True)"
   ]
  },
  {
   "cell_type": "code",
   "execution_count": 11,
   "metadata": {},
   "outputs": [
    {
     "data": {
      "text/html": [
       "<div>\n",
       "<style scoped>\n",
       "    .dataframe tbody tr th:only-of-type {\n",
       "        vertical-align: middle;\n",
       "    }\n",
       "\n",
       "    .dataframe tbody tr th {\n",
       "        vertical-align: top;\n",
       "    }\n",
       "\n",
       "    .dataframe thead th {\n",
       "        text-align: right;\n",
       "    }\n",
       "</style>\n",
       "<table border=\"1\" class=\"dataframe\">\n",
       "  <thead>\n",
       "    <tr style=\"text-align: right;\">\n",
       "      <th></th>\n",
       "      <th>Topic</th>\n",
       "      <th>Count</th>\n",
       "      <th>Name</th>\n",
       "      <th>Representation</th>\n",
       "      <th>Representative_Docs</th>\n",
       "    </tr>\n",
       "  </thead>\n",
       "  <tbody>\n",
       "    <tr>\n",
       "      <th>0</th>\n",
       "      <td>-1</td>\n",
       "      <td>12262</td>\n",
       "      <td>-1_field_state_model_time</td>\n",
       "      <td>[field, state, model, time, method, energy, qu...</td>\n",
       "      <td>[['fokker', 'planck', 'equation', 'partial', '...</td>\n",
       "    </tr>\n",
       "    <tr>\n",
       "      <th>1</th>\n",
       "      <td>0</td>\n",
       "      <td>1392</td>\n",
       "      <td>0_flow_fluid_droplet_turbulence</td>\n",
       "      <td>[flow, fluid, droplet, turbulence, turbulent, ...</td>\n",
       "      <td>[['machine', 'learned', 'ml', 'model', 'develo...</td>\n",
       "    </tr>\n",
       "    <tr>\n",
       "      <th>2</th>\n",
       "      <td>1</td>\n",
       "      <td>1113</td>\n",
       "      <td>1_network_student_social_learning</td>\n",
       "      <td>[network, student, social, learning, opinion, ...</td>\n",
       "      <td>[['social', 'system', 'characterized', 'presen...</td>\n",
       "    </tr>\n",
       "    <tr>\n",
       "      <th>3</th>\n",
       "      <td>2</td>\n",
       "      <td>922</td>\n",
       "      <td>2_detector_neutrino_neutron_beam</td>\n",
       "      <td>[detector, neutrino, neutron, beam, muon, expe...</td>\n",
       "      <td>[['high', 'luminosity', 'high', 'energy', 'ele...</td>\n",
       "    </tr>\n",
       "    <tr>\n",
       "      <th>4</th>\n",
       "      <td>3</td>\n",
       "      <td>920</td>\n",
       "      <td>3_photonic_optical_waveguide_state</td>\n",
       "      <td>[photonic, optical, waveguide, state, integrat...</td>\n",
       "      <td>[['scalable', 'programmable', 'photonic', 'int...</td>\n",
       "    </tr>\n",
       "    <tr>\n",
       "      <th>5</th>\n",
       "      <td>4</td>\n",
       "      <td>703</td>\n",
       "      <td>4_solar_mission_solar wind_earth</td>\n",
       "      <td>[solar, mission, solar wind, earth, wind, coro...</td>\n",
       "      <td>[['one', 'source', 'solar', 'energetic', 'part...</td>\n",
       "    </tr>\n",
       "    <tr>\n",
       "      <th>6</th>\n",
       "      <td>5</td>\n",
       "      <td>533</td>\n",
       "      <td>5_image_mri_patient_clinical</td>\n",
       "      <td>[image, mri, patient, clinical, dose, imaging,...</td>\n",
       "      <td>[['tesla', '7t', 'apparent', 'diffusion', 'coe...</td>\n",
       "    </tr>\n",
       "    <tr>\n",
       "      <th>7</th>\n",
       "      <td>6</td>\n",
       "      <td>483</td>\n",
       "      <td>6_plasma_electron_ion_fusion</td>\n",
       "      <td>[plasma, electron, ion, fusion, magnetic, toka...</td>\n",
       "      <td>[['edge', 'plasma', 'turbulence', 'transport',...</td>\n",
       "    </tr>\n",
       "    <tr>\n",
       "      <th>8</th>\n",
       "      <td>7</td>\n",
       "      <td>424</td>\n",
       "      <td>7_imaging_image_resolution_microscopy</td>\n",
       "      <td>[imaging, image, resolution, microscopy, recon...</td>\n",
       "      <td>[['laser', 'based', 'lensless', 'digital', 'ho...</td>\n",
       "    </tr>\n",
       "    <tr>\n",
       "      <th>9</th>\n",
       "      <td>8</td>\n",
       "      <td>401</td>\n",
       "      <td>8_climate_weather_forecast_sea</td>\n",
       "      <td>[climate, weather, forecast, sea, model, forec...</td>\n",
       "      <td>[['past', 'year', 'due', 'rapid', 'development...</td>\n",
       "    </tr>\n",
       "    <tr>\n",
       "      <th>10</th>\n",
       "      <td>9</td>\n",
       "      <td>392</td>\n",
       "      <td>9_quantum_qubit_entanglement_qubits</td>\n",
       "      <td>[quantum, qubit, entanglement, qubits, state, ...</td>\n",
       "      <td>[['development', 'scalable', 'high', 'fidelity...</td>\n",
       "    </tr>\n",
       "    <tr>\n",
       "      <th>11</th>\n",
       "      <td>10</td>\n",
       "      <td>336</td>\n",
       "      <td>10_nanoparticles_plasmonic_plasmon_nanoparticle</td>\n",
       "      <td>[nanoparticles, plasmonic, plasmon, nanopartic...</td>\n",
       "      <td>[['advancement', 'quantum', 'photonic', 'techn...</td>\n",
       "    </tr>\n",
       "    <tr>\n",
       "      <th>12</th>\n",
       "      <td>11</td>\n",
       "      <td>270</td>\n",
       "      <td>11_magnetic_spin_magnetization_magnetic field</td>\n",
       "      <td>[magnetic, spin, magnetization, magnetic field...</td>\n",
       "      <td>[['recent', 'discovery', 'emergent', 'magnetis...</td>\n",
       "    </tr>\n",
       "    <tr>\n",
       "      <th>13</th>\n",
       "      <td>12</td>\n",
       "      <td>248</td>\n",
       "      <td>12_cell_protein_membrane_dna</td>\n",
       "      <td>[cell, protein, membrane, dna, tissue, cellula...</td>\n",
       "      <td>[['chemotaxis', 'combine', 'three', 'process',...</td>\n",
       "    </tr>\n",
       "    <tr>\n",
       "      <th>14</th>\n",
       "      <td>13</td>\n",
       "      <td>228</td>\n",
       "      <td>13_seismic_earthquake_fault_rock</td>\n",
       "      <td>[seismic, earthquake, fault, rock, subsurface,...</td>\n",
       "      <td>[['carbon', 'capture', 'utilization', 'storage...</td>\n",
       "    </tr>\n",
       "    <tr>\n",
       "      <th>15</th>\n",
       "      <td>14</td>\n",
       "      <td>162</td>\n",
       "      <td>14_epidemic_disease_covid_pandemic</td>\n",
       "      <td>[epidemic, disease, covid, pandemic, infection...</td>\n",
       "      <td>[['diverse', 'non', 'pharmacological', 'interv...</td>\n",
       "    </tr>\n",
       "    <tr>\n",
       "      <th>16</th>\n",
       "      <td>15</td>\n",
       "      <td>139</td>\n",
       "      <td>15_reaction_molecule_catalyst_bond</td>\n",
       "      <td>[reaction, molecule, catalyst, bond, chemical,...</td>\n",
       "      <td>[['carbon', 'mitigation', 'one', 'challenging'...</td>\n",
       "    </tr>\n",
       "    <tr>\n",
       "      <th>17</th>\n",
       "      <td>16</td>\n",
       "      <td>131</td>\n",
       "      <td>16_relativity_black hole_gravitational_universe</td>\n",
       "      <td>[relativity, black hole, gravitational, univer...</td>\n",
       "      <td>[['despite', 'dominant', 'force', 'nature', 'l...</td>\n",
       "    </tr>\n",
       "    <tr>\n",
       "      <th>18</th>\n",
       "      <td>17</td>\n",
       "      <td>122</td>\n",
       "      <td>17_electrolyte_battery_electrode_electrochemical</td>\n",
       "      <td>[electrolyte, battery, electrode, electrochemi...</td>\n",
       "      <td>[['electrical', 'double', 'layer', 'edls', 'ar...</td>\n",
       "    </tr>\n",
       "    <tr>\n",
       "      <th>19</th>\n",
       "      <td>18</td>\n",
       "      <td>108</td>\n",
       "      <td>18_urban_city_mobility_traffic</td>\n",
       "      <td>[urban, city, mobility, traffic, travel, human...</td>\n",
       "      <td>[['understanding', 'relationship', 'spatial', ...</td>\n",
       "    </tr>\n",
       "    <tr>\n",
       "      <th>20</th>\n",
       "      <td>19</td>\n",
       "      <td>103</td>\n",
       "      <td>19_stress_deformation_strain_dislocation</td>\n",
       "      <td>[stress, deformation, strain, dislocation, fra...</td>\n",
       "      <td>[['present', 'analysis', 'crease', 'formation'...</td>\n",
       "    </tr>\n",
       "    <tr>\n",
       "      <th>21</th>\n",
       "      <td>20</td>\n",
       "      <td>100</td>\n",
       "      <td>20_graphene_graphene based_graphene oxide_grap...</td>\n",
       "      <td>[graphene, graphene based, graphene oxide, gra...</td>\n",
       "      <td>[['vertical', 'van', 'der', 'waals', 'vdw', 'h...</td>\n",
       "    </tr>\n",
       "  </tbody>\n",
       "</table>\n",
       "</div>"
      ],
      "text/plain": [
       "    Topic  Count                                               Name  \\\n",
       "0      -1  12262                          -1_field_state_model_time   \n",
       "1       0   1392                    0_flow_fluid_droplet_turbulence   \n",
       "2       1   1113                  1_network_student_social_learning   \n",
       "3       2    922                   2_detector_neutrino_neutron_beam   \n",
       "4       3    920                 3_photonic_optical_waveguide_state   \n",
       "5       4    703                   4_solar_mission_solar wind_earth   \n",
       "6       5    533                       5_image_mri_patient_clinical   \n",
       "7       6    483                       6_plasma_electron_ion_fusion   \n",
       "8       7    424              7_imaging_image_resolution_microscopy   \n",
       "9       8    401                     8_climate_weather_forecast_sea   \n",
       "10      9    392                9_quantum_qubit_entanglement_qubits   \n",
       "11     10    336    10_nanoparticles_plasmonic_plasmon_nanoparticle   \n",
       "12     11    270      11_magnetic_spin_magnetization_magnetic field   \n",
       "13     12    248                       12_cell_protein_membrane_dna   \n",
       "14     13    228                   13_seismic_earthquake_fault_rock   \n",
       "15     14    162                 14_epidemic_disease_covid_pandemic   \n",
       "16     15    139                 15_reaction_molecule_catalyst_bond   \n",
       "17     16    131    16_relativity_black hole_gravitational_universe   \n",
       "18     17    122   17_electrolyte_battery_electrode_electrochemical   \n",
       "19     18    108                     18_urban_city_mobility_traffic   \n",
       "20     19    103           19_stress_deformation_strain_dislocation   \n",
       "21     20    100  20_graphene_graphene based_graphene oxide_grap...   \n",
       "\n",
       "                                       Representation  \\\n",
       "0   [field, state, model, time, method, energy, qu...   \n",
       "1   [flow, fluid, droplet, turbulence, turbulent, ...   \n",
       "2   [network, student, social, learning, opinion, ...   \n",
       "3   [detector, neutrino, neutron, beam, muon, expe...   \n",
       "4   [photonic, optical, waveguide, state, integrat...   \n",
       "5   [solar, mission, solar wind, earth, wind, coro...   \n",
       "6   [image, mri, patient, clinical, dose, imaging,...   \n",
       "7   [plasma, electron, ion, fusion, magnetic, toka...   \n",
       "8   [imaging, image, resolution, microscopy, recon...   \n",
       "9   [climate, weather, forecast, sea, model, forec...   \n",
       "10  [quantum, qubit, entanglement, qubits, state, ...   \n",
       "11  [nanoparticles, plasmonic, plasmon, nanopartic...   \n",
       "12  [magnetic, spin, magnetization, magnetic field...   \n",
       "13  [cell, protein, membrane, dna, tissue, cellula...   \n",
       "14  [seismic, earthquake, fault, rock, subsurface,...   \n",
       "15  [epidemic, disease, covid, pandemic, infection...   \n",
       "16  [reaction, molecule, catalyst, bond, chemical,...   \n",
       "17  [relativity, black hole, gravitational, univer...   \n",
       "18  [electrolyte, battery, electrode, electrochemi...   \n",
       "19  [urban, city, mobility, traffic, travel, human...   \n",
       "20  [stress, deformation, strain, dislocation, fra...   \n",
       "21  [graphene, graphene based, graphene oxide, gra...   \n",
       "\n",
       "                                  Representative_Docs  \n",
       "0   [['fokker', 'planck', 'equation', 'partial', '...  \n",
       "1   [['machine', 'learned', 'ml', 'model', 'develo...  \n",
       "2   [['social', 'system', 'characterized', 'presen...  \n",
       "3   [['high', 'luminosity', 'high', 'energy', 'ele...  \n",
       "4   [['scalable', 'programmable', 'photonic', 'int...  \n",
       "5   [['one', 'source', 'solar', 'energetic', 'part...  \n",
       "6   [['tesla', '7t', 'apparent', 'diffusion', 'coe...  \n",
       "7   [['edge', 'plasma', 'turbulence', 'transport',...  \n",
       "8   [['laser', 'based', 'lensless', 'digital', 'ho...  \n",
       "9   [['past', 'year', 'due', 'rapid', 'development...  \n",
       "10  [['development', 'scalable', 'high', 'fidelity...  \n",
       "11  [['advancement', 'quantum', 'photonic', 'techn...  \n",
       "12  [['recent', 'discovery', 'emergent', 'magnetis...  \n",
       "13  [['chemotaxis', 'combine', 'three', 'process',...  \n",
       "14  [['carbon', 'capture', 'utilization', 'storage...  \n",
       "15  [['diverse', 'non', 'pharmacological', 'interv...  \n",
       "16  [['carbon', 'mitigation', 'one', 'challenging'...  \n",
       "17  [['despite', 'dominant', 'force', 'nature', 'l...  \n",
       "18  [['electrical', 'double', 'layer', 'edls', 'ar...  \n",
       "19  [['understanding', 'relationship', 'spatial', ...  \n",
       "20  [['present', 'analysis', 'crease', 'formation'...  \n",
       "21  [['vertical', 'van', 'der', 'waals', 'vdw', 'h...  "
      ]
     },
     "execution_count": 11,
     "metadata": {},
     "output_type": "execute_result"
    }
   ],
   "source": [
    "topic_model = BERTopic(\n",
    "    \n",
    "  embedding_model=embedding_model,\n",
    "  umap_model=umap_model,\n",
    "  hdbscan_model=hdbscan_model,\n",
    "  vectorizer_model=vectorizer_model,\n",
    "  ctfidf_model=ctfidf_model,\n",
    "\n",
    "  n_gram_range=(1,2),\n",
    "  top_n_words=10,\n",
    "  nr_topics=\"auto\"\n",
    ")\n",
    "\n",
    "# Train model\n",
    "topics, probs = topic_model.fit_transform(abstracts, embeddings)\n",
    "\n",
    "# Show topics\n",
    "topic_model.get_topic_info()"
   ]
  },
  {
   "cell_type": "code",
   "execution_count": 12,
   "metadata": {},
   "outputs": [
    {
     "name": "stderr",
     "output_type": "stream",
     "text": [
      "2024-10-21 12:32:42,579 - BERTopic - WARNING: Using a custom list of topic assignments may lead to errors if topic reduction techniques are used afterwards. Make sure that manually assigning topics is the last step in the pipeline.Note that topic embeddings will also be created through weightedc-TF-IDF embeddings instead of centroid embeddings.\n"
     ]
    },
    {
     "data": {
      "text/html": [
       "<div>\n",
       "<style scoped>\n",
       "    .dataframe tbody tr th:only-of-type {\n",
       "        vertical-align: middle;\n",
       "    }\n",
       "\n",
       "    .dataframe tbody tr th {\n",
       "        vertical-align: top;\n",
       "    }\n",
       "\n",
       "    .dataframe thead th {\n",
       "        text-align: right;\n",
       "    }\n",
       "</style>\n",
       "<table border=\"1\" class=\"dataframe\">\n",
       "  <thead>\n",
       "    <tr style=\"text-align: right;\">\n",
       "      <th></th>\n",
       "      <th>Topic</th>\n",
       "      <th>Count</th>\n",
       "      <th>Name</th>\n",
       "      <th>Representation</th>\n",
       "      <th>Representative_Docs</th>\n",
       "    </tr>\n",
       "  </thead>\n",
       "  <tbody>\n",
       "    <tr>\n",
       "      <th>0</th>\n",
       "      <td>-1</td>\n",
       "      <td>1</td>\n",
       "      <td>-1____</td>\n",
       "      <td>[, , , , , , , , , ]</td>\n",
       "      <td>[['fokker', 'planck', 'equation', 'partial', '...</td>\n",
       "    </tr>\n",
       "    <tr>\n",
       "      <th>1</th>\n",
       "      <td>0</td>\n",
       "      <td>3093</td>\n",
       "      <td>0_flow_fluid_model_equation</td>\n",
       "      <td>[flow, fluid, model, equation, number, simulat...</td>\n",
       "      <td>[['machine', 'learned', 'ml', 'model', 'develo...</td>\n",
       "    </tr>\n",
       "    <tr>\n",
       "      <th>2</th>\n",
       "      <td>1</td>\n",
       "      <td>2381</td>\n",
       "      <td>1_network_model_data_learning</td>\n",
       "      <td>[network, model, data, learning, method, syste...</td>\n",
       "      <td>[['social', 'system', 'characterized', 'presen...</td>\n",
       "    </tr>\n",
       "    <tr>\n",
       "      <th>3</th>\n",
       "      <td>2</td>\n",
       "      <td>1446</td>\n",
       "      <td>2_detector_beam_energy_experiment</td>\n",
       "      <td>[detector, beam, energy, experiment, high, neu...</td>\n",
       "      <td>[['high', 'luminosity', 'high', 'energy', 'ele...</td>\n",
       "    </tr>\n",
       "    <tr>\n",
       "      <th>4</th>\n",
       "      <td>3</td>\n",
       "      <td>3566</td>\n",
       "      <td>3_optical_state_system_photonic</td>\n",
       "      <td>[optical, state, system, photonic, mode, frequ...</td>\n",
       "      <td>[['scalable', 'programmable', 'photonic', 'int...</td>\n",
       "    </tr>\n",
       "    <tr>\n",
       "      <th>5</th>\n",
       "      <td>4</td>\n",
       "      <td>914</td>\n",
       "      <td>4_solar_wind_magnetic_solar wind</td>\n",
       "      <td>[solar, wind, magnetic, solar wind, earth, spa...</td>\n",
       "      <td>[['one', 'source', 'solar', 'energetic', 'part...</td>\n",
       "    </tr>\n",
       "    <tr>\n",
       "      <th>6</th>\n",
       "      <td>5</td>\n",
       "      <td>677</td>\n",
       "      <td>5_image_model_method_mri</td>\n",
       "      <td>[image, model, method, mri, imaging, patient, ...</td>\n",
       "      <td>[['tesla', '7t', 'apparent', 'diffusion', 'coe...</td>\n",
       "    </tr>\n",
       "    <tr>\n",
       "      <th>7</th>\n",
       "      <td>6</td>\n",
       "      <td>1179</td>\n",
       "      <td>6_plasma_electron_field_magnetic</td>\n",
       "      <td>[plasma, electron, field, magnetic, particle, ...</td>\n",
       "      <td>[['edge', 'plasma', 'turbulence', 'transport',...</td>\n",
       "    </tr>\n",
       "    <tr>\n",
       "      <th>8</th>\n",
       "      <td>7</td>\n",
       "      <td>1068</td>\n",
       "      <td>7_imaging_image_optical_resolution</td>\n",
       "      <td>[imaging, image, optical, resolution, method, ...</td>\n",
       "      <td>[['laser', 'based', 'lensless', 'digital', 'ho...</td>\n",
       "    </tr>\n",
       "    <tr>\n",
       "      <th>9</th>\n",
       "      <td>8</td>\n",
       "      <td>655</td>\n",
       "      <td>8_model_climate_data_weather</td>\n",
       "      <td>[model, climate, data, weather, forecast, ocea...</td>\n",
       "      <td>[['past', 'year', 'due', 'rapid', 'development...</td>\n",
       "    </tr>\n",
       "    <tr>\n",
       "      <th>10</th>\n",
       "      <td>9</td>\n",
       "      <td>1314</td>\n",
       "      <td>9_quantum_state_system_photon</td>\n",
       "      <td>[quantum, state, system, photon, atom, spin, c...</td>\n",
       "      <td>[['development', 'scalable', 'high', 'fidelity...</td>\n",
       "    </tr>\n",
       "    <tr>\n",
       "      <th>11</th>\n",
       "      <td>10</td>\n",
       "      <td>1034</td>\n",
       "      <td>10_optical_light_film_device</td>\n",
       "      <td>[optical, light, film, device, material, surfa...</td>\n",
       "      <td>[['advancement', 'quantum', 'photonic', 'techn...</td>\n",
       "    </tr>\n",
       "    <tr>\n",
       "      <th>12</th>\n",
       "      <td>11</td>\n",
       "      <td>743</td>\n",
       "      <td>11_magnetic_spin_field_magnetic field</td>\n",
       "      <td>[magnetic, spin, field, magnetic field, curren...</td>\n",
       "      <td>[['recent', 'discovery', 'emergent', 'magnetis...</td>\n",
       "    </tr>\n",
       "    <tr>\n",
       "      <th>13</th>\n",
       "      <td>12</td>\n",
       "      <td>502</td>\n",
       "      <td>12_cell_protein_model_active</td>\n",
       "      <td>[cell, protein, model, active, dynamic, system...</td>\n",
       "      <td>[['chemotaxis', 'combine', 'three', 'process',...</td>\n",
       "    </tr>\n",
       "    <tr>\n",
       "      <th>14</th>\n",
       "      <td>13</td>\n",
       "      <td>326</td>\n",
       "      <td>13_seismic_earthquake_data_model</td>\n",
       "      <td>[seismic, earthquake, data, model, method, inv...</td>\n",
       "      <td>[['carbon', 'capture', 'utilization', 'storage...</td>\n",
       "    </tr>\n",
       "    <tr>\n",
       "      <th>15</th>\n",
       "      <td>14</td>\n",
       "      <td>275</td>\n",
       "      <td>14_epidemic_covid_model_pandemic</td>\n",
       "      <td>[epidemic, covid, model, pandemic, disease, in...</td>\n",
       "      <td>[['diverse', 'non', 'pharmacological', 'interv...</td>\n",
       "    </tr>\n",
       "    <tr>\n",
       "      <th>16</th>\n",
       "      <td>15</td>\n",
       "      <td>557</td>\n",
       "      <td>15_reaction_molecular_chemical_molecule</td>\n",
       "      <td>[reaction, molecular, chemical, molecule, ener...</td>\n",
       "      <td>[['carbon', 'mitigation', 'one', 'challenging'...</td>\n",
       "    </tr>\n",
       "    <tr>\n",
       "      <th>17</th>\n",
       "      <td>16</td>\n",
       "      <td>586</td>\n",
       "      <td>16_theory_quantum_field_equation</td>\n",
       "      <td>[theory, quantum, field, equation, gravitation...</td>\n",
       "      <td>[['despite', 'dominant', 'force', 'nature', 'l...</td>\n",
       "    </tr>\n",
       "    <tr>\n",
       "      <th>18</th>\n",
       "      <td>17</td>\n",
       "      <td>285</td>\n",
       "      <td>17_electrolyte_ion_electrode_battery</td>\n",
       "      <td>[electrolyte, ion, electrode, battery, electro...</td>\n",
       "      <td>[['electrical', 'double', 'layer', 'edls', 'ar...</td>\n",
       "    </tr>\n",
       "    <tr>\n",
       "      <th>19</th>\n",
       "      <td>18</td>\n",
       "      <td>243</td>\n",
       "      <td>18_urban_city_traffic_mobility</td>\n",
       "      <td>[urban, city, traffic, mobility, network, data...</td>\n",
       "      <td>[['understanding', 'relationship', 'spatial', ...</td>\n",
       "    </tr>\n",
       "    <tr>\n",
       "      <th>20</th>\n",
       "      <td>19</td>\n",
       "      <td>294</td>\n",
       "      <td>19_material_stress_strain_model</td>\n",
       "      <td>[material, stress, strain, model, elastic, mec...</td>\n",
       "      <td>[['present', 'analysis', 'crease', 'formation'...</td>\n",
       "    </tr>\n",
       "    <tr>\n",
       "      <th>21</th>\n",
       "      <td>20</td>\n",
       "      <td>353</td>\n",
       "      <td>20_graphene_material_device_thermal</td>\n",
       "      <td>[graphene, material, device, thermal, 2d, prop...</td>\n",
       "      <td>[['vertical', 'van', 'der', 'waals', 'vdw', 'h...</td>\n",
       "    </tr>\n",
       "  </tbody>\n",
       "</table>\n",
       "</div>"
      ],
      "text/plain": [
       "    Topic  Count                                     Name  \\\n",
       "0      -1      1                                   -1____   \n",
       "1       0   3093              0_flow_fluid_model_equation   \n",
       "2       1   2381            1_network_model_data_learning   \n",
       "3       2   1446        2_detector_beam_energy_experiment   \n",
       "4       3   3566          3_optical_state_system_photonic   \n",
       "5       4    914         4_solar_wind_magnetic_solar wind   \n",
       "6       5    677                 5_image_model_method_mri   \n",
       "7       6   1179         6_plasma_electron_field_magnetic   \n",
       "8       7   1068       7_imaging_image_optical_resolution   \n",
       "9       8    655             8_model_climate_data_weather   \n",
       "10      9   1314            9_quantum_state_system_photon   \n",
       "11     10   1034             10_optical_light_film_device   \n",
       "12     11    743    11_magnetic_spin_field_magnetic field   \n",
       "13     12    502             12_cell_protein_model_active   \n",
       "14     13    326         13_seismic_earthquake_data_model   \n",
       "15     14    275         14_epidemic_covid_model_pandemic   \n",
       "16     15    557  15_reaction_molecular_chemical_molecule   \n",
       "17     16    586         16_theory_quantum_field_equation   \n",
       "18     17    285     17_electrolyte_ion_electrode_battery   \n",
       "19     18    243           18_urban_city_traffic_mobility   \n",
       "20     19    294          19_material_stress_strain_model   \n",
       "21     20    353      20_graphene_material_device_thermal   \n",
       "\n",
       "                                       Representation  \\\n",
       "0                                [, , , , , , , , , ]   \n",
       "1   [flow, fluid, model, equation, number, simulat...   \n",
       "2   [network, model, data, learning, method, syste...   \n",
       "3   [detector, beam, energy, experiment, high, neu...   \n",
       "4   [optical, state, system, photonic, mode, frequ...   \n",
       "5   [solar, wind, magnetic, solar wind, earth, spa...   \n",
       "6   [image, model, method, mri, imaging, patient, ...   \n",
       "7   [plasma, electron, field, magnetic, particle, ...   \n",
       "8   [imaging, image, optical, resolution, method, ...   \n",
       "9   [model, climate, data, weather, forecast, ocea...   \n",
       "10  [quantum, state, system, photon, atom, spin, c...   \n",
       "11  [optical, light, film, device, material, surfa...   \n",
       "12  [magnetic, spin, field, magnetic field, curren...   \n",
       "13  [cell, protein, model, active, dynamic, system...   \n",
       "14  [seismic, earthquake, data, model, method, inv...   \n",
       "15  [epidemic, covid, model, pandemic, disease, in...   \n",
       "16  [reaction, molecular, chemical, molecule, ener...   \n",
       "17  [theory, quantum, field, equation, gravitation...   \n",
       "18  [electrolyte, ion, electrode, battery, electro...   \n",
       "19  [urban, city, traffic, mobility, network, data...   \n",
       "20  [material, stress, strain, model, elastic, mec...   \n",
       "21  [graphene, material, device, thermal, 2d, prop...   \n",
       "\n",
       "                                  Representative_Docs  \n",
       "0   [['fokker', 'planck', 'equation', 'partial', '...  \n",
       "1   [['machine', 'learned', 'ml', 'model', 'develo...  \n",
       "2   [['social', 'system', 'characterized', 'presen...  \n",
       "3   [['high', 'luminosity', 'high', 'energy', 'ele...  \n",
       "4   [['scalable', 'programmable', 'photonic', 'int...  \n",
       "5   [['one', 'source', 'solar', 'energetic', 'part...  \n",
       "6   [['tesla', '7t', 'apparent', 'diffusion', 'coe...  \n",
       "7   [['edge', 'plasma', 'turbulence', 'transport',...  \n",
       "8   [['laser', 'based', 'lensless', 'digital', 'ho...  \n",
       "9   [['past', 'year', 'due', 'rapid', 'development...  \n",
       "10  [['development', 'scalable', 'high', 'fidelity...  \n",
       "11  [['advancement', 'quantum', 'photonic', 'techn...  \n",
       "12  [['recent', 'discovery', 'emergent', 'magnetis...  \n",
       "13  [['chemotaxis', 'combine', 'three', 'process',...  \n",
       "14  [['carbon', 'capture', 'utilization', 'storage...  \n",
       "15  [['diverse', 'non', 'pharmacological', 'interv...  \n",
       "16  [['carbon', 'mitigation', 'one', 'challenging'...  \n",
       "17  [['despite', 'dominant', 'force', 'nature', 'l...  \n",
       "18  [['electrical', 'double', 'layer', 'edls', 'ar...  \n",
       "19  [['understanding', 'relationship', 'spatial', ...  \n",
       "20  [['present', 'analysis', 'crease', 'formation'...  \n",
       "21  [['vertical', 'van', 'der', 'waals', 'vdw', 'h...  "
      ]
     },
     "execution_count": 12,
     "metadata": {},
     "output_type": "execute_result"
    }
   ],
   "source": [
    "new_topics = topic_model.reduce_outliers(abstracts, topics, strategy=\"c-tf-idf\")\n",
    "topic_model.update_topics(abstracts, topics=new_topics)\n",
    "topic_model.get_topic_info()"
   ]
  },
  {
   "cell_type": "code",
   "execution_count": 8,
   "metadata": {},
   "outputs": [],
   "source": [
    "def calculate_coherence_score(model, abstracts, topics):\n",
    "    documents = pd.DataFrame({\"Abstracts\": abstracts, \"ID\": range(len(abstracts)), \"Topic\": topics})\n",
    "    documents_per_topic = documents.groupby(['Topic'], as_index=False).agg({'Abstracts': ' '.join})\n",
    "\n",
    "    analyzer = model.vectorizer_model.build_analyzer()\n",
    "    tokens = [analyzer(doc) for doc in documents_per_topic.Abstracts]\n",
    "\n",
    "    dictionary = Dictionary(tokens)\n",
    "    corpus = [dictionary.doc2bow(token) for token in tokens]\n",
    "\n",
    "    topic_words = [[word for word, _ in model.get_topic(topic)] for topic in range(len(set(topics))-1)]\n",
    "\n",
    "    coherence_model = CoherenceModel(topics=topic_words, texts=tokens, corpus=corpus, dictionary=dictionary, coherence='c_v')\n",
    "    coherence = coherence_model.get_coherence()\n",
    "    \n",
    "    return coherence"
   ]
  },
  {
   "cell_type": "code",
   "execution_count": 13,
   "metadata": {},
   "outputs": [
    {
     "name": "stdout",
     "output_type": "stream",
     "text": [
      "0.7649494668540648\n"
     ]
    }
   ],
   "source": [
    "coherence = calculate_coherence_score(topic_model, abstracts, new_topics)\n",
    "print(coherence)"
   ]
  },
  {
   "cell_type": "code",
   "execution_count": null,
   "metadata": {},
   "outputs": [],
   "source": [
    "with open('physics_topics_over_time.pkl', 'rb') as f:\n",
    "    topics_over_time = pickle.load(f)\n",
    "\n",
    "topics_over_time_df = pd.DataFrame(topics_over_time, columns=[\"Topic\", \"Timestamp\", \"Frequency\"])\n",
    "\n",
    "# Convert the 'Timestamp' column to a datetime object for easier grouping\n",
    "topics_over_time_df['Timestamp'] = pd.to_datetime(topics_over_time_df['Timestamp'])\n",
    "\n",
    "# Group by month and topic, summing only the 'Frequency' column\n",
    "monthly_data = topics_over_time_df.groupby([topics_over_time_df['Timestamp'].dt.to_period('M'), 'Topic'])['Frequency'].sum().reset_index()"
   ]
  },
  {
   "cell_type": "code",
   "execution_count": 8,
   "metadata": {},
   "outputs": [
    {
     "data": {
      "application/vnd.plotly.v1+json": {
       "config": {
        "plotlyServerURL": "https://plot.ly"
       },
       "data": [
        {
         "customdata": [
          [
           0,
           "flow | fluid | model | equation | number",
           3093
          ],
          [
           1,
           "network | model | data | learning | method",
           2381
          ],
          [
           2,
           "detector | beam | energy | experiment | high",
           1446
          ],
          [
           3,
           "optical | state | system | photonic | mode",
           3566
          ],
          [
           4,
           "solar | wind | magnetic | solar wind | earth",
           914
          ],
          [
           5,
           "image | model | method | mri | imaging",
           677
          ],
          [
           6,
           "plasma | electron | field | magnetic | particle",
           1179
          ],
          [
           7,
           "imaging | image | optical | resolution | method",
           1068
          ],
          [
           8,
           "model | climate | data | weather | forecast",
           655
          ],
          [
           9,
           "quantum | state | system | photon | atom",
           1314
          ],
          [
           10,
           "optical | light | film | device | material",
           1034
          ],
          [
           11,
           "magnetic | spin | field | magnetic field | current",
           743
          ],
          [
           12,
           "cell | protein | model | active | dynamic",
           502
          ],
          [
           13,
           "seismic | earthquake | data | model | method",
           326
          ],
          [
           14,
           "epidemic | covid | model | pandemic | disease",
           275
          ],
          [
           15,
           "reaction | molecular | chemical | molecule | energy",
           557
          ],
          [
           16,
           "theory | quantum | field | equation | gravitational",
           586
          ],
          [
           17,
           "electrolyte | ion | electrode | battery | electrochemical",
           285
          ],
          [
           18,
           "urban | city | traffic | mobility | network",
           243
          ],
          [
           19,
           "material | stress | strain | model | elastic",
           294
          ],
          [
           20,
           "graphene | material | device | thermal | 2d",
           353
          ]
         ],
         "hovertemplate": "<b>Topic %{customdata[0]}</b><br>%{customdata[1]}<br>Size: %{customdata[2]}",
         "legendgroup": "",
         "marker": {
          "color": "#B0BEC5",
          "line": {
           "color": "DarkSlateGrey",
           "width": 2
          },
          "size": [
           3093,
           2381,
           1446,
           3566,
           914,
           677,
           1179,
           1068,
           655,
           1314,
           1034,
           743,
           502,
           326,
           275,
           557,
           586,
           285,
           243,
           294,
           353
          ],
          "sizemode": "area",
          "sizeref": 2.22875,
          "symbol": "circle"
         },
         "mode": "markers",
         "name": "",
         "orientation": "v",
         "showlegend": false,
         "type": "scatter",
         "x": [
          11.803741455078125,
          11.912100791931152,
          14.642781257629395,
          0.12185153365135193,
          15.026680946350098,
          10.544639587402344,
          14.545269012451172,
          10.721888542175293,
          14.249299049377441,
          0.42481422424316406,
          25.058292388916016,
          14.214632987976074,
          9.952004432678223,
          14.407049179077148,
          10.858296394348145,
          9.835640907287598,
          0.61449134349823,
          14.817291259765625,
          12.197218894958496,
          25.236814498901367,
          24.8955020904541
         ],
         "xaxis": "x",
         "y": [
          -8.932671546936035,
          -8.673734664916992,
          13.830172538757324,
          -4.113264083862305,
          13.10709285736084,
          -9.121465682983398,
          13.26154899597168,
          -8.914278030395508,
          0.8006923198699951,
          -4.41701078414917,
          6.886523723602295,
          13.493309020996094,
          -9.141215324401855,
          0.9609186053276062,
          -9.516794204711914,
          -9.168993949890137,
          -4.606633186340332,
          13.5253267288208,
          -8.473044395446777,
          6.707927227020264,
          7.049323558807373
         ],
         "yaxis": "y"
        }
       ],
       "layout": {
        "annotations": [
         {
          "showarrow": false,
          "text": "D1",
          "x": 0.10357380360364914,
          "y": 2.480192542076111,
          "yshift": 10
         },
         {
          "showarrow": false,
          "text": "D2",
          "x": 14.56295523867011,
          "xshift": 10,
          "y": 15.904698419570924
         }
        ],
        "height": 650,
        "hoverlabel": {
         "bgcolor": "white",
         "font": {
          "family": "Rockwell",
          "size": 16
         }
        },
        "legend": {
         "itemsizing": "constant",
         "tracegroupgap": 0
        },
        "margin": {
         "t": 60
        },
        "shapes": [
         {
          "line": {
           "color": "#CFD8DC",
           "width": 2
          },
          "type": "line",
          "x0": 14.56295523867011,
          "x1": 14.56295523867011,
          "y0": -10.944313335418702,
          "y1": 15.904698419570924
         },
         {
          "line": {
           "color": "#9E9E9E",
           "width": 2
          },
          "type": "line",
          "x0": 0.10357380360364914,
          "x1": 29.02233667373657,
          "y0": 2.480192542076111,
          "y1": 2.480192542076111
         }
        ],
        "sliders": [
         {
          "active": 0,
          "pad": {
           "t": 50
          },
          "steps": [
           {
            "args": [
             {
              "marker.color": [
               [
                "red",
                "#B0BEC5",
                "#B0BEC5",
                "#B0BEC5",
                "#B0BEC5",
                "#B0BEC5",
                "#B0BEC5",
                "#B0BEC5",
                "#B0BEC5",
                "#B0BEC5",
                "#B0BEC5",
                "#B0BEC5",
                "#B0BEC5",
                "#B0BEC5",
                "#B0BEC5",
                "#B0BEC5",
                "#B0BEC5",
                "#B0BEC5",
                "#B0BEC5",
                "#B0BEC5",
                "#B0BEC5"
               ]
              ]
             }
            ],
            "label": "Topic 0",
            "method": "update"
           },
           {
            "args": [
             {
              "marker.color": [
               [
                "#B0BEC5",
                "red",
                "#B0BEC5",
                "#B0BEC5",
                "#B0BEC5",
                "#B0BEC5",
                "#B0BEC5",
                "#B0BEC5",
                "#B0BEC5",
                "#B0BEC5",
                "#B0BEC5",
                "#B0BEC5",
                "#B0BEC5",
                "#B0BEC5",
                "#B0BEC5",
                "#B0BEC5",
                "#B0BEC5",
                "#B0BEC5",
                "#B0BEC5",
                "#B0BEC5",
                "#B0BEC5"
               ]
              ]
             }
            ],
            "label": "Topic 1",
            "method": "update"
           },
           {
            "args": [
             {
              "marker.color": [
               [
                "#B0BEC5",
                "#B0BEC5",
                "red",
                "#B0BEC5",
                "#B0BEC5",
                "#B0BEC5",
                "#B0BEC5",
                "#B0BEC5",
                "#B0BEC5",
                "#B0BEC5",
                "#B0BEC5",
                "#B0BEC5",
                "#B0BEC5",
                "#B0BEC5",
                "#B0BEC5",
                "#B0BEC5",
                "#B0BEC5",
                "#B0BEC5",
                "#B0BEC5",
                "#B0BEC5",
                "#B0BEC5"
               ]
              ]
             }
            ],
            "label": "Topic 2",
            "method": "update"
           },
           {
            "args": [
             {
              "marker.color": [
               [
                "#B0BEC5",
                "#B0BEC5",
                "#B0BEC5",
                "red",
                "#B0BEC5",
                "#B0BEC5",
                "#B0BEC5",
                "#B0BEC5",
                "#B0BEC5",
                "#B0BEC5",
                "#B0BEC5",
                "#B0BEC5",
                "#B0BEC5",
                "#B0BEC5",
                "#B0BEC5",
                "#B0BEC5",
                "#B0BEC5",
                "#B0BEC5",
                "#B0BEC5",
                "#B0BEC5",
                "#B0BEC5"
               ]
              ]
             }
            ],
            "label": "Topic 3",
            "method": "update"
           },
           {
            "args": [
             {
              "marker.color": [
               [
                "#B0BEC5",
                "#B0BEC5",
                "#B0BEC5",
                "#B0BEC5",
                "red",
                "#B0BEC5",
                "#B0BEC5",
                "#B0BEC5",
                "#B0BEC5",
                "#B0BEC5",
                "#B0BEC5",
                "#B0BEC5",
                "#B0BEC5",
                "#B0BEC5",
                "#B0BEC5",
                "#B0BEC5",
                "#B0BEC5",
                "#B0BEC5",
                "#B0BEC5",
                "#B0BEC5",
                "#B0BEC5"
               ]
              ]
             }
            ],
            "label": "Topic 4",
            "method": "update"
           },
           {
            "args": [
             {
              "marker.color": [
               [
                "#B0BEC5",
                "#B0BEC5",
                "#B0BEC5",
                "#B0BEC5",
                "#B0BEC5",
                "red",
                "#B0BEC5",
                "#B0BEC5",
                "#B0BEC5",
                "#B0BEC5",
                "#B0BEC5",
                "#B0BEC5",
                "#B0BEC5",
                "#B0BEC5",
                "#B0BEC5",
                "#B0BEC5",
                "#B0BEC5",
                "#B0BEC5",
                "#B0BEC5",
                "#B0BEC5",
                "#B0BEC5"
               ]
              ]
             }
            ],
            "label": "Topic 5",
            "method": "update"
           },
           {
            "args": [
             {
              "marker.color": [
               [
                "#B0BEC5",
                "#B0BEC5",
                "#B0BEC5",
                "#B0BEC5",
                "#B0BEC5",
                "#B0BEC5",
                "red",
                "#B0BEC5",
                "#B0BEC5",
                "#B0BEC5",
                "#B0BEC5",
                "#B0BEC5",
                "#B0BEC5",
                "#B0BEC5",
                "#B0BEC5",
                "#B0BEC5",
                "#B0BEC5",
                "#B0BEC5",
                "#B0BEC5",
                "#B0BEC5",
                "#B0BEC5"
               ]
              ]
             }
            ],
            "label": "Topic 6",
            "method": "update"
           },
           {
            "args": [
             {
              "marker.color": [
               [
                "#B0BEC5",
                "#B0BEC5",
                "#B0BEC5",
                "#B0BEC5",
                "#B0BEC5",
                "#B0BEC5",
                "#B0BEC5",
                "red",
                "#B0BEC5",
                "#B0BEC5",
                "#B0BEC5",
                "#B0BEC5",
                "#B0BEC5",
                "#B0BEC5",
                "#B0BEC5",
                "#B0BEC5",
                "#B0BEC5",
                "#B0BEC5",
                "#B0BEC5",
                "#B0BEC5",
                "#B0BEC5"
               ]
              ]
             }
            ],
            "label": "Topic 7",
            "method": "update"
           },
           {
            "args": [
             {
              "marker.color": [
               [
                "#B0BEC5",
                "#B0BEC5",
                "#B0BEC5",
                "#B0BEC5",
                "#B0BEC5",
                "#B0BEC5",
                "#B0BEC5",
                "#B0BEC5",
                "red",
                "#B0BEC5",
                "#B0BEC5",
                "#B0BEC5",
                "#B0BEC5",
                "#B0BEC5",
                "#B0BEC5",
                "#B0BEC5",
                "#B0BEC5",
                "#B0BEC5",
                "#B0BEC5",
                "#B0BEC5",
                "#B0BEC5"
               ]
              ]
             }
            ],
            "label": "Topic 8",
            "method": "update"
           },
           {
            "args": [
             {
              "marker.color": [
               [
                "#B0BEC5",
                "#B0BEC5",
                "#B0BEC5",
                "#B0BEC5",
                "#B0BEC5",
                "#B0BEC5",
                "#B0BEC5",
                "#B0BEC5",
                "#B0BEC5",
                "red",
                "#B0BEC5",
                "#B0BEC5",
                "#B0BEC5",
                "#B0BEC5",
                "#B0BEC5",
                "#B0BEC5",
                "#B0BEC5",
                "#B0BEC5",
                "#B0BEC5",
                "#B0BEC5",
                "#B0BEC5"
               ]
              ]
             }
            ],
            "label": "Topic 9",
            "method": "update"
           },
           {
            "args": [
             {
              "marker.color": [
               [
                "#B0BEC5",
                "#B0BEC5",
                "#B0BEC5",
                "#B0BEC5",
                "#B0BEC5",
                "#B0BEC5",
                "#B0BEC5",
                "#B0BEC5",
                "#B0BEC5",
                "#B0BEC5",
                "red",
                "#B0BEC5",
                "#B0BEC5",
                "#B0BEC5",
                "#B0BEC5",
                "#B0BEC5",
                "#B0BEC5",
                "#B0BEC5",
                "#B0BEC5",
                "#B0BEC5",
                "#B0BEC5"
               ]
              ]
             }
            ],
            "label": "Topic 10",
            "method": "update"
           },
           {
            "args": [
             {
              "marker.color": [
               [
                "#B0BEC5",
                "#B0BEC5",
                "#B0BEC5",
                "#B0BEC5",
                "#B0BEC5",
                "#B0BEC5",
                "#B0BEC5",
                "#B0BEC5",
                "#B0BEC5",
                "#B0BEC5",
                "#B0BEC5",
                "red",
                "#B0BEC5",
                "#B0BEC5",
                "#B0BEC5",
                "#B0BEC5",
                "#B0BEC5",
                "#B0BEC5",
                "#B0BEC5",
                "#B0BEC5",
                "#B0BEC5"
               ]
              ]
             }
            ],
            "label": "Topic 11",
            "method": "update"
           },
           {
            "args": [
             {
              "marker.color": [
               [
                "#B0BEC5",
                "#B0BEC5",
                "#B0BEC5",
                "#B0BEC5",
                "#B0BEC5",
                "#B0BEC5",
                "#B0BEC5",
                "#B0BEC5",
                "#B0BEC5",
                "#B0BEC5",
                "#B0BEC5",
                "#B0BEC5",
                "red",
                "#B0BEC5",
                "#B0BEC5",
                "#B0BEC5",
                "#B0BEC5",
                "#B0BEC5",
                "#B0BEC5",
                "#B0BEC5",
                "#B0BEC5"
               ]
              ]
             }
            ],
            "label": "Topic 12",
            "method": "update"
           },
           {
            "args": [
             {
              "marker.color": [
               [
                "#B0BEC5",
                "#B0BEC5",
                "#B0BEC5",
                "#B0BEC5",
                "#B0BEC5",
                "#B0BEC5",
                "#B0BEC5",
                "#B0BEC5",
                "#B0BEC5",
                "#B0BEC5",
                "#B0BEC5",
                "#B0BEC5",
                "#B0BEC5",
                "red",
                "#B0BEC5",
                "#B0BEC5",
                "#B0BEC5",
                "#B0BEC5",
                "#B0BEC5",
                "#B0BEC5",
                "#B0BEC5"
               ]
              ]
             }
            ],
            "label": "Topic 13",
            "method": "update"
           },
           {
            "args": [
             {
              "marker.color": [
               [
                "#B0BEC5",
                "#B0BEC5",
                "#B0BEC5",
                "#B0BEC5",
                "#B0BEC5",
                "#B0BEC5",
                "#B0BEC5",
                "#B0BEC5",
                "#B0BEC5",
                "#B0BEC5",
                "#B0BEC5",
                "#B0BEC5",
                "#B0BEC5",
                "#B0BEC5",
                "red",
                "#B0BEC5",
                "#B0BEC5",
                "#B0BEC5",
                "#B0BEC5",
                "#B0BEC5",
                "#B0BEC5"
               ]
              ]
             }
            ],
            "label": "Topic 14",
            "method": "update"
           },
           {
            "args": [
             {
              "marker.color": [
               [
                "#B0BEC5",
                "#B0BEC5",
                "#B0BEC5",
                "#B0BEC5",
                "#B0BEC5",
                "#B0BEC5",
                "#B0BEC5",
                "#B0BEC5",
                "#B0BEC5",
                "#B0BEC5",
                "#B0BEC5",
                "#B0BEC5",
                "#B0BEC5",
                "#B0BEC5",
                "#B0BEC5",
                "red",
                "#B0BEC5",
                "#B0BEC5",
                "#B0BEC5",
                "#B0BEC5",
                "#B0BEC5"
               ]
              ]
             }
            ],
            "label": "Topic 15",
            "method": "update"
           },
           {
            "args": [
             {
              "marker.color": [
               [
                "#B0BEC5",
                "#B0BEC5",
                "#B0BEC5",
                "#B0BEC5",
                "#B0BEC5",
                "#B0BEC5",
                "#B0BEC5",
                "#B0BEC5",
                "#B0BEC5",
                "#B0BEC5",
                "#B0BEC5",
                "#B0BEC5",
                "#B0BEC5",
                "#B0BEC5",
                "#B0BEC5",
                "#B0BEC5",
                "red",
                "#B0BEC5",
                "#B0BEC5",
                "#B0BEC5",
                "#B0BEC5"
               ]
              ]
             }
            ],
            "label": "Topic 16",
            "method": "update"
           },
           {
            "args": [
             {
              "marker.color": [
               [
                "#B0BEC5",
                "#B0BEC5",
                "#B0BEC5",
                "#B0BEC5",
                "#B0BEC5",
                "#B0BEC5",
                "#B0BEC5",
                "#B0BEC5",
                "#B0BEC5",
                "#B0BEC5",
                "#B0BEC5",
                "#B0BEC5",
                "#B0BEC5",
                "#B0BEC5",
                "#B0BEC5",
                "#B0BEC5",
                "#B0BEC5",
                "red",
                "#B0BEC5",
                "#B0BEC5",
                "#B0BEC5"
               ]
              ]
             }
            ],
            "label": "Topic 17",
            "method": "update"
           },
           {
            "args": [
             {
              "marker.color": [
               [
                "#B0BEC5",
                "#B0BEC5",
                "#B0BEC5",
                "#B0BEC5",
                "#B0BEC5",
                "#B0BEC5",
                "#B0BEC5",
                "#B0BEC5",
                "#B0BEC5",
                "#B0BEC5",
                "#B0BEC5",
                "#B0BEC5",
                "#B0BEC5",
                "#B0BEC5",
                "#B0BEC5",
                "#B0BEC5",
                "#B0BEC5",
                "#B0BEC5",
                "red",
                "#B0BEC5",
                "#B0BEC5"
               ]
              ]
             }
            ],
            "label": "Topic 18",
            "method": "update"
           },
           {
            "args": [
             {
              "marker.color": [
               [
                "#B0BEC5",
                "#B0BEC5",
                "#B0BEC5",
                "#B0BEC5",
                "#B0BEC5",
                "#B0BEC5",
                "#B0BEC5",
                "#B0BEC5",
                "#B0BEC5",
                "#B0BEC5",
                "#B0BEC5",
                "#B0BEC5",
                "#B0BEC5",
                "#B0BEC5",
                "#B0BEC5",
                "#B0BEC5",
                "#B0BEC5",
                "#B0BEC5",
                "#B0BEC5",
                "red",
                "#B0BEC5"
               ]
              ]
             }
            ],
            "label": "Topic 19",
            "method": "update"
           },
           {
            "args": [
             {
              "marker.color": [
               [
                "#B0BEC5",
                "#B0BEC5",
                "#B0BEC5",
                "#B0BEC5",
                "#B0BEC5",
                "#B0BEC5",
                "#B0BEC5",
                "#B0BEC5",
                "#B0BEC5",
                "#B0BEC5",
                "#B0BEC5",
                "#B0BEC5",
                "#B0BEC5",
                "#B0BEC5",
                "#B0BEC5",
                "#B0BEC5",
                "#B0BEC5",
                "#B0BEC5",
                "#B0BEC5",
                "#B0BEC5",
                "red"
               ]
              ]
             }
            ],
            "label": "Topic 20",
            "method": "update"
           }
          ]
         }
        ],
        "template": {
         "data": {
          "bar": [
           {
            "error_x": {
             "color": "rgb(36,36,36)"
            },
            "error_y": {
             "color": "rgb(36,36,36)"
            },
            "marker": {
             "line": {
              "color": "white",
              "width": 0.5
             },
             "pattern": {
              "fillmode": "overlay",
              "size": 10,
              "solidity": 0.2
             }
            },
            "type": "bar"
           }
          ],
          "barpolar": [
           {
            "marker": {
             "line": {
              "color": "white",
              "width": 0.5
             },
             "pattern": {
              "fillmode": "overlay",
              "size": 10,
              "solidity": 0.2
             }
            },
            "type": "barpolar"
           }
          ],
          "carpet": [
           {
            "aaxis": {
             "endlinecolor": "rgb(36,36,36)",
             "gridcolor": "white",
             "linecolor": "white",
             "minorgridcolor": "white",
             "startlinecolor": "rgb(36,36,36)"
            },
            "baxis": {
             "endlinecolor": "rgb(36,36,36)",
             "gridcolor": "white",
             "linecolor": "white",
             "minorgridcolor": "white",
             "startlinecolor": "rgb(36,36,36)"
            },
            "type": "carpet"
           }
          ],
          "choropleth": [
           {
            "colorbar": {
             "outlinewidth": 1,
             "tickcolor": "rgb(36,36,36)",
             "ticks": "outside"
            },
            "type": "choropleth"
           }
          ],
          "contour": [
           {
            "colorbar": {
             "outlinewidth": 1,
             "tickcolor": "rgb(36,36,36)",
             "ticks": "outside"
            },
            "colorscale": [
             [
              0,
              "#440154"
             ],
             [
              0.1111111111111111,
              "#482878"
             ],
             [
              0.2222222222222222,
              "#3e4989"
             ],
             [
              0.3333333333333333,
              "#31688e"
             ],
             [
              0.4444444444444444,
              "#26828e"
             ],
             [
              0.5555555555555556,
              "#1f9e89"
             ],
             [
              0.6666666666666666,
              "#35b779"
             ],
             [
              0.7777777777777778,
              "#6ece58"
             ],
             [
              0.8888888888888888,
              "#b5de2b"
             ],
             [
              1,
              "#fde725"
             ]
            ],
            "type": "contour"
           }
          ],
          "contourcarpet": [
           {
            "colorbar": {
             "outlinewidth": 1,
             "tickcolor": "rgb(36,36,36)",
             "ticks": "outside"
            },
            "type": "contourcarpet"
           }
          ],
          "heatmap": [
           {
            "colorbar": {
             "outlinewidth": 1,
             "tickcolor": "rgb(36,36,36)",
             "ticks": "outside"
            },
            "colorscale": [
             [
              0,
              "#440154"
             ],
             [
              0.1111111111111111,
              "#482878"
             ],
             [
              0.2222222222222222,
              "#3e4989"
             ],
             [
              0.3333333333333333,
              "#31688e"
             ],
             [
              0.4444444444444444,
              "#26828e"
             ],
             [
              0.5555555555555556,
              "#1f9e89"
             ],
             [
              0.6666666666666666,
              "#35b779"
             ],
             [
              0.7777777777777778,
              "#6ece58"
             ],
             [
              0.8888888888888888,
              "#b5de2b"
             ],
             [
              1,
              "#fde725"
             ]
            ],
            "type": "heatmap"
           }
          ],
          "heatmapgl": [
           {
            "colorbar": {
             "outlinewidth": 1,
             "tickcolor": "rgb(36,36,36)",
             "ticks": "outside"
            },
            "colorscale": [
             [
              0,
              "#440154"
             ],
             [
              0.1111111111111111,
              "#482878"
             ],
             [
              0.2222222222222222,
              "#3e4989"
             ],
             [
              0.3333333333333333,
              "#31688e"
             ],
             [
              0.4444444444444444,
              "#26828e"
             ],
             [
              0.5555555555555556,
              "#1f9e89"
             ],
             [
              0.6666666666666666,
              "#35b779"
             ],
             [
              0.7777777777777778,
              "#6ece58"
             ],
             [
              0.8888888888888888,
              "#b5de2b"
             ],
             [
              1,
              "#fde725"
             ]
            ],
            "type": "heatmapgl"
           }
          ],
          "histogram": [
           {
            "marker": {
             "line": {
              "color": "white",
              "width": 0.6
             }
            },
            "type": "histogram"
           }
          ],
          "histogram2d": [
           {
            "colorbar": {
             "outlinewidth": 1,
             "tickcolor": "rgb(36,36,36)",
             "ticks": "outside"
            },
            "colorscale": [
             [
              0,
              "#440154"
             ],
             [
              0.1111111111111111,
              "#482878"
             ],
             [
              0.2222222222222222,
              "#3e4989"
             ],
             [
              0.3333333333333333,
              "#31688e"
             ],
             [
              0.4444444444444444,
              "#26828e"
             ],
             [
              0.5555555555555556,
              "#1f9e89"
             ],
             [
              0.6666666666666666,
              "#35b779"
             ],
             [
              0.7777777777777778,
              "#6ece58"
             ],
             [
              0.8888888888888888,
              "#b5de2b"
             ],
             [
              1,
              "#fde725"
             ]
            ],
            "type": "histogram2d"
           }
          ],
          "histogram2dcontour": [
           {
            "colorbar": {
             "outlinewidth": 1,
             "tickcolor": "rgb(36,36,36)",
             "ticks": "outside"
            },
            "colorscale": [
             [
              0,
              "#440154"
             ],
             [
              0.1111111111111111,
              "#482878"
             ],
             [
              0.2222222222222222,
              "#3e4989"
             ],
             [
              0.3333333333333333,
              "#31688e"
             ],
             [
              0.4444444444444444,
              "#26828e"
             ],
             [
              0.5555555555555556,
              "#1f9e89"
             ],
             [
              0.6666666666666666,
              "#35b779"
             ],
             [
              0.7777777777777778,
              "#6ece58"
             ],
             [
              0.8888888888888888,
              "#b5de2b"
             ],
             [
              1,
              "#fde725"
             ]
            ],
            "type": "histogram2dcontour"
           }
          ],
          "mesh3d": [
           {
            "colorbar": {
             "outlinewidth": 1,
             "tickcolor": "rgb(36,36,36)",
             "ticks": "outside"
            },
            "type": "mesh3d"
           }
          ],
          "parcoords": [
           {
            "line": {
             "colorbar": {
              "outlinewidth": 1,
              "tickcolor": "rgb(36,36,36)",
              "ticks": "outside"
             }
            },
            "type": "parcoords"
           }
          ],
          "pie": [
           {
            "automargin": true,
            "type": "pie"
           }
          ],
          "scatter": [
           {
            "fillpattern": {
             "fillmode": "overlay",
             "size": 10,
             "solidity": 0.2
            },
            "type": "scatter"
           }
          ],
          "scatter3d": [
           {
            "line": {
             "colorbar": {
              "outlinewidth": 1,
              "tickcolor": "rgb(36,36,36)",
              "ticks": "outside"
             }
            },
            "marker": {
             "colorbar": {
              "outlinewidth": 1,
              "tickcolor": "rgb(36,36,36)",
              "ticks": "outside"
             }
            },
            "type": "scatter3d"
           }
          ],
          "scattercarpet": [
           {
            "marker": {
             "colorbar": {
              "outlinewidth": 1,
              "tickcolor": "rgb(36,36,36)",
              "ticks": "outside"
             }
            },
            "type": "scattercarpet"
           }
          ],
          "scattergeo": [
           {
            "marker": {
             "colorbar": {
              "outlinewidth": 1,
              "tickcolor": "rgb(36,36,36)",
              "ticks": "outside"
             }
            },
            "type": "scattergeo"
           }
          ],
          "scattergl": [
           {
            "marker": {
             "colorbar": {
              "outlinewidth": 1,
              "tickcolor": "rgb(36,36,36)",
              "ticks": "outside"
             }
            },
            "type": "scattergl"
           }
          ],
          "scattermapbox": [
           {
            "marker": {
             "colorbar": {
              "outlinewidth": 1,
              "tickcolor": "rgb(36,36,36)",
              "ticks": "outside"
             }
            },
            "type": "scattermapbox"
           }
          ],
          "scatterpolar": [
           {
            "marker": {
             "colorbar": {
              "outlinewidth": 1,
              "tickcolor": "rgb(36,36,36)",
              "ticks": "outside"
             }
            },
            "type": "scatterpolar"
           }
          ],
          "scatterpolargl": [
           {
            "marker": {
             "colorbar": {
              "outlinewidth": 1,
              "tickcolor": "rgb(36,36,36)",
              "ticks": "outside"
             }
            },
            "type": "scatterpolargl"
           }
          ],
          "scatterternary": [
           {
            "marker": {
             "colorbar": {
              "outlinewidth": 1,
              "tickcolor": "rgb(36,36,36)",
              "ticks": "outside"
             }
            },
            "type": "scatterternary"
           }
          ],
          "surface": [
           {
            "colorbar": {
             "outlinewidth": 1,
             "tickcolor": "rgb(36,36,36)",
             "ticks": "outside"
            },
            "colorscale": [
             [
              0,
              "#440154"
             ],
             [
              0.1111111111111111,
              "#482878"
             ],
             [
              0.2222222222222222,
              "#3e4989"
             ],
             [
              0.3333333333333333,
              "#31688e"
             ],
             [
              0.4444444444444444,
              "#26828e"
             ],
             [
              0.5555555555555556,
              "#1f9e89"
             ],
             [
              0.6666666666666666,
              "#35b779"
             ],
             [
              0.7777777777777778,
              "#6ece58"
             ],
             [
              0.8888888888888888,
              "#b5de2b"
             ],
             [
              1,
              "#fde725"
             ]
            ],
            "type": "surface"
           }
          ],
          "table": [
           {
            "cells": {
             "fill": {
              "color": "rgb(237,237,237)"
             },
             "line": {
              "color": "white"
             }
            },
            "header": {
             "fill": {
              "color": "rgb(217,217,217)"
             },
             "line": {
              "color": "white"
             }
            },
            "type": "table"
           }
          ]
         },
         "layout": {
          "annotationdefaults": {
           "arrowhead": 0,
           "arrowwidth": 1
          },
          "autotypenumbers": "strict",
          "coloraxis": {
           "colorbar": {
            "outlinewidth": 1,
            "tickcolor": "rgb(36,36,36)",
            "ticks": "outside"
           }
          },
          "colorscale": {
           "diverging": [
            [
             0,
             "rgb(103,0,31)"
            ],
            [
             0.1,
             "rgb(178,24,43)"
            ],
            [
             0.2,
             "rgb(214,96,77)"
            ],
            [
             0.3,
             "rgb(244,165,130)"
            ],
            [
             0.4,
             "rgb(253,219,199)"
            ],
            [
             0.5,
             "rgb(247,247,247)"
            ],
            [
             0.6,
             "rgb(209,229,240)"
            ],
            [
             0.7,
             "rgb(146,197,222)"
            ],
            [
             0.8,
             "rgb(67,147,195)"
            ],
            [
             0.9,
             "rgb(33,102,172)"
            ],
            [
             1,
             "rgb(5,48,97)"
            ]
           ],
           "sequential": [
            [
             0,
             "#440154"
            ],
            [
             0.1111111111111111,
             "#482878"
            ],
            [
             0.2222222222222222,
             "#3e4989"
            ],
            [
             0.3333333333333333,
             "#31688e"
            ],
            [
             0.4444444444444444,
             "#26828e"
            ],
            [
             0.5555555555555556,
             "#1f9e89"
            ],
            [
             0.6666666666666666,
             "#35b779"
            ],
            [
             0.7777777777777778,
             "#6ece58"
            ],
            [
             0.8888888888888888,
             "#b5de2b"
            ],
            [
             1,
             "#fde725"
            ]
           ],
           "sequentialminus": [
            [
             0,
             "#440154"
            ],
            [
             0.1111111111111111,
             "#482878"
            ],
            [
             0.2222222222222222,
             "#3e4989"
            ],
            [
             0.3333333333333333,
             "#31688e"
            ],
            [
             0.4444444444444444,
             "#26828e"
            ],
            [
             0.5555555555555556,
             "#1f9e89"
            ],
            [
             0.6666666666666666,
             "#35b779"
            ],
            [
             0.7777777777777778,
             "#6ece58"
            ],
            [
             0.8888888888888888,
             "#b5de2b"
            ],
            [
             1,
             "#fde725"
            ]
           ]
          },
          "colorway": [
           "#1F77B4",
           "#FF7F0E",
           "#2CA02C",
           "#D62728",
           "#9467BD",
           "#8C564B",
           "#E377C2",
           "#7F7F7F",
           "#BCBD22",
           "#17BECF"
          ],
          "font": {
           "color": "rgb(36,36,36)"
          },
          "geo": {
           "bgcolor": "white",
           "lakecolor": "white",
           "landcolor": "white",
           "showlakes": true,
           "showland": true,
           "subunitcolor": "white"
          },
          "hoverlabel": {
           "align": "left"
          },
          "hovermode": "closest",
          "mapbox": {
           "style": "light"
          },
          "paper_bgcolor": "white",
          "plot_bgcolor": "white",
          "polar": {
           "angularaxis": {
            "gridcolor": "rgb(232,232,232)",
            "linecolor": "rgb(36,36,36)",
            "showgrid": false,
            "showline": true,
            "ticks": "outside"
           },
           "bgcolor": "white",
           "radialaxis": {
            "gridcolor": "rgb(232,232,232)",
            "linecolor": "rgb(36,36,36)",
            "showgrid": false,
            "showline": true,
            "ticks": "outside"
           }
          },
          "scene": {
           "xaxis": {
            "backgroundcolor": "white",
            "gridcolor": "rgb(232,232,232)",
            "gridwidth": 2,
            "linecolor": "rgb(36,36,36)",
            "showbackground": true,
            "showgrid": false,
            "showline": true,
            "ticks": "outside",
            "zeroline": false,
            "zerolinecolor": "rgb(36,36,36)"
           },
           "yaxis": {
            "backgroundcolor": "white",
            "gridcolor": "rgb(232,232,232)",
            "gridwidth": 2,
            "linecolor": "rgb(36,36,36)",
            "showbackground": true,
            "showgrid": false,
            "showline": true,
            "ticks": "outside",
            "zeroline": false,
            "zerolinecolor": "rgb(36,36,36)"
           },
           "zaxis": {
            "backgroundcolor": "white",
            "gridcolor": "rgb(232,232,232)",
            "gridwidth": 2,
            "linecolor": "rgb(36,36,36)",
            "showbackground": true,
            "showgrid": false,
            "showline": true,
            "ticks": "outside",
            "zeroline": false,
            "zerolinecolor": "rgb(36,36,36)"
           }
          },
          "shapedefaults": {
           "fillcolor": "black",
           "line": {
            "width": 0
           },
           "opacity": 0.3
          },
          "ternary": {
           "aaxis": {
            "gridcolor": "rgb(232,232,232)",
            "linecolor": "rgb(36,36,36)",
            "showgrid": false,
            "showline": true,
            "ticks": "outside"
           },
           "baxis": {
            "gridcolor": "rgb(232,232,232)",
            "linecolor": "rgb(36,36,36)",
            "showgrid": false,
            "showline": true,
            "ticks": "outside"
           },
           "bgcolor": "white",
           "caxis": {
            "gridcolor": "rgb(232,232,232)",
            "linecolor": "rgb(36,36,36)",
            "showgrid": false,
            "showline": true,
            "ticks": "outside"
           }
          },
          "title": {
           "x": 0.05
          },
          "xaxis": {
           "automargin": true,
           "gridcolor": "rgb(232,232,232)",
           "linecolor": "rgb(36,36,36)",
           "showgrid": false,
           "showline": true,
           "ticks": "outside",
           "title": {
            "standoff": 15
           },
           "zeroline": false,
           "zerolinecolor": "rgb(36,36,36)"
          },
          "yaxis": {
           "automargin": true,
           "gridcolor": "rgb(232,232,232)",
           "linecolor": "rgb(36,36,36)",
           "showgrid": false,
           "showline": true,
           "ticks": "outside",
           "title": {
            "standoff": 15
           },
           "zeroline": false,
           "zerolinecolor": "rgb(36,36,36)"
          }
         }
        },
        "title": {
         "font": {
          "color": "Black",
          "size": 22
         },
         "text": "<b>Intertopic Distance Map</b>",
         "x": 0.5,
         "xanchor": "center",
         "y": 0.95,
         "yanchor": "top"
        },
        "width": 650,
        "xaxis": {
         "anchor": "y",
         "domain": [
          0,
          1
         ],
         "range": [
          0.10357380360364914,
          29.02233667373657
         ],
         "title": {
          "text": ""
         },
         "visible": false
        },
        "yaxis": {
         "anchor": "x",
         "domain": [
          0,
          1
         ],
         "range": [
          -10.944313335418702,
          15.904698419570924
         ],
         "title": {
          "text": ""
         },
         "visible": false
        }
       }
      }
     },
     "metadata": {},
     "output_type": "display_data"
    }
   ],
   "source": [
    "topic_model.visualize_topics()"
   ]
  },
  {
   "cell_type": "code",
   "execution_count": 3,
   "metadata": {},
   "outputs": [],
   "source": [
    "topic_labels = {\n",
    "0:'Fluid dynamics and modeling',\n",
    "1:'Data modelling in physical systems',\n",
    "2:'High-energy particle physics and experiments',\n",
    "3:'Quantum optics and photonics',\n",
    "4:'Solar and space physics',\n",
    "5:'Medical and physics imaging models',\n",
    "\n",
    "6:'Plasma physics and electromagnetic fields',\n",
    "7:'High resolution optical imaging',\n",
    "8:'Climate modeling and weather forecasting',\n",
    "9:'Quantum systems and entanglement',\n",
    "10:'Nanomaterials for optical applications',\n",
    "\n",
    "11:'Magnetic materials and spintronics',\n",
    "12:'Biophysics and cellular dynamics',\n",
    "13:'Seismology and earthquake modeling',\n",
    "14:'Epidemiology and pandemic modeling',\n",
    "15:'Molecular dynamics and chemical reactions',\n",
    "\n",
    "16:'Quantum gravity and general relativity',\n",
    "17:'Electrochemistry and battery technology',\n",
    "18:'Urban mobility and planning',\n",
    "19:'Material science and mechanical properties',\n",
    "20:'Graphene and 2D materials'\n",
    "}"
   ]
  },
  {
   "cell_type": "code",
   "execution_count": 4,
   "metadata": {},
   "outputs": [
    {
     "data": {
      "image/png": "[encoded data removed]",
      "text/plain": [
       "<Figure size 1400x600 with 1 Axes>"
      ]
     },
     "metadata": {},
     "output_type": "display_data"
    }
   ],
   "source": [
    "specific_topics = [0,1,2,3,4,5]\n",
    "\n",
    "# Filter monthly_data to include only these specific topics\n",
    "filtered_monthly_data = monthly_data[monthly_data['Topic'].isin(specific_topics)]\n",
    "\n",
    "# Pivot the table to make it suitable for bar plotting (topics as columns)\n",
    "pivoted_data = filtered_monthly_data.pivot(index='Timestamp', columns='Topic', values='Frequency')\n",
    "\n",
    "# Plot as stacked bar chart\n",
    "ax = pivoted_data.plot(kind='bar', stacked=False, figsize=(14, 6), colormap='Paired')\n",
    "\n",
    "# Add legend outside the plot\n",
    "ax.legend(title='Global Topic Representation', labels=[topic_labels.get(topic, topic) for topic in pivoted_data.columns],  bbox_to_anchor=(1, 1), loc='upper left')\n",
    "\n",
    "# Customize the plot (similar to your image)\n",
    "ax.set_title('Topics over time', fontsize=14)\n",
    "ax.set_xlabel('')\n",
    "ax.set_ylabel('Frequency')\n",
    "\n",
    "# Rotate x-axis labels for better readability\n",
    "ax.set_xticklabels(pivoted_data.index.astype(str), rotation=0)\n",
    "\n",
    "# Add gridlines for better readability\n",
    "plt.grid(axis='y', linestyle='--', alpha=0.7)\n",
    "\n",
    "# Adjust layout to fit everything well\n",
    "plt.tight_layout()\n",
    "\n",
    "# Show the plot\n",
    "plt.show()"
   ]
  },
  {
   "cell_type": "code",
   "execution_count": 5,
   "metadata": {},
   "outputs": [
    {
     "data": {
      "image/png": "[encoded data removed]",
      "text/plain": [
       "<Figure size 1400x600 with 1 Axes>"
      ]
     },
     "metadata": {},
     "output_type": "display_data"
    }
   ],
   "source": [
    "specific_topics = [6,7,8,9,10]\n",
    "\n",
    "# Filter monthly_data to include only these specific topics\n",
    "filtered_monthly_data = monthly_data[monthly_data['Topic'].isin(specific_topics)]\n",
    "\n",
    "# Pivot the table to make it suitable for bar plotting (topics as columns)\n",
    "pivoted_data = filtered_monthly_data.pivot(index='Timestamp', columns='Topic', values='Frequency')\n",
    "\n",
    "# Plot as stacked bar chart\n",
    "ax = pivoted_data.plot(kind='bar', stacked=False, figsize=(14, 6), colormap='Paired')\n",
    "\n",
    "# Add legend outside the plot\n",
    "ax.legend(title='Global Topic Representation', labels=[topic_labels.get(topic, topic) for topic in pivoted_data.columns],  bbox_to_anchor=(1, 1), loc='upper left')\n",
    "\n",
    "# Customize the plot (similar to your image)\n",
    "ax.set_title('Topics over time', fontsize=14)\n",
    "ax.set_xlabel('')\n",
    "ax.set_ylabel('Frequency')\n",
    "\n",
    "# Rotate x-axis labels for better readability\n",
    "ax.set_xticklabels(pivoted_data.index.astype(str), rotation=0)\n",
    "\n",
    "# Add gridlines for better readability\n",
    "plt.grid(axis='y', linestyle='--', alpha=0.7)\n",
    "\n",
    "# Adjust layout to fit everything well\n",
    "plt.tight_layout()\n",
    "\n",
    "# Show the plot\n",
    "plt.show()"
   ]
  },
  {
   "cell_type": "code",
   "execution_count": 6,
   "metadata": {},
   "outputs": [
    {
     "data": {
      "image/png": "[encoded data removed]",
      "text/plain": [
       "<Figure size 1400x600 with 1 Axes>"
      ]
     },
     "metadata": {},
     "output_type": "display_data"
    }
   ],
   "source": [
    "specific_topics = [11,12,13,14,15]\n",
    "\n",
    "# Filter monthly_data to include only these specific topics\n",
    "filtered_monthly_data = monthly_data[monthly_data['Topic'].isin(specific_topics)]\n",
    "\n",
    "# Pivot the table to make it suitable for bar plotting (topics as columns)\n",
    "pivoted_data = filtered_monthly_data.pivot(index='Timestamp', columns='Topic', values='Frequency')\n",
    "\n",
    "# Plot as stacked bar chart\n",
    "ax = pivoted_data.plot(kind='bar', stacked=False, figsize=(14, 6), colormap='Paired')\n",
    "\n",
    "# Add legend outside the plot\n",
    "ax.legend(title='Global Topic Representation', labels=[topic_labels.get(topic, topic) for topic in pivoted_data.columns],  bbox_to_anchor=(1, 1), loc='upper left')\n",
    "\n",
    "# Customize the plot (similar to your image)\n",
    "ax.set_title('Topics over time', fontsize=14)\n",
    "ax.set_xlabel('')\n",
    "ax.set_ylabel('Frequency')\n",
    "\n",
    "# Rotate x-axis labels for better readability\n",
    "ax.set_xticklabels(pivoted_data.index.astype(str), rotation=0)\n",
    "\n",
    "# Add gridlines for better readability\n",
    "plt.grid(axis='y', linestyle='--', alpha=0.7)\n",
    "\n",
    "# Adjust layout to fit everything well\n",
    "plt.tight_layout()\n",
    "\n",
    "# Show the plot\n",
    "plt.show()"
   ]
  },
  {
   "cell_type": "code",
   "execution_count": 7,
   "metadata": {},
   "outputs": [
    {
     "data": {
      "image/png": "[encoded data removed]",
      "text/plain": [
       "<Figure size 1400x600 with 1 Axes>"
      ]
     },
     "metadata": {},
     "output_type": "display_data"
    }
   ],
   "source": [
    "specific_topics = [16,17,18,19,20]\n",
    "\n",
    "# Filter monthly_data to include only these specific topics\n",
    "filtered_monthly_data = monthly_data[monthly_data['Topic'].isin(specific_topics)]\n",
    "\n",
    "# Pivot the table to make it suitable for bar plotting (topics as columns)\n",
    "pivoted_data = filtered_monthly_data.pivot(index='Timestamp', columns='Topic', values='Frequency')\n",
    "\n",
    "# Plot as stacked bar chart\n",
    "ax = pivoted_data.plot(kind='bar', stacked=False, figsize=(14, 6), colormap='Paired')\n",
    "\n",
    "# Add legend outside the plot\n",
    "ax.legend(title='Global Topic Representation', labels=[topic_labels.get(topic, topic) for topic in pivoted_data.columns],  bbox_to_anchor=(1, 1), loc='upper left')\n",
    "\n",
    "# Customize the plot (similar to your image)\n",
    "ax.set_title('Topics over time', fontsize=14)\n",
    "ax.set_xlabel('')\n",
    "ax.set_ylabel('Frequency')\n",
    "\n",
    "# Rotate x-axis labels for better readability\n",
    "ax.set_xticklabels(pivoted_data.index.astype(str), rotation=0)\n",
    "\n",
    "# Add gridlines for better readability\n",
    "plt.grid(axis='y', linestyle='--', alpha=0.7)\n",
    "\n",
    "# Adjust layout to fit everything well\n",
    "plt.tight_layout()\n",
    "\n",
    "# Show the plot\n",
    "plt.show()"
   ]
  }
 ],
 "metadata": {
  "kernelspec": {
   "display_name": "myenv2",
   "language": "python",
   "name": "python3"
  },
  "language_info": {
   "codemirror_mode": {
    "name": "ipython",
    "version": 3
   },
   "file_extension": ".py",
   "mimetype": "text/x-python",
   "name": "python",
   "nbconvert_exporter": "python",
   "pygments_lexer": "ipython3",
   "version": "3.10.6"
  }
 },
 "nbformat": 4,
 "nbformat_minor": 2
}
