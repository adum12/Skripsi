{
 "cells": [
  {
   "cell_type": "code",
   "execution_count": 5,
   "metadata": {},
   "outputs": [
    {
     "name": "stderr",
     "output_type": "stream",
     "text": [
      "x:\\Kuliah\\Semester 8\\Sandbox\\myenv2\\lib\\site-packages\\tqdm\\auto.py:21: TqdmWarning: IProgress not found. Please update jupyter and ipywidgets. See https://ipywidgets.readthedocs.io/en/stable/user_install.html\n",
      "  from .autonotebook import tqdm as notebook_tqdm\n"
     ]
    }
   ],
   "source": [
    "from sklearn.feature_extraction.text import CountVectorizer\n",
    "from gensim.models.coherencemodel import CoherenceModel\n",
    "from bertopic.vectorizers import ClassTfidfTransformer\n",
    "from sentence_transformers import SentenceTransformer\n",
    "from gensim.corpora.dictionary import Dictionary\n",
    "import matplotlib.pyplot as plt\n",
    "from bertopic import BERTopic\n",
    "from hdbscan import HDBSCAN\n",
    "from umap import UMAP\n",
    "import seaborn as sns\n",
    "import pandas as pd\n",
    "import numpy as np\n",
    "import pickle"
   ]
  },
  {
   "cell_type": "code",
   "execution_count": null,
   "metadata": {},
   "outputs": [],
   "source": [
    "df = pd.read_csv(\"../../Data preprocessing/Preprocessed data V2/arxiv_cs_preprocessed_first_semester.csv\")\n",
    "abstracts = df[\"summary\"].to_list()\n",
    "dates = df[\"date\"].to_list()\n",
    "ids = df[\"id\"].to_list()"
   ]
  },
  {
   "cell_type": "code",
   "execution_count": null,
   "metadata": {},
   "outputs": [],
   "source": [
    "embedding_model = SentenceTransformer(\"all-mpnet-base-v2\")\n",
    "embeddings = np.load(\"../../Topic extraction/abstract embeddings/all-mpnet-base-v2-embeddings V2/cs_embeddings_first_semesterV2.npy\")\n",
    "vectorizer_model = CountVectorizer(stop_words=\"english\", ngram_range=(1,2))\n",
    "ctfidf_model = ClassTfidfTransformer(reduce_frequent_words=True)"
   ]
  },
  {
   "cell_type": "code",
   "execution_count": null,
   "metadata": {},
   "outputs": [],
   "source": [
    "umap_model = UMAP(n_neighbors=10, \n",
    "                  n_components=5,\n",
    "                  min_dist=0.0,\n",
    "                  metric='cosine',\n",
    "                  random_state=42)"
   ]
  },
  {
   "cell_type": "code",
   "execution_count": null,
   "metadata": {},
   "outputs": [],
   "source": [
    "hdbscan_model = HDBSCAN(min_cluster_size=100,\n",
    "                        metric='euclidean',\n",
    "                        cluster_selection_method='eom',\n",
    "                        prediction_data=True)"
   ]
  },
  {
   "cell_type": "code",
   "execution_count": null,
   "metadata": {},
   "outputs": [
    {
     "data": {
      "text/html": [
       "<div>\n",
       "<style scoped>\n",
       "    .dataframe tbody tr th:only-of-type {\n",
       "        vertical-align: middle;\n",
       "    }\n",
       "\n",
       "    .dataframe tbody tr th {\n",
       "        vertical-align: top;\n",
       "    }\n",
       "\n",
       "    .dataframe thead th {\n",
       "        text-align: right;\n",
       "    }\n",
       "</style>\n",
       "<table border=\"1\" class=\"dataframe\">\n",
       "  <thead>\n",
       "    <tr style=\"text-align: right;\">\n",
       "      <th></th>\n",
       "      <th>Topic</th>\n",
       "      <th>Count</th>\n",
       "      <th>Name</th>\n",
       "      <th>Representation</th>\n",
       "      <th>Representative_Docs</th>\n",
       "    </tr>\n",
       "  </thead>\n",
       "  <tbody>\n",
       "    <tr>\n",
       "      <th>0</th>\n",
       "      <td>-1</td>\n",
       "      <td>21947</td>\n",
       "      <td>-1_model_data_task_image</td>\n",
       "      <td>[model, data, task, image, learning, feature, ...</td>\n",
       "      <td>[['capturing', 'storing', 'image', 'device', '...</td>\n",
       "    </tr>\n",
       "    <tr>\n",
       "      <th>1</th>\n",
       "      <td>0</td>\n",
       "      <td>2703</td>\n",
       "      <td>0_equation_numerical_convergence_problem</td>\n",
       "      <td>[equation, numerical, convergence, problem, so...</td>\n",
       "      <td>[['article', 'propose', 'two', 'finite', 'elem...</td>\n",
       "    </tr>\n",
       "    <tr>\n",
       "      <th>2</th>\n",
       "      <td>1</td>\n",
       "      <td>2317</td>\n",
       "      <td>1_patient_clinical_medical_disease</td>\n",
       "      <td>[patient, clinical, medical, disease, segmenta...</td>\n",
       "      <td>[['magnetic', 'resonance', 'imaging', 'mri', '...</td>\n",
       "    </tr>\n",
       "    <tr>\n",
       "      <th>3</th>\n",
       "      <td>2</td>\n",
       "      <td>1726</td>\n",
       "      <td>2_training_supervised_class_pre</td>\n",
       "      <td>[training, supervised, class, pre, label, shot...</td>\n",
       "      <td>[['shot', 'classification', 'fsc', 'entail', '...</td>\n",
       "    </tr>\n",
       "    <tr>\n",
       "      <th>4</th>\n",
       "      <td>3</td>\n",
       "      <td>1601</td>\n",
       "      <td>3_robot_robotic_manipulation_environment</td>\n",
       "      <td>[robot, robotic, manipulation, environment, ob...</td>\n",
       "      <td>[['robotic', 'dexterous', 'grasping', 'challen...</td>\n",
       "    </tr>\n",
       "    <tr>\n",
       "      <th>5</th>\n",
       "      <td>4</td>\n",
       "      <td>1275</td>\n",
       "      <td>4_3d_scene_pose_rendering</td>\n",
       "      <td>[3d, scene, pose, rendering, view, nerf, motio...</td>\n",
       "      <td>[['multi', 'view', 'volumetric', 'rendering', ...</td>\n",
       "    </tr>\n",
       "    <tr>\n",
       "      <th>6</th>\n",
       "      <td>5</td>\n",
       "      <td>1161</td>\n",
       "      <td>5_llm_diffusion_reasoning_knowledge</td>\n",
       "      <td>[llm, diffusion, reasoning, knowledge, diffusi...</td>\n",
       "      <td>[['recently', 'chatgpt', 'representative', 'la...</td>\n",
       "    </tr>\n",
       "    <tr>\n",
       "      <th>7</th>\n",
       "      <td>6</td>\n",
       "      <td>1043</td>\n",
       "      <td>6_speech_audio_speaker_asr</td>\n",
       "      <td>[speech, audio, speaker, asr, music, acoustic,...</td>\n",
       "      <td>[['recently', 'end', 'end', 'model', 'widely',...</td>\n",
       "    </tr>\n",
       "    <tr>\n",
       "      <th>8</th>\n",
       "      <td>7</td>\n",
       "      <td>991</td>\n",
       "      <td>7_agent_rl_policy_reward</td>\n",
       "      <td>[agent, rl, policy, reward, reinforcement, rei...</td>\n",
       "      <td>[['policy', 'represented', 'deep', 'neural', '...</td>\n",
       "    </tr>\n",
       "    <tr>\n",
       "      <th>9</th>\n",
       "      <td>8</td>\n",
       "      <td>894</td>\n",
       "      <td>8_vehicle_traffic_driving_road</td>\n",
       "      <td>[vehicle, traffic, driving, road, autonomous, ...</td>\n",
       "      <td>[['connected', 'vehicle', 'cv', 'technology', ...</td>\n",
       "    </tr>\n",
       "    <tr>\n",
       "      <th>10</th>\n",
       "      <td>9</td>\n",
       "      <td>818</td>\n",
       "      <td>9_ri_channel_antenna_mimo</td>\n",
       "      <td>[ri, channel, antenna, mimo, wireless, communi...</td>\n",
       "      <td>[['reconfigurable', 'intelligent', 'surface', ...</td>\n",
       "    </tr>\n",
       "    <tr>\n",
       "      <th>11</th>\n",
       "      <td>10</td>\n",
       "      <td>811</td>\n",
       "      <td>10_graph_node_gnns_gnn</td>\n",
       "      <td>[graph, node, gnns, gnn, graph neural, network...</td>\n",
       "      <td>[['many', 'network', 'transportation', 'power'...</td>\n",
       "    </tr>\n",
       "    <tr>\n",
       "      <th>12</th>\n",
       "      <td>11</td>\n",
       "      <td>544</td>\n",
       "      <td>11_code_software_developer_programming</td>\n",
       "      <td>[code, software, developer, programming, bug, ...</td>\n",
       "      <td>[['paradigm', 'choreographic', 'programming', ...</td>\n",
       "    </tr>\n",
       "    <tr>\n",
       "      <th>13</th>\n",
       "      <td>12</td>\n",
       "      <td>507</td>\n",
       "      <td>12_social_medium_social medium_news</td>\n",
       "      <td>[social, medium, social medium, news, twitter,...</td>\n",
       "      <td>[['exponential', 'growth', 'social', 'medium',...</td>\n",
       "    </tr>\n",
       "    <tr>\n",
       "      <th>14</th>\n",
       "      <td>13</td>\n",
       "      <td>484</td>\n",
       "      <td>13_translation_language_multilingual_english</td>\n",
       "      <td>[translation, language, multilingual, english,...</td>\n",
       "      <td>[['africa', 'indigenous', 'language', 'represe...</td>\n",
       "    </tr>\n",
       "    <tr>\n",
       "      <th>15</th>\n",
       "      <td>14</td>\n",
       "      <td>464</td>\n",
       "      <td>14_control_controller_nonlinear_disturbance</td>\n",
       "      <td>[control, controller, nonlinear, disturbance, ...</td>\n",
       "      <td>[['infinite', 'horizon', 'optimal', 'control',...</td>\n",
       "    </tr>\n",
       "    <tr>\n",
       "      <th>16</th>\n",
       "      <td>15</td>\n",
       "      <td>439</td>\n",
       "      <td>15_quantum_circuit_classical_quantum circuit</td>\n",
       "      <td>[quantum, circuit, classical, quantum circuit,...</td>\n",
       "      <td>[['operating', 'principle', 'quantum', 'mechan...</td>\n",
       "    </tr>\n",
       "    <tr>\n",
       "      <th>17</th>\n",
       "      <td>16</td>\n",
       "      <td>432</td>\n",
       "      <td>16_client_fl_federated_federated learning</td>\n",
       "      <td>[client, fl, federated, federated learning, le...</td>\n",
       "      <td>[['federated', 'learning', 'fl', 'recently', '...</td>\n",
       "    </tr>\n",
       "    <tr>\n",
       "      <th>18</th>\n",
       "      <td>17</td>\n",
       "      <td>432</td>\n",
       "      <td>17_uav_uavs_drone_aerial</td>\n",
       "      <td>[uav, uavs, drone, aerial, underwater, aerial ...</td>\n",
       "      <td>[['paper', 'multi', 'target', 'tracking', 'mtt...</td>\n",
       "    </tr>\n",
       "    <tr>\n",
       "      <th>19</th>\n",
       "      <td>18</td>\n",
       "      <td>427</td>\n",
       "      <td>18_power_energy_grid_wind</td>\n",
       "      <td>[power, energy, grid, wind, renewable, voltage...</td>\n",
       "      <td>[['accurate', 'generation', 'realistic', 'futu...</td>\n",
       "    </tr>\n",
       "    <tr>\n",
       "      <th>20</th>\n",
       "      <td>19</td>\n",
       "      <td>426</td>\n",
       "      <td>19_vertex_graph_edge_coloring</td>\n",
       "      <td>[vertex, graph, edge, coloring, planar, planar...</td>\n",
       "      <td>[['acyclic', 'edge', 'coloring', 'graph', 'pro...</td>\n",
       "    </tr>\n",
       "    <tr>\n",
       "      <th>21</th>\n",
       "      <td>20</td>\n",
       "      <td>420</td>\n",
       "      <td>20_iot_service_device_iot device</td>\n",
       "      <td>[iot, service, device, iot device, ran, cloud,...</td>\n",
       "      <td>[['open', 'radio', 'access', 'network', 'ran',...</td>\n",
       "    </tr>\n",
       "    <tr>\n",
       "      <th>22</th>\n",
       "      <td>21</td>\n",
       "      <td>394</td>\n",
       "      <td>21_recommendation_item_recommender_user</td>\n",
       "      <td>[recommendation, item, recommender, user, pref...</td>\n",
       "      <td>[['graph', 'neural', 'network', 'gnns', 'recen...</td>\n",
       "    </tr>\n",
       "    <tr>\n",
       "      <th>23</th>\n",
       "      <td>22</td>\n",
       "      <td>347</td>\n",
       "      <td>22_blockchain_contract_transaction_smart contract</td>\n",
       "      <td>[blockchain, contract, transaction, smart cont...</td>\n",
       "      <td>[['blockchain', 'platform', 'ethereum', 'onwar...</td>\n",
       "    </tr>\n",
       "    <tr>\n",
       "      <th>24</th>\n",
       "      <td>23</td>\n",
       "      <td>346</td>\n",
       "      <td>23_protein_molecule_molecular_drug</td>\n",
       "      <td>[protein, molecule, molecular, drug, gene, che...</td>\n",
       "      <td>[['generating', 'molecule', 'high', 'binding',...</td>\n",
       "    </tr>\n",
       "    <tr>\n",
       "      <th>25</th>\n",
       "      <td>24</td>\n",
       "      <td>286</td>\n",
       "      <td>24_logic_proof_calculus_semantics</td>\n",
       "      <td>[logic, proof, calculus, semantics, theory, ca...</td>\n",
       "      <td>[['develop', 'domain', 'theory', 'constructive...</td>\n",
       "    </tr>\n",
       "    <tr>\n",
       "      <th>26</th>\n",
       "      <td>25</td>\n",
       "      <td>285</td>\n",
       "      <td>25_attack_adversarial_backdoor_adversarial attack</td>\n",
       "      <td>[attack, adversarial, backdoor, adversarial at...</td>\n",
       "      <td>[['deep', 'neural', 'network', 'dnn', 'vulnera...</td>\n",
       "    </tr>\n",
       "    <tr>\n",
       "      <th>27</th>\n",
       "      <td>26</td>\n",
       "      <td>282</td>\n",
       "      <td>26_forecasting_forecast_time series_series</td>\n",
       "      <td>[forecasting, forecast, time series, series, s...</td>\n",
       "      <td>[['study', 'focus', 'development', 'implementa...</td>\n",
       "    </tr>\n",
       "    <tr>\n",
       "      <th>28</th>\n",
       "      <td>27</td>\n",
       "      <td>279</td>\n",
       "      <td>27_ai_intelligence_artificial intelligence_art...</td>\n",
       "      <td>[ai, intelligence, artificial intelligence, ar...</td>\n",
       "      <td>[['trustworthy', 'artificial', 'intelligence',...</td>\n",
       "    </tr>\n",
       "    <tr>\n",
       "      <th>29</th>\n",
       "      <td>28</td>\n",
       "      <td>241</td>\n",
       "      <td>28_citation_scientific_publication_research</td>\n",
       "      <td>[citation, scientific, publication, research, ...</td>\n",
       "      <td>[['purpose', 'academic', 'citation', 'social',...</td>\n",
       "    </tr>\n",
       "    <tr>\n",
       "      <th>30</th>\n",
       "      <td>29</td>\n",
       "      <td>236</td>\n",
       "      <td>29_data_privacy_synthetic_synthetic data</td>\n",
       "      <td>[data, privacy, synthetic, synthetic data, ana...</td>\n",
       "      <td>[['real', 'world', 'data', 'often', 'exhibit',...</td>\n",
       "    </tr>\n",
       "    <tr>\n",
       "      <th>31</th>\n",
       "      <td>30</td>\n",
       "      <td>226</td>\n",
       "      <td>30_game_player_equilibrium_nash</td>\n",
       "      <td>[game, player, equilibrium, nash, nash equilib...</td>\n",
       "      <td>[['rational', 'verification', 'aim', 'verify',...</td>\n",
       "    </tr>\n",
       "    <tr>\n",
       "      <th>32</th>\n",
       "      <td>31</td>\n",
       "      <td>209</td>\n",
       "      <td>31_clustering_cluster_clustering method_cluste...</td>\n",
       "      <td>[clustering, cluster, clustering method, clust...</td>\n",
       "      <td>[['paper', 'considers', 'well', 'studied', 'al...</td>\n",
       "    </tr>\n",
       "    <tr>\n",
       "      <th>33</th>\n",
       "      <td>32</td>\n",
       "      <td>208</td>\n",
       "      <td>32_code_polynomial_conjecture_linear code</td>\n",
       "      <td>[code, polynomial, conjecture, linear code, cy...</td>\n",
       "      <td>[['using', 'notion', 'embedding', 'gamma', 'ca...</td>\n",
       "    </tr>\n",
       "    <tr>\n",
       "      <th>34</th>\n",
       "      <td>33</td>\n",
       "      <td>190</td>\n",
       "      <td>33_encryption_cryptographic_cryptography_homom...</td>\n",
       "      <td>[encryption, cryptographic, cryptography, homo...</td>\n",
       "      <td>[['hard', 'mathematical', 'problem', 'assure',...</td>\n",
       "    </tr>\n",
       "    <tr>\n",
       "      <th>35</th>\n",
       "      <td>34</td>\n",
       "      <td>178</td>\n",
       "      <td>34_memory_dram_accelerator_cache</td>\n",
       "      <td>[memory, dram, accelerator, cache, hardware, c...</td>\n",
       "      <td>[['widespread', 'use', 'deep', 'neural', 'netw...</td>\n",
       "    </tr>\n",
       "    <tr>\n",
       "      <th>36</th>\n",
       "      <td>35</td>\n",
       "      <td>177</td>\n",
       "      <td>35_student_education_course_educational</td>\n",
       "      <td>[student, education, course, educational, teac...</td>\n",
       "      <td>[['early', 'exposure', 'computer', 'science', ...</td>\n",
       "    </tr>\n",
       "    <tr>\n",
       "      <th>37</th>\n",
       "      <td>36</td>\n",
       "      <td>170</td>\n",
       "      <td>36_causal_causal discovery_causal effect_causa...</td>\n",
       "      <td>[causal, causal discovery, causal effect, caus...</td>\n",
       "      <td>[['learning', 'causal', 'relationship', 'varia...</td>\n",
       "    </tr>\n",
       "    <tr>\n",
       "      <th>38</th>\n",
       "      <td>37</td>\n",
       "      <td>163</td>\n",
       "      <td>37_gans_gan_discriminator_generative adversarial</td>\n",
       "      <td>[gans, gan, discriminator, generative adversar...</td>\n",
       "      <td>[['class', 'conditional', 'image', 'generation...</td>\n",
       "    </tr>\n",
       "    <tr>\n",
       "      <th>39</th>\n",
       "      <td>38</td>\n",
       "      <td>152</td>\n",
       "      <td>38_cyber_cybersecurity_attack_threat</td>\n",
       "      <td>[cyber, cybersecurity, attack, threat, securit...</td>\n",
       "      <td>[['attack', 'path', 'potential', 'chain', 'mal...</td>\n",
       "    </tr>\n",
       "    <tr>\n",
       "      <th>40</th>\n",
       "      <td>39</td>\n",
       "      <td>146</td>\n",
       "      <td>39_video_frame_temporal_vqa</td>\n",
       "      <td>[video, frame, temporal, vqa, video quality, v...</td>\n",
       "      <td>[['current', 'shot', 'action', 'recognition', ...</td>\n",
       "    </tr>\n",
       "    <tr>\n",
       "      <th>41</th>\n",
       "      <td>40</td>\n",
       "      <td>137</td>\n",
       "      <td>40_spacecraft_mission_solar_orbit</td>\n",
       "      <td>[spacecraft, mission, solar, orbit, planet, te...</td>\n",
       "      <td>[['global', 'seismicity', 'three', 'solar', 's...</td>\n",
       "    </tr>\n",
       "    <tr>\n",
       "      <th>42</th>\n",
       "      <td>41</td>\n",
       "      <td>131</td>\n",
       "      <td>41_snns_spiking_snn_spike</td>\n",
       "      <td>[snns, spiking, snn, spike, spiking neural, ne...</td>\n",
       "      <td>[['spiking', 'neural', 'network', 'snns', 'eve...</td>\n",
       "    </tr>\n",
       "    <tr>\n",
       "      <th>43</th>\n",
       "      <td>42</td>\n",
       "      <td>122</td>\n",
       "      <td>42_auction_price_buyer_revenue</td>\n",
       "      <td>[auction, price, buyer, revenue, seller, marke...</td>\n",
       "      <td>[['advertiser', 'online', 'ad', 'auction', 'in...</td>\n",
       "    </tr>\n",
       "    <tr>\n",
       "      <th>44</th>\n",
       "      <td>43</td>\n",
       "      <td>109</td>\n",
       "      <td>43_slam_lidar_localization_odometry</td>\n",
       "      <td>[slam, lidar, localization, odometry, mapping,...</td>\n",
       "      <td>[['localization', 'mapping', 'heterogeneous', ...</td>\n",
       "    </tr>\n",
       "    <tr>\n",
       "      <th>45</th>\n",
       "      <td>44</td>\n",
       "      <td>106</td>\n",
       "      <td>44_stock_market_trading_portfolio</td>\n",
       "      <td>[stock, market, trading, portfolio, price, fin...</td>\n",
       "      <td>[['study', 'stock', 'market', 'attraction', 'm...</td>\n",
       "    </tr>\n",
       "    <tr>\n",
       "      <th>46</th>\n",
       "      <td>45</td>\n",
       "      <td>106</td>\n",
       "      <td>45_anomaly_anomaly detection_detection_normal</td>\n",
       "      <td>[anomaly, anomaly detection, detection, normal...</td>\n",
       "      <td>[['anomaly', 'detection', 'challenging', 'usua...</td>\n",
       "    </tr>\n",
       "    <tr>\n",
       "      <th>47</th>\n",
       "      <td>46</td>\n",
       "      <td>104</td>\n",
       "      <td>46_allocation_envy_indivisible_chore</td>\n",
       "      <td>[allocation, envy, indivisible, chore, valuati...</td>\n",
       "      <td>[['study', 'problem', 'fairly', 'allocating', ...</td>\n",
       "    </tr>\n",
       "    <tr>\n",
       "      <th>48</th>\n",
       "      <td>47</td>\n",
       "      <td>103</td>\n",
       "      <td>47_crop_plant_farmer_agricultural</td>\n",
       "      <td>[crop, plant, farmer, agricultural, soil, agri...</td>\n",
       "      <td>[['production', 'food', 'feed', 'fiber', 'fuel...</td>\n",
       "    </tr>\n",
       "    <tr>\n",
       "      <th>49</th>\n",
       "      <td>48</td>\n",
       "      <td>103</td>\n",
       "      <td>48_fault_cps_fault diagnosis_safety</td>\n",
       "      <td>[fault, cps, fault diagnosis, safety, failure,...</td>\n",
       "      <td>[['grey', 'box', 'fuzzing', 'lightweight', 'ap...</td>\n",
       "    </tr>\n",
       "  </tbody>\n",
       "</table>\n",
       "</div>"
      ],
      "text/plain": [
       "    Topic  Count                                               Name  \\\n",
       "0      -1  21947                           -1_model_data_task_image   \n",
       "1       0   2703           0_equation_numerical_convergence_problem   \n",
       "2       1   2317                 1_patient_clinical_medical_disease   \n",
       "3       2   1726                    2_training_supervised_class_pre   \n",
       "4       3   1601           3_robot_robotic_manipulation_environment   \n",
       "5       4   1275                          4_3d_scene_pose_rendering   \n",
       "6       5   1161                5_llm_diffusion_reasoning_knowledge   \n",
       "7       6   1043                         6_speech_audio_speaker_asr   \n",
       "8       7    991                           7_agent_rl_policy_reward   \n",
       "9       8    894                     8_vehicle_traffic_driving_road   \n",
       "10      9    818                          9_ri_channel_antenna_mimo   \n",
       "11     10    811                             10_graph_node_gnns_gnn   \n",
       "12     11    544             11_code_software_developer_programming   \n",
       "13     12    507                12_social_medium_social medium_news   \n",
       "14     13    484       13_translation_language_multilingual_english   \n",
       "15     14    464        14_control_controller_nonlinear_disturbance   \n",
       "16     15    439       15_quantum_circuit_classical_quantum circuit   \n",
       "17     16    432          16_client_fl_federated_federated learning   \n",
       "18     17    432                           17_uav_uavs_drone_aerial   \n",
       "19     18    427                          18_power_energy_grid_wind   \n",
       "20     19    426                      19_vertex_graph_edge_coloring   \n",
       "21     20    420                   20_iot_service_device_iot device   \n",
       "22     21    394            21_recommendation_item_recommender_user   \n",
       "23     22    347  22_blockchain_contract_transaction_smart contract   \n",
       "24     23    346                 23_protein_molecule_molecular_drug   \n",
       "25     24    286                  24_logic_proof_calculus_semantics   \n",
       "26     25    285  25_attack_adversarial_backdoor_adversarial attack   \n",
       "27     26    282         26_forecasting_forecast_time series_series   \n",
       "28     27    279  27_ai_intelligence_artificial intelligence_art...   \n",
       "29     28    241        28_citation_scientific_publication_research   \n",
       "30     29    236           29_data_privacy_synthetic_synthetic data   \n",
       "31     30    226                    30_game_player_equilibrium_nash   \n",
       "32     31    209  31_clustering_cluster_clustering method_cluste...   \n",
       "33     32    208          32_code_polynomial_conjecture_linear code   \n",
       "34     33    190  33_encryption_cryptographic_cryptography_homom...   \n",
       "35     34    178                   34_memory_dram_accelerator_cache   \n",
       "36     35    177            35_student_education_course_educational   \n",
       "37     36    170  36_causal_causal discovery_causal effect_causa...   \n",
       "38     37    163   37_gans_gan_discriminator_generative adversarial   \n",
       "39     38    152               38_cyber_cybersecurity_attack_threat   \n",
       "40     39    146                        39_video_frame_temporal_vqa   \n",
       "41     40    137                  40_spacecraft_mission_solar_orbit   \n",
       "42     41    131                          41_snns_spiking_snn_spike   \n",
       "43     42    122                     42_auction_price_buyer_revenue   \n",
       "44     43    109                43_slam_lidar_localization_odometry   \n",
       "45     44    106                  44_stock_market_trading_portfolio   \n",
       "46     45    106      45_anomaly_anomaly detection_detection_normal   \n",
       "47     46    104               46_allocation_envy_indivisible_chore   \n",
       "48     47    103                  47_crop_plant_farmer_agricultural   \n",
       "49     48    103                48_fault_cps_fault diagnosis_safety   \n",
       "\n",
       "                                       Representation  \\\n",
       "0   [model, data, task, image, learning, feature, ...   \n",
       "1   [equation, numerical, convergence, problem, so...   \n",
       "2   [patient, clinical, medical, disease, segmenta...   \n",
       "3   [training, supervised, class, pre, label, shot...   \n",
       "4   [robot, robotic, manipulation, environment, ob...   \n",
       "5   [3d, scene, pose, rendering, view, nerf, motio...   \n",
       "6   [llm, diffusion, reasoning, knowledge, diffusi...   \n",
       "7   [speech, audio, speaker, asr, music, acoustic,...   \n",
       "8   [agent, rl, policy, reward, reinforcement, rei...   \n",
       "9   [vehicle, traffic, driving, road, autonomous, ...   \n",
       "10  [ri, channel, antenna, mimo, wireless, communi...   \n",
       "11  [graph, node, gnns, gnn, graph neural, network...   \n",
       "12  [code, software, developer, programming, bug, ...   \n",
       "13  [social, medium, social medium, news, twitter,...   \n",
       "14  [translation, language, multilingual, english,...   \n",
       "15  [control, controller, nonlinear, disturbance, ...   \n",
       "16  [quantum, circuit, classical, quantum circuit,...   \n",
       "17  [client, fl, federated, federated learning, le...   \n",
       "18  [uav, uavs, drone, aerial, underwater, aerial ...   \n",
       "19  [power, energy, grid, wind, renewable, voltage...   \n",
       "20  [vertex, graph, edge, coloring, planar, planar...   \n",
       "21  [iot, service, device, iot device, ran, cloud,...   \n",
       "22  [recommendation, item, recommender, user, pref...   \n",
       "23  [blockchain, contract, transaction, smart cont...   \n",
       "24  [protein, molecule, molecular, drug, gene, che...   \n",
       "25  [logic, proof, calculus, semantics, theory, ca...   \n",
       "26  [attack, adversarial, backdoor, adversarial at...   \n",
       "27  [forecasting, forecast, time series, series, s...   \n",
       "28  [ai, intelligence, artificial intelligence, ar...   \n",
       "29  [citation, scientific, publication, research, ...   \n",
       "30  [data, privacy, synthetic, synthetic data, ana...   \n",
       "31  [game, player, equilibrium, nash, nash equilib...   \n",
       "32  [clustering, cluster, clustering method, clust...   \n",
       "33  [code, polynomial, conjecture, linear code, cy...   \n",
       "34  [encryption, cryptographic, cryptography, homo...   \n",
       "35  [memory, dram, accelerator, cache, hardware, c...   \n",
       "36  [student, education, course, educational, teac...   \n",
       "37  [causal, causal discovery, causal effect, caus...   \n",
       "38  [gans, gan, discriminator, generative adversar...   \n",
       "39  [cyber, cybersecurity, attack, threat, securit...   \n",
       "40  [video, frame, temporal, vqa, video quality, v...   \n",
       "41  [spacecraft, mission, solar, orbit, planet, te...   \n",
       "42  [snns, spiking, snn, spike, spiking neural, ne...   \n",
       "43  [auction, price, buyer, revenue, seller, marke...   \n",
       "44  [slam, lidar, localization, odometry, mapping,...   \n",
       "45  [stock, market, trading, portfolio, price, fin...   \n",
       "46  [anomaly, anomaly detection, detection, normal...   \n",
       "47  [allocation, envy, indivisible, chore, valuati...   \n",
       "48  [crop, plant, farmer, agricultural, soil, agri...   \n",
       "49  [fault, cps, fault diagnosis, safety, failure,...   \n",
       "\n",
       "                                  Representative_Docs  \n",
       "0   [['capturing', 'storing', 'image', 'device', '...  \n",
       "1   [['article', 'propose', 'two', 'finite', 'elem...  \n",
       "2   [['magnetic', 'resonance', 'imaging', 'mri', '...  \n",
       "3   [['shot', 'classification', 'fsc', 'entail', '...  \n",
       "4   [['robotic', 'dexterous', 'grasping', 'challen...  \n",
       "5   [['multi', 'view', 'volumetric', 'rendering', ...  \n",
       "6   [['recently', 'chatgpt', 'representative', 'la...  \n",
       "7   [['recently', 'end', 'end', 'model', 'widely',...  \n",
       "8   [['policy', 'represented', 'deep', 'neural', '...  \n",
       "9   [['connected', 'vehicle', 'cv', 'technology', ...  \n",
       "10  [['reconfigurable', 'intelligent', 'surface', ...  \n",
       "11  [['many', 'network', 'transportation', 'power'...  \n",
       "12  [['paradigm', 'choreographic', 'programming', ...  \n",
       "13  [['exponential', 'growth', 'social', 'medium',...  \n",
       "14  [['africa', 'indigenous', 'language', 'represe...  \n",
       "15  [['infinite', 'horizon', 'optimal', 'control',...  \n",
       "16  [['operating', 'principle', 'quantum', 'mechan...  \n",
       "17  [['federated', 'learning', 'fl', 'recently', '...  \n",
       "18  [['paper', 'multi', 'target', 'tracking', 'mtt...  \n",
       "19  [['accurate', 'generation', 'realistic', 'futu...  \n",
       "20  [['acyclic', 'edge', 'coloring', 'graph', 'pro...  \n",
       "21  [['open', 'radio', 'access', 'network', 'ran',...  \n",
       "22  [['graph', 'neural', 'network', 'gnns', 'recen...  \n",
       "23  [['blockchain', 'platform', 'ethereum', 'onwar...  \n",
       "24  [['generating', 'molecule', 'high', 'binding',...  \n",
       "25  [['develop', 'domain', 'theory', 'constructive...  \n",
       "26  [['deep', 'neural', 'network', 'dnn', 'vulnera...  \n",
       "27  [['study', 'focus', 'development', 'implementa...  \n",
       "28  [['trustworthy', 'artificial', 'intelligence',...  \n",
       "29  [['purpose', 'academic', 'citation', 'social',...  \n",
       "30  [['real', 'world', 'data', 'often', 'exhibit',...  \n",
       "31  [['rational', 'verification', 'aim', 'verify',...  \n",
       "32  [['paper', 'considers', 'well', 'studied', 'al...  \n",
       "33  [['using', 'notion', 'embedding', 'gamma', 'ca...  \n",
       "34  [['hard', 'mathematical', 'problem', 'assure',...  \n",
       "35  [['widespread', 'use', 'deep', 'neural', 'netw...  \n",
       "36  [['early', 'exposure', 'computer', 'science', ...  \n",
       "37  [['learning', 'causal', 'relationship', 'varia...  \n",
       "38  [['class', 'conditional', 'image', 'generation...  \n",
       "39  [['attack', 'path', 'potential', 'chain', 'mal...  \n",
       "40  [['current', 'shot', 'action', 'recognition', ...  \n",
       "41  [['global', 'seismicity', 'three', 'solar', 's...  \n",
       "42  [['spiking', 'neural', 'network', 'snns', 'eve...  \n",
       "43  [['advertiser', 'online', 'ad', 'auction', 'in...  \n",
       "44  [['localization', 'mapping', 'heterogeneous', ...  \n",
       "45  [['study', 'stock', 'market', 'attraction', 'm...  \n",
       "46  [['anomaly', 'detection', 'challenging', 'usua...  \n",
       "47  [['study', 'problem', 'fairly', 'allocating', ...  \n",
       "48  [['production', 'food', 'feed', 'fiber', 'fuel...  \n",
       "49  [['grey', 'box', 'fuzzing', 'lightweight', 'ap...  "
      ]
     },
     "execution_count": 18,
     "metadata": {},
     "output_type": "execute_result"
    }
   ],
   "source": [
    "topic_model = BERTopic(\n",
    "    \n",
    "  embedding_model=embedding_model,\n",
    "  umap_model=umap_model,\n",
    "  hdbscan_model=hdbscan_model,\n",
    "  vectorizer_model=vectorizer_model,\n",
    "  ctfidf_model=ctfidf_model,\n",
    "\n",
    "  n_gram_range=(1, 2),\n",
    "  top_n_words=10,\n",
    "  nr_topics=\"auto\"\n",
    ")\n",
    "\n",
    "# Train model\n",
    "topics, probs = topic_model.fit_transform(abstracts, embeddings)\n",
    "\n",
    "# Show topics\n",
    "topic_model.get_topic_info()"
   ]
  },
  {
   "cell_type": "code",
   "execution_count": null,
   "metadata": {},
   "outputs": [
    {
     "name": "stderr",
     "output_type": "stream",
     "text": [
      "2024-10-16 15:01:39,152 - BERTopic - WARNING: Using a custom list of topic assignments may lead to errors if topic reduction techniques are used afterwards. Make sure that manually assigning topics is the last step in the pipeline.Note that topic embeddings will also be created through weightedc-TF-IDF embeddings instead of centroid embeddings.\n"
     ]
    },
    {
     "data": {
      "text/html": [
       "<div>\n",
       "<style scoped>\n",
       "    .dataframe tbody tr th:only-of-type {\n",
       "        vertical-align: middle;\n",
       "    }\n",
       "\n",
       "    .dataframe tbody tr th {\n",
       "        vertical-align: top;\n",
       "    }\n",
       "\n",
       "    .dataframe thead th {\n",
       "        text-align: right;\n",
       "    }\n",
       "</style>\n",
       "<table border=\"1\" class=\"dataframe\">\n",
       "  <thead>\n",
       "    <tr style=\"text-align: right;\">\n",
       "      <th></th>\n",
       "      <th>Topic</th>\n",
       "      <th>Count</th>\n",
       "      <th>Name</th>\n",
       "      <th>Representation</th>\n",
       "      <th>Representative_Docs</th>\n",
       "    </tr>\n",
       "  </thead>\n",
       "  <tbody>\n",
       "    <tr>\n",
       "      <th>0</th>\n",
       "      <td>0</td>\n",
       "      <td>4377</td>\n",
       "      <td>0_problem_method_equation_algorithm</td>\n",
       "      <td>[problem, method, equation, algorithm, numeric...</td>\n",
       "      <td>[['article', 'propose', 'two', 'finite', 'elem...</td>\n",
       "    </tr>\n",
       "    <tr>\n",
       "      <th>1</th>\n",
       "      <td>1</td>\n",
       "      <td>2750</td>\n",
       "      <td>1_image_medical_patient_model</td>\n",
       "      <td>[image, medical, patient, model, segmentation,...</td>\n",
       "      <td>[['magnetic', 'resonance', 'imaging', 'mri', '...</td>\n",
       "    </tr>\n",
       "    <tr>\n",
       "      <th>2</th>\n",
       "      <td>2</td>\n",
       "      <td>5424</td>\n",
       "      <td>2_model_training_learning_task</td>\n",
       "      <td>[model, training, learning, task, method, netw...</td>\n",
       "      <td>[['shot', 'classification', 'fsc', 'entail', '...</td>\n",
       "    </tr>\n",
       "    <tr>\n",
       "      <th>3</th>\n",
       "      <td>3</td>\n",
       "      <td>1864</td>\n",
       "      <td>3_robot_object_environment_task</td>\n",
       "      <td>[robot, object, environment, task, human, robo...</td>\n",
       "      <td>[['robotic', 'dexterous', 'grasping', 'challen...</td>\n",
       "    </tr>\n",
       "    <tr>\n",
       "      <th>4</th>\n",
       "      <td>4</td>\n",
       "      <td>2547</td>\n",
       "      <td>4_3d_image_scene_method</td>\n",
       "      <td>[3d, image, scene, method, object, point, pose...</td>\n",
       "      <td>[['multi', 'view', 'volumetric', 'rendering', ...</td>\n",
       "    </tr>\n",
       "    <tr>\n",
       "      <th>5</th>\n",
       "      <td>5</td>\n",
       "      <td>2995</td>\n",
       "      <td>5_model_llm_text_language</td>\n",
       "      <td>[model, llm, text, language, task, knowledge, ...</td>\n",
       "      <td>[['recently', 'chatgpt', 'representative', 'la...</td>\n",
       "    </tr>\n",
       "    <tr>\n",
       "      <th>6</th>\n",
       "      <td>6</td>\n",
       "      <td>1411</td>\n",
       "      <td>6_speech_audio_speaker_model</td>\n",
       "      <td>[speech, audio, speaker, model, asr, music, re...</td>\n",
       "      <td>[['recently', 'end', 'end', 'model', 'widely',...</td>\n",
       "    </tr>\n",
       "    <tr>\n",
       "      <th>7</th>\n",
       "      <td>7</td>\n",
       "      <td>1700</td>\n",
       "      <td>7_agent_policy_rl_learning</td>\n",
       "      <td>[agent, policy, rl, learning, reinforcement, r...</td>\n",
       "      <td>[['policy', 'represented', 'deep', 'neural', '...</td>\n",
       "    </tr>\n",
       "    <tr>\n",
       "      <th>8</th>\n",
       "      <td>8</td>\n",
       "      <td>1122</td>\n",
       "      <td>8_vehicle_driving_traffic_autonomous</td>\n",
       "      <td>[vehicle, driving, traffic, autonomous, road, ...</td>\n",
       "      <td>[['connected', 'vehicle', 'cv', 'technology', ...</td>\n",
       "    </tr>\n",
       "    <tr>\n",
       "      <th>9</th>\n",
       "      <td>9</td>\n",
       "      <td>1232</td>\n",
       "      <td>9_channel_communication_ri_wireless</td>\n",
       "      <td>[channel, communication, ri, wireless, signal,...</td>\n",
       "      <td>[['reconfigurable', 'intelligent', 'surface', ...</td>\n",
       "    </tr>\n",
       "    <tr>\n",
       "      <th>10</th>\n",
       "      <td>10</td>\n",
       "      <td>1236</td>\n",
       "      <td>10_graph_node_network_gnns</td>\n",
       "      <td>[graph, node, network, gnns, graph neural, gnn...</td>\n",
       "      <td>[['many', 'network', 'transportation', 'power'...</td>\n",
       "    </tr>\n",
       "    <tr>\n",
       "      <th>11</th>\n",
       "      <td>11</td>\n",
       "      <td>1063</td>\n",
       "      <td>11_code_software_developer_program</td>\n",
       "      <td>[code, software, developer, program, programmi...</td>\n",
       "      <td>[['paradigm', 'choreographic', 'programming', ...</td>\n",
       "    </tr>\n",
       "    <tr>\n",
       "      <th>12</th>\n",
       "      <td>12</td>\n",
       "      <td>846</td>\n",
       "      <td>12_social_medium_social medium_news</td>\n",
       "      <td>[social, medium, social medium, news, user, co...</td>\n",
       "      <td>[['exponential', 'growth', 'social', 'medium',...</td>\n",
       "    </tr>\n",
       "    <tr>\n",
       "      <th>13</th>\n",
       "      <td>13</td>\n",
       "      <td>1299</td>\n",
       "      <td>13_language_translation_model_multilingual</td>\n",
       "      <td>[language, translation, model, multilingual, e...</td>\n",
       "      <td>[['africa', 'indigenous', 'language', 'represe...</td>\n",
       "    </tr>\n",
       "    <tr>\n",
       "      <th>14</th>\n",
       "      <td>14</td>\n",
       "      <td>871</td>\n",
       "      <td>14_system_control_controller_nonlinear</td>\n",
       "      <td>[system, control, controller, nonlinear, state...</td>\n",
       "      <td>[['infinite', 'horizon', 'optimal', 'control',...</td>\n",
       "    </tr>\n",
       "    <tr>\n",
       "      <th>15</th>\n",
       "      <td>15</td>\n",
       "      <td>622</td>\n",
       "      <td>15_quantum_circuit_classical_state</td>\n",
       "      <td>[quantum, circuit, classical, state, gate, alg...</td>\n",
       "      <td>[['operating', 'principle', 'quantum', 'mechan...</td>\n",
       "    </tr>\n",
       "    <tr>\n",
       "      <th>16</th>\n",
       "      <td>16</td>\n",
       "      <td>846</td>\n",
       "      <td>16_client_fl_federated_privacy</td>\n",
       "      <td>[client, fl, federated, privacy, federated lea...</td>\n",
       "      <td>[['federated', 'learning', 'fl', 'recently', '...</td>\n",
       "    </tr>\n",
       "    <tr>\n",
       "      <th>17</th>\n",
       "      <td>17</td>\n",
       "      <td>503</td>\n",
       "      <td>17_uav_uavs_aerial_vehicle</td>\n",
       "      <td>[uav, uavs, aerial, vehicle, drone, unmanned, ...</td>\n",
       "      <td>[['paper', 'multi', 'target', 'tracking', 'mtt...</td>\n",
       "    </tr>\n",
       "    <tr>\n",
       "      <th>18</th>\n",
       "      <td>18</td>\n",
       "      <td>562</td>\n",
       "      <td>18_power_energy_grid_system</td>\n",
       "      <td>[power, energy, grid, system, voltage, wind, b...</td>\n",
       "      <td>[['accurate', 'generation', 'realistic', 'futu...</td>\n",
       "    </tr>\n",
       "    <tr>\n",
       "      <th>19</th>\n",
       "      <td>19</td>\n",
       "      <td>915</td>\n",
       "      <td>19_graph_vertex_algorithm_problem</td>\n",
       "      <td>[graph, vertex, algorithm, problem, time, edge...</td>\n",
       "      <td>[['acyclic', 'edge', 'coloring', 'graph', 'pro...</td>\n",
       "    </tr>\n",
       "    <tr>\n",
       "      <th>20</th>\n",
       "      <td>20</td>\n",
       "      <td>859</td>\n",
       "      <td>20_iot_network_device_service</td>\n",
       "      <td>[iot, network, device, service, resource, clou...</td>\n",
       "      <td>[['open', 'radio', 'access', 'network', 'ran',...</td>\n",
       "    </tr>\n",
       "    <tr>\n",
       "      <th>21</th>\n",
       "      <td>21</td>\n",
       "      <td>704</td>\n",
       "      <td>21_user_recommendation_item_recommender</td>\n",
       "      <td>[user, recommendation, item, recommender, reco...</td>\n",
       "      <td>[['graph', 'neural', 'network', 'gnns', 'recen...</td>\n",
       "    </tr>\n",
       "    <tr>\n",
       "      <th>22</th>\n",
       "      <td>22</td>\n",
       "      <td>448</td>\n",
       "      <td>22_blockchain_transaction_contract_smart contract</td>\n",
       "      <td>[blockchain, transaction, contract, smart cont...</td>\n",
       "      <td>[['blockchain', 'platform', 'ethereum', 'onwar...</td>\n",
       "    </tr>\n",
       "    <tr>\n",
       "      <th>23</th>\n",
       "      <td>23</td>\n",
       "      <td>449</td>\n",
       "      <td>23_protein_molecule_molecular_drug</td>\n",
       "      <td>[protein, molecule, molecular, drug, structure...</td>\n",
       "      <td>[['generating', 'molecule', 'high', 'binding',...</td>\n",
       "    </tr>\n",
       "    <tr>\n",
       "      <th>24</th>\n",
       "      <td>24</td>\n",
       "      <td>682</td>\n",
       "      <td>24_logic_proof_theory_automaton</td>\n",
       "      <td>[logic, proof, theory, automaton, semantics, c...</td>\n",
       "      <td>[['develop', 'domain', 'theory', 'constructive...</td>\n",
       "    </tr>\n",
       "    <tr>\n",
       "      <th>25</th>\n",
       "      <td>25</td>\n",
       "      <td>785</td>\n",
       "      <td>25_attack_adversarial_robustness_model</td>\n",
       "      <td>[attack, adversarial, robustness, model, backd...</td>\n",
       "      <td>[['deep', 'neural', 'network', 'dnn', 'vulnera...</td>\n",
       "    </tr>\n",
       "    <tr>\n",
       "      <th>26</th>\n",
       "      <td>26</td>\n",
       "      <td>632</td>\n",
       "      <td>26_forecasting_time series_series_time</td>\n",
       "      <td>[forecasting, time series, series, time, model...</td>\n",
       "      <td>[['study', 'focus', 'development', 'implementa...</td>\n",
       "    </tr>\n",
       "    <tr>\n",
       "      <th>27</th>\n",
       "      <td>27</td>\n",
       "      <td>1006</td>\n",
       "      <td>27_ai_human_intelligence_system</td>\n",
       "      <td>[ai, human, intelligence, system, artificial, ...</td>\n",
       "      <td>[['trustworthy', 'artificial', 'intelligence',...</td>\n",
       "    </tr>\n",
       "    <tr>\n",
       "      <th>28</th>\n",
       "      <td>28</td>\n",
       "      <td>461</td>\n",
       "      <td>28_research_citation_scientific_paper</td>\n",
       "      <td>[research, citation, scientific, paper, review...</td>\n",
       "      <td>[['purpose', 'academic', 'citation', 'social',...</td>\n",
       "    </tr>\n",
       "    <tr>\n",
       "      <th>29</th>\n",
       "      <td>29</td>\n",
       "      <td>510</td>\n",
       "      <td>29_data_privacy_datasets_analysis</td>\n",
       "      <td>[data, privacy, datasets, analysis, model, syn...</td>\n",
       "      <td>[['real', 'world', 'data', 'often', 'exhibit',...</td>\n",
       "    </tr>\n",
       "    <tr>\n",
       "      <th>30</th>\n",
       "      <td>30</td>\n",
       "      <td>375</td>\n",
       "      <td>30_game_player_equilibrium_nash</td>\n",
       "      <td>[game, player, equilibrium, nash, agent, nash ...</td>\n",
       "      <td>[['rational', 'verification', 'aim', 'verify',...</td>\n",
       "    </tr>\n",
       "    <tr>\n",
       "      <th>31</th>\n",
       "      <td>31</td>\n",
       "      <td>429</td>\n",
       "      <td>31_clustering_cluster_algorithm_data</td>\n",
       "      <td>[clustering, cluster, algorithm, data, method,...</td>\n",
       "      <td>[['paper', 'considers', 'well', 'studied', 'al...</td>\n",
       "    </tr>\n",
       "    <tr>\n",
       "      <th>32</th>\n",
       "      <td>32</td>\n",
       "      <td>492</td>\n",
       "      <td>32_code_polynomial_linear_bound</td>\n",
       "      <td>[code, polynomial, linear, bound, set, constru...</td>\n",
       "      <td>[['using', 'notion', 'embedding', 'gamma', 'ca...</td>\n",
       "    </tr>\n",
       "    <tr>\n",
       "      <th>33</th>\n",
       "      <td>33</td>\n",
       "      <td>302</td>\n",
       "      <td>33_encryption_security_key_cryptographic</td>\n",
       "      <td>[encryption, security, key, cryptographic, sch...</td>\n",
       "      <td>[['hard', 'mathematical', 'problem', 'assure',...</td>\n",
       "    </tr>\n",
       "    <tr>\n",
       "      <th>34</th>\n",
       "      <td>34</td>\n",
       "      <td>650</td>\n",
       "      <td>34_memory_hardware_performance_accelerator</td>\n",
       "      <td>[memory, hardware, performance, accelerator, a...</td>\n",
       "      <td>[['widespread', 'use', 'deep', 'neural', 'netw...</td>\n",
       "    </tr>\n",
       "    <tr>\n",
       "      <th>35</th>\n",
       "      <td>35</td>\n",
       "      <td>349</td>\n",
       "      <td>35_student_education_course_educational</td>\n",
       "      <td>[student, education, course, educational, lear...</td>\n",
       "      <td>[['early', 'exposure', 'computer', 'science', ...</td>\n",
       "    </tr>\n",
       "    <tr>\n",
       "      <th>36</th>\n",
       "      <td>36</td>\n",
       "      <td>419</td>\n",
       "      <td>36_causal_variable_effect_data</td>\n",
       "      <td>[causal, variable, effect, data, treatment, mo...</td>\n",
       "      <td>[['learning', 'causal', 'relationship', 'varia...</td>\n",
       "    </tr>\n",
       "    <tr>\n",
       "      <th>37</th>\n",
       "      <td>37</td>\n",
       "      <td>645</td>\n",
       "      <td>37_image_generative_gan_model</td>\n",
       "      <td>[image, generative, gan, model, gans, diffusio...</td>\n",
       "      <td>[['class', 'conditional', 'image', 'generation...</td>\n",
       "    </tr>\n",
       "    <tr>\n",
       "      <th>38</th>\n",
       "      <td>38</td>\n",
       "      <td>322</td>\n",
       "      <td>38_attack_cyber_security_threat</td>\n",
       "      <td>[attack, cyber, security, threat, cybersecurit...</td>\n",
       "      <td>[['attack', 'path', 'potential', 'chain', 'mal...</td>\n",
       "    </tr>\n",
       "    <tr>\n",
       "      <th>39</th>\n",
       "      <td>39</td>\n",
       "      <td>559</td>\n",
       "      <td>39_video_frame_temporal_feature</td>\n",
       "      <td>[video, frame, temporal, feature, method, acti...</td>\n",
       "      <td>[['current', 'shot', 'action', 'recognition', ...</td>\n",
       "    </tr>\n",
       "    <tr>\n",
       "      <th>40</th>\n",
       "      <td>40</td>\n",
       "      <td>167</td>\n",
       "      <td>40_spacecraft_mission_solar_orbit</td>\n",
       "      <td>[spacecraft, mission, solar, orbit, data, spac...</td>\n",
       "      <td>[['global', 'seismicity', 'three', 'solar', 's...</td>\n",
       "    </tr>\n",
       "    <tr>\n",
       "      <th>41</th>\n",
       "      <td>41</td>\n",
       "      <td>367</td>\n",
       "      <td>41_neural_snns_spiking_network</td>\n",
       "      <td>[neural, snns, spiking, network, neuron, neura...</td>\n",
       "      <td>[['spiking', 'neural', 'network', 'snns', 'eve...</td>\n",
       "    </tr>\n",
       "    <tr>\n",
       "      <th>42</th>\n",
       "      <td>42</td>\n",
       "      <td>209</td>\n",
       "      <td>42_auction_price_mechanism_revenue</td>\n",
       "      <td>[auction, price, mechanism, revenue, market, b...</td>\n",
       "      <td>[['advertiser', 'online', 'ad', 'auction', 'in...</td>\n",
       "    </tr>\n",
       "    <tr>\n",
       "      <th>43</th>\n",
       "      <td>43</td>\n",
       "      <td>383</td>\n",
       "      <td>43_lidar_slam_localization_camera</td>\n",
       "      <td>[lidar, slam, localization, camera, sensor, ma...</td>\n",
       "      <td>[['localization', 'mapping', 'heterogeneous', ...</td>\n",
       "    </tr>\n",
       "    <tr>\n",
       "      <th>44</th>\n",
       "      <td>44</td>\n",
       "      <td>145</td>\n",
       "      <td>44_market_stock_price_financial</td>\n",
       "      <td>[market, stock, price, financial, trading, por...</td>\n",
       "      <td>[['study', 'stock', 'market', 'attraction', 'm...</td>\n",
       "    </tr>\n",
       "    <tr>\n",
       "      <th>45</th>\n",
       "      <td>45</td>\n",
       "      <td>311</td>\n",
       "      <td>45_anomaly_anomaly detection_detection_data</td>\n",
       "      <td>[anomaly, anomaly detection, detection, data, ...</td>\n",
       "      <td>[['anomaly', 'detection', 'challenging', 'usua...</td>\n",
       "    </tr>\n",
       "    <tr>\n",
       "      <th>46</th>\n",
       "      <td>46</td>\n",
       "      <td>202</td>\n",
       "      <td>46_agent_allocation_voting_fairness</td>\n",
       "      <td>[agent, allocation, voting, fairness, voter, r...</td>\n",
       "      <td>[['study', 'problem', 'fairly', 'allocating', ...</td>\n",
       "    </tr>\n",
       "    <tr>\n",
       "      <th>47</th>\n",
       "      <td>47</td>\n",
       "      <td>152</td>\n",
       "      <td>47_crop_plant_agricultural_farmer</td>\n",
       "      <td>[crop, plant, agricultural, farmer, agricultur...</td>\n",
       "      <td>[['production', 'food', 'feed', 'fiber', 'fuel...</td>\n",
       "    </tr>\n",
       "    <tr>\n",
       "      <th>48</th>\n",
       "      <td>48</td>\n",
       "      <td>199</td>\n",
       "      <td>48_fault_system_safety_failure</td>\n",
       "      <td>[fault, system, safety, failure, process, appr...</td>\n",
       "      <td>[['grey', 'box', 'fuzzing', 'lightweight', 'ap...</td>\n",
       "    </tr>\n",
       "  </tbody>\n",
       "</table>\n",
       "</div>"
      ],
      "text/plain": [
       "    Topic  Count                                               Name  \\\n",
       "0       0   4377                0_problem_method_equation_algorithm   \n",
       "1       1   2750                      1_image_medical_patient_model   \n",
       "2       2   5424                     2_model_training_learning_task   \n",
       "3       3   1864                    3_robot_object_environment_task   \n",
       "4       4   2547                            4_3d_image_scene_method   \n",
       "5       5   2995                          5_model_llm_text_language   \n",
       "6       6   1411                       6_speech_audio_speaker_model   \n",
       "7       7   1700                         7_agent_policy_rl_learning   \n",
       "8       8   1122               8_vehicle_driving_traffic_autonomous   \n",
       "9       9   1232                9_channel_communication_ri_wireless   \n",
       "10     10   1236                         10_graph_node_network_gnns   \n",
       "11     11   1063                 11_code_software_developer_program   \n",
       "12     12    846                12_social_medium_social medium_news   \n",
       "13     13   1299         13_language_translation_model_multilingual   \n",
       "14     14    871             14_system_control_controller_nonlinear   \n",
       "15     15    622                 15_quantum_circuit_classical_state   \n",
       "16     16    846                     16_client_fl_federated_privacy   \n",
       "17     17    503                         17_uav_uavs_aerial_vehicle   \n",
       "18     18    562                        18_power_energy_grid_system   \n",
       "19     19    915                  19_graph_vertex_algorithm_problem   \n",
       "20     20    859                      20_iot_network_device_service   \n",
       "21     21    704            21_user_recommendation_item_recommender   \n",
       "22     22    448  22_blockchain_transaction_contract_smart contract   \n",
       "23     23    449                 23_protein_molecule_molecular_drug   \n",
       "24     24    682                    24_logic_proof_theory_automaton   \n",
       "25     25    785             25_attack_adversarial_robustness_model   \n",
       "26     26    632             26_forecasting_time series_series_time   \n",
       "27     27   1006                    27_ai_human_intelligence_system   \n",
       "28     28    461              28_research_citation_scientific_paper   \n",
       "29     29    510                  29_data_privacy_datasets_analysis   \n",
       "30     30    375                    30_game_player_equilibrium_nash   \n",
       "31     31    429               31_clustering_cluster_algorithm_data   \n",
       "32     32    492                    32_code_polynomial_linear_bound   \n",
       "33     33    302           33_encryption_security_key_cryptographic   \n",
       "34     34    650         34_memory_hardware_performance_accelerator   \n",
       "35     35    349            35_student_education_course_educational   \n",
       "36     36    419                     36_causal_variable_effect_data   \n",
       "37     37    645                      37_image_generative_gan_model   \n",
       "38     38    322                    38_attack_cyber_security_threat   \n",
       "39     39    559                    39_video_frame_temporal_feature   \n",
       "40     40    167                  40_spacecraft_mission_solar_orbit   \n",
       "41     41    367                     41_neural_snns_spiking_network   \n",
       "42     42    209                 42_auction_price_mechanism_revenue   \n",
       "43     43    383                  43_lidar_slam_localization_camera   \n",
       "44     44    145                    44_market_stock_price_financial   \n",
       "45     45    311        45_anomaly_anomaly detection_detection_data   \n",
       "46     46    202                46_agent_allocation_voting_fairness   \n",
       "47     47    152                  47_crop_plant_agricultural_farmer   \n",
       "48     48    199                     48_fault_system_safety_failure   \n",
       "\n",
       "                                       Representation  \\\n",
       "0   [problem, method, equation, algorithm, numeric...   \n",
       "1   [image, medical, patient, model, segmentation,...   \n",
       "2   [model, training, learning, task, method, netw...   \n",
       "3   [robot, object, environment, task, human, robo...   \n",
       "4   [3d, image, scene, method, object, point, pose...   \n",
       "5   [model, llm, text, language, task, knowledge, ...   \n",
       "6   [speech, audio, speaker, model, asr, music, re...   \n",
       "7   [agent, policy, rl, learning, reinforcement, r...   \n",
       "8   [vehicle, driving, traffic, autonomous, road, ...   \n",
       "9   [channel, communication, ri, wireless, signal,...   \n",
       "10  [graph, node, network, gnns, graph neural, gnn...   \n",
       "11  [code, software, developer, program, programmi...   \n",
       "12  [social, medium, social medium, news, user, co...   \n",
       "13  [language, translation, model, multilingual, e...   \n",
       "14  [system, control, controller, nonlinear, state...   \n",
       "15  [quantum, circuit, classical, state, gate, alg...   \n",
       "16  [client, fl, federated, privacy, federated lea...   \n",
       "17  [uav, uavs, aerial, vehicle, drone, unmanned, ...   \n",
       "18  [power, energy, grid, system, voltage, wind, b...   \n",
       "19  [graph, vertex, algorithm, problem, time, edge...   \n",
       "20  [iot, network, device, service, resource, clou...   \n",
       "21  [user, recommendation, item, recommender, reco...   \n",
       "22  [blockchain, transaction, contract, smart cont...   \n",
       "23  [protein, molecule, molecular, drug, structure...   \n",
       "24  [logic, proof, theory, automaton, semantics, c...   \n",
       "25  [attack, adversarial, robustness, model, backd...   \n",
       "26  [forecasting, time series, series, time, model...   \n",
       "27  [ai, human, intelligence, system, artificial, ...   \n",
       "28  [research, citation, scientific, paper, review...   \n",
       "29  [data, privacy, datasets, analysis, model, syn...   \n",
       "30  [game, player, equilibrium, nash, agent, nash ...   \n",
       "31  [clustering, cluster, algorithm, data, method,...   \n",
       "32  [code, polynomial, linear, bound, set, constru...   \n",
       "33  [encryption, security, key, cryptographic, sch...   \n",
       "34  [memory, hardware, performance, accelerator, a...   \n",
       "35  [student, education, course, educational, lear...   \n",
       "36  [causal, variable, effect, data, treatment, mo...   \n",
       "37  [image, generative, gan, model, gans, diffusio...   \n",
       "38  [attack, cyber, security, threat, cybersecurit...   \n",
       "39  [video, frame, temporal, feature, method, acti...   \n",
       "40  [spacecraft, mission, solar, orbit, data, spac...   \n",
       "41  [neural, snns, spiking, network, neuron, neura...   \n",
       "42  [auction, price, mechanism, revenue, market, b...   \n",
       "43  [lidar, slam, localization, camera, sensor, ma...   \n",
       "44  [market, stock, price, financial, trading, por...   \n",
       "45  [anomaly, anomaly detection, detection, data, ...   \n",
       "46  [agent, allocation, voting, fairness, voter, r...   \n",
       "47  [crop, plant, agricultural, farmer, agricultur...   \n",
       "48  [fault, system, safety, failure, process, appr...   \n",
       "\n",
       "                                  Representative_Docs  \n",
       "0   [['article', 'propose', 'two', 'finite', 'elem...  \n",
       "1   [['magnetic', 'resonance', 'imaging', 'mri', '...  \n",
       "2   [['shot', 'classification', 'fsc', 'entail', '...  \n",
       "3   [['robotic', 'dexterous', 'grasping', 'challen...  \n",
       "4   [['multi', 'view', 'volumetric', 'rendering', ...  \n",
       "5   [['recently', 'chatgpt', 'representative', 'la...  \n",
       "6   [['recently', 'end', 'end', 'model', 'widely',...  \n",
       "7   [['policy', 'represented', 'deep', 'neural', '...  \n",
       "8   [['connected', 'vehicle', 'cv', 'technology', ...  \n",
       "9   [['reconfigurable', 'intelligent', 'surface', ...  \n",
       "10  [['many', 'network', 'transportation', 'power'...  \n",
       "11  [['paradigm', 'choreographic', 'programming', ...  \n",
       "12  [['exponential', 'growth', 'social', 'medium',...  \n",
       "13  [['africa', 'indigenous', 'language', 'represe...  \n",
       "14  [['infinite', 'horizon', 'optimal', 'control',...  \n",
       "15  [['operating', 'principle', 'quantum', 'mechan...  \n",
       "16  [['federated', 'learning', 'fl', 'recently', '...  \n",
       "17  [['paper', 'multi', 'target', 'tracking', 'mtt...  \n",
       "18  [['accurate', 'generation', 'realistic', 'futu...  \n",
       "19  [['acyclic', 'edge', 'coloring', 'graph', 'pro...  \n",
       "20  [['open', 'radio', 'access', 'network', 'ran',...  \n",
       "21  [['graph', 'neural', 'network', 'gnns', 'recen...  \n",
       "22  [['blockchain', 'platform', 'ethereum', 'onwar...  \n",
       "23  [['generating', 'molecule', 'high', 'binding',...  \n",
       "24  [['develop', 'domain', 'theory', 'constructive...  \n",
       "25  [['deep', 'neural', 'network', 'dnn', 'vulnera...  \n",
       "26  [['study', 'focus', 'development', 'implementa...  \n",
       "27  [['trustworthy', 'artificial', 'intelligence',...  \n",
       "28  [['purpose', 'academic', 'citation', 'social',...  \n",
       "29  [['real', 'world', 'data', 'often', 'exhibit',...  \n",
       "30  [['rational', 'verification', 'aim', 'verify',...  \n",
       "31  [['paper', 'considers', 'well', 'studied', 'al...  \n",
       "32  [['using', 'notion', 'embedding', 'gamma', 'ca...  \n",
       "33  [['hard', 'mathematical', 'problem', 'assure',...  \n",
       "34  [['widespread', 'use', 'deep', 'neural', 'netw...  \n",
       "35  [['early', 'exposure', 'computer', 'science', ...  \n",
       "36  [['learning', 'causal', 'relationship', 'varia...  \n",
       "37  [['class', 'conditional', 'image', 'generation...  \n",
       "38  [['attack', 'path', 'potential', 'chain', 'mal...  \n",
       "39  [['current', 'shot', 'action', 'recognition', ...  \n",
       "40  [['global', 'seismicity', 'three', 'solar', 's...  \n",
       "41  [['spiking', 'neural', 'network', 'snns', 'eve...  \n",
       "42  [['advertiser', 'online', 'ad', 'auction', 'in...  \n",
       "43  [['localization', 'mapping', 'heterogeneous', ...  \n",
       "44  [['study', 'stock', 'market', 'attraction', 'm...  \n",
       "45  [['anomaly', 'detection', 'challenging', 'usua...  \n",
       "46  [['study', 'problem', 'fairly', 'allocating', ...  \n",
       "47  [['production', 'food', 'feed', 'fiber', 'fuel...  \n",
       "48  [['grey', 'box', 'fuzzing', 'lightweight', 'ap...  "
      ]
     },
     "execution_count": 19,
     "metadata": {},
     "output_type": "execute_result"
    }
   ],
   "source": [
    "new_topics = topic_model.reduce_outliers(abstracts, topics, strategy=\"c-tf-idf\")\n",
    "topic_model.update_topics(abstracts, topics=new_topics)\n",
    "topic_model.get_topic_info()"
   ]
  },
  {
   "cell_type": "code",
   "execution_count": null,
   "metadata": {},
   "outputs": [],
   "source": [
    "def calculate_coherence_score(model, abstracts, topics):\n",
    "    documents = pd.DataFrame({\"Abstracts\": abstracts, \"ID\": range(len(abstracts)), \"Topic\": topics})\n",
    "    documents_per_topic = documents.groupby(['Topic'], as_index=False).agg({'Abstracts': ' '.join})\n",
    "\n",
    "    analyzer = model.vectorizer_model.build_analyzer()\n",
    "    tokens = [analyzer(doc) for doc in documents_per_topic.Abstracts]\n",
    "\n",
    "    dictionary = Dictionary(tokens)\n",
    "    corpus = [dictionary.doc2bow(token) for token in tokens]\n",
    "\n",
    "    topic_words = [[word for word, _ in model.get_topic(topic)] for topic in range(len(set(topics))-1)]\n",
    "\n",
    "    coherence_model = CoherenceModel(topics=topic_words, texts=tokens, corpus=corpus, dictionary=dictionary, coherence='c_v')\n",
    "    coherence = coherence_model.get_coherence()\n",
    "    \n",
    "    return coherence"
   ]
  },
  {
   "cell_type": "code",
   "execution_count": null,
   "metadata": {},
   "outputs": [
    {
     "name": "stdout",
     "output_type": "stream",
     "text": [
      "0.7336650927847712\n"
     ]
    }
   ],
   "source": [
    "coherence = calculate_coherence_score(topic_model, abstracts, new_topics)\n",
    "print(coherence)"
   ]
  },
  {
   "cell_type": "code",
   "execution_count": null,
   "metadata": {},
   "outputs": [
    {
     "data": {
      "application/vnd.plotly.v1+json": {
       "config": {
        "plotlyServerURL": "https://plot.ly"
       },
       "data": [
        {
         "customdata": [
          [
           0,
           "problem | method | equation | algorithm | numerical",
           4377
          ],
          [
           1,
           "image | medical | patient | model | segmentation",
           2750
          ],
          [
           2,
           "model | training | learning | task | method",
           5424
          ],
          [
           3,
           "robot | object | environment | task | human",
           1864
          ],
          [
           4,
           "3d | image | scene | method | object",
           2547
          ],
          [
           5,
           "model | llm | text | language | task",
           2995
          ],
          [
           6,
           "speech | audio | speaker | model | asr",
           1411
          ],
          [
           7,
           "agent | policy | rl | learning | reinforcement",
           1700
          ],
          [
           8,
           "vehicle | driving | traffic | autonomous | road",
           1122
          ],
          [
           9,
           "channel | communication | ri | wireless | signal",
           1232
          ],
          [
           10,
           "graph | node | network | gnns | graph neural",
           1236
          ],
          [
           11,
           "code | software | developer | program | programming",
           1063
          ],
          [
           12,
           "social | medium | social medium | news | user",
           846
          ],
          [
           13,
           "language | translation | model | multilingual | english",
           1299
          ],
          [
           14,
           "system | control | controller | nonlinear | state",
           871
          ],
          [
           15,
           "quantum | circuit | classical | state | gate",
           622
          ],
          [
           16,
           "client | fl | federated | privacy | federated learning",
           846
          ],
          [
           17,
           "uav | uavs | aerial | vehicle | drone",
           503
          ],
          [
           18,
           "power | energy | grid | system | voltage",
           562
          ],
          [
           19,
           "graph | vertex | algorithm | problem | time",
           915
          ],
          [
           20,
           "iot | network | device | service | resource",
           859
          ],
          [
           21,
           "user | recommendation | item | recommender | recommender system",
           704
          ],
          [
           22,
           "blockchain | transaction | contract | smart contract | smart",
           448
          ],
          [
           23,
           "protein | molecule | molecular | drug | structure",
           449
          ],
          [
           24,
           "logic | proof | theory | automaton | semantics",
           682
          ],
          [
           25,
           "attack | adversarial | robustness | model | backdoor",
           785
          ],
          [
           26,
           "forecasting | time series | series | time | model",
           632
          ],
          [
           27,
           "ai | human | intelligence | system | artificial",
           1006
          ],
          [
           28,
           "research | citation | scientific | paper | review",
           461
          ],
          [
           29,
           "data | privacy | datasets | analysis | model",
           510
          ],
          [
           30,
           "game | player | equilibrium | nash | agent",
           375
          ],
          [
           31,
           "clustering | cluster | algorithm | data | method",
           429
          ],
          [
           32,
           "code | polynomial | linear | bound | set",
           492
          ],
          [
           33,
           "encryption | security | key | cryptographic | scheme",
           302
          ],
          [
           34,
           "memory | hardware | performance | accelerator | application",
           650
          ],
          [
           35,
           "student | education | course | educational | learning",
           349
          ],
          [
           36,
           "causal | variable | effect | data | treatment",
           419
          ],
          [
           37,
           "image | generative | gan | model | gans",
           645
          ],
          [
           38,
           "attack | cyber | security | threat | cybersecurity",
           322
          ],
          [
           39,
           "video | frame | temporal | feature | method",
           559
          ],
          [
           40,
           "spacecraft | mission | solar | orbit | data",
           167
          ],
          [
           41,
           "neural | snns | spiking | network | neuron",
           367
          ],
          [
           42,
           "auction | price | mechanism | revenue | market",
           209
          ],
          [
           43,
           "lidar | slam | localization | camera | sensor",
           383
          ],
          [
           44,
           "market | stock | price | financial | trading",
           145
          ],
          [
           45,
           "anomaly | anomaly detection | detection | data | normal",
           311
          ],
          [
           46,
           "agent | allocation | voting | fairness | voter",
           202
          ],
          [
           47,
           "crop | plant | agricultural | farmer | agriculture",
           152
          ],
          [
           48,
           "fault | system | safety | failure | process",
           199
          ]
         ],
         "hovertemplate": "<b>Topic %{customdata[0]}</b><br>%{customdata[1]}<br>Size: %{customdata[2]}",
         "legendgroup": "",
         "marker": {
          "color": "#B0BEC5",
          "line": {
           "color": "DarkSlateGrey",
           "width": 2
          },
          "size": [
           4377,
           2750,
           5424,
           1864,
           2547,
           2995,
           1411,
           1700,
           1122,
           1232,
           1236,
           1063,
           846,
           1299,
           871,
           622,
           846,
           503,
           562,
           915,
           859,
           704,
           448,
           449,
           682,
           785,
           632,
           1006,
           461,
           510,
           375,
           429,
           492,
           302,
           650,
           349,
           419,
           645,
           322,
           559,
           167,
           367,
           209,
           383,
           145,
           311,
           202,
           152,
           199
          ],
          "sizemode": "area",
          "sizeref": 3.39,
          "symbol": "circle"
         },
         "mode": "markers",
         "name": "",
         "orientation": "v",
         "showlegend": false,
         "type": "scatter",
         "x": [
          0.6891927719116211,
          -0.8561504483222961,
          -2.931384801864624,
          3.1658220291137695,
          -4.614448547363281,
          -0.1824958473443985,
          -0.36267000436782837,
          -1.9233769178390503,
          -2.7054734230041504,
          4.565234184265137,
          1.1226814985275269,
          6.123620510101318,
          4.54340124130249,
          -0.0677940770983696,
          14.594969749450684,
          16.70128059387207,
          -2.059034585952759,
          -2.622915267944336,
          4.744408130645752,
          0.8966273665428162,
          4.422279357910156,
          4.611031532287598,
          16.619043350219727,
          -1.1626665592193604,
          -0.17686252295970917,
          17.132841110229492,
          -2.53185772895813,
          3.1652183532714844,
          -0.9666448831558228,
          -2.467750072479248,
          -1.842972993850708,
          -2.6235439777374268,
          6.123709678649902,
          16.79019546508789,
          4.231070041656494,
          -2.960482358932495,
          -0.6888214945793152,
          -2.692880630493164,
          16.986419677734375,
          -4.559815883636475,
          -4.8943352699279785,
          1.2722673416137695,
          13.503379821777344,
          -4.808736324310303,
          13.503305435180664,
          -0.9581942558288574,
          -1.6701875925064087,
          -0.6280456185340881,
          14.595135688781738
         ],
         "xaxis": "x",
         "y": [
          12.885491371154785,
          11.400260925292969,
          10.607688903808594,
          -11.107407569885254,
          -0.03444024547934532,
          18.532140731811523,
          18.340620040893555,
          9.576879501342773,
          11.1685791015625,
          -3.32733416557312,
          13.3186616897583,
          20.28462791442871,
          -3.6141183376312256,
          18.634950637817383,
          0.39193272590637207,
          22.96841049194336,
          10.622908592224121,
          11.333596229553223,
          -3.1908135414123535,
          13.092388153076172,
          -3.0525896549224854,
          -2.819131851196289,
          22.88619041442871,
          11.650477409362793,
          18.52728843688965,
          23.400074005126953,
          10.77705192565918,
          -11.112555503845215,
          11.772521018981934,
          10.34113883972168,
          9.541565895080566,
          10.873560905456543,
          20.284664154052734,
          23.057287216186523,
          -3.2075746059417725,
          10.431447982788086,
          11.359552383422852,
          10.260637283325195,
          23.25360107421875,
          0.020112166181206703,
          -0.3140914738178253,
          13.468323707580566,
          5.2494378089904785,
          -0.22860032320022583,
          5.249731540679932,
          11.258208274841309,
          9.362191200256348,
          11.680359840393066,
          0.39088791608810425
         ],
         "yaxis": "y"
        }
       ],
       "layout": {
        "annotations": [
         {
          "showarrow": false,
          "text": "D1",
          "x": -5.628485560417175,
          "y": 7.065323138236999,
          "yshift": 10
         },
         {
          "showarrow": false,
          "text": "D2",
          "x": 7.03714085817337,
          "xshift": 10,
          "y": 26.910085105895995
         }
        ],
        "height": 650,
        "hoverlabel": {
         "bgcolor": "white",
         "font": {
          "family": "Rockwell",
          "size": 16
         }
        },
        "legend": {
         "itemsizing": "constant",
         "tracegroupgap": 0
        },
        "margin": {
         "t": 60
        },
        "shapes": [
         {
          "line": {
           "color": "#CFD8DC",
           "width": 2
          },
          "type": "line",
          "x0": 7.03714085817337,
          "x1": 7.03714085817337,
          "y0": -12.779438829421997,
          "y1": 26.910085105895995
         },
         {
          "line": {
           "color": "#9E9E9E",
           "width": 2
          },
          "type": "line",
          "x0": -5.628485560417175,
          "x1": 19.702767276763915,
          "y0": 7.065323138236999,
          "y1": 7.065323138236999
         }
        ],
        "sliders": [
         {
          "active": 0,
          "pad": {
           "t": 50
          },
          "steps": [
           {
            "args": [
             {
              "marker.color": [
               [
                "red",
                "#B0BEC5",
                "#B0BEC5",
                "#B0BEC5",
                "#B0BEC5",
                "#B0BEC5",
                "#B0BEC5",
                "#B0BEC5",
                "#B0BEC5",
                "#B0BEC5",
                "#B0BEC5",
                "#B0BEC5",
                "#B0BEC5",
                "#B0BEC5",
                "#B0BEC5",
                "#B0BEC5",
                "#B0BEC5",
                "#B0BEC5",
                "#B0BEC5",
                "#B0BEC5",
                "#B0BEC5",
                "#B0BEC5",
                "#B0BEC5",
                "#B0BEC5",
                "#B0BEC5",
                "#B0BEC5",
                "#B0BEC5",
                "#B0BEC5",
                "#B0BEC5",
                "#B0BEC5",
                "#B0BEC5",
                "#B0BEC5",
                "#B0BEC5",
                "#B0BEC5",
                "#B0BEC5",
                "#B0BEC5",
                "#B0BEC5",
                "#B0BEC5",
                "#B0BEC5",
                "#B0BEC5",
                "#B0BEC5",
                "#B0BEC5",
                "#B0BEC5",
                "#B0BEC5",
                "#B0BEC5",
                "#B0BEC5",
                "#B0BEC5",
                "#B0BEC5",
                "#B0BEC5"
               ]
              ]
             }
            ],
            "label": "Topic 0",
            "method": "update"
           },
           {
            "args": [
             {
              "marker.color": [
               [
                "#B0BEC5",
                "red",
                "#B0BEC5",
                "#B0BEC5",
                "#B0BEC5",
                "#B0BEC5",
                "#B0BEC5",
                "#B0BEC5",
                "#B0BEC5",
                "#B0BEC5",
                "#B0BEC5",
                "#B0BEC5",
                "#B0BEC5",
                "#B0BEC5",
                "#B0BEC5",
                "#B0BEC5",
                "#B0BEC5",
                "#B0BEC5",
                "#B0BEC5",
                "#B0BEC5",
                "#B0BEC5",
                "#B0BEC5",
                "#B0BEC5",
                "#B0BEC5",
                "#B0BEC5",
                "#B0BEC5",
                "#B0BEC5",
                "#B0BEC5",
                "#B0BEC5",
                "#B0BEC5",
                "#B0BEC5",
                "#B0BEC5",
                "#B0BEC5",
                "#B0BEC5",
                "#B0BEC5",
                "#B0BEC5",
                "#B0BEC5",
                "#B0BEC5",
                "#B0BEC5",
                "#B0BEC5",
                "#B0BEC5",
                "#B0BEC5",
                "#B0BEC5",
                "#B0BEC5",
                "#B0BEC5",
                "#B0BEC5",
                "#B0BEC5",
                "#B0BEC5",
                "#B0BEC5"
               ]
              ]
             }
            ],
            "label": "Topic 1",
            "method": "update"
           },
           {
            "args": [
             {
              "marker.color": [
               [
                "#B0BEC5",
                "#B0BEC5",
                "red",
                "#B0BEC5",
                "#B0BEC5",
                "#B0BEC5",
                "#B0BEC5",
                "#B0BEC5",
                "#B0BEC5",
                "#B0BEC5",
                "#B0BEC5",
                "#B0BEC5",
                "#B0BEC5",
                "#B0BEC5",
                "#B0BEC5",
                "#B0BEC5",
                "#B0BEC5",
                "#B0BEC5",
                "#B0BEC5",
                "#B0BEC5",
                "#B0BEC5",
                "#B0BEC5",
                "#B0BEC5",
                "#B0BEC5",
                "#B0BEC5",
                "#B0BEC5",
                "#B0BEC5",
                "#B0BEC5",
                "#B0BEC5",
                "#B0BEC5",
                "#B0BEC5",
                "#B0BEC5",
                "#B0BEC5",
                "#B0BEC5",
                "#B0BEC5",
                "#B0BEC5",
                "#B0BEC5",
                "#B0BEC5",
                "#B0BEC5",
                "#B0BEC5",
                "#B0BEC5",
                "#B0BEC5",
                "#B0BEC5",
                "#B0BEC5",
                "#B0BEC5",
                "#B0BEC5",
                "#B0BEC5",
                "#B0BEC5",
                "#B0BEC5"
               ]
              ]
             }
            ],
            "label": "Topic 2",
            "method": "update"
           },
           {
            "args": [
             {
              "marker.color": [
               [
                "#B0BEC5",
                "#B0BEC5",
                "#B0BEC5",
                "red",
                "#B0BEC5",
                "#B0BEC5",
                "#B0BEC5",
                "#B0BEC5",
                "#B0BEC5",
                "#B0BEC5",
                "#B0BEC5",
                "#B0BEC5",
                "#B0BEC5",
                "#B0BEC5",
                "#B0BEC5",
                "#B0BEC5",
                "#B0BEC5",
                "#B0BEC5",
                "#B0BEC5",
                "#B0BEC5",
                "#B0BEC5",
                "#B0BEC5",
                "#B0BEC5",
                "#B0BEC5",
                "#B0BEC5",
                "#B0BEC5",
                "#B0BEC5",
                "#B0BEC5",
                "#B0BEC5",
                "#B0BEC5",
                "#B0BEC5",
                "#B0BEC5",
                "#B0BEC5",
                "#B0BEC5",
                "#B0BEC5",
                "#B0BEC5",
                "#B0BEC5",
                "#B0BEC5",
                "#B0BEC5",
                "#B0BEC5",
                "#B0BEC5",
                "#B0BEC5",
                "#B0BEC5",
                "#B0BEC5",
                "#B0BEC5",
                "#B0BEC5",
                "#B0BEC5",
                "#B0BEC5",
                "#B0BEC5"
               ]
              ]
             }
            ],
            "label": "Topic 3",
            "method": "update"
           },
           {
            "args": [
             {
              "marker.color": [
               [
                "#B0BEC5",
                "#B0BEC5",
                "#B0BEC5",
                "#B0BEC5",
                "red",
                "#B0BEC5",
                "#B0BEC5",
                "#B0BEC5",
                "#B0BEC5",
                "#B0BEC5",
                "#B0BEC5",
                "#B0BEC5",
                "#B0BEC5",
                "#B0BEC5",
                "#B0BEC5",
                "#B0BEC5",
                "#B0BEC5",
                "#B0BEC5",
                "#B0BEC5",
                "#B0BEC5",
                "#B0BEC5",
                "#B0BEC5",
                "#B0BEC5",
                "#B0BEC5",
                "#B0BEC5",
                "#B0BEC5",
                "#B0BEC5",
                "#B0BEC5",
                "#B0BEC5",
                "#B0BEC5",
                "#B0BEC5",
                "#B0BEC5",
                "#B0BEC5",
                "#B0BEC5",
                "#B0BEC5",
                "#B0BEC5",
                "#B0BEC5",
                "#B0BEC5",
                "#B0BEC5",
                "#B0BEC5",
                "#B0BEC5",
                "#B0BEC5",
                "#B0BEC5",
                "#B0BEC5",
                "#B0BEC5",
                "#B0BEC5",
                "#B0BEC5",
                "#B0BEC5",
                "#B0BEC5"
               ]
              ]
             }
            ],
            "label": "Topic 4",
            "method": "update"
           },
           {
            "args": [
             {
              "marker.color": [
               [
                "#B0BEC5",
                "#B0BEC5",
                "#B0BEC5",
                "#B0BEC5",
                "#B0BEC5",
                "red",
                "#B0BEC5",
                "#B0BEC5",
                "#B0BEC5",
                "#B0BEC5",
                "#B0BEC5",
                "#B0BEC5",
                "#B0BEC5",
                "#B0BEC5",
                "#B0BEC5",
                "#B0BEC5",
                "#B0BEC5",
                "#B0BEC5",
                "#B0BEC5",
                "#B0BEC5",
                "#B0BEC5",
                "#B0BEC5",
                "#B0BEC5",
                "#B0BEC5",
                "#B0BEC5",
                "#B0BEC5",
                "#B0BEC5",
                "#B0BEC5",
                "#B0BEC5",
                "#B0BEC5",
                "#B0BEC5",
                "#B0BEC5",
                "#B0BEC5",
                "#B0BEC5",
                "#B0BEC5",
                "#B0BEC5",
                "#B0BEC5",
                "#B0BEC5",
                "#B0BEC5",
                "#B0BEC5",
                "#B0BEC5",
                "#B0BEC5",
                "#B0BEC5",
                "#B0BEC5",
                "#B0BEC5",
                "#B0BEC5",
                "#B0BEC5",
                "#B0BEC5",
                "#B0BEC5"
               ]
              ]
             }
            ],
            "label": "Topic 5",
            "method": "update"
           },
           {
            "args": [
             {
              "marker.color": [
               [
                "#B0BEC5",
                "#B0BEC5",
                "#B0BEC5",
                "#B0BEC5",
                "#B0BEC5",
                "#B0BEC5",
                "red",
                "#B0BEC5",
                "#B0BEC5",
                "#B0BEC5",
                "#B0BEC5",
                "#B0BEC5",
                "#B0BEC5",
                "#B0BEC5",
                "#B0BEC5",
                "#B0BEC5",
                "#B0BEC5",
                "#B0BEC5",
                "#B0BEC5",
                "#B0BEC5",
                "#B0BEC5",
                "#B0BEC5",
                "#B0BEC5",
                "#B0BEC5",
                "#B0BEC5",
                "#B0BEC5",
                "#B0BEC5",
                "#B0BEC5",
                "#B0BEC5",
                "#B0BEC5",
                "#B0BEC5",
                "#B0BEC5",
                "#B0BEC5",
                "#B0BEC5",
                "#B0BEC5",
                "#B0BEC5",
                "#B0BEC5",
                "#B0BEC5",
                "#B0BEC5",
                "#B0BEC5",
                "#B0BEC5",
                "#B0BEC5",
                "#B0BEC5",
                "#B0BEC5",
                "#B0BEC5",
                "#B0BEC5",
                "#B0BEC5",
                "#B0BEC5",
                "#B0BEC5"
               ]
              ]
             }
            ],
            "label": "Topic 6",
            "method": "update"
           },
           {
            "args": [
             {
              "marker.color": [
               [
                "#B0BEC5",
                "#B0BEC5",
                "#B0BEC5",
                "#B0BEC5",
                "#B0BEC5",
                "#B0BEC5",
                "#B0BEC5",
                "red",
                "#B0BEC5",
                "#B0BEC5",
                "#B0BEC5",
                "#B0BEC5",
                "#B0BEC5",
                "#B0BEC5",
                "#B0BEC5",
                "#B0BEC5",
                "#B0BEC5",
                "#B0BEC5",
                "#B0BEC5",
                "#B0BEC5",
                "#B0BEC5",
                "#B0BEC5",
                "#B0BEC5",
                "#B0BEC5",
                "#B0BEC5",
                "#B0BEC5",
                "#B0BEC5",
                "#B0BEC5",
                "#B0BEC5",
                "#B0BEC5",
                "#B0BEC5",
                "#B0BEC5",
                "#B0BEC5",
                "#B0BEC5",
                "#B0BEC5",
                "#B0BEC5",
                "#B0BEC5",
                "#B0BEC5",
                "#B0BEC5",
                "#B0BEC5",
                "#B0BEC5",
                "#B0BEC5",
                "#B0BEC5",
                "#B0BEC5",
                "#B0BEC5",
                "#B0BEC5",
                "#B0BEC5",
                "#B0BEC5",
                "#B0BEC5"
               ]
              ]
             }
            ],
            "label": "Topic 7",
            "method": "update"
           },
           {
            "args": [
             {
              "marker.color": [
               [
                "#B0BEC5",
                "#B0BEC5",
                "#B0BEC5",
                "#B0BEC5",
                "#B0BEC5",
                "#B0BEC5",
                "#B0BEC5",
                "#B0BEC5",
                "red",
                "#B0BEC5",
                "#B0BEC5",
                "#B0BEC5",
                "#B0BEC5",
                "#B0BEC5",
                "#B0BEC5",
                "#B0BEC5",
                "#B0BEC5",
                "#B0BEC5",
                "#B0BEC5",
                "#B0BEC5",
                "#B0BEC5",
                "#B0BEC5",
                "#B0BEC5",
                "#B0BEC5",
                "#B0BEC5",
                "#B0BEC5",
                "#B0BEC5",
                "#B0BEC5",
                "#B0BEC5",
                "#B0BEC5",
                "#B0BEC5",
                "#B0BEC5",
                "#B0BEC5",
                "#B0BEC5",
                "#B0BEC5",
                "#B0BEC5",
                "#B0BEC5",
                "#B0BEC5",
                "#B0BEC5",
                "#B0BEC5",
                "#B0BEC5",
                "#B0BEC5",
                "#B0BEC5",
                "#B0BEC5",
                "#B0BEC5",
                "#B0BEC5",
                "#B0BEC5",
                "#B0BEC5",
                "#B0BEC5"
               ]
              ]
             }
            ],
            "label": "Topic 8",
            "method": "update"
           },
           {
            "args": [
             {
              "marker.color": [
               [
                "#B0BEC5",
                "#B0BEC5",
                "#B0BEC5",
                "#B0BEC5",
                "#B0BEC5",
                "#B0BEC5",
                "#B0BEC5",
                "#B0BEC5",
                "#B0BEC5",
                "red",
                "#B0BEC5",
                "#B0BEC5",
                "#B0BEC5",
                "#B0BEC5",
                "#B0BEC5",
                "#B0BEC5",
                "#B0BEC5",
                "#B0BEC5",
                "#B0BEC5",
                "#B0BEC5",
                "#B0BEC5",
                "#B0BEC5",
                "#B0BEC5",
                "#B0BEC5",
                "#B0BEC5",
                "#B0BEC5",
                "#B0BEC5",
                "#B0BEC5",
                "#B0BEC5",
                "#B0BEC5",
                "#B0BEC5",
                "#B0BEC5",
                "#B0BEC5",
                "#B0BEC5",
                "#B0BEC5",
                "#B0BEC5",
                "#B0BEC5",
                "#B0BEC5",
                "#B0BEC5",
                "#B0BEC5",
                "#B0BEC5",
                "#B0BEC5",
                "#B0BEC5",
                "#B0BEC5",
                "#B0BEC5",
                "#B0BEC5",
                "#B0BEC5",
                "#B0BEC5",
                "#B0BEC5"
               ]
              ]
             }
            ],
            "label": "Topic 9",
            "method": "update"
           },
           {
            "args": [
             {
              "marker.color": [
               [
                "#B0BEC5",
                "#B0BEC5",
                "#B0BEC5",
                "#B0BEC5",
                "#B0BEC5",
                "#B0BEC5",
                "#B0BEC5",
                "#B0BEC5",
                "#B0BEC5",
                "#B0BEC5",
                "red",
                "#B0BEC5",
                "#B0BEC5",
                "#B0BEC5",
                "#B0BEC5",
                "#B0BEC5",
                "#B0BEC5",
                "#B0BEC5",
                "#B0BEC5",
                "#B0BEC5",
                "#B0BEC5",
                "#B0BEC5",
                "#B0BEC5",
                "#B0BEC5",
                "#B0BEC5",
                "#B0BEC5",
                "#B0BEC5",
                "#B0BEC5",
                "#B0BEC5",
                "#B0BEC5",
                "#B0BEC5",
                "#B0BEC5",
                "#B0BEC5",
                "#B0BEC5",
                "#B0BEC5",
                "#B0BEC5",
                "#B0BEC5",
                "#B0BEC5",
                "#B0BEC5",
                "#B0BEC5",
                "#B0BEC5",
                "#B0BEC5",
                "#B0BEC5",
                "#B0BEC5",
                "#B0BEC5",
                "#B0BEC5",
                "#B0BEC5",
                "#B0BEC5",
                "#B0BEC5"
               ]
              ]
             }
            ],
            "label": "Topic 10",
            "method": "update"
           },
           {
            "args": [
             {
              "marker.color": [
               [
                "#B0BEC5",
                "#B0BEC5",
                "#B0BEC5",
                "#B0BEC5",
                "#B0BEC5",
                "#B0BEC5",
                "#B0BEC5",
                "#B0BEC5",
                "#B0BEC5",
                "#B0BEC5",
                "#B0BEC5",
                "red",
                "#B0BEC5",
                "#B0BEC5",
                "#B0BEC5",
                "#B0BEC5",
                "#B0BEC5",
                "#B0BEC5",
                "#B0BEC5",
                "#B0BEC5",
                "#B0BEC5",
                "#B0BEC5",
                "#B0BEC5",
                "#B0BEC5",
                "#B0BEC5",
                "#B0BEC5",
                "#B0BEC5",
                "#B0BEC5",
                "#B0BEC5",
                "#B0BEC5",
                "#B0BEC5",
                "#B0BEC5",
                "#B0BEC5",
                "#B0BEC5",
                "#B0BEC5",
                "#B0BEC5",
                "#B0BEC5",
                "#B0BEC5",
                "#B0BEC5",
                "#B0BEC5",
                "#B0BEC5",
                "#B0BEC5",
                "#B0BEC5",
                "#B0BEC5",
                "#B0BEC5",
                "#B0BEC5",
                "#B0BEC5",
                "#B0BEC5",
                "#B0BEC5"
               ]
              ]
             }
            ],
            "label": "Topic 11",
            "method": "update"
           },
           {
            "args": [
             {
              "marker.color": [
               [
                "#B0BEC5",
                "#B0BEC5",
                "#B0BEC5",
                "#B0BEC5",
                "#B0BEC5",
                "#B0BEC5",
                "#B0BEC5",
                "#B0BEC5",
                "#B0BEC5",
                "#B0BEC5",
                "#B0BEC5",
                "#B0BEC5",
                "red",
                "#B0BEC5",
                "#B0BEC5",
                "#B0BEC5",
                "#B0BEC5",
                "#B0BEC5",
                "#B0BEC5",
                "#B0BEC5",
                "#B0BEC5",
                "#B0BEC5",
                "#B0BEC5",
                "#B0BEC5",
                "#B0BEC5",
                "#B0BEC5",
                "#B0BEC5",
                "#B0BEC5",
                "#B0BEC5",
                "#B0BEC5",
                "#B0BEC5",
                "#B0BEC5",
                "#B0BEC5",
                "#B0BEC5",
                "#B0BEC5",
                "#B0BEC5",
                "#B0BEC5",
                "#B0BEC5",
                "#B0BEC5",
                "#B0BEC5",
                "#B0BEC5",
                "#B0BEC5",
                "#B0BEC5",
                "#B0BEC5",
                "#B0BEC5",
                "#B0BEC5",
                "#B0BEC5",
                "#B0BEC5",
                "#B0BEC5"
               ]
              ]
             }
            ],
            "label": "Topic 12",
            "method": "update"
           },
           {
            "args": [
             {
              "marker.color": [
               [
                "#B0BEC5",
                "#B0BEC5",
                "#B0BEC5",
                "#B0BEC5",
                "#B0BEC5",
                "#B0BEC5",
                "#B0BEC5",
                "#B0BEC5",
                "#B0BEC5",
                "#B0BEC5",
                "#B0BEC5",
                "#B0BEC5",
                "#B0BEC5",
                "red",
                "#B0BEC5",
                "#B0BEC5",
                "#B0BEC5",
                "#B0BEC5",
                "#B0BEC5",
                "#B0BEC5",
                "#B0BEC5",
                "#B0BEC5",
                "#B0BEC5",
                "#B0BEC5",
                "#B0BEC5",
                "#B0BEC5",
                "#B0BEC5",
                "#B0BEC5",
                "#B0BEC5",
                "#B0BEC5",
                "#B0BEC5",
                "#B0BEC5",
                "#B0BEC5",
                "#B0BEC5",
                "#B0BEC5",
                "#B0BEC5",
                "#B0BEC5",
                "#B0BEC5",
                "#B0BEC5",
                "#B0BEC5",
                "#B0BEC5",
                "#B0BEC5",
                "#B0BEC5",
                "#B0BEC5",
                "#B0BEC5",
                "#B0BEC5",
                "#B0BEC5",
                "#B0BEC5",
                "#B0BEC5"
               ]
              ]
             }
            ],
            "label": "Topic 13",
            "method": "update"
           },
           {
            "args": [
             {
              "marker.color": [
               [
                "#B0BEC5",
                "#B0BEC5",
                "#B0BEC5",
                "#B0BEC5",
                "#B0BEC5",
                "#B0BEC5",
                "#B0BEC5",
                "#B0BEC5",
                "#B0BEC5",
                "#B0BEC5",
                "#B0BEC5",
                "#B0BEC5",
                "#B0BEC5",
                "#B0BEC5",
                "red",
                "#B0BEC5",
                "#B0BEC5",
                "#B0BEC5",
                "#B0BEC5",
                "#B0BEC5",
                "#B0BEC5",
                "#B0BEC5",
                "#B0BEC5",
                "#B0BEC5",
                "#B0BEC5",
                "#B0BEC5",
                "#B0BEC5",
                "#B0BEC5",
                "#B0BEC5",
                "#B0BEC5",
                "#B0BEC5",
                "#B0BEC5",
                "#B0BEC5",
                "#B0BEC5",
                "#B0BEC5",
                "#B0BEC5",
                "#B0BEC5",
                "#B0BEC5",
                "#B0BEC5",
                "#B0BEC5",
                "#B0BEC5",
                "#B0BEC5",
                "#B0BEC5",
                "#B0BEC5",
                "#B0BEC5",
                "#B0BEC5",
                "#B0BEC5",
                "#B0BEC5",
                "#B0BEC5"
               ]
              ]
             }
            ],
            "label": "Topic 14",
            "method": "update"
           },
           {
            "args": [
             {
              "marker.color": [
               [
                "#B0BEC5",
                "#B0BEC5",
                "#B0BEC5",
                "#B0BEC5",
                "#B0BEC5",
                "#B0BEC5",
                "#B0BEC5",
                "#B0BEC5",
                "#B0BEC5",
                "#B0BEC5",
                "#B0BEC5",
                "#B0BEC5",
                "#B0BEC5",
                "#B0BEC5",
                "#B0BEC5",
                "red",
                "#B0BEC5",
                "#B0BEC5",
                "#B0BEC5",
                "#B0BEC5",
                "#B0BEC5",
                "#B0BEC5",
                "#B0BEC5",
                "#B0BEC5",
                "#B0BEC5",
                "#B0BEC5",
                "#B0BEC5",
                "#B0BEC5",
                "#B0BEC5",
                "#B0BEC5",
                "#B0BEC5",
                "#B0BEC5",
                "#B0BEC5",
                "#B0BEC5",
                "#B0BEC5",
                "#B0BEC5",
                "#B0BEC5",
                "#B0BEC5",
                "#B0BEC5",
                "#B0BEC5",
                "#B0BEC5",
                "#B0BEC5",
                "#B0BEC5",
                "#B0BEC5",
                "#B0BEC5",
                "#B0BEC5",
                "#B0BEC5",
                "#B0BEC5",
                "#B0BEC5"
               ]
              ]
             }
            ],
            "label": "Topic 15",
            "method": "update"
           },
           {
            "args": [
             {
              "marker.color": [
               [
                "#B0BEC5",
                "#B0BEC5",
                "#B0BEC5",
                "#B0BEC5",
                "#B0BEC5",
                "#B0BEC5",
                "#B0BEC5",
                "#B0BEC5",
                "#B0BEC5",
                "#B0BEC5",
                "#B0BEC5",
                "#B0BEC5",
                "#B0BEC5",
                "#B0BEC5",
                "#B0BEC5",
                "#B0BEC5",
                "red",
                "#B0BEC5",
                "#B0BEC5",
                "#B0BEC5",
                "#B0BEC5",
                "#B0BEC5",
                "#B0BEC5",
                "#B0BEC5",
                "#B0BEC5",
                "#B0BEC5",
                "#B0BEC5",
                "#B0BEC5",
                "#B0BEC5",
                "#B0BEC5",
                "#B0BEC5",
                "#B0BEC5",
                "#B0BEC5",
                "#B0BEC5",
                "#B0BEC5",
                "#B0BEC5",
                "#B0BEC5",
                "#B0BEC5",
                "#B0BEC5",
                "#B0BEC5",
                "#B0BEC5",
                "#B0BEC5",
                "#B0BEC5",
                "#B0BEC5",
                "#B0BEC5",
                "#B0BEC5",
                "#B0BEC5",
                "#B0BEC5",
                "#B0BEC5"
               ]
              ]
             }
            ],
            "label": "Topic 16",
            "method": "update"
           },
           {
            "args": [
             {
              "marker.color": [
               [
                "#B0BEC5",
                "#B0BEC5",
                "#B0BEC5",
                "#B0BEC5",
                "#B0BEC5",
                "#B0BEC5",
                "#B0BEC5",
                "#B0BEC5",
                "#B0BEC5",
                "#B0BEC5",
                "#B0BEC5",
                "#B0BEC5",
                "#B0BEC5",
                "#B0BEC5",
                "#B0BEC5",
                "#B0BEC5",
                "#B0BEC5",
                "red",
                "#B0BEC5",
                "#B0BEC5",
                "#B0BEC5",
                "#B0BEC5",
                "#B0BEC5",
                "#B0BEC5",
                "#B0BEC5",
                "#B0BEC5",
                "#B0BEC5",
                "#B0BEC5",
                "#B0BEC5",
                "#B0BEC5",
                "#B0BEC5",
                "#B0BEC5",
                "#B0BEC5",
                "#B0BEC5",
                "#B0BEC5",
                "#B0BEC5",
                "#B0BEC5",
                "#B0BEC5",
                "#B0BEC5",
                "#B0BEC5",
                "#B0BEC5",
                "#B0BEC5",
                "#B0BEC5",
                "#B0BEC5",
                "#B0BEC5",
                "#B0BEC5",
                "#B0BEC5",
                "#B0BEC5",
                "#B0BEC5"
               ]
              ]
             }
            ],
            "label": "Topic 17",
            "method": "update"
           },
           {
            "args": [
             {
              "marker.color": [
               [
                "#B0BEC5",
                "#B0BEC5",
                "#B0BEC5",
                "#B0BEC5",
                "#B0BEC5",
                "#B0BEC5",
                "#B0BEC5",
                "#B0BEC5",
                "#B0BEC5",
                "#B0BEC5",
                "#B0BEC5",
                "#B0BEC5",
                "#B0BEC5",
                "#B0BEC5",
                "#B0BEC5",
                "#B0BEC5",
                "#B0BEC5",
                "#B0BEC5",
                "red",
                "#B0BEC5",
                "#B0BEC5",
                "#B0BEC5",
                "#B0BEC5",
                "#B0BEC5",
                "#B0BEC5",
                "#B0BEC5",
                "#B0BEC5",
                "#B0BEC5",
                "#B0BEC5",
                "#B0BEC5",
                "#B0BEC5",
                "#B0BEC5",
                "#B0BEC5",
                "#B0BEC5",
                "#B0BEC5",
                "#B0BEC5",
                "#B0BEC5",
                "#B0BEC5",
                "#B0BEC5",
                "#B0BEC5",
                "#B0BEC5",
                "#B0BEC5",
                "#B0BEC5",
                "#B0BEC5",
                "#B0BEC5",
                "#B0BEC5",
                "#B0BEC5",
                "#B0BEC5",
                "#B0BEC5"
               ]
              ]
             }
            ],
            "label": "Topic 18",
            "method": "update"
           },
           {
            "args": [
             {
              "marker.color": [
               [
                "#B0BEC5",
                "#B0BEC5",
                "#B0BEC5",
                "#B0BEC5",
                "#B0BEC5",
                "#B0BEC5",
                "#B0BEC5",
                "#B0BEC5",
                "#B0BEC5",
                "#B0BEC5",
                "#B0BEC5",
                "#B0BEC5",
                "#B0BEC5",
                "#B0BEC5",
                "#B0BEC5",
                "#B0BEC5",
                "#B0BEC5",
                "#B0BEC5",
                "#B0BEC5",
                "red",
                "#B0BEC5",
                "#B0BEC5",
                "#B0BEC5",
                "#B0BEC5",
                "#B0BEC5",
                "#B0BEC5",
                "#B0BEC5",
                "#B0BEC5",
                "#B0BEC5",
                "#B0BEC5",
                "#B0BEC5",
                "#B0BEC5",
                "#B0BEC5",
                "#B0BEC5",
                "#B0BEC5",
                "#B0BEC5",
                "#B0BEC5",
                "#B0BEC5",
                "#B0BEC5",
                "#B0BEC5",
                "#B0BEC5",
                "#B0BEC5",
                "#B0BEC5",
                "#B0BEC5",
                "#B0BEC5",
                "#B0BEC5",
                "#B0BEC5",
                "#B0BEC5",
                "#B0BEC5"
               ]
              ]
             }
            ],
            "label": "Topic 19",
            "method": "update"
           },
           {
            "args": [
             {
              "marker.color": [
               [
                "#B0BEC5",
                "#B0BEC5",
                "#B0BEC5",
                "#B0BEC5",
                "#B0BEC5",
                "#B0BEC5",
                "#B0BEC5",
                "#B0BEC5",
                "#B0BEC5",
                "#B0BEC5",
                "#B0BEC5",
                "#B0BEC5",
                "#B0BEC5",
                "#B0BEC5",
                "#B0BEC5",
                "#B0BEC5",
                "#B0BEC5",
                "#B0BEC5",
                "#B0BEC5",
                "#B0BEC5",
                "red",
                "#B0BEC5",
                "#B0BEC5",
                "#B0BEC5",
                "#B0BEC5",
                "#B0BEC5",
                "#B0BEC5",
                "#B0BEC5",
                "#B0BEC5",
                "#B0BEC5",
                "#B0BEC5",
                "#B0BEC5",
                "#B0BEC5",
                "#B0BEC5",
                "#B0BEC5",
                "#B0BEC5",
                "#B0BEC5",
                "#B0BEC5",
                "#B0BEC5",
                "#B0BEC5",
                "#B0BEC5",
                "#B0BEC5",
                "#B0BEC5",
                "#B0BEC5",
                "#B0BEC5",
                "#B0BEC5",
                "#B0BEC5",
                "#B0BEC5",
                "#B0BEC5"
               ]
              ]
             }
            ],
            "label": "Topic 20",
            "method": "update"
           },
           {
            "args": [
             {
              "marker.color": [
               [
                "#B0BEC5",
                "#B0BEC5",
                "#B0BEC5",
                "#B0BEC5",
                "#B0BEC5",
                "#B0BEC5",
                "#B0BEC5",
                "#B0BEC5",
                "#B0BEC5",
                "#B0BEC5",
                "#B0BEC5",
                "#B0BEC5",
                "#B0BEC5",
                "#B0BEC5",
                "#B0BEC5",
                "#B0BEC5",
                "#B0BEC5",
                "#B0BEC5",
                "#B0BEC5",
                "#B0BEC5",
                "#B0BEC5",
                "red",
                "#B0BEC5",
                "#B0BEC5",
                "#B0BEC5",
                "#B0BEC5",
                "#B0BEC5",
                "#B0BEC5",
                "#B0BEC5",
                "#B0BEC5",
                "#B0BEC5",
                "#B0BEC5",
                "#B0BEC5",
                "#B0BEC5",
                "#B0BEC5",
                "#B0BEC5",
                "#B0BEC5",
                "#B0BEC5",
                "#B0BEC5",
                "#B0BEC5",
                "#B0BEC5",
                "#B0BEC5",
                "#B0BEC5",
                "#B0BEC5",
                "#B0BEC5",
                "#B0BEC5",
                "#B0BEC5",
                "#B0BEC5",
                "#B0BEC5"
               ]
              ]
             }
            ],
            "label": "Topic 21",
            "method": "update"
           },
           {
            "args": [
             {
              "marker.color": [
               [
                "#B0BEC5",
                "#B0BEC5",
                "#B0BEC5",
                "#B0BEC5",
                "#B0BEC5",
                "#B0BEC5",
                "#B0BEC5",
                "#B0BEC5",
                "#B0BEC5",
                "#B0BEC5",
                "#B0BEC5",
                "#B0BEC5",
                "#B0BEC5",
                "#B0BEC5",
                "#B0BEC5",
                "#B0BEC5",
                "#B0BEC5",
                "#B0BEC5",
                "#B0BEC5",
                "#B0BEC5",
                "#B0BEC5",
                "#B0BEC5",
                "red",
                "#B0BEC5",
                "#B0BEC5",
                "#B0BEC5",
                "#B0BEC5",
                "#B0BEC5",
                "#B0BEC5",
                "#B0BEC5",
                "#B0BEC5",
                "#B0BEC5",
                "#B0BEC5",
                "#B0BEC5",
                "#B0BEC5",
                "#B0BEC5",
                "#B0BEC5",
                "#B0BEC5",
                "#B0BEC5",
                "#B0BEC5",
                "#B0BEC5",
                "#B0BEC5",
                "#B0BEC5",
                "#B0BEC5",
                "#B0BEC5",
                "#B0BEC5",
                "#B0BEC5",
                "#B0BEC5",
                "#B0BEC5"
               ]
              ]
             }
            ],
            "label": "Topic 22",
            "method": "update"
           },
           {
            "args": [
             {
              "marker.color": [
               [
                "#B0BEC5",
                "#B0BEC5",
                "#B0BEC5",
                "#B0BEC5",
                "#B0BEC5",
                "#B0BEC5",
                "#B0BEC5",
                "#B0BEC5",
                "#B0BEC5",
                "#B0BEC5",
                "#B0BEC5",
                "#B0BEC5",
                "#B0BEC5",
                "#B0BEC5",
                "#B0BEC5",
                "#B0BEC5",
                "#B0BEC5",
                "#B0BEC5",
                "#B0BEC5",
                "#B0BEC5",
                "#B0BEC5",
                "#B0BEC5",
                "#B0BEC5",
                "red",
                "#B0BEC5",
                "#B0BEC5",
                "#B0BEC5",
                "#B0BEC5",
                "#B0BEC5",
                "#B0BEC5",
                "#B0BEC5",
                "#B0BEC5",
                "#B0BEC5",
                "#B0BEC5",
                "#B0BEC5",
                "#B0BEC5",
                "#B0BEC5",
                "#B0BEC5",
                "#B0BEC5",
                "#B0BEC5",
                "#B0BEC5",
                "#B0BEC5",
                "#B0BEC5",
                "#B0BEC5",
                "#B0BEC5",
                "#B0BEC5",
                "#B0BEC5",
                "#B0BEC5",
                "#B0BEC5"
               ]
              ]
             }
            ],
            "label": "Topic 23",
            "method": "update"
           },
           {
            "args": [
             {
              "marker.color": [
               [
                "#B0BEC5",
                "#B0BEC5",
                "#B0BEC5",
                "#B0BEC5",
                "#B0BEC5",
                "#B0BEC5",
                "#B0BEC5",
                "#B0BEC5",
                "#B0BEC5",
                "#B0BEC5",
                "#B0BEC5",
                "#B0BEC5",
                "#B0BEC5",
                "#B0BEC5",
                "#B0BEC5",
                "#B0BEC5",
                "#B0BEC5",
                "#B0BEC5",
                "#B0BEC5",
                "#B0BEC5",
                "#B0BEC5",
                "#B0BEC5",
                "#B0BEC5",
                "#B0BEC5",
                "red",
                "#B0BEC5",
                "#B0BEC5",
                "#B0BEC5",
                "#B0BEC5",
                "#B0BEC5",
                "#B0BEC5",
                "#B0BEC5",
                "#B0BEC5",
                "#B0BEC5",
                "#B0BEC5",
                "#B0BEC5",
                "#B0BEC5",
                "#B0BEC5",
                "#B0BEC5",
                "#B0BEC5",
                "#B0BEC5",
                "#B0BEC5",
                "#B0BEC5",
                "#B0BEC5",
                "#B0BEC5",
                "#B0BEC5",
                "#B0BEC5",
                "#B0BEC5",
                "#B0BEC5"
               ]
              ]
             }
            ],
            "label": "Topic 24",
            "method": "update"
           },
           {
            "args": [
             {
              "marker.color": [
               [
                "#B0BEC5",
                "#B0BEC5",
                "#B0BEC5",
                "#B0BEC5",
                "#B0BEC5",
                "#B0BEC5",
                "#B0BEC5",
                "#B0BEC5",
                "#B0BEC5",
                "#B0BEC5",
                "#B0BEC5",
                "#B0BEC5",
                "#B0BEC5",
                "#B0BEC5",
                "#B0BEC5",
                "#B0BEC5",
                "#B0BEC5",
                "#B0BEC5",
                "#B0BEC5",
                "#B0BEC5",
                "#B0BEC5",
                "#B0BEC5",
                "#B0BEC5",
                "#B0BEC5",
                "#B0BEC5",
                "red",
                "#B0BEC5",
                "#B0BEC5",
                "#B0BEC5",
                "#B0BEC5",
                "#B0BEC5",
                "#B0BEC5",
                "#B0BEC5",
                "#B0BEC5",
                "#B0BEC5",
                "#B0BEC5",
                "#B0BEC5",
                "#B0BEC5",
                "#B0BEC5",
                "#B0BEC5",
                "#B0BEC5",
                "#B0BEC5",
                "#B0BEC5",
                "#B0BEC5",
                "#B0BEC5",
                "#B0BEC5",
                "#B0BEC5",
                "#B0BEC5",
                "#B0BEC5"
               ]
              ]
             }
            ],
            "label": "Topic 25",
            "method": "update"
           },
           {
            "args": [
             {
              "marker.color": [
               [
                "#B0BEC5",
                "#B0BEC5",
                "#B0BEC5",
                "#B0BEC5",
                "#B0BEC5",
                "#B0BEC5",
                "#B0BEC5",
                "#B0BEC5",
                "#B0BEC5",
                "#B0BEC5",
                "#B0BEC5",
                "#B0BEC5",
                "#B0BEC5",
                "#B0BEC5",
                "#B0BEC5",
                "#B0BEC5",
                "#B0BEC5",
                "#B0BEC5",
                "#B0BEC5",
                "#B0BEC5",
                "#B0BEC5",
                "#B0BEC5",
                "#B0BEC5",
                "#B0BEC5",
                "#B0BEC5",
                "#B0BEC5",
                "red",
                "#B0BEC5",
                "#B0BEC5",
                "#B0BEC5",
                "#B0BEC5",
                "#B0BEC5",
                "#B0BEC5",
                "#B0BEC5",
                "#B0BEC5",
                "#B0BEC5",
                "#B0BEC5",
                "#B0BEC5",
                "#B0BEC5",
                "#B0BEC5",
                "#B0BEC5",
                "#B0BEC5",
                "#B0BEC5",
                "#B0BEC5",
                "#B0BEC5",
                "#B0BEC5",
                "#B0BEC5",
                "#B0BEC5",
                "#B0BEC5"
               ]
              ]
             }
            ],
            "label": "Topic 26",
            "method": "update"
           },
           {
            "args": [
             {
              "marker.color": [
               [
                "#B0BEC5",
                "#B0BEC5",
                "#B0BEC5",
                "#B0BEC5",
                "#B0BEC5",
                "#B0BEC5",
                "#B0BEC5",
                "#B0BEC5",
                "#B0BEC5",
                "#B0BEC5",
                "#B0BEC5",
                "#B0BEC5",
                "#B0BEC5",
                "#B0BEC5",
                "#B0BEC5",
                "#B0BEC5",
                "#B0BEC5",
                "#B0BEC5",
                "#B0BEC5",
                "#B0BEC5",
                "#B0BEC5",
                "#B0BEC5",
                "#B0BEC5",
                "#B0BEC5",
                "#B0BEC5",
                "#B0BEC5",
                "#B0BEC5",
                "red",
                "#B0BEC5",
                "#B0BEC5",
                "#B0BEC5",
                "#B0BEC5",
                "#B0BEC5",
                "#B0BEC5",
                "#B0BEC5",
                "#B0BEC5",
                "#B0BEC5",
                "#B0BEC5",
                "#B0BEC5",
                "#B0BEC5",
                "#B0BEC5",
                "#B0BEC5",
                "#B0BEC5",
                "#B0BEC5",
                "#B0BEC5",
                "#B0BEC5",
                "#B0BEC5",
                "#B0BEC5",
                "#B0BEC5"
               ]
              ]
             }
            ],
            "label": "Topic 27",
            "method": "update"
           },
           {
            "args": [
             {
              "marker.color": [
               [
                "#B0BEC5",
                "#B0BEC5",
                "#B0BEC5",
                "#B0BEC5",
                "#B0BEC5",
                "#B0BEC5",
                "#B0BEC5",
                "#B0BEC5",
                "#B0BEC5",
                "#B0BEC5",
                "#B0BEC5",
                "#B0BEC5",
                "#B0BEC5",
                "#B0BEC5",
                "#B0BEC5",
                "#B0BEC5",
                "#B0BEC5",
                "#B0BEC5",
                "#B0BEC5",
                "#B0BEC5",
                "#B0BEC5",
                "#B0BEC5",
                "#B0BEC5",
                "#B0BEC5",
                "#B0BEC5",
                "#B0BEC5",
                "#B0BEC5",
                "#B0BEC5",
                "red",
                "#B0BEC5",
                "#B0BEC5",
                "#B0BEC5",
                "#B0BEC5",
                "#B0BEC5",
                "#B0BEC5",
                "#B0BEC5",
                "#B0BEC5",
                "#B0BEC5",
                "#B0BEC5",
                "#B0BEC5",
                "#B0BEC5",
                "#B0BEC5",
                "#B0BEC5",
                "#B0BEC5",
                "#B0BEC5",
                "#B0BEC5",
                "#B0BEC5",
                "#B0BEC5",
                "#B0BEC5"
               ]
              ]
             }
            ],
            "label": "Topic 28",
            "method": "update"
           },
           {
            "args": [
             {
              "marker.color": [
               [
                "#B0BEC5",
                "#B0BEC5",
                "#B0BEC5",
                "#B0BEC5",
                "#B0BEC5",
                "#B0BEC5",
                "#B0BEC5",
                "#B0BEC5",
                "#B0BEC5",
                "#B0BEC5",
                "#B0BEC5",
                "#B0BEC5",
                "#B0BEC5",
                "#B0BEC5",
                "#B0BEC5",
                "#B0BEC5",
                "#B0BEC5",
                "#B0BEC5",
                "#B0BEC5",
                "#B0BEC5",
                "#B0BEC5",
                "#B0BEC5",
                "#B0BEC5",
                "#B0BEC5",
                "#B0BEC5",
                "#B0BEC5",
                "#B0BEC5",
                "#B0BEC5",
                "#B0BEC5",
                "red",
                "#B0BEC5",
                "#B0BEC5",
                "#B0BEC5",
                "#B0BEC5",
                "#B0BEC5",
                "#B0BEC5",
                "#B0BEC5",
                "#B0BEC5",
                "#B0BEC5",
                "#B0BEC5",
                "#B0BEC5",
                "#B0BEC5",
                "#B0BEC5",
                "#B0BEC5",
                "#B0BEC5",
                "#B0BEC5",
                "#B0BEC5",
                "#B0BEC5",
                "#B0BEC5"
               ]
              ]
             }
            ],
            "label": "Topic 29",
            "method": "update"
           },
           {
            "args": [
             {
              "marker.color": [
               [
                "#B0BEC5",
                "#B0BEC5",
                "#B0BEC5",
                "#B0BEC5",
                "#B0BEC5",
                "#B0BEC5",
                "#B0BEC5",
                "#B0BEC5",
                "#B0BEC5",
                "#B0BEC5",
                "#B0BEC5",
                "#B0BEC5",
                "#B0BEC5",
                "#B0BEC5",
                "#B0BEC5",
                "#B0BEC5",
                "#B0BEC5",
                "#B0BEC5",
                "#B0BEC5",
                "#B0BEC5",
                "#B0BEC5",
                "#B0BEC5",
                "#B0BEC5",
                "#B0BEC5",
                "#B0BEC5",
                "#B0BEC5",
                "#B0BEC5",
                "#B0BEC5",
                "#B0BEC5",
                "#B0BEC5",
                "red",
                "#B0BEC5",
                "#B0BEC5",
                "#B0BEC5",
                "#B0BEC5",
                "#B0BEC5",
                "#B0BEC5",
                "#B0BEC5",
                "#B0BEC5",
                "#B0BEC5",
                "#B0BEC5",
                "#B0BEC5",
                "#B0BEC5",
                "#B0BEC5",
                "#B0BEC5",
                "#B0BEC5",
                "#B0BEC5",
                "#B0BEC5",
                "#B0BEC5"
               ]
              ]
             }
            ],
            "label": "Topic 30",
            "method": "update"
           },
           {
            "args": [
             {
              "marker.color": [
               [
                "#B0BEC5",
                "#B0BEC5",
                "#B0BEC5",
                "#B0BEC5",
                "#B0BEC5",
                "#B0BEC5",
                "#B0BEC5",
                "#B0BEC5",
                "#B0BEC5",
                "#B0BEC5",
                "#B0BEC5",
                "#B0BEC5",
                "#B0BEC5",
                "#B0BEC5",
                "#B0BEC5",
                "#B0BEC5",
                "#B0BEC5",
                "#B0BEC5",
                "#B0BEC5",
                "#B0BEC5",
                "#B0BEC5",
                "#B0BEC5",
                "#B0BEC5",
                "#B0BEC5",
                "#B0BEC5",
                "#B0BEC5",
                "#B0BEC5",
                "#B0BEC5",
                "#B0BEC5",
                "#B0BEC5",
                "#B0BEC5",
                "red",
                "#B0BEC5",
                "#B0BEC5",
                "#B0BEC5",
                "#B0BEC5",
                "#B0BEC5",
                "#B0BEC5",
                "#B0BEC5",
                "#B0BEC5",
                "#B0BEC5",
                "#B0BEC5",
                "#B0BEC5",
                "#B0BEC5",
                "#B0BEC5",
                "#B0BEC5",
                "#B0BEC5",
                "#B0BEC5",
                "#B0BEC5"
               ]
              ]
             }
            ],
            "label": "Topic 31",
            "method": "update"
           },
           {
            "args": [
             {
              "marker.color": [
               [
                "#B0BEC5",
                "#B0BEC5",
                "#B0BEC5",
                "#B0BEC5",
                "#B0BEC5",
                "#B0BEC5",
                "#B0BEC5",
                "#B0BEC5",
                "#B0BEC5",
                "#B0BEC5",
                "#B0BEC5",
                "#B0BEC5",
                "#B0BEC5",
                "#B0BEC5",
                "#B0BEC5",
                "#B0BEC5",
                "#B0BEC5",
                "#B0BEC5",
                "#B0BEC5",
                "#B0BEC5",
                "#B0BEC5",
                "#B0BEC5",
                "#B0BEC5",
                "#B0BEC5",
                "#B0BEC5",
                "#B0BEC5",
                "#B0BEC5",
                "#B0BEC5",
                "#B0BEC5",
                "#B0BEC5",
                "#B0BEC5",
                "#B0BEC5",
                "red",
                "#B0BEC5",
                "#B0BEC5",
                "#B0BEC5",
                "#B0BEC5",
                "#B0BEC5",
                "#B0BEC5",
                "#B0BEC5",
                "#B0BEC5",
                "#B0BEC5",
                "#B0BEC5",
                "#B0BEC5",
                "#B0BEC5",
                "#B0BEC5",
                "#B0BEC5",
                "#B0BEC5",
                "#B0BEC5"
               ]
              ]
             }
            ],
            "label": "Topic 32",
            "method": "update"
           },
           {
            "args": [
             {
              "marker.color": [
               [
                "#B0BEC5",
                "#B0BEC5",
                "#B0BEC5",
                "#B0BEC5",
                "#B0BEC5",
                "#B0BEC5",
                "#B0BEC5",
                "#B0BEC5",
                "#B0BEC5",
                "#B0BEC5",
                "#B0BEC5",
                "#B0BEC5",
                "#B0BEC5",
                "#B0BEC5",
                "#B0BEC5",
                "#B0BEC5",
                "#B0BEC5",
                "#B0BEC5",
                "#B0BEC5",
                "#B0BEC5",
                "#B0BEC5",
                "#B0BEC5",
                "#B0BEC5",
                "#B0BEC5",
                "#B0BEC5",
                "#B0BEC5",
                "#B0BEC5",
                "#B0BEC5",
                "#B0BEC5",
                "#B0BEC5",
                "#B0BEC5",
                "#B0BEC5",
                "#B0BEC5",
                "red",
                "#B0BEC5",
                "#B0BEC5",
                "#B0BEC5",
                "#B0BEC5",
                "#B0BEC5",
                "#B0BEC5",
                "#B0BEC5",
                "#B0BEC5",
                "#B0BEC5",
                "#B0BEC5",
                "#B0BEC5",
                "#B0BEC5",
                "#B0BEC5",
                "#B0BEC5",
                "#B0BEC5"
               ]
              ]
             }
            ],
            "label": "Topic 33",
            "method": "update"
           },
           {
            "args": [
             {
              "marker.color": [
               [
                "#B0BEC5",
                "#B0BEC5",
                "#B0BEC5",
                "#B0BEC5",
                "#B0BEC5",
                "#B0BEC5",
                "#B0BEC5",
                "#B0BEC5",
                "#B0BEC5",
                "#B0BEC5",
                "#B0BEC5",
                "#B0BEC5",
                "#B0BEC5",
                "#B0BEC5",
                "#B0BEC5",
                "#B0BEC5",
                "#B0BEC5",
                "#B0BEC5",
                "#B0BEC5",
                "#B0BEC5",
                "#B0BEC5",
                "#B0BEC5",
                "#B0BEC5",
                "#B0BEC5",
                "#B0BEC5",
                "#B0BEC5",
                "#B0BEC5",
                "#B0BEC5",
                "#B0BEC5",
                "#B0BEC5",
                "#B0BEC5",
                "#B0BEC5",
                "#B0BEC5",
                "#B0BEC5",
                "red",
                "#B0BEC5",
                "#B0BEC5",
                "#B0BEC5",
                "#B0BEC5",
                "#B0BEC5",
                "#B0BEC5",
                "#B0BEC5",
                "#B0BEC5",
                "#B0BEC5",
                "#B0BEC5",
                "#B0BEC5",
                "#B0BEC5",
                "#B0BEC5",
                "#B0BEC5"
               ]
              ]
             }
            ],
            "label": "Topic 34",
            "method": "update"
           },
           {
            "args": [
             {
              "marker.color": [
               [
                "#B0BEC5",
                "#B0BEC5",
                "#B0BEC5",
                "#B0BEC5",
                "#B0BEC5",
                "#B0BEC5",
                "#B0BEC5",
                "#B0BEC5",
                "#B0BEC5",
                "#B0BEC5",
                "#B0BEC5",
                "#B0BEC5",
                "#B0BEC5",
                "#B0BEC5",
                "#B0BEC5",
                "#B0BEC5",
                "#B0BEC5",
                "#B0BEC5",
                "#B0BEC5",
                "#B0BEC5",
                "#B0BEC5",
                "#B0BEC5",
                "#B0BEC5",
                "#B0BEC5",
                "#B0BEC5",
                "#B0BEC5",
                "#B0BEC5",
                "#B0BEC5",
                "#B0BEC5",
                "#B0BEC5",
                "#B0BEC5",
                "#B0BEC5",
                "#B0BEC5",
                "#B0BEC5",
                "#B0BEC5",
                "red",
                "#B0BEC5",
                "#B0BEC5",
                "#B0BEC5",
                "#B0BEC5",
                "#B0BEC5",
                "#B0BEC5",
                "#B0BEC5",
                "#B0BEC5",
                "#B0BEC5",
                "#B0BEC5",
                "#B0BEC5",
                "#B0BEC5",
                "#B0BEC5"
               ]
              ]
             }
            ],
            "label": "Topic 35",
            "method": "update"
           },
           {
            "args": [
             {
              "marker.color": [
               [
                "#B0BEC5",
                "#B0BEC5",
                "#B0BEC5",
                "#B0BEC5",
                "#B0BEC5",
                "#B0BEC5",
                "#B0BEC5",
                "#B0BEC5",
                "#B0BEC5",
                "#B0BEC5",
                "#B0BEC5",
                "#B0BEC5",
                "#B0BEC5",
                "#B0BEC5",
                "#B0BEC5",
                "#B0BEC5",
                "#B0BEC5",
                "#B0BEC5",
                "#B0BEC5",
                "#B0BEC5",
                "#B0BEC5",
                "#B0BEC5",
                "#B0BEC5",
                "#B0BEC5",
                "#B0BEC5",
                "#B0BEC5",
                "#B0BEC5",
                "#B0BEC5",
                "#B0BEC5",
                "#B0BEC5",
                "#B0BEC5",
                "#B0BEC5",
                "#B0BEC5",
                "#B0BEC5",
                "#B0BEC5",
                "#B0BEC5",
                "red",
                "#B0BEC5",
                "#B0BEC5",
                "#B0BEC5",
                "#B0BEC5",
                "#B0BEC5",
                "#B0BEC5",
                "#B0BEC5",
                "#B0BEC5",
                "#B0BEC5",
                "#B0BEC5",
                "#B0BEC5",
                "#B0BEC5"
               ]
              ]
             }
            ],
            "label": "Topic 36",
            "method": "update"
           },
           {
            "args": [
             {
              "marker.color": [
               [
                "#B0BEC5",
                "#B0BEC5",
                "#B0BEC5",
                "#B0BEC5",
                "#B0BEC5",
                "#B0BEC5",
                "#B0BEC5",
                "#B0BEC5",
                "#B0BEC5",
                "#B0BEC5",
                "#B0BEC5",
                "#B0BEC5",
                "#B0BEC5",
                "#B0BEC5",
                "#B0BEC5",
                "#B0BEC5",
                "#B0BEC5",
                "#B0BEC5",
                "#B0BEC5",
                "#B0BEC5",
                "#B0BEC5",
                "#B0BEC5",
                "#B0BEC5",
                "#B0BEC5",
                "#B0BEC5",
                "#B0BEC5",
                "#B0BEC5",
                "#B0BEC5",
                "#B0BEC5",
                "#B0BEC5",
                "#B0BEC5",
                "#B0BEC5",
                "#B0BEC5",
                "#B0BEC5",
                "#B0BEC5",
                "#B0BEC5",
                "#B0BEC5",
                "red",
                "#B0BEC5",
                "#B0BEC5",
                "#B0BEC5",
                "#B0BEC5",
                "#B0BEC5",
                "#B0BEC5",
                "#B0BEC5",
                "#B0BEC5",
                "#B0BEC5",
                "#B0BEC5",
                "#B0BEC5"
               ]
              ]
             }
            ],
            "label": "Topic 37",
            "method": "update"
           },
           {
            "args": [
             {
              "marker.color": [
               [
                "#B0BEC5",
                "#B0BEC5",
                "#B0BEC5",
                "#B0BEC5",
                "#B0BEC5",
                "#B0BEC5",
                "#B0BEC5",
                "#B0BEC5",
                "#B0BEC5",
                "#B0BEC5",
                "#B0BEC5",
                "#B0BEC5",
                "#B0BEC5",
                "#B0BEC5",
                "#B0BEC5",
                "#B0BEC5",
                "#B0BEC5",
                "#B0BEC5",
                "#B0BEC5",
                "#B0BEC5",
                "#B0BEC5",
                "#B0BEC5",
                "#B0BEC5",
                "#B0BEC5",
                "#B0BEC5",
                "#B0BEC5",
                "#B0BEC5",
                "#B0BEC5",
                "#B0BEC5",
                "#B0BEC5",
                "#B0BEC5",
                "#B0BEC5",
                "#B0BEC5",
                "#B0BEC5",
                "#B0BEC5",
                "#B0BEC5",
                "#B0BEC5",
                "#B0BEC5",
                "red",
                "#B0BEC5",
                "#B0BEC5",
                "#B0BEC5",
                "#B0BEC5",
                "#B0BEC5",
                "#B0BEC5",
                "#B0BEC5",
                "#B0BEC5",
                "#B0BEC5",
                "#B0BEC5"
               ]
              ]
             }
            ],
            "label": "Topic 38",
            "method": "update"
           },
           {
            "args": [
             {
              "marker.color": [
               [
                "#B0BEC5",
                "#B0BEC5",
                "#B0BEC5",
                "#B0BEC5",
                "#B0BEC5",
                "#B0BEC5",
                "#B0BEC5",
                "#B0BEC5",
                "#B0BEC5",
                "#B0BEC5",
                "#B0BEC5",
                "#B0BEC5",
                "#B0BEC5",
                "#B0BEC5",
                "#B0BEC5",
                "#B0BEC5",
                "#B0BEC5",
                "#B0BEC5",
                "#B0BEC5",
                "#B0BEC5",
                "#B0BEC5",
                "#B0BEC5",
                "#B0BEC5",
                "#B0BEC5",
                "#B0BEC5",
                "#B0BEC5",
                "#B0BEC5",
                "#B0BEC5",
                "#B0BEC5",
                "#B0BEC5",
                "#B0BEC5",
                "#B0BEC5",
                "#B0BEC5",
                "#B0BEC5",
                "#B0BEC5",
                "#B0BEC5",
                "#B0BEC5",
                "#B0BEC5",
                "#B0BEC5",
                "red",
                "#B0BEC5",
                "#B0BEC5",
                "#B0BEC5",
                "#B0BEC5",
                "#B0BEC5",
                "#B0BEC5",
                "#B0BEC5",
                "#B0BEC5",
                "#B0BEC5"
               ]
              ]
             }
            ],
            "label": "Topic 39",
            "method": "update"
           },
           {
            "args": [
             {
              "marker.color": [
               [
                "#B0BEC5",
                "#B0BEC5",
                "#B0BEC5",
                "#B0BEC5",
                "#B0BEC5",
                "#B0BEC5",
                "#B0BEC5",
                "#B0BEC5",
                "#B0BEC5",
                "#B0BEC5",
                "#B0BEC5",
                "#B0BEC5",
                "#B0BEC5",
                "#B0BEC5",
                "#B0BEC5",
                "#B0BEC5",
                "#B0BEC5",
                "#B0BEC5",
                "#B0BEC5",
                "#B0BEC5",
                "#B0BEC5",
                "#B0BEC5",
                "#B0BEC5",
                "#B0BEC5",
                "#B0BEC5",
                "#B0BEC5",
                "#B0BEC5",
                "#B0BEC5",
                "#B0BEC5",
                "#B0BEC5",
                "#B0BEC5",
                "#B0BEC5",
                "#B0BEC5",
                "#B0BEC5",
                "#B0BEC5",
                "#B0BEC5",
                "#B0BEC5",
                "#B0BEC5",
                "#B0BEC5",
                "#B0BEC5",
                "red",
                "#B0BEC5",
                "#B0BEC5",
                "#B0BEC5",
                "#B0BEC5",
                "#B0BEC5",
                "#B0BEC5",
                "#B0BEC5",
                "#B0BEC5"
               ]
              ]
             }
            ],
            "label": "Topic 40",
            "method": "update"
           },
           {
            "args": [
             {
              "marker.color": [
               [
                "#B0BEC5",
                "#B0BEC5",
                "#B0BEC5",
                "#B0BEC5",
                "#B0BEC5",
                "#B0BEC5",
                "#B0BEC5",
                "#B0BEC5",
                "#B0BEC5",
                "#B0BEC5",
                "#B0BEC5",
                "#B0BEC5",
                "#B0BEC5",
                "#B0BEC5",
                "#B0BEC5",
                "#B0BEC5",
                "#B0BEC5",
                "#B0BEC5",
                "#B0BEC5",
                "#B0BEC5",
                "#B0BEC5",
                "#B0BEC5",
                "#B0BEC5",
                "#B0BEC5",
                "#B0BEC5",
                "#B0BEC5",
                "#B0BEC5",
                "#B0BEC5",
                "#B0BEC5",
                "#B0BEC5",
                "#B0BEC5",
                "#B0BEC5",
                "#B0BEC5",
                "#B0BEC5",
                "#B0BEC5",
                "#B0BEC5",
                "#B0BEC5",
                "#B0BEC5",
                "#B0BEC5",
                "#B0BEC5",
                "#B0BEC5",
                "red",
                "#B0BEC5",
                "#B0BEC5",
                "#B0BEC5",
                "#B0BEC5",
                "#B0BEC5",
                "#B0BEC5",
                "#B0BEC5"
               ]
              ]
             }
            ],
            "label": "Topic 41",
            "method": "update"
           },
           {
            "args": [
             {
              "marker.color": [
               [
                "#B0BEC5",
                "#B0BEC5",
                "#B0BEC5",
                "#B0BEC5",
                "#B0BEC5",
                "#B0BEC5",
                "#B0BEC5",
                "#B0BEC5",
                "#B0BEC5",
                "#B0BEC5",
                "#B0BEC5",
                "#B0BEC5",
                "#B0BEC5",
                "#B0BEC5",
                "#B0BEC5",
                "#B0BEC5",
                "#B0BEC5",
                "#B0BEC5",
                "#B0BEC5",
                "#B0BEC5",
                "#B0BEC5",
                "#B0BEC5",
                "#B0BEC5",
                "#B0BEC5",
                "#B0BEC5",
                "#B0BEC5",
                "#B0BEC5",
                "#B0BEC5",
                "#B0BEC5",
                "#B0BEC5",
                "#B0BEC5",
                "#B0BEC5",
                "#B0BEC5",
                "#B0BEC5",
                "#B0BEC5",
                "#B0BEC5",
                "#B0BEC5",
                "#B0BEC5",
                "#B0BEC5",
                "#B0BEC5",
                "#B0BEC5",
                "#B0BEC5",
                "red",
                "#B0BEC5",
                "#B0BEC5",
                "#B0BEC5",
                "#B0BEC5",
                "#B0BEC5",
                "#B0BEC5"
               ]
              ]
             }
            ],
            "label": "Topic 42",
            "method": "update"
           },
           {
            "args": [
             {
              "marker.color": [
               [
                "#B0BEC5",
                "#B0BEC5",
                "#B0BEC5",
                "#B0BEC5",
                "#B0BEC5",
                "#B0BEC5",
                "#B0BEC5",
                "#B0BEC5",
                "#B0BEC5",
                "#B0BEC5",
                "#B0BEC5",
                "#B0BEC5",
                "#B0BEC5",
                "#B0BEC5",
                "#B0BEC5",
                "#B0BEC5",
                "#B0BEC5",
                "#B0BEC5",
                "#B0BEC5",
                "#B0BEC5",
                "#B0BEC5",
                "#B0BEC5",
                "#B0BEC5",
                "#B0BEC5",
                "#B0BEC5",
                "#B0BEC5",
                "#B0BEC5",
                "#B0BEC5",
                "#B0BEC5",
                "#B0BEC5",
                "#B0BEC5",
                "#B0BEC5",
                "#B0BEC5",
                "#B0BEC5",
                "#B0BEC5",
                "#B0BEC5",
                "#B0BEC5",
                "#B0BEC5",
                "#B0BEC5",
                "#B0BEC5",
                "#B0BEC5",
                "#B0BEC5",
                "#B0BEC5",
                "red",
                "#B0BEC5",
                "#B0BEC5",
                "#B0BEC5",
                "#B0BEC5",
                "#B0BEC5"
               ]
              ]
             }
            ],
            "label": "Topic 43",
            "method": "update"
           },
           {
            "args": [
             {
              "marker.color": [
               [
                "#B0BEC5",
                "#B0BEC5",
                "#B0BEC5",
                "#B0BEC5",
                "#B0BEC5",
                "#B0BEC5",
                "#B0BEC5",
                "#B0BEC5",
                "#B0BEC5",
                "#B0BEC5",
                "#B0BEC5",
                "#B0BEC5",
                "#B0BEC5",
                "#B0BEC5",
                "#B0BEC5",
                "#B0BEC5",
                "#B0BEC5",
                "#B0BEC5",
                "#B0BEC5",
                "#B0BEC5",
                "#B0BEC5",
                "#B0BEC5",
                "#B0BEC5",
                "#B0BEC5",
                "#B0BEC5",
                "#B0BEC5",
                "#B0BEC5",
                "#B0BEC5",
                "#B0BEC5",
                "#B0BEC5",
                "#B0BEC5",
                "#B0BEC5",
                "#B0BEC5",
                "#B0BEC5",
                "#B0BEC5",
                "#B0BEC5",
                "#B0BEC5",
                "#B0BEC5",
                "#B0BEC5",
                "#B0BEC5",
                "#B0BEC5",
                "#B0BEC5",
                "#B0BEC5",
                "#B0BEC5",
                "red",
                "#B0BEC5",
                "#B0BEC5",
                "#B0BEC5",
                "#B0BEC5"
               ]
              ]
             }
            ],
            "label": "Topic 44",
            "method": "update"
           },
           {
            "args": [
             {
              "marker.color": [
               [
                "#B0BEC5",
                "#B0BEC5",
                "#B0BEC5",
                "#B0BEC5",
                "#B0BEC5",
                "#B0BEC5",
                "#B0BEC5",
                "#B0BEC5",
                "#B0BEC5",
                "#B0BEC5",
                "#B0BEC5",
                "#B0BEC5",
                "#B0BEC5",
                "#B0BEC5",
                "#B0BEC5",
                "#B0BEC5",
                "#B0BEC5",
                "#B0BEC5",
                "#B0BEC5",
                "#B0BEC5",
                "#B0BEC5",
                "#B0BEC5",
                "#B0BEC5",
                "#B0BEC5",
                "#B0BEC5",
                "#B0BEC5",
                "#B0BEC5",
                "#B0BEC5",
                "#B0BEC5",
                "#B0BEC5",
                "#B0BEC5",
                "#B0BEC5",
                "#B0BEC5",
                "#B0BEC5",
                "#B0BEC5",
                "#B0BEC5",
                "#B0BEC5",
                "#B0BEC5",
                "#B0BEC5",
                "#B0BEC5",
                "#B0BEC5",
                "#B0BEC5",
                "#B0BEC5",
                "#B0BEC5",
                "#B0BEC5",
                "red",
                "#B0BEC5",
                "#B0BEC5",
                "#B0BEC5"
               ]
              ]
             }
            ],
            "label": "Topic 45",
            "method": "update"
           },
           {
            "args": [
             {
              "marker.color": [
               [
                "#B0BEC5",
                "#B0BEC5",
                "#B0BEC5",
                "#B0BEC5",
                "#B0BEC5",
                "#B0BEC5",
                "#B0BEC5",
                "#B0BEC5",
                "#B0BEC5",
                "#B0BEC5",
                "#B0BEC5",
                "#B0BEC5",
                "#B0BEC5",
                "#B0BEC5",
                "#B0BEC5",
                "#B0BEC5",
                "#B0BEC5",
                "#B0BEC5",
                "#B0BEC5",
                "#B0BEC5",
                "#B0BEC5",
                "#B0BEC5",
                "#B0BEC5",
                "#B0BEC5",
                "#B0BEC5",
                "#B0BEC5",
                "#B0BEC5",
                "#B0BEC5",
                "#B0BEC5",
                "#B0BEC5",
                "#B0BEC5",
                "#B0BEC5",
                "#B0BEC5",
                "#B0BEC5",
                "#B0BEC5",
                "#B0BEC5",
                "#B0BEC5",
                "#B0BEC5",
                "#B0BEC5",
                "#B0BEC5",
                "#B0BEC5",
                "#B0BEC5",
                "#B0BEC5",
                "#B0BEC5",
                "#B0BEC5",
                "#B0BEC5",
                "red",
                "#B0BEC5",
                "#B0BEC5"
               ]
              ]
             }
            ],
            "label": "Topic 46",
            "method": "update"
           },
           {
            "args": [
             {
              "marker.color": [
               [
                "#B0BEC5",
                "#B0BEC5",
                "#B0BEC5",
                "#B0BEC5",
                "#B0BEC5",
                "#B0BEC5",
                "#B0BEC5",
                "#B0BEC5",
                "#B0BEC5",
                "#B0BEC5",
                "#B0BEC5",
                "#B0BEC5",
                "#B0BEC5",
                "#B0BEC5",
                "#B0BEC5",
                "#B0BEC5",
                "#B0BEC5",
                "#B0BEC5",
                "#B0BEC5",
                "#B0BEC5",
                "#B0BEC5",
                "#B0BEC5",
                "#B0BEC5",
                "#B0BEC5",
                "#B0BEC5",
                "#B0BEC5",
                "#B0BEC5",
                "#B0BEC5",
                "#B0BEC5",
                "#B0BEC5",
                "#B0BEC5",
                "#B0BEC5",
                "#B0BEC5",
                "#B0BEC5",
                "#B0BEC5",
                "#B0BEC5",
                "#B0BEC5",
                "#B0BEC5",
                "#B0BEC5",
                "#B0BEC5",
                "#B0BEC5",
                "#B0BEC5",
                "#B0BEC5",
                "#B0BEC5",
                "#B0BEC5",
                "#B0BEC5",
                "#B0BEC5",
                "red",
                "#B0BEC5"
               ]
              ]
             }
            ],
            "label": "Topic 47",
            "method": "update"
           },
           {
            "args": [
             {
              "marker.color": [
               [
                "#B0BEC5",
                "#B0BEC5",
                "#B0BEC5",
                "#B0BEC5",
                "#B0BEC5",
                "#B0BEC5",
                "#B0BEC5",
                "#B0BEC5",
                "#B0BEC5",
                "#B0BEC5",
                "#B0BEC5",
                "#B0BEC5",
                "#B0BEC5",
                "#B0BEC5",
                "#B0BEC5",
                "#B0BEC5",
                "#B0BEC5",
                "#B0BEC5",
                "#B0BEC5",
                "#B0BEC5",
                "#B0BEC5",
                "#B0BEC5",
                "#B0BEC5",
                "#B0BEC5",
                "#B0BEC5",
                "#B0BEC5",
                "#B0BEC5",
                "#B0BEC5",
                "#B0BEC5",
                "#B0BEC5",
                "#B0BEC5",
                "#B0BEC5",
                "#B0BEC5",
                "#B0BEC5",
                "#B0BEC5",
                "#B0BEC5",
                "#B0BEC5",
                "#B0BEC5",
                "#B0BEC5",
                "#B0BEC5",
                "#B0BEC5",
                "#B0BEC5",
                "#B0BEC5",
                "#B0BEC5",
                "#B0BEC5",
                "#B0BEC5",
                "#B0BEC5",
                "#B0BEC5",
                "red"
               ]
              ]
             }
            ],
            "label": "Topic 48",
            "method": "update"
           }
          ]
         }
        ],
        "template": {
         "data": {
          "bar": [
           {
            "error_x": {
             "color": "rgb(36,36,36)"
            },
            "error_y": {
             "color": "rgb(36,36,36)"
            },
            "marker": {
             "line": {
              "color": "white",
              "width": 0.5
             },
             "pattern": {
              "fillmode": "overlay",
              "size": 10,
              "solidity": 0.2
             }
            },
            "type": "bar"
           }
          ],
          "barpolar": [
           {
            "marker": {
             "line": {
              "color": "white",
              "width": 0.5
             },
             "pattern": {
              "fillmode": "overlay",
              "size": 10,
              "solidity": 0.2
             }
            },
            "type": "barpolar"
           }
          ],
          "carpet": [
           {
            "aaxis": {
             "endlinecolor": "rgb(36,36,36)",
             "gridcolor": "white",
             "linecolor": "white",
             "minorgridcolor": "white",
             "startlinecolor": "rgb(36,36,36)"
            },
            "baxis": {
             "endlinecolor": "rgb(36,36,36)",
             "gridcolor": "white",
             "linecolor": "white",
             "minorgridcolor": "white",
             "startlinecolor": "rgb(36,36,36)"
            },
            "type": "carpet"
           }
          ],
          "choropleth": [
           {
            "colorbar": {
             "outlinewidth": 1,
             "tickcolor": "rgb(36,36,36)",
             "ticks": "outside"
            },
            "type": "choropleth"
           }
          ],
          "contour": [
           {
            "colorbar": {
             "outlinewidth": 1,
             "tickcolor": "rgb(36,36,36)",
             "ticks": "outside"
            },
            "colorscale": [
             [
              0,
              "#440154"
             ],
             [
              0.1111111111111111,
              "#482878"
             ],
             [
              0.2222222222222222,
              "#3e4989"
             ],
             [
              0.3333333333333333,
              "#31688e"
             ],
             [
              0.4444444444444444,
              "#26828e"
             ],
             [
              0.5555555555555556,
              "#1f9e89"
             ],
             [
              0.6666666666666666,
              "#35b779"
             ],
             [
              0.7777777777777778,
              "#6ece58"
             ],
             [
              0.8888888888888888,
              "#b5de2b"
             ],
             [
              1,
              "#fde725"
             ]
            ],
            "type": "contour"
           }
          ],
          "contourcarpet": [
           {
            "colorbar": {
             "outlinewidth": 1,
             "tickcolor": "rgb(36,36,36)",
             "ticks": "outside"
            },
            "type": "contourcarpet"
           }
          ],
          "heatmap": [
           {
            "colorbar": {
             "outlinewidth": 1,
             "tickcolor": "rgb(36,36,36)",
             "ticks": "outside"
            },
            "colorscale": [
             [
              0,
              "#440154"
             ],
             [
              0.1111111111111111,
              "#482878"
             ],
             [
              0.2222222222222222,
              "#3e4989"
             ],
             [
              0.3333333333333333,
              "#31688e"
             ],
             [
              0.4444444444444444,
              "#26828e"
             ],
             [
              0.5555555555555556,
              "#1f9e89"
             ],
             [
              0.6666666666666666,
              "#35b779"
             ],
             [
              0.7777777777777778,
              "#6ece58"
             ],
             [
              0.8888888888888888,
              "#b5de2b"
             ],
             [
              1,
              "#fde725"
             ]
            ],
            "type": "heatmap"
           }
          ],
          "heatmapgl": [
           {
            "colorbar": {
             "outlinewidth": 1,
             "tickcolor": "rgb(36,36,36)",
             "ticks": "outside"
            },
            "colorscale": [
             [
              0,
              "#440154"
             ],
             [
              0.1111111111111111,
              "#482878"
             ],
             [
              0.2222222222222222,
              "#3e4989"
             ],
             [
              0.3333333333333333,
              "#31688e"
             ],
             [
              0.4444444444444444,
              "#26828e"
             ],
             [
              0.5555555555555556,
              "#1f9e89"
             ],
             [
              0.6666666666666666,
              "#35b779"
             ],
             [
              0.7777777777777778,
              "#6ece58"
             ],
             [
              0.8888888888888888,
              "#b5de2b"
             ],
             [
              1,
              "#fde725"
             ]
            ],
            "type": "heatmapgl"
           }
          ],
          "histogram": [
           {
            "marker": {
             "line": {
              "color": "white",
              "width": 0.6
             }
            },
            "type": "histogram"
           }
          ],
          "histogram2d": [
           {
            "colorbar": {
             "outlinewidth": 1,
             "tickcolor": "rgb(36,36,36)",
             "ticks": "outside"
            },
            "colorscale": [
             [
              0,
              "#440154"
             ],
             [
              0.1111111111111111,
              "#482878"
             ],
             [
              0.2222222222222222,
              "#3e4989"
             ],
             [
              0.3333333333333333,
              "#31688e"
             ],
             [
              0.4444444444444444,
              "#26828e"
             ],
             [
              0.5555555555555556,
              "#1f9e89"
             ],
             [
              0.6666666666666666,
              "#35b779"
             ],
             [
              0.7777777777777778,
              "#6ece58"
             ],
             [
              0.8888888888888888,
              "#b5de2b"
             ],
             [
              1,
              "#fde725"
             ]
            ],
            "type": "histogram2d"
           }
          ],
          "histogram2dcontour": [
           {
            "colorbar": {
             "outlinewidth": 1,
             "tickcolor": "rgb(36,36,36)",
             "ticks": "outside"
            },
            "colorscale": [
             [
              0,
              "#440154"
             ],
             [
              0.1111111111111111,
              "#482878"
             ],
             [
              0.2222222222222222,
              "#3e4989"
             ],
             [
              0.3333333333333333,
              "#31688e"
             ],
             [
              0.4444444444444444,
              "#26828e"
             ],
             [
              0.5555555555555556,
              "#1f9e89"
             ],
             [
              0.6666666666666666,
              "#35b779"
             ],
             [
              0.7777777777777778,
              "#6ece58"
             ],
             [
              0.8888888888888888,
              "#b5de2b"
             ],
             [
              1,
              "#fde725"
             ]
            ],
            "type": "histogram2dcontour"
           }
          ],
          "mesh3d": [
           {
            "colorbar": {
             "outlinewidth": 1,
             "tickcolor": "rgb(36,36,36)",
             "ticks": "outside"
            },
            "type": "mesh3d"
           }
          ],
          "parcoords": [
           {
            "line": {
             "colorbar": {
              "outlinewidth": 1,
              "tickcolor": "rgb(36,36,36)",
              "ticks": "outside"
             }
            },
            "type": "parcoords"
           }
          ],
          "pie": [
           {
            "automargin": true,
            "type": "pie"
           }
          ],
          "scatter": [
           {
            "fillpattern": {
             "fillmode": "overlay",
             "size": 10,
             "solidity": 0.2
            },
            "type": "scatter"
           }
          ],
          "scatter3d": [
           {
            "line": {
             "colorbar": {
              "outlinewidth": 1,
              "tickcolor": "rgb(36,36,36)",
              "ticks": "outside"
             }
            },
            "marker": {
             "colorbar": {
              "outlinewidth": 1,
              "tickcolor": "rgb(36,36,36)",
              "ticks": "outside"
             }
            },
            "type": "scatter3d"
           }
          ],
          "scattercarpet": [
           {
            "marker": {
             "colorbar": {
              "outlinewidth": 1,
              "tickcolor": "rgb(36,36,36)",
              "ticks": "outside"
             }
            },
            "type": "scattercarpet"
           }
          ],
          "scattergeo": [
           {
            "marker": {
             "colorbar": {
              "outlinewidth": 1,
              "tickcolor": "rgb(36,36,36)",
              "ticks": "outside"
             }
            },
            "type": "scattergeo"
           }
          ],
          "scattergl": [
           {
            "marker": {
             "colorbar": {
              "outlinewidth": 1,
              "tickcolor": "rgb(36,36,36)",
              "ticks": "outside"
             }
            },
            "type": "scattergl"
           }
          ],
          "scattermapbox": [
           {
            "marker": {
             "colorbar": {
              "outlinewidth": 1,
              "tickcolor": "rgb(36,36,36)",
              "ticks": "outside"
             }
            },
            "type": "scattermapbox"
           }
          ],
          "scatterpolar": [
           {
            "marker": {
             "colorbar": {
              "outlinewidth": 1,
              "tickcolor": "rgb(36,36,36)",
              "ticks": "outside"
             }
            },
            "type": "scatterpolar"
           }
          ],
          "scatterpolargl": [
           {
            "marker": {
             "colorbar": {
              "outlinewidth": 1,
              "tickcolor": "rgb(36,36,36)",
              "ticks": "outside"
             }
            },
            "type": "scatterpolargl"
           }
          ],
          "scatterternary": [
           {
            "marker": {
             "colorbar": {
              "outlinewidth": 1,
              "tickcolor": "rgb(36,36,36)",
              "ticks": "outside"
             }
            },
            "type": "scatterternary"
           }
          ],
          "surface": [
           {
            "colorbar": {
             "outlinewidth": 1,
             "tickcolor": "rgb(36,36,36)",
             "ticks": "outside"
            },
            "colorscale": [
             [
              0,
              "#440154"
             ],
             [
              0.1111111111111111,
              "#482878"
             ],
             [
              0.2222222222222222,
              "#3e4989"
             ],
             [
              0.3333333333333333,
              "#31688e"
             ],
             [
              0.4444444444444444,
              "#26828e"
             ],
             [
              0.5555555555555556,
              "#1f9e89"
             ],
             [
              0.6666666666666666,
              "#35b779"
             ],
             [
              0.7777777777777778,
              "#6ece58"
             ],
             [
              0.8888888888888888,
              "#b5de2b"
             ],
             [
              1,
              "#fde725"
             ]
            ],
            "type": "surface"
           }
          ],
          "table": [
           {
            "cells": {
             "fill": {
              "color": "rgb(237,237,237)"
             },
             "line": {
              "color": "white"
             }
            },
            "header": {
             "fill": {
              "color": "rgb(217,217,217)"
             },
             "line": {
              "color": "white"
             }
            },
            "type": "table"
           }
          ]
         },
         "layout": {
          "annotationdefaults": {
           "arrowhead": 0,
           "arrowwidth": 1
          },
          "autotypenumbers": "strict",
          "coloraxis": {
           "colorbar": {
            "outlinewidth": 1,
            "tickcolor": "rgb(36,36,36)",
            "ticks": "outside"
           }
          },
          "colorscale": {
           "diverging": [
            [
             0,
             "rgb(103,0,31)"
            ],
            [
             0.1,
             "rgb(178,24,43)"
            ],
            [
             0.2,
             "rgb(214,96,77)"
            ],
            [
             0.3,
             "rgb(244,165,130)"
            ],
            [
             0.4,
             "rgb(253,219,199)"
            ],
            [
             0.5,
             "rgb(247,247,247)"
            ],
            [
             0.6,
             "rgb(209,229,240)"
            ],
            [
             0.7,
             "rgb(146,197,222)"
            ],
            [
             0.8,
             "rgb(67,147,195)"
            ],
            [
             0.9,
             "rgb(33,102,172)"
            ],
            [
             1,
             "rgb(5,48,97)"
            ]
           ],
           "sequential": [
            [
             0,
             "#440154"
            ],
            [
             0.1111111111111111,
             "#482878"
            ],
            [
             0.2222222222222222,
             "#3e4989"
            ],
            [
             0.3333333333333333,
             "#31688e"
            ],
            [
             0.4444444444444444,
             "#26828e"
            ],
            [
             0.5555555555555556,
             "#1f9e89"
            ],
            [
             0.6666666666666666,
             "#35b779"
            ],
            [
             0.7777777777777778,
             "#6ece58"
            ],
            [
             0.8888888888888888,
             "#b5de2b"
            ],
            [
             1,
             "#fde725"
            ]
           ],
           "sequentialminus": [
            [
             0,
             "#440154"
            ],
            [
             0.1111111111111111,
             "#482878"
            ],
            [
             0.2222222222222222,
             "#3e4989"
            ],
            [
             0.3333333333333333,
             "#31688e"
            ],
            [
             0.4444444444444444,
             "#26828e"
            ],
            [
             0.5555555555555556,
             "#1f9e89"
            ],
            [
             0.6666666666666666,
             "#35b779"
            ],
            [
             0.7777777777777778,
             "#6ece58"
            ],
            [
             0.8888888888888888,
             "#b5de2b"
            ],
            [
             1,
             "#fde725"
            ]
           ]
          },
          "colorway": [
           "#1F77B4",
           "#FF7F0E",
           "#2CA02C",
           "#D62728",
           "#9467BD",
           "#8C564B",
           "#E377C2",
           "#7F7F7F",
           "#BCBD22",
           "#17BECF"
          ],
          "font": {
           "color": "rgb(36,36,36)"
          },
          "geo": {
           "bgcolor": "white",
           "lakecolor": "white",
           "landcolor": "white",
           "showlakes": true,
           "showland": true,
           "subunitcolor": "white"
          },
          "hoverlabel": {
           "align": "left"
          },
          "hovermode": "closest",
          "mapbox": {
           "style": "light"
          },
          "paper_bgcolor": "white",
          "plot_bgcolor": "white",
          "polar": {
           "angularaxis": {
            "gridcolor": "rgb(232,232,232)",
            "linecolor": "rgb(36,36,36)",
            "showgrid": false,
            "showline": true,
            "ticks": "outside"
           },
           "bgcolor": "white",
           "radialaxis": {
            "gridcolor": "rgb(232,232,232)",
            "linecolor": "rgb(36,36,36)",
            "showgrid": false,
            "showline": true,
            "ticks": "outside"
           }
          },
          "scene": {
           "xaxis": {
            "backgroundcolor": "white",
            "gridcolor": "rgb(232,232,232)",
            "gridwidth": 2,
            "linecolor": "rgb(36,36,36)",
            "showbackground": true,
            "showgrid": false,
            "showline": true,
            "ticks": "outside",
            "zeroline": false,
            "zerolinecolor": "rgb(36,36,36)"
           },
           "yaxis": {
            "backgroundcolor": "white",
            "gridcolor": "rgb(232,232,232)",
            "gridwidth": 2,
            "linecolor": "rgb(36,36,36)",
            "showbackground": true,
            "showgrid": false,
            "showline": true,
            "ticks": "outside",
            "zeroline": false,
            "zerolinecolor": "rgb(36,36,36)"
           },
           "zaxis": {
            "backgroundcolor": "white",
            "gridcolor": "rgb(232,232,232)",
            "gridwidth": 2,
            "linecolor": "rgb(36,36,36)",
            "showbackground": true,
            "showgrid": false,
            "showline": true,
            "ticks": "outside",
            "zeroline": false,
            "zerolinecolor": "rgb(36,36,36)"
           }
          },
          "shapedefaults": {
           "fillcolor": "black",
           "line": {
            "width": 0
           },
           "opacity": 0.3
          },
          "ternary": {
           "aaxis": {
            "gridcolor": "rgb(232,232,232)",
            "linecolor": "rgb(36,36,36)",
            "showgrid": false,
            "showline": true,
            "ticks": "outside"
           },
           "baxis": {
            "gridcolor": "rgb(232,232,232)",
            "linecolor": "rgb(36,36,36)",
            "showgrid": false,
            "showline": true,
            "ticks": "outside"
           },
           "bgcolor": "white",
           "caxis": {
            "gridcolor": "rgb(232,232,232)",
            "linecolor": "rgb(36,36,36)",
            "showgrid": false,
            "showline": true,
            "ticks": "outside"
           }
          },
          "title": {
           "x": 0.05
          },
          "xaxis": {
           "automargin": true,
           "gridcolor": "rgb(232,232,232)",
           "linecolor": "rgb(36,36,36)",
           "showgrid": false,
           "showline": true,
           "ticks": "outside",
           "title": {
            "standoff": 15
           },
           "zeroline": false,
           "zerolinecolor": "rgb(36,36,36)"
          },
          "yaxis": {
           "automargin": true,
           "gridcolor": "rgb(232,232,232)",
           "linecolor": "rgb(36,36,36)",
           "showgrid": false,
           "showline": true,
           "ticks": "outside",
           "title": {
            "standoff": 15
           },
           "zeroline": false,
           "zerolinecolor": "rgb(36,36,36)"
          }
         }
        },
        "title": {
         "font": {
          "color": "Black",
          "size": 22
         },
         "text": "<b>Intertopic Distance Map</b>",
         "x": 0.5,
         "xanchor": "center",
         "y": 0.95,
         "yanchor": "top"
        },
        "width": 650,
        "xaxis": {
         "anchor": "y",
         "domain": [
          0,
          1
         ],
         "range": [
          -5.628485560417175,
          19.702767276763915
         ],
         "title": {
          "text": ""
         },
         "visible": false
        },
        "yaxis": {
         "anchor": "x",
         "domain": [
          0,
          1
         ],
         "range": [
          -12.779438829421997,
          26.910085105895995
         ],
         "title": {
          "text": ""
         },
         "visible": false
        }
       }
      }
     },
     "metadata": {},
     "output_type": "display_data"
    }
   ],
   "source": [
    "topic_model.visualize_topics()"
   ]
  },
  {
   "cell_type": "code",
   "execution_count": null,
   "metadata": {},
   "outputs": [],
   "source": [
    "with open('cs_first_topics_over_time.pkl', 'rb') as f:\n",
    "    topics_over_time = pickle.load(f)\n",
    "\n",
    "topics_over_time_df = pd.DataFrame(topics_over_time, columns=[\"Topic\", \"Timestamp\", \"Frequency\"])\n",
    "\n",
    "# Convert the 'Timestamp' column to a datetime object for easier grouping\n",
    "topics_over_time_df['Timestamp'] = pd.to_datetime(topics_over_time_df['Timestamp'])\n",
    "\n",
    "# Group by month and topic, summing only the 'Frequency' column\n",
    "monthly_data = topics_over_time_df.groupby([topics_over_time_df['Timestamp'].dt.to_period('M'), 'Topic'])['Frequency'].sum().reset_index()"
   ]
  },
  {
   "cell_type": "code",
   "execution_count": 9,
   "metadata": {},
   "outputs": [],
   "source": [
    "topic_labels = {\n",
    "    0:'Numerical methods and optimization',\n",
    "    1:'Medical imaging and segmentation',\n",
    "    2:'Image related machine learning models and performance',\n",
    "    3:'Robotics and human-robot interaction',\n",
    "    4:'3D object detection and pose estimation',\n",
    "    5:'Large language models and text generation',\n",
    "    6:'Speech and audio processing',\n",
    "    7:'Reinforcement Learning (RL) agents',\n",
    "    8:'Autonomous vehicles and traffic system',\n",
    "    9:'Wireless communication systems',\n",
    "    10:'Graph Neural Networks (GNNs)',\n",
    "    11:'Software engineering and development tools',\n",
    "    12:'Social media analytics',\n",
    "    13:'Multilingual Natural Language Processing (NLP)',\n",
    "    14:'Control theory and dynamic systems',\n",
    "    15:'Quantum computing',\n",
    "    16:'Federated learning and privacy',\n",
    "    17:'Unmanned Aerial Vehicles (UAVs)',\n",
    "    18:'Power grids and energy system',\n",
    "    19:'Graph theory and algorithms',\n",
    "    20:'Internet of Things (IoT) applications',\n",
    "    21:'User recommendation systems',\n",
    "    22:'Blockchain and smart contracts',\n",
    "    23:'Bioinformatics and protein modeling',\n",
    "    24:'Logic and formal verification',\n",
    "    25:'Adversarial attacks',\n",
    "    26:'Time series forecasting',\n",
    "    27:'AI systems and Human-AI interaction',\n",
    "    28:'Scientometrics and research analysis',\n",
    "    29:'Data privacy and synthetic datasets',\n",
    "    30:'Game theory and nash equilibrium',\n",
    "    31:'Clustering algorithm',\n",
    "    32:'Coding theory and combinatorial optimization',\n",
    "    33:'Cryptography and encryption',\n",
    "    34:'High performance computing',   \n",
    "    35:'AI intergration in education',\n",
    "    36:'Causal Inference and Causal Models',\n",
    "    37:'Generative models (GANs)',\n",
    "    38:'Cybersecurity and threat detection',\n",
    "    39:'Video processing and temporal features',\n",
    "    40:'Machine learning application in astrophysics and space exploration',\n",
    "    41:'Spiking Neural Networks (SNNs)',   \n",
    "    42:'Auction theory and mechanism design',\n",
    "    43:'LiDAR-based mapping and 3D localization',\n",
    "    44:'Financial and stock market modelling',\n",
    "    45:'Anomaly detection',\n",
    "    46:'Fairness in multi-agent systems',\n",
    "    47:'Agricultural modelling',\n",
    "    48:'Fault and safety systems in CPS'\n",
    "}"
   ]
  },
  {
   "cell_type": "code",
   "execution_count": 10,
   "metadata": {},
   "outputs": [
    {
     "data": {
      "image/png": "[encoded data removed]",
      "text/plain": [
       "<Figure size 1400x600 with 1 Axes>"
      ]
     },
     "metadata": {},
     "output_type": "display_data"
    }
   ],
   "source": [
    "specific_topics = [0,1,2,3,4,5,6]\n",
    "\n",
    "# Filter monthly_data to include only these specific topics\n",
    "filtered_monthly_data = monthly_data[monthly_data['Topic'].isin(specific_topics)]\n",
    "\n",
    "# Pivot the table to make it suitable for bar plotting (topics as columns)\n",
    "pivoted_data = filtered_monthly_data.pivot(index='Timestamp', columns='Topic', values='Frequency')\n",
    "\n",
    "# Plot as stacked bar chart\n",
    "ax = pivoted_data.plot(kind='bar', stacked=False, figsize=(14, 6), colormap='Paired')\n",
    "\n",
    "# Add legend outside the plot\n",
    "ax.legend(title='Global Topic Representation', labels=[topic_labels.get(topic, topic) for topic in pivoted_data.columns],  bbox_to_anchor=(1, 1), loc='upper left')\n",
    "\n",
    "# Customize the plot (similar to your image)\n",
    "ax.set_title('Topics over time', fontsize=14)\n",
    "ax.set_xlabel('')\n",
    "ax.set_ylabel('Frequency')\n",
    "\n",
    "# Rotate x-axis labels for better readability\n",
    "ax.set_xticklabels(pivoted_data.index.astype(str), rotation=0)\n",
    "\n",
    "# Add gridlines for better readability\n",
    "plt.grid(axis='y', linestyle='--', alpha=0.7)\n",
    "\n",
    "# Adjust layout to fit everything well\n",
    "plt.tight_layout()\n",
    "\n",
    "# Show the plot\n",
    "plt.show()"
   ]
  },
  {
   "cell_type": "code",
   "execution_count": 11,
   "metadata": {},
   "outputs": [
    {
     "data": {
      "image/png": "[encoded data removed]",
      "text/plain": [
       "<Figure size 1400x600 with 1 Axes>"
      ]
     },
     "metadata": {},
     "output_type": "display_data"
    }
   ],
   "source": [
    "specific_topics = [7,8,9,10,11,12,13]\n",
    "\n",
    "# Filter monthly_data to include only these specific topics\n",
    "filtered_monthly_data = monthly_data[monthly_data['Topic'].isin(specific_topics)]\n",
    "\n",
    "# Pivot the table to make it suitable for bar plotting (topics as columns)\n",
    "pivoted_data = filtered_monthly_data.pivot(index='Timestamp', columns='Topic', values='Frequency')\n",
    "\n",
    "# Plot as stacked bar chart\n",
    "ax = pivoted_data.plot(kind='bar', stacked=False, figsize=(14, 6), colormap='Paired')\n",
    "\n",
    "# Add legend outside the plot\n",
    "ax.legend(title='Global Topic Representation', labels=[topic_labels.get(topic, topic) for topic in pivoted_data.columns],  bbox_to_anchor=(1, 1), loc='upper left')\n",
    "\n",
    "# Customize the plot (similar to your image)\n",
    "ax.set_title('Topics over time', fontsize=14)\n",
    "ax.set_xlabel('')\n",
    "ax.set_ylabel('Frequency')\n",
    "\n",
    "# Rotate x-axis labels for better readability\n",
    "ax.set_xticklabels(pivoted_data.index.astype(str), rotation=0)\n",
    "\n",
    "# Add gridlines for better readability\n",
    "plt.grid(axis='y', linestyle='--', alpha=0.7)\n",
    "\n",
    "# Adjust layout to fit everything well\n",
    "plt.tight_layout()\n",
    "\n",
    "# Show the plot\n",
    "plt.show()"
   ]
  },
  {
   "cell_type": "code",
   "execution_count": 12,
   "metadata": {},
   "outputs": [
    {
     "data": {
      "image/png": "[encoded data removed]",
      "text/plain": [
       "<Figure size 1400x600 with 1 Axes>"
      ]
     },
     "metadata": {},
     "output_type": "display_data"
    }
   ],
   "source": [
    "specific_topics = [14,15,16,17,18,19,20]\n",
    "\n",
    "# Filter monthly_data to include only these specific topics\n",
    "filtered_monthly_data = monthly_data[monthly_data['Topic'].isin(specific_topics)]\n",
    "\n",
    "# Pivot the table to make it suitable for bar plotting (topics as columns)\n",
    "pivoted_data = filtered_monthly_data.pivot(index='Timestamp', columns='Topic', values='Frequency')\n",
    "\n",
    "# Plot as stacked bar chart\n",
    "ax = pivoted_data.plot(kind='bar', stacked=False, figsize=(14, 6), colormap='Paired')\n",
    "\n",
    "# Add legend outside the plot\n",
    "ax.legend(title='Global Topic Representation', labels=[topic_labels.get(topic, topic) for topic in pivoted_data.columns],  bbox_to_anchor=(1, 1), loc='upper left')\n",
    "\n",
    "# Customize the plot (similar to your image)\n",
    "ax.set_title('Topics over time', fontsize=14)\n",
    "ax.set_xlabel('')\n",
    "ax.set_ylabel('Frequency')\n",
    "\n",
    "# Rotate x-axis labels for better readability\n",
    "ax.set_xticklabels(pivoted_data.index.astype(str), rotation=0)\n",
    "\n",
    "# Add gridlines for better readability\n",
    "plt.grid(axis='y', linestyle='--', alpha=0.7)\n",
    "\n",
    "# Adjust layout to fit everything well\n",
    "plt.tight_layout()\n",
    "\n",
    "# Show the plot\n",
    "plt.show()"
   ]
  },
  {
   "cell_type": "code",
   "execution_count": 13,
   "metadata": {},
   "outputs": [
    {
     "data": {
      "image/png": "[encoded data removed]",
      "text/plain": [
       "<Figure size 1400x600 with 1 Axes>"
      ]
     },
     "metadata": {},
     "output_type": "display_data"
    }
   ],
   "source": [
    "specific_topics = [21,22,23,24,25,26,27]\n",
    "\n",
    "# Filter monthly_data to include only these specific topics\n",
    "filtered_monthly_data = monthly_data[monthly_data['Topic'].isin(specific_topics)]\n",
    "\n",
    "# Pivot the table to make it suitable for bar plotting (topics as columns)\n",
    "pivoted_data = filtered_monthly_data.pivot(index='Timestamp', columns='Topic', values='Frequency')\n",
    "\n",
    "# Plot as stacked bar chart\n",
    "ax = pivoted_data.plot(kind='bar', stacked=False, figsize=(14, 6), colormap='Paired')\n",
    "\n",
    "# Add legend outside the plot\n",
    "ax.legend(title='Global Topic Representation', labels=[topic_labels.get(topic, topic) for topic in pivoted_data.columns],  bbox_to_anchor=(1, 1), loc='upper left')\n",
    "\n",
    "# Customize the plot (similar to your image)\n",
    "ax.set_title('Topics over time', fontsize=14)\n",
    "ax.set_xlabel('')\n",
    "ax.set_ylabel('Frequency')\n",
    "\n",
    "# Rotate x-axis labels for better readability\n",
    "ax.set_xticklabels(pivoted_data.index.astype(str), rotation=0)\n",
    "\n",
    "# Add gridlines for better readability\n",
    "plt.grid(axis='y', linestyle='--', alpha=0.7)\n",
    "\n",
    "# Adjust layout to fit everything well\n",
    "plt.tight_layout()\n",
    "\n",
    "# Show the plot\n",
    "plt.show()"
   ]
  },
  {
   "cell_type": "code",
   "execution_count": 14,
   "metadata": {},
   "outputs": [
    {
     "data": {
      "image/png": "[encoded data removed]",
      "text/plain": [
       "<Figure size 1400x600 with 1 Axes>"
      ]
     },
     "metadata": {},
     "output_type": "display_data"
    }
   ],
   "source": [
    "specific_topics = [28,29,30,31,32,33,34]\n",
    "\n",
    "# Filter monthly_data to include only these specific topics\n",
    "filtered_monthly_data = monthly_data[monthly_data['Topic'].isin(specific_topics)]\n",
    "\n",
    "# Pivot the table to make it suitable for bar plotting (topics as columns)\n",
    "pivoted_data = filtered_monthly_data.pivot(index='Timestamp', columns='Topic', values='Frequency')\n",
    "\n",
    "# Plot as stacked bar chart\n",
    "ax = pivoted_data.plot(kind='bar', stacked=False, figsize=(14, 6), colormap='Paired')\n",
    "\n",
    "# Add legend outside the plot\n",
    "ax.legend(title='Global Topic Representation', labels=[topic_labels.get(topic, topic) for topic in pivoted_data.columns],  bbox_to_anchor=(1, 1), loc='upper left')\n",
    "\n",
    "# Customize the plot (similar to your image)\n",
    "ax.set_title('Topics over time', fontsize=14)\n",
    "ax.set_xlabel('')\n",
    "ax.set_ylabel('Frequency')\n",
    "\n",
    "# Rotate x-axis labels for better readability\n",
    "ax.set_xticklabels(pivoted_data.index.astype(str), rotation=0)\n",
    "\n",
    "# Add gridlines for better readability\n",
    "plt.grid(axis='y', linestyle='--', alpha=0.7)\n",
    "\n",
    "# Adjust layout to fit everything well\n",
    "plt.tight_layout()\n",
    "\n",
    "# Show the plot\n",
    "plt.show()"
   ]
  },
  {
   "cell_type": "code",
   "execution_count": 15,
   "metadata": {},
   "outputs": [
    {
     "data": {
      "image/png": "[encoded data removed]",
      "text/plain": [
       "<Figure size 1400x600 with 1 Axes>"
      ]
     },
     "metadata": {},
     "output_type": "display_data"
    }
   ],
   "source": [
    "specific_topics = [35,36,37,38,39,40,41]\n",
    "\n",
    "# Filter monthly_data to include only these specific topics\n",
    "filtered_monthly_data = monthly_data[monthly_data['Topic'].isin(specific_topics)]\n",
    "\n",
    "# Pivot the table to make it suitable for bar plotting (topics as columns)\n",
    "pivoted_data = filtered_monthly_data.pivot(index='Timestamp', columns='Topic', values='Frequency')\n",
    "\n",
    "# Plot as stacked bar chart\n",
    "ax = pivoted_data.plot(kind='bar', stacked=False, figsize=(14, 6), colormap='Paired')\n",
    "\n",
    "# Add legend outside the plot\n",
    "ax.legend(title='Global Topic Representation', labels=[topic_labels.get(topic, topic) for topic in pivoted_data.columns],  bbox_to_anchor=(1, 1), loc='upper left')\n",
    "\n",
    "# Customize the plot (similar to your image)\n",
    "ax.set_title('Topics over time', fontsize=14)\n",
    "ax.set_xlabel('')\n",
    "ax.set_ylabel('Frequency')\n",
    "\n",
    "# Rotate x-axis labels for better readability\n",
    "ax.set_xticklabels(pivoted_data.index.astype(str), rotation=0)\n",
    "\n",
    "# Add gridlines for better readability\n",
    "plt.grid(axis='y', linestyle='--', alpha=0.7)\n",
    "\n",
    "# Adjust layout to fit everything well\n",
    "plt.tight_layout()\n",
    "\n",
    "# Show the plot\n",
    "plt.show()"
   ]
  },
  {
   "cell_type": "code",
   "execution_count": 16,
   "metadata": {},
   "outputs": [
    {
     "data": {
      "image/png": "[encoded data removed]",
      "text/plain": [
       "<Figure size 1400x600 with 1 Axes>"
      ]
     },
     "metadata": {},
     "output_type": "display_data"
    }
   ],
   "source": [
    "specific_topics = [42,43,44,45,46,47,48]\n",
    "\n",
    "# Filter monthly_data to include only these specific topics\n",
    "filtered_monthly_data = monthly_data[monthly_data['Topic'].isin(specific_topics)]\n",
    "\n",
    "# Pivot the table to make it suitable for bar plotting (topics as columns)\n",
    "pivoted_data = filtered_monthly_data.pivot(index='Timestamp', columns='Topic', values='Frequency')\n",
    "\n",
    "# Plot as stacked bar chart\n",
    "ax = pivoted_data.plot(kind='bar', stacked=False, figsize=(14, 6), colormap='Paired')\n",
    "\n",
    "# Add legend outside the plot\n",
    "ax.legend(title='Global Topic Representation', labels=[topic_labels.get(topic, topic) for topic in pivoted_data.columns],  bbox_to_anchor=(1, 1), loc='upper left')\n",
    "\n",
    "# Customize the plot (similar to your image)\n",
    "ax.set_title('Topics over time', fontsize=14)\n",
    "ax.set_xlabel('')\n",
    "ax.set_ylabel('Frequency')\n",
    "\n",
    "# Rotate x-axis labels for better readability\n",
    "ax.set_xticklabels(pivoted_data.index.astype(str), rotation=0)\n",
    "\n",
    "# Add gridlines for better readability\n",
    "plt.grid(axis='y', linestyle='--', alpha=0.7)\n",
    "\n",
    "# Adjust layout to fit everything well\n",
    "plt.tight_layout()\n",
    "\n",
    "# Show the plot\n",
    "plt.show()"
   ]
  }
 ],
 "metadata": {
  "kernelspec": {
   "display_name": "myenv2",
   "language": "python",
   "name": "python3"
  },
  "language_info": {
   "codemirror_mode": {
    "name": "ipython",
    "version": 3
   },
   "file_extension": ".py",
   "mimetype": "text/x-python",
   "name": "python",
   "nbconvert_exporter": "python",
   "pygments_lexer": "ipython3",
   "version": "3.10.6"
  }
 },
 "nbformat": 4,
 "nbformat_minor": 2
}
