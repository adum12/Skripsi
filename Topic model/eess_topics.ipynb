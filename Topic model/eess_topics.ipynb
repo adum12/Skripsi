{
 "cells": [
  {
   "cell_type": "code",
   "execution_count": 1,
   "metadata": {},
   "outputs": [
    {
     "name": "stderr",
     "output_type": "stream",
     "text": [
      "x:\\Kuliah\\Semester 8\\Sandbox\\myenv2\\lib\\site-packages\\tqdm\\auto.py:21: TqdmWarning: IProgress not found. Please update jupyter and ipywidgets. See https://ipywidgets.readthedocs.io/en/stable/user_install.html\n",
      "  from .autonotebook import tqdm as notebook_tqdm\n"
     ]
    }
   ],
   "source": [
    "from sklearn.feature_extraction.text import CountVectorizer\n",
    "from gensim.models.coherencemodel import CoherenceModel\n",
    "from bertopic.vectorizers import ClassTfidfTransformer\n",
    "from sentence_transformers import SentenceTransformer\n",
    "from gensim.corpora.dictionary import Dictionary\n",
    "import matplotlib.pyplot as plt\n",
    "from bertopic import BERTopic\n",
    "from hdbscan import HDBSCAN\n",
    "from umap import UMAP\n",
    "import seaborn as sns\n",
    "import pandas as pd\n",
    "import numpy as np\n",
    "import pickle"
   ]
  },
  {
   "cell_type": "code",
   "execution_count": 2,
   "metadata": {},
   "outputs": [],
   "source": [
    "df = pd.read_csv(\"../../Data preprocessing/Preprocessed data V2/arxiv_eess_preprocessed.csv\")\n",
    "abstracts = df[\"summary\"].to_list()\n",
    "dates = df[\"date\"].to_list()\n",
    "ids = df[\"id\"].to_list()"
   ]
  },
  {
   "cell_type": "code",
   "execution_count": 3,
   "metadata": {},
   "outputs": [],
   "source": [
    "embedding_model = SentenceTransformer(\"all-mpnet-base-v2\")\n",
    "embeddings = np.load(\"../../Topic extraction/abstract embeddings/all-mpnet-base-v2-embeddings V2/eess_embeddingsV2.npy\")\n",
    "vectorizer_model = CountVectorizer(stop_words=\"english\", ngram_range=(1,2))\n",
    "ctfidf_model = ClassTfidfTransformer(reduce_frequent_words=True)"
   ]
  },
  {
   "cell_type": "code",
   "execution_count": 10,
   "metadata": {},
   "outputs": [],
   "source": [
    "umap_model = UMAP(n_neighbors=15, \n",
    "                  n_components=15,\n",
    "                  min_dist=0.0,\n",
    "                  metric='cosine',\n",
    "                  random_state=42)"
   ]
  },
  {
   "cell_type": "code",
   "execution_count": 5,
   "metadata": {},
   "outputs": [],
   "source": [
    "hdbscan_model = HDBSCAN(min_cluster_size=50,\n",
    "                        metric='euclidean',\n",
    "                        cluster_selection_method='eom',\n",
    "                        prediction_data=True)"
   ]
  },
  {
   "cell_type": "code",
   "execution_count": 11,
   "metadata": {},
   "outputs": [
    {
     "data": {
      "text/html": [
       "<div>\n",
       "<style scoped>\n",
       "    .dataframe tbody tr th:only-of-type {\n",
       "        vertical-align: middle;\n",
       "    }\n",
       "\n",
       "    .dataframe tbody tr th {\n",
       "        vertical-align: top;\n",
       "    }\n",
       "\n",
       "    .dataframe thead th {\n",
       "        text-align: right;\n",
       "    }\n",
       "</style>\n",
       "<table border=\"1\" class=\"dataframe\">\n",
       "  <thead>\n",
       "    <tr style=\"text-align: right;\">\n",
       "      <th></th>\n",
       "      <th>Topic</th>\n",
       "      <th>Count</th>\n",
       "      <th>Name</th>\n",
       "      <th>Representation</th>\n",
       "      <th>Representative_Docs</th>\n",
       "    </tr>\n",
       "  </thead>\n",
       "  <tbody>\n",
       "    <tr>\n",
       "      <th>0</th>\n",
       "      <td>-1</td>\n",
       "      <td>5155</td>\n",
       "      <td>-1_model_data_learning_method</td>\n",
       "      <td>[model, data, learning, method, image, based, ...</td>\n",
       "      <td>[['advancement', 'imaging', 'device', 'countle...</td>\n",
       "    </tr>\n",
       "    <tr>\n",
       "      <th>1</th>\n",
       "      <td>0</td>\n",
       "      <td>4380</td>\n",
       "      <td>0_speech_model_control_problem</td>\n",
       "      <td>[speech, model, control, problem, audio, state...</td>\n",
       "      <td>[['recently', 'conformer', 'backbone', 'networ...</td>\n",
       "    </tr>\n",
       "    <tr>\n",
       "      <th>2</th>\n",
       "      <td>1</td>\n",
       "      <td>2439</td>\n",
       "      <td>1_channel_ri_communication_wireless</td>\n",
       "      <td>[channel, ri, communication, wireless, antenna...</td>\n",
       "      <td>[['reconfigurable', 'intelligent', 'surface', ...</td>\n",
       "    </tr>\n",
       "    <tr>\n",
       "      <th>3</th>\n",
       "      <td>2</td>\n",
       "      <td>1132</td>\n",
       "      <td>2_segmentation_image_medical_cancer</td>\n",
       "      <td>[segmentation, image, medical, cancer, ct, tum...</td>\n",
       "      <td>[['medical', 'image', 'analysis', 'hot', 'rese...</td>\n",
       "    </tr>\n",
       "    <tr>\n",
       "      <th>4</th>\n",
       "      <td>3</td>\n",
       "      <td>898</td>\n",
       "      <td>3_power_energy_grid_voltage</td>\n",
       "      <td>[power, energy, grid, voltage, load, renewable...</td>\n",
       "      <td>[['paper', 'multi', 'stage', 'model', 'expansi...</td>\n",
       "    </tr>\n",
       "    <tr>\n",
       "      <th>5</th>\n",
       "      <td>4</td>\n",
       "      <td>445</td>\n",
       "      <td>4_vehicle_traffic_driving_road</td>\n",
       "      <td>[vehicle, traffic, driving, road, autonomous, ...</td>\n",
       "      <td>[['connected', 'autonomous', 'vehicle', 'cavs'...</td>\n",
       "    </tr>\n",
       "    <tr>\n",
       "      <th>6</th>\n",
       "      <td>5</td>\n",
       "      <td>415</td>\n",
       "      <td>5_robot_robotic_control_motion</td>\n",
       "      <td>[robot, robotic, control, motion, gait, roboti...</td>\n",
       "      <td>[['enable', 'safe', 'effective', 'human', 'rob...</td>\n",
       "    </tr>\n",
       "    <tr>\n",
       "      <th>7</th>\n",
       "      <td>6</td>\n",
       "      <td>304</td>\n",
       "      <td>6_sar_lidar_imagery_synthetic aperture</td>\n",
       "      <td>[sar, lidar, imagery, synthetic aperture, crop...</td>\n",
       "      <td>[['paper', 'introduce', 'innovative', 'super',...</td>\n",
       "    </tr>\n",
       "    <tr>\n",
       "      <th>8</th>\n",
       "      <td>7</td>\n",
       "      <td>235</td>\n",
       "      <td>7_music_musical_melody_dance</td>\n",
       "      <td>[music, musical, melody, dance, instrument, mu...</td>\n",
       "      <td>[['task', 'music', 'driven', 'dance', 'generat...</td>\n",
       "    </tr>\n",
       "    <tr>\n",
       "      <th>9</th>\n",
       "      <td>8</td>\n",
       "      <td>229</td>\n",
       "      <td>8_uav_uavs_aerial_drone</td>\n",
       "      <td>[uav, uavs, aerial, drone, unmanned, aerial ve...</td>\n",
       "      <td>[['due', 'high', 'mobility', 'easy', 'deployme...</td>\n",
       "    </tr>\n",
       "    <tr>\n",
       "      <th>10</th>\n",
       "      <td>9</td>\n",
       "      <td>221</td>\n",
       "      <td>9_video_compression_coding_video compression</td>\n",
       "      <td>[video, compression, coding, video compression...</td>\n",
       "      <td>[['recent', 'year', 'proliferation', 'multimed...</td>\n",
       "    </tr>\n",
       "    <tr>\n",
       "      <th>11</th>\n",
       "      <td>10</td>\n",
       "      <td>188</td>\n",
       "      <td>10_ecg_cardiac_heart_ppg</td>\n",
       "      <td>[ecg, cardiac, heart, ppg, ecg signal, electro...</td>\n",
       "      <td>[['recent', 'year', 'variety', 'deep', 'learni...</td>\n",
       "    </tr>\n",
       "    <tr>\n",
       "      <th>12</th>\n",
       "      <td>11</td>\n",
       "      <td>168</td>\n",
       "      <td>11_eeg_eeg signal_sleep_bci</td>\n",
       "      <td>[eeg, eeg signal, sleep, bci, brain, eeg data,...</td>\n",
       "      <td>[['recent', 'success', 'artificial', 'intellig...</td>\n",
       "    </tr>\n",
       "    <tr>\n",
       "      <th>13</th>\n",
       "      <td>12</td>\n",
       "      <td>159</td>\n",
       "      <td>12_mri_reconstruction_magnetic resonance_magnetic</td>\n",
       "      <td>[mri, reconstruction, magnetic resonance, magn...</td>\n",
       "      <td>[['despite', 'exceptional', 'soft', 'tissue', ...</td>\n",
       "    </tr>\n",
       "    <tr>\n",
       "      <th>14</th>\n",
       "      <td>13</td>\n",
       "      <td>144</td>\n",
       "      <td>13_wearable_sensor_semg_activity</td>\n",
       "      <td>[wearable, sensor, semg, activity, gesture, hu...</td>\n",
       "      <td>[['statistical', 'model', 'surface', 'electrom...</td>\n",
       "    </tr>\n",
       "    <tr>\n",
       "      <th>15</th>\n",
       "      <td>14</td>\n",
       "      <td>121</td>\n",
       "      <td>14_imaging_microscopy_microscope_resolution</td>\n",
       "      <td>[imaging, microscopy, microscope, resolution, ...</td>\n",
       "      <td>[['computational', 'imaging', 'method', 'empow...</td>\n",
       "    </tr>\n",
       "    <tr>\n",
       "      <th>16</th>\n",
       "      <td>15</td>\n",
       "      <td>116</td>\n",
       "      <td>15_retinal_vessel_oct_octa</td>\n",
       "      <td>[retinal, vessel, oct, octa, fundus, segmentat...</td>\n",
       "      <td>[['automatic', 'blood', 'vessel', 'segmentatio...</td>\n",
       "    </tr>\n",
       "    <tr>\n",
       "      <th>17</th>\n",
       "      <td>16</td>\n",
       "      <td>91</td>\n",
       "      <td>16_hyperspectral_hsi_spectral_hyperspectral image</td>\n",
       "      <td>[hyperspectral, hsi, spectral, hyperspectral i...</td>\n",
       "      <td>[['fusion', 'based', 'hyperspectral', 'image',...</td>\n",
       "    </tr>\n",
       "    <tr>\n",
       "      <th>18</th>\n",
       "      <td>17</td>\n",
       "      <td>82</td>\n",
       "      <td>17_underwater_marine_underwater image_ocean</td>\n",
       "      <td>[underwater, marine, underwater image, ocean, ...</td>\n",
       "      <td>[['performance', 'navigation', 'algorithm', 's...</td>\n",
       "    </tr>\n",
       "    <tr>\n",
       "      <th>19</th>\n",
       "      <td>18</td>\n",
       "      <td>75</td>\n",
       "      <td>18_satellite_leo_leo satellite_orbit</td>\n",
       "      <td>[satellite, leo, leo satellite, orbit, terrest...</td>\n",
       "      <td>[['low', 'earth', 'orbit', 'leo', 'satellite',...</td>\n",
       "    </tr>\n",
       "    <tr>\n",
       "      <th>20</th>\n",
       "      <td>19</td>\n",
       "      <td>67</td>\n",
       "      <td>19_quadrotor_flight_trajectory_control</td>\n",
       "      <td>[quadrotor, flight, trajectory, control, wing,...</td>\n",
       "      <td>[['simultaneously', 'accurate', 'reliable', 't...</td>\n",
       "    </tr>\n",
       "    <tr>\n",
       "      <th>21</th>\n",
       "      <td>20</td>\n",
       "      <td>51</td>\n",
       "      <td>20_gan_gans_gan based_adversarial network</td>\n",
       "      <td>[gan, gans, gan based, adversarial network, ne...</td>\n",
       "      <td>[['generative', 'adversarial', 'network', 'gan...</td>\n",
       "    </tr>\n",
       "  </tbody>\n",
       "</table>\n",
       "</div>"
      ],
      "text/plain": [
       "    Topic  Count                                               Name  \\\n",
       "0      -1   5155                      -1_model_data_learning_method   \n",
       "1       0   4380                     0_speech_model_control_problem   \n",
       "2       1   2439                1_channel_ri_communication_wireless   \n",
       "3       2   1132                2_segmentation_image_medical_cancer   \n",
       "4       3    898                        3_power_energy_grid_voltage   \n",
       "5       4    445                     4_vehicle_traffic_driving_road   \n",
       "6       5    415                     5_robot_robotic_control_motion   \n",
       "7       6    304             6_sar_lidar_imagery_synthetic aperture   \n",
       "8       7    235                       7_music_musical_melody_dance   \n",
       "9       8    229                            8_uav_uavs_aerial_drone   \n",
       "10      9    221       9_video_compression_coding_video compression   \n",
       "11     10    188                           10_ecg_cardiac_heart_ppg   \n",
       "12     11    168                        11_eeg_eeg signal_sleep_bci   \n",
       "13     12    159  12_mri_reconstruction_magnetic resonance_magnetic   \n",
       "14     13    144                   13_wearable_sensor_semg_activity   \n",
       "15     14    121        14_imaging_microscopy_microscope_resolution   \n",
       "16     15    116                         15_retinal_vessel_oct_octa   \n",
       "17     16     91  16_hyperspectral_hsi_spectral_hyperspectral image   \n",
       "18     17     82        17_underwater_marine_underwater image_ocean   \n",
       "19     18     75               18_satellite_leo_leo satellite_orbit   \n",
       "20     19     67             19_quadrotor_flight_trajectory_control   \n",
       "21     20     51          20_gan_gans_gan based_adversarial network   \n",
       "\n",
       "                                       Representation  \\\n",
       "0   [model, data, learning, method, image, based, ...   \n",
       "1   [speech, model, control, problem, audio, state...   \n",
       "2   [channel, ri, communication, wireless, antenna...   \n",
       "3   [segmentation, image, medical, cancer, ct, tum...   \n",
       "4   [power, energy, grid, voltage, load, renewable...   \n",
       "5   [vehicle, traffic, driving, road, autonomous, ...   \n",
       "6   [robot, robotic, control, motion, gait, roboti...   \n",
       "7   [sar, lidar, imagery, synthetic aperture, crop...   \n",
       "8   [music, musical, melody, dance, instrument, mu...   \n",
       "9   [uav, uavs, aerial, drone, unmanned, aerial ve...   \n",
       "10  [video, compression, coding, video compression...   \n",
       "11  [ecg, cardiac, heart, ppg, ecg signal, electro...   \n",
       "12  [eeg, eeg signal, sleep, bci, brain, eeg data,...   \n",
       "13  [mri, reconstruction, magnetic resonance, magn...   \n",
       "14  [wearable, sensor, semg, activity, gesture, hu...   \n",
       "15  [imaging, microscopy, microscope, resolution, ...   \n",
       "16  [retinal, vessel, oct, octa, fundus, segmentat...   \n",
       "17  [hyperspectral, hsi, spectral, hyperspectral i...   \n",
       "18  [underwater, marine, underwater image, ocean, ...   \n",
       "19  [satellite, leo, leo satellite, orbit, terrest...   \n",
       "20  [quadrotor, flight, trajectory, control, wing,...   \n",
       "21  [gan, gans, gan based, adversarial network, ne...   \n",
       "\n",
       "                                  Representative_Docs  \n",
       "0   [['advancement', 'imaging', 'device', 'countle...  \n",
       "1   [['recently', 'conformer', 'backbone', 'networ...  \n",
       "2   [['reconfigurable', 'intelligent', 'surface', ...  \n",
       "3   [['medical', 'image', 'analysis', 'hot', 'rese...  \n",
       "4   [['paper', 'multi', 'stage', 'model', 'expansi...  \n",
       "5   [['connected', 'autonomous', 'vehicle', 'cavs'...  \n",
       "6   [['enable', 'safe', 'effective', 'human', 'rob...  \n",
       "7   [['paper', 'introduce', 'innovative', 'super',...  \n",
       "8   [['task', 'music', 'driven', 'dance', 'generat...  \n",
       "9   [['due', 'high', 'mobility', 'easy', 'deployme...  \n",
       "10  [['recent', 'year', 'proliferation', 'multimed...  \n",
       "11  [['recent', 'year', 'variety', 'deep', 'learni...  \n",
       "12  [['recent', 'success', 'artificial', 'intellig...  \n",
       "13  [['despite', 'exceptional', 'soft', 'tissue', ...  \n",
       "14  [['statistical', 'model', 'surface', 'electrom...  \n",
       "15  [['computational', 'imaging', 'method', 'empow...  \n",
       "16  [['automatic', 'blood', 'vessel', 'segmentatio...  \n",
       "17  [['fusion', 'based', 'hyperspectral', 'image',...  \n",
       "18  [['performance', 'navigation', 'algorithm', 's...  \n",
       "19  [['low', 'earth', 'orbit', 'leo', 'satellite',...  \n",
       "20  [['simultaneously', 'accurate', 'reliable', 't...  \n",
       "21  [['generative', 'adversarial', 'network', 'gan...  "
      ]
     },
     "execution_count": 11,
     "metadata": {},
     "output_type": "execute_result"
    }
   ],
   "source": [
    "topic_model = BERTopic(\n",
    "    \n",
    "  embedding_model=embedding_model,\n",
    "  umap_model=umap_model,\n",
    "  hdbscan_model=hdbscan_model,\n",
    "  vectorizer_model=vectorizer_model,\n",
    "  ctfidf_model=ctfidf_model,\n",
    "\n",
    "  n_gram_range=(1,2),\n",
    "  top_n_words=10,\n",
    "  nr_topics=\"auto\"\n",
    ")\n",
    "\n",
    "# Train model\n",
    "topics, probs = topic_model.fit_transform(abstracts, embeddings)\n",
    "\n",
    "# Show topics\n",
    "topic_model.get_topic_info()"
   ]
  },
  {
   "cell_type": "code",
   "execution_count": 12,
   "metadata": {},
   "outputs": [
    {
     "name": "stderr",
     "output_type": "stream",
     "text": [
      "2024-10-22 07:53:30,152 - BERTopic - WARNING: Using a custom list of topic assignments may lead to errors if topic reduction techniques are used afterwards. Make sure that manually assigning topics is the last step in the pipeline.Note that topic embeddings will also be created through weightedc-TF-IDF embeddings instead of centroid embeddings.\n"
     ]
    },
    {
     "data": {
      "text/html": [
       "<div>\n",
       "<style scoped>\n",
       "    .dataframe tbody tr th:only-of-type {\n",
       "        vertical-align: middle;\n",
       "    }\n",
       "\n",
       "    .dataframe tbody tr th {\n",
       "        vertical-align: top;\n",
       "    }\n",
       "\n",
       "    .dataframe thead th {\n",
       "        text-align: right;\n",
       "    }\n",
       "</style>\n",
       "<table border=\"1\" class=\"dataframe\">\n",
       "  <thead>\n",
       "    <tr style=\"text-align: right;\">\n",
       "      <th></th>\n",
       "      <th>Topic</th>\n",
       "      <th>Count</th>\n",
       "      <th>Name</th>\n",
       "      <th>Representation</th>\n",
       "      <th>Representative_Docs</th>\n",
       "    </tr>\n",
       "  </thead>\n",
       "  <tbody>\n",
       "    <tr>\n",
       "      <th>0</th>\n",
       "      <td>-1</td>\n",
       "      <td>1</td>\n",
       "      <td>-1_redacted arxiv_redacted_arxiv_</td>\n",
       "      <td>[redacted arxiv, redacted, arxiv, , , , , , , ]</td>\n",
       "      <td>[['advancement', 'imaging', 'device', 'countle...</td>\n",
       "    </tr>\n",
       "    <tr>\n",
       "      <th>1</th>\n",
       "      <td>0</td>\n",
       "      <td>5912</td>\n",
       "      <td>0_model_speech_system_method</td>\n",
       "      <td>[model, speech, system, method, based, data, a...</td>\n",
       "      <td>[['recently', 'conformer', 'backbone', 'networ...</td>\n",
       "    </tr>\n",
       "    <tr>\n",
       "      <th>2</th>\n",
       "      <td>1</td>\n",
       "      <td>3050</td>\n",
       "      <td>1_channel_communication_ri_system</td>\n",
       "      <td>[channel, communication, ri, system, proposed,...</td>\n",
       "      <td>[['reconfigurable', 'intelligent', 'surface', ...</td>\n",
       "    </tr>\n",
       "    <tr>\n",
       "      <th>3</th>\n",
       "      <td>2</td>\n",
       "      <td>1874</td>\n",
       "      <td>2_image_segmentation_model_medical</td>\n",
       "      <td>[image, segmentation, model, medical, method, ...</td>\n",
       "      <td>[['medical', 'image', 'analysis', 'hot', 'rese...</td>\n",
       "    </tr>\n",
       "    <tr>\n",
       "      <th>4</th>\n",
       "      <td>3</td>\n",
       "      <td>1145</td>\n",
       "      <td>3_power_energy_system_grid</td>\n",
       "      <td>[power, energy, system, grid, model, load, vol...</td>\n",
       "      <td>[['paper', 'multi', 'stage', 'model', 'expansi...</td>\n",
       "    </tr>\n",
       "    <tr>\n",
       "      <th>5</th>\n",
       "      <td>4</td>\n",
       "      <td>552</td>\n",
       "      <td>4_vehicle_traffic_control_driving</td>\n",
       "      <td>[vehicle, traffic, control, driving, autonomou...</td>\n",
       "      <td>[['connected', 'autonomous', 'vehicle', 'cavs'...</td>\n",
       "    </tr>\n",
       "    <tr>\n",
       "      <th>6</th>\n",
       "      <td>5</td>\n",
       "      <td>534</td>\n",
       "      <td>5_robot_control_system_motion</td>\n",
       "      <td>[robot, control, system, motion, robotic, base...</td>\n",
       "      <td>[['enable', 'safe', 'effective', 'human', 'rob...</td>\n",
       "    </tr>\n",
       "    <tr>\n",
       "      <th>7</th>\n",
       "      <td>6</td>\n",
       "      <td>401</td>\n",
       "      <td>6_sar_data_image_model</td>\n",
       "      <td>[sar, data, image, model, method, learning, ba...</td>\n",
       "      <td>[['paper', 'introduce', 'innovative', 'super',...</td>\n",
       "    </tr>\n",
       "    <tr>\n",
       "      <th>8</th>\n",
       "      <td>7</td>\n",
       "      <td>430</td>\n",
       "      <td>7_music_audio_model_generation</td>\n",
       "      <td>[music, audio, model, generation, musical, tas...</td>\n",
       "      <td>[['task', 'music', 'driven', 'dance', 'generat...</td>\n",
       "    </tr>\n",
       "    <tr>\n",
       "      <th>9</th>\n",
       "      <td>8</td>\n",
       "      <td>295</td>\n",
       "      <td>8_uav_uavs_aerial_unmanned</td>\n",
       "      <td>[uav, uavs, aerial, unmanned, aerial vehicle, ...</td>\n",
       "      <td>[['due', 'high', 'mobility', 'easy', 'deployme...</td>\n",
       "    </tr>\n",
       "    <tr>\n",
       "      <th>10</th>\n",
       "      <td>9</td>\n",
       "      <td>421</td>\n",
       "      <td>9_video_compression_quality_image</td>\n",
       "      <td>[video, compression, quality, image, coding, m...</td>\n",
       "      <td>[['recent', 'year', 'proliferation', 'multimed...</td>\n",
       "    </tr>\n",
       "    <tr>\n",
       "      <th>11</th>\n",
       "      <td>10</td>\n",
       "      <td>235</td>\n",
       "      <td>10_ecg_cardiac_heart_signal</td>\n",
       "      <td>[ecg, cardiac, heart, signal, ppg, model, meth...</td>\n",
       "      <td>[['recent', 'year', 'variety', 'deep', 'learni...</td>\n",
       "    </tr>\n",
       "    <tr>\n",
       "      <th>12</th>\n",
       "      <td>11</td>\n",
       "      <td>373</td>\n",
       "      <td>11_eeg_signal_feature_model</td>\n",
       "      <td>[eeg, signal, feature, model, brain, data, cla...</td>\n",
       "      <td>[['recent', 'success', 'artificial', 'intellig...</td>\n",
       "    </tr>\n",
       "    <tr>\n",
       "      <th>13</th>\n",
       "      <td>12</td>\n",
       "      <td>377</td>\n",
       "      <td>12_mri_reconstruction_image_method</td>\n",
       "      <td>[mri, reconstruction, image, method, imaging, ...</td>\n",
       "      <td>[['despite', 'exceptional', 'soft', 'tissue', ...</td>\n",
       "    </tr>\n",
       "    <tr>\n",
       "      <th>14</th>\n",
       "      <td>13</td>\n",
       "      <td>252</td>\n",
       "      <td>13_sensor_data_human_activity</td>\n",
       "      <td>[sensor, data, human, activity, wearable, mode...</td>\n",
       "      <td>[['statistical', 'model', 'surface', 'electrom...</td>\n",
       "    </tr>\n",
       "    <tr>\n",
       "      <th>15</th>\n",
       "      <td>14</td>\n",
       "      <td>267</td>\n",
       "      <td>14_imaging_image_reconstruction_microscopy</td>\n",
       "      <td>[imaging, image, reconstruction, microscopy, m...</td>\n",
       "      <td>[['computational', 'imaging', 'method', 'empow...</td>\n",
       "    </tr>\n",
       "    <tr>\n",
       "      <th>16</th>\n",
       "      <td>15</td>\n",
       "      <td>173</td>\n",
       "      <td>15_image_segmentation_vessel_oct</td>\n",
       "      <td>[image, segmentation, vessel, oct, retinal, ar...</td>\n",
       "      <td>[['automatic', 'blood', 'vessel', 'segmentatio...</td>\n",
       "    </tr>\n",
       "    <tr>\n",
       "      <th>17</th>\n",
       "      <td>16</td>\n",
       "      <td>208</td>\n",
       "      <td>16_spectral_image_hyperspectral_hsi</td>\n",
       "      <td>[spectral, image, hyperspectral, hsi, resoluti...</td>\n",
       "      <td>[['fusion', 'based', 'hyperspectral', 'image',...</td>\n",
       "    </tr>\n",
       "    <tr>\n",
       "      <th>18</th>\n",
       "      <td>17</td>\n",
       "      <td>99</td>\n",
       "      <td>17_underwater_water_method_model</td>\n",
       "      <td>[underwater, water, method, model, navigation,...</td>\n",
       "      <td>[['performance', 'navigation', 'algorithm', 's...</td>\n",
       "    </tr>\n",
       "    <tr>\n",
       "      <th>19</th>\n",
       "      <td>18</td>\n",
       "      <td>122</td>\n",
       "      <td>18_satellite_leo_network_terrestrial</td>\n",
       "      <td>[satellite, leo, network, terrestrial, orbit, ...</td>\n",
       "      <td>[['low', 'earth', 'orbit', 'leo', 'satellite',...</td>\n",
       "    </tr>\n",
       "    <tr>\n",
       "      <th>20</th>\n",
       "      <td>19</td>\n",
       "      <td>151</td>\n",
       "      <td>19_control_controller_trajectory_tracking</td>\n",
       "      <td>[control, controller, trajectory, tracking, dy...</td>\n",
       "      <td>[['simultaneously', 'accurate', 'reliable', 't...</td>\n",
       "    </tr>\n",
       "    <tr>\n",
       "      <th>21</th>\n",
       "      <td>20</td>\n",
       "      <td>243</td>\n",
       "      <td>20_image_model_diffusion_generative</td>\n",
       "      <td>[image, model, diffusion, generative, gan, adv...</td>\n",
       "      <td>[['generative', 'adversarial', 'network', 'gan...</td>\n",
       "    </tr>\n",
       "  </tbody>\n",
       "</table>\n",
       "</div>"
      ],
      "text/plain": [
       "    Topic  Count                                        Name  \\\n",
       "0      -1      1           -1_redacted arxiv_redacted_arxiv_   \n",
       "1       0   5912                0_model_speech_system_method   \n",
       "2       1   3050           1_channel_communication_ri_system   \n",
       "3       2   1874          2_image_segmentation_model_medical   \n",
       "4       3   1145                  3_power_energy_system_grid   \n",
       "5       4    552           4_vehicle_traffic_control_driving   \n",
       "6       5    534               5_robot_control_system_motion   \n",
       "7       6    401                      6_sar_data_image_model   \n",
       "8       7    430              7_music_audio_model_generation   \n",
       "9       8    295                  8_uav_uavs_aerial_unmanned   \n",
       "10      9    421           9_video_compression_quality_image   \n",
       "11     10    235                 10_ecg_cardiac_heart_signal   \n",
       "12     11    373                 11_eeg_signal_feature_model   \n",
       "13     12    377          12_mri_reconstruction_image_method   \n",
       "14     13    252               13_sensor_data_human_activity   \n",
       "15     14    267  14_imaging_image_reconstruction_microscopy   \n",
       "16     15    173            15_image_segmentation_vessel_oct   \n",
       "17     16    208         16_spectral_image_hyperspectral_hsi   \n",
       "18     17     99            17_underwater_water_method_model   \n",
       "19     18    122        18_satellite_leo_network_terrestrial   \n",
       "20     19    151   19_control_controller_trajectory_tracking   \n",
       "21     20    243         20_image_model_diffusion_generative   \n",
       "\n",
       "                                       Representation  \\\n",
       "0     [redacted arxiv, redacted, arxiv, , , , , , , ]   \n",
       "1   [model, speech, system, method, based, data, a...   \n",
       "2   [channel, communication, ri, system, proposed,...   \n",
       "3   [image, segmentation, model, medical, method, ...   \n",
       "4   [power, energy, system, grid, model, load, vol...   \n",
       "5   [vehicle, traffic, control, driving, autonomou...   \n",
       "6   [robot, control, system, motion, robotic, base...   \n",
       "7   [sar, data, image, model, method, learning, ba...   \n",
       "8   [music, audio, model, generation, musical, tas...   \n",
       "9   [uav, uavs, aerial, unmanned, aerial vehicle, ...   \n",
       "10  [video, compression, quality, image, coding, m...   \n",
       "11  [ecg, cardiac, heart, signal, ppg, model, meth...   \n",
       "12  [eeg, signal, feature, model, brain, data, cla...   \n",
       "13  [mri, reconstruction, image, method, imaging, ...   \n",
       "14  [sensor, data, human, activity, wearable, mode...   \n",
       "15  [imaging, image, reconstruction, microscopy, m...   \n",
       "16  [image, segmentation, vessel, oct, retinal, ar...   \n",
       "17  [spectral, image, hyperspectral, hsi, resoluti...   \n",
       "18  [underwater, water, method, model, navigation,...   \n",
       "19  [satellite, leo, network, terrestrial, orbit, ...   \n",
       "20  [control, controller, trajectory, tracking, dy...   \n",
       "21  [image, model, diffusion, generative, gan, adv...   \n",
       "\n",
       "                                  Representative_Docs  \n",
       "0   [['advancement', 'imaging', 'device', 'countle...  \n",
       "1   [['recently', 'conformer', 'backbone', 'networ...  \n",
       "2   [['reconfigurable', 'intelligent', 'surface', ...  \n",
       "3   [['medical', 'image', 'analysis', 'hot', 'rese...  \n",
       "4   [['paper', 'multi', 'stage', 'model', 'expansi...  \n",
       "5   [['connected', 'autonomous', 'vehicle', 'cavs'...  \n",
       "6   [['enable', 'safe', 'effective', 'human', 'rob...  \n",
       "7   [['paper', 'introduce', 'innovative', 'super',...  \n",
       "8   [['task', 'music', 'driven', 'dance', 'generat...  \n",
       "9   [['due', 'high', 'mobility', 'easy', 'deployme...  \n",
       "10  [['recent', 'year', 'proliferation', 'multimed...  \n",
       "11  [['recent', 'year', 'variety', 'deep', 'learni...  \n",
       "12  [['recent', 'success', 'artificial', 'intellig...  \n",
       "13  [['despite', 'exceptional', 'soft', 'tissue', ...  \n",
       "14  [['statistical', 'model', 'surface', 'electrom...  \n",
       "15  [['computational', 'imaging', 'method', 'empow...  \n",
       "16  [['automatic', 'blood', 'vessel', 'segmentatio...  \n",
       "17  [['fusion', 'based', 'hyperspectral', 'image',...  \n",
       "18  [['performance', 'navigation', 'algorithm', 's...  \n",
       "19  [['low', 'earth', 'orbit', 'leo', 'satellite',...  \n",
       "20  [['simultaneously', 'accurate', 'reliable', 't...  \n",
       "21  [['generative', 'adversarial', 'network', 'gan...  "
      ]
     },
     "execution_count": 12,
     "metadata": {},
     "output_type": "execute_result"
    }
   ],
   "source": [
    "new_topics = topic_model.reduce_outliers(abstracts, topics, strategy=\"c-tf-idf\")\n",
    "topic_model.update_topics(abstracts, topics=new_topics)\n",
    "topic_model.get_topic_info()"
   ]
  },
  {
   "cell_type": "code",
   "execution_count": 8,
   "metadata": {},
   "outputs": [],
   "source": [
    "def calculate_coherence_score(model, abstracts, topics):\n",
    "    documents = pd.DataFrame({\"Abstracts\": abstracts, \"ID\": range(len(abstracts)), \"Topic\": topics})\n",
    "    documents_per_topic = documents.groupby(['Topic'], as_index=False).agg({'Abstracts': ' '.join})\n",
    "\n",
    "    analyzer = model.vectorizer_model.build_analyzer()\n",
    "    tokens = [analyzer(doc) for doc in documents_per_topic.Abstracts]\n",
    "\n",
    "    dictionary = Dictionary(tokens)\n",
    "    corpus = [dictionary.doc2bow(token) for token in tokens]\n",
    "\n",
    "    topic_words = [[word for word, _ in model.get_topic(topic)] for topic in range(len(set(topics))-1)]\n",
    "\n",
    "    coherence_model = CoherenceModel(topics=topic_words, texts=tokens, corpus=corpus, dictionary=dictionary, coherence='c_v')\n",
    "    coherence = coherence_model.get_coherence()\n",
    "    \n",
    "    return coherence"
   ]
  },
  {
   "cell_type": "code",
   "execution_count": 24,
   "metadata": {},
   "outputs": [
    {
     "name": "stdout",
     "output_type": "stream",
     "text": [
      "0.7442859942431529\n"
     ]
    }
   ],
   "source": [
    "coherence = calculate_coherence_score(topic_model, abstracts, new_topics)\n",
    "print(coherence)"
   ]
  },
  {
   "cell_type": "code",
   "execution_count": null,
   "metadata": {},
   "outputs": [
    {
     "name": "stderr",
     "output_type": "stream",
     "text": [
      "x:\\Kuliah\\Semester 8\\Sandbox\\myenv2\\lib\\site-packages\\tqdm\\auto.py:21: TqdmWarning: IProgress not found. Please update jupyter and ipywidgets. See https://ipywidgets.readthedocs.io/en/stable/user_install.html\n",
      "  from .autonotebook import tqdm as notebook_tqdm\n"
     ]
    }
   ],
   "source": [
    "with open('eess_topics_over_time.pkl', 'rb') as f:\n",
    "    topics_over_time = pickle.load(f)\n",
    "\n",
    "topics_over_time_df = pd.DataFrame(topics_over_time, columns=[\"Topic\", \"Timestamp\", \"Frequency\"])\n",
    "\n",
    "# Convert the 'Timestamp' column to a datetime object for easier grouping\n",
    "topics_over_time_df['Timestamp'] = pd.to_datetime(topics_over_time_df['Timestamp'])\n",
    "\n",
    "# Group by month and topic, summing only the 'Frequency' column\n",
    "monthly_data = topics_over_time_df.groupby([topics_over_time_df['Timestamp'].dt.to_period('M'), 'Topic'])['Frequency'].sum().reset_index()"
   ]
  },
  {
   "cell_type": "code",
   "execution_count": 2,
   "metadata": {},
   "outputs": [
    {
     "data": {
      "application/vnd.plotly.v1+json": {
       "config": {
        "plotlyServerURL": "https://plot.ly"
       },
       "data": [
        {
         "customdata": [
          [
           0,
           "model | speech | system | method | based",
           5912
          ],
          [
           1,
           "channel | communication | ri | system | proposed",
           3050
          ],
          [
           2,
           "image | segmentation | model | medical | method",
           1874
          ],
          [
           3,
           "power | energy | system | grid | model",
           1145
          ],
          [
           4,
           "vehicle | traffic | control | driving | autonomous",
           552
          ],
          [
           5,
           "robot | control | system | motion | robotic",
           534
          ],
          [
           6,
           "sar | data | image | model | method",
           401
          ],
          [
           7,
           "music | audio | model | generation | musical",
           430
          ],
          [
           8,
           "uav | uavs | aerial | unmanned | aerial vehicle",
           295
          ],
          [
           9,
           "video | compression | quality | image | coding",
           421
          ],
          [
           10,
           "ecg | cardiac | heart | signal | ppg",
           235
          ],
          [
           11,
           "eeg | signal | feature | model | brain",
           373
          ],
          [
           12,
           "mri | reconstruction | image | method | imaging",
           377
          ],
          [
           13,
           "sensor | data | human | activity | wearable",
           252
          ],
          [
           14,
           "imaging | image | reconstruction | microscopy | method",
           267
          ],
          [
           15,
           "image | segmentation | vessel | oct | retinal",
           173
          ],
          [
           16,
           "spectral | image | hyperspectral | hsi | resolution",
           208
          ],
          [
           17,
           "underwater | water | method | model | navigation",
           99
          ],
          [
           18,
           "satellite | leo | network | terrestrial | orbit",
           122
          ],
          [
           19,
           "control | controller | trajectory | tracking | dynamic",
           151
          ],
          [
           20,
           "image | model | diffusion | generative | gan",
           243
          ]
         ],
         "hovertemplate": "<b>Topic %{customdata[0]}</b><br>%{customdata[1]}<br>Size: %{customdata[2]}",
         "legendgroup": "",
         "marker": {
          "color": "#B0BEC5",
          "line": {
           "color": "DarkSlateGrey",
           "width": 2
          },
          "size": [
           5912,
           3050,
           1874,
           1145,
           552,
           534,
           401,
           430,
           295,
           421,
           235,
           373,
           377,
           252,
           267,
           173,
           208,
           99,
           122,
           151,
           243
          ],
          "sizemode": "area",
          "sizeref": 3.695,
          "symbol": "circle"
         },
         "mode": "markers",
         "name": "",
         "orientation": "v",
         "showlegend": false,
         "type": "scatter",
         "x": [
          8.93911361694336,
          8.55817699432373,
          8.643592834472656,
          8.321810722351074,
          -7.526954650878906,
          -7.722633361816406,
          9.36918830871582,
          8.80282211303711,
          -8.182625770568848,
          8.950590133666992,
          -0.16111059486865997,
          -0.055565204471349716,
          2.2335989475250244,
          9.35057258605957,
          2.525116205215454,
          8.881648063659668,
          2.740777015686035,
          8.841047286987305,
          8.613165855407715,
          -7.983810901641846,
          8.394842147827148
         ],
         "xaxis": "x",
         "y": [
          3.295074939727783,
          3.8001646995544434,
          0.8635958433151245,
          3.225041627883911,
          12.04991340637207,
          11.854162216186523,
          1.866784930229187,
          3.1109392642974854,
          11.377073287963867,
          1.9900195598602295,
          9.51579761505127,
          9.58956241607666,
          -5.347273349761963,
          2.0981411933898926,
          -5.055840969085693,
          1.1659817695617676,
          -4.840077877044678,
          0.7388994097709656,
          4.125801086425781,
          11.57858657836914,
          0.9609599113464355
         ],
         "yaxis": "y"
        }
       ],
       "layout": {
        "annotations": [
         {
          "showarrow": false,
          "text": "D1",
          "x": -9.410019636154175,
          "y": 3.8540180325508118,
          "yshift": 10
         },
         {
          "showarrow": false,
          "text": "D2",
          "x": 0.6822734594345095,
          "xshift": 10,
          "y": 13.85740041732788
         }
        ],
        "height": 650,
        "hoverlabel": {
         "bgcolor": "white",
         "font": {
          "family": "Rockwell",
          "size": 16
         }
        },
        "legend": {
         "itemsizing": "constant",
         "tracegroupgap": 0
        },
        "margin": {
         "t": 60
        },
        "shapes": [
         {
          "line": {
           "color": "#CFD8DC",
           "width": 2
          },
          "type": "line",
          "x0": 0.6822734594345095,
          "x1": 0.6822734594345095,
          "y0": -6.149364352226257,
          "y1": 13.85740041732788
         },
         {
          "line": {
           "color": "#9E9E9E",
           "width": 2
          },
          "type": "line",
          "x0": -9.410019636154175,
          "x1": 10.774566555023194,
          "y0": 3.8540180325508118,
          "y1": 3.8540180325508118
         }
        ],
        "sliders": [
         {
          "active": 0,
          "pad": {
           "t": 50
          },
          "steps": [
           {
            "args": [
             {
              "marker.color": [
               [
                "red",
                "#B0BEC5",
                "#B0BEC5",
                "#B0BEC5",
                "#B0BEC5",
                "#B0BEC5",
                "#B0BEC5",
                "#B0BEC5",
                "#B0BEC5",
                "#B0BEC5",
                "#B0BEC5",
                "#B0BEC5",
                "#B0BEC5",
                "#B0BEC5",
                "#B0BEC5",
                "#B0BEC5",
                "#B0BEC5",
                "#B0BEC5",
                "#B0BEC5",
                "#B0BEC5",
                "#B0BEC5"
               ]
              ]
             }
            ],
            "label": "Topic 0",
            "method": "update"
           },
           {
            "args": [
             {
              "marker.color": [
               [
                "#B0BEC5",
                "red",
                "#B0BEC5",
                "#B0BEC5",
                "#B0BEC5",
                "#B0BEC5",
                "#B0BEC5",
                "#B0BEC5",
                "#B0BEC5",
                "#B0BEC5",
                "#B0BEC5",
                "#B0BEC5",
                "#B0BEC5",
                "#B0BEC5",
                "#B0BEC5",
                "#B0BEC5",
                "#B0BEC5",
                "#B0BEC5",
                "#B0BEC5",
                "#B0BEC5",
                "#B0BEC5"
               ]
              ]
             }
            ],
            "label": "Topic 1",
            "method": "update"
           },
           {
            "args": [
             {
              "marker.color": [
               [
                "#B0BEC5",
                "#B0BEC5",
                "red",
                "#B0BEC5",
                "#B0BEC5",
                "#B0BEC5",
                "#B0BEC5",
                "#B0BEC5",
                "#B0BEC5",
                "#B0BEC5",
                "#B0BEC5",
                "#B0BEC5",
                "#B0BEC5",
                "#B0BEC5",
                "#B0BEC5",
                "#B0BEC5",
                "#B0BEC5",
                "#B0BEC5",
                "#B0BEC5",
                "#B0BEC5",
                "#B0BEC5"
               ]
              ]
             }
            ],
            "label": "Topic 2",
            "method": "update"
           },
           {
            "args": [
             {
              "marker.color": [
               [
                "#B0BEC5",
                "#B0BEC5",
                "#B0BEC5",
                "red",
                "#B0BEC5",
                "#B0BEC5",
                "#B0BEC5",
                "#B0BEC5",
                "#B0BEC5",
                "#B0BEC5",
                "#B0BEC5",
                "#B0BEC5",
                "#B0BEC5",
                "#B0BEC5",
                "#B0BEC5",
                "#B0BEC5",
                "#B0BEC5",
                "#B0BEC5",
                "#B0BEC5",
                "#B0BEC5",
                "#B0BEC5"
               ]
              ]
             }
            ],
            "label": "Topic 3",
            "method": "update"
           },
           {
            "args": [
             {
              "marker.color": [
               [
                "#B0BEC5",
                "#B0BEC5",
                "#B0BEC5",
                "#B0BEC5",
                "red",
                "#B0BEC5",
                "#B0BEC5",
                "#B0BEC5",
                "#B0BEC5",
                "#B0BEC5",
                "#B0BEC5",
                "#B0BEC5",
                "#B0BEC5",
                "#B0BEC5",
                "#B0BEC5",
                "#B0BEC5",
                "#B0BEC5",
                "#B0BEC5",
                "#B0BEC5",
                "#B0BEC5",
                "#B0BEC5"
               ]
              ]
             }
            ],
            "label": "Topic 4",
            "method": "update"
           },
           {
            "args": [
             {
              "marker.color": [
               [
                "#B0BEC5",
                "#B0BEC5",
                "#B0BEC5",
                "#B0BEC5",
                "#B0BEC5",
                "red",
                "#B0BEC5",
                "#B0BEC5",
                "#B0BEC5",
                "#B0BEC5",
                "#B0BEC5",
                "#B0BEC5",
                "#B0BEC5",
                "#B0BEC5",
                "#B0BEC5",
                "#B0BEC5",
                "#B0BEC5",
                "#B0BEC5",
                "#B0BEC5",
                "#B0BEC5",
                "#B0BEC5"
               ]
              ]
             }
            ],
            "label": "Topic 5",
            "method": "update"
           },
           {
            "args": [
             {
              "marker.color": [
               [
                "#B0BEC5",
                "#B0BEC5",
                "#B0BEC5",
                "#B0BEC5",
                "#B0BEC5",
                "#B0BEC5",
                "red",
                "#B0BEC5",
                "#B0BEC5",
                "#B0BEC5",
                "#B0BEC5",
                "#B0BEC5",
                "#B0BEC5",
                "#B0BEC5",
                "#B0BEC5",
                "#B0BEC5",
                "#B0BEC5",
                "#B0BEC5",
                "#B0BEC5",
                "#B0BEC5",
                "#B0BEC5"
               ]
              ]
             }
            ],
            "label": "Topic 6",
            "method": "update"
           },
           {
            "args": [
             {
              "marker.color": [
               [
                "#B0BEC5",
                "#B0BEC5",
                "#B0BEC5",
                "#B0BEC5",
                "#B0BEC5",
                "#B0BEC5",
                "#B0BEC5",
                "red",
                "#B0BEC5",
                "#B0BEC5",
                "#B0BEC5",
                "#B0BEC5",
                "#B0BEC5",
                "#B0BEC5",
                "#B0BEC5",
                "#B0BEC5",
                "#B0BEC5",
                "#B0BEC5",
                "#B0BEC5",
                "#B0BEC5",
                "#B0BEC5"
               ]
              ]
             }
            ],
            "label": "Topic 7",
            "method": "update"
           },
           {
            "args": [
             {
              "marker.color": [
               [
                "#B0BEC5",
                "#B0BEC5",
                "#B0BEC5",
                "#B0BEC5",
                "#B0BEC5",
                "#B0BEC5",
                "#B0BEC5",
                "#B0BEC5",
                "red",
                "#B0BEC5",
                "#B0BEC5",
                "#B0BEC5",
                "#B0BEC5",
                "#B0BEC5",
                "#B0BEC5",
                "#B0BEC5",
                "#B0BEC5",
                "#B0BEC5",
                "#B0BEC5",
                "#B0BEC5",
                "#B0BEC5"
               ]
              ]
             }
            ],
            "label": "Topic 8",
            "method": "update"
           },
           {
            "args": [
             {
              "marker.color": [
               [
                "#B0BEC5",
                "#B0BEC5",
                "#B0BEC5",
                "#B0BEC5",
                "#B0BEC5",
                "#B0BEC5",
                "#B0BEC5",
                "#B0BEC5",
                "#B0BEC5",
                "red",
                "#B0BEC5",
                "#B0BEC5",
                "#B0BEC5",
                "#B0BEC5",
                "#B0BEC5",
                "#B0BEC5",
                "#B0BEC5",
                "#B0BEC5",
                "#B0BEC5",
                "#B0BEC5",
                "#B0BEC5"
               ]
              ]
             }
            ],
            "label": "Topic 9",
            "method": "update"
           },
           {
            "args": [
             {
              "marker.color": [
               [
                "#B0BEC5",
                "#B0BEC5",
                "#B0BEC5",
                "#B0BEC5",
                "#B0BEC5",
                "#B0BEC5",
                "#B0BEC5",
                "#B0BEC5",
                "#B0BEC5",
                "#B0BEC5",
                "red",
                "#B0BEC5",
                "#B0BEC5",
                "#B0BEC5",
                "#B0BEC5",
                "#B0BEC5",
                "#B0BEC5",
                "#B0BEC5",
                "#B0BEC5",
                "#B0BEC5",
                "#B0BEC5"
               ]
              ]
             }
            ],
            "label": "Topic 10",
            "method": "update"
           },
           {
            "args": [
             {
              "marker.color": [
               [
                "#B0BEC5",
                "#B0BEC5",
                "#B0BEC5",
                "#B0BEC5",
                "#B0BEC5",
                "#B0BEC5",
                "#B0BEC5",
                "#B0BEC5",
                "#B0BEC5",
                "#B0BEC5",
                "#B0BEC5",
                "red",
                "#B0BEC5",
                "#B0BEC5",
                "#B0BEC5",
                "#B0BEC5",
                "#B0BEC5",
                "#B0BEC5",
                "#B0BEC5",
                "#B0BEC5",
                "#B0BEC5"
               ]
              ]
             }
            ],
            "label": "Topic 11",
            "method": "update"
           },
           {
            "args": [
             {
              "marker.color": [
               [
                "#B0BEC5",
                "#B0BEC5",
                "#B0BEC5",
                "#B0BEC5",
                "#B0BEC5",
                "#B0BEC5",
                "#B0BEC5",
                "#B0BEC5",
                "#B0BEC5",
                "#B0BEC5",
                "#B0BEC5",
                "#B0BEC5",
                "red",
                "#B0BEC5",
                "#B0BEC5",
                "#B0BEC5",
                "#B0BEC5",
                "#B0BEC5",
                "#B0BEC5",
                "#B0BEC5",
                "#B0BEC5"
               ]
              ]
             }
            ],
            "label": "Topic 12",
            "method": "update"
           },
           {
            "args": [
             {
              "marker.color": [
               [
                "#B0BEC5",
                "#B0BEC5",
                "#B0BEC5",
                "#B0BEC5",
                "#B0BEC5",
                "#B0BEC5",
                "#B0BEC5",
                "#B0BEC5",
                "#B0BEC5",
                "#B0BEC5",
                "#B0BEC5",
                "#B0BEC5",
                "#B0BEC5",
                "red",
                "#B0BEC5",
                "#B0BEC5",
                "#B0BEC5",
                "#B0BEC5",
                "#B0BEC5",
                "#B0BEC5",
                "#B0BEC5"
               ]
              ]
             }
            ],
            "label": "Topic 13",
            "method": "update"
           },
           {
            "args": [
             {
              "marker.color": [
               [
                "#B0BEC5",
                "#B0BEC5",
                "#B0BEC5",
                "#B0BEC5",
                "#B0BEC5",
                "#B0BEC5",
                "#B0BEC5",
                "#B0BEC5",
                "#B0BEC5",
                "#B0BEC5",
                "#B0BEC5",
                "#B0BEC5",
                "#B0BEC5",
                "#B0BEC5",
                "red",
                "#B0BEC5",
                "#B0BEC5",
                "#B0BEC5",
                "#B0BEC5",
                "#B0BEC5",
                "#B0BEC5"
               ]
              ]
             }
            ],
            "label": "Topic 14",
            "method": "update"
           },
           {
            "args": [
             {
              "marker.color": [
               [
                "#B0BEC5",
                "#B0BEC5",
                "#B0BEC5",
                "#B0BEC5",
                "#B0BEC5",
                "#B0BEC5",
                "#B0BEC5",
                "#B0BEC5",
                "#B0BEC5",
                "#B0BEC5",
                "#B0BEC5",
                "#B0BEC5",
                "#B0BEC5",
                "#B0BEC5",
                "#B0BEC5",
                "red",
                "#B0BEC5",
                "#B0BEC5",
                "#B0BEC5",
                "#B0BEC5",
                "#B0BEC5"
               ]
              ]
             }
            ],
            "label": "Topic 15",
            "method": "update"
           },
           {
            "args": [
             {
              "marker.color": [
               [
                "#B0BEC5",
                "#B0BEC5",
                "#B0BEC5",
                "#B0BEC5",
                "#B0BEC5",
                "#B0BEC5",
                "#B0BEC5",
                "#B0BEC5",
                "#B0BEC5",
                "#B0BEC5",
                "#B0BEC5",
                "#B0BEC5",
                "#B0BEC5",
                "#B0BEC5",
                "#B0BEC5",
                "#B0BEC5",
                "red",
                "#B0BEC5",
                "#B0BEC5",
                "#B0BEC5",
                "#B0BEC5"
               ]
              ]
             }
            ],
            "label": "Topic 16",
            "method": "update"
           },
           {
            "args": [
             {
              "marker.color": [
               [
                "#B0BEC5",
                "#B0BEC5",
                "#B0BEC5",
                "#B0BEC5",
                "#B0BEC5",
                "#B0BEC5",
                "#B0BEC5",
                "#B0BEC5",
                "#B0BEC5",
                "#B0BEC5",
                "#B0BEC5",
                "#B0BEC5",
                "#B0BEC5",
                "#B0BEC5",
                "#B0BEC5",
                "#B0BEC5",
                "#B0BEC5",
                "red",
                "#B0BEC5",
                "#B0BEC5",
                "#B0BEC5"
               ]
              ]
             }
            ],
            "label": "Topic 17",
            "method": "update"
           },
           {
            "args": [
             {
              "marker.color": [
               [
                "#B0BEC5",
                "#B0BEC5",
                "#B0BEC5",
                "#B0BEC5",
                "#B0BEC5",
                "#B0BEC5",
                "#B0BEC5",
                "#B0BEC5",
                "#B0BEC5",
                "#B0BEC5",
                "#B0BEC5",
                "#B0BEC5",
                "#B0BEC5",
                "#B0BEC5",
                "#B0BEC5",
                "#B0BEC5",
                "#B0BEC5",
                "#B0BEC5",
                "red",
                "#B0BEC5",
                "#B0BEC5"
               ]
              ]
             }
            ],
            "label": "Topic 18",
            "method": "update"
           },
           {
            "args": [
             {
              "marker.color": [
               [
                "#B0BEC5",
                "#B0BEC5",
                "#B0BEC5",
                "#B0BEC5",
                "#B0BEC5",
                "#B0BEC5",
                "#B0BEC5",
                "#B0BEC5",
                "#B0BEC5",
                "#B0BEC5",
                "#B0BEC5",
                "#B0BEC5",
                "#B0BEC5",
                "#B0BEC5",
                "#B0BEC5",
                "#B0BEC5",
                "#B0BEC5",
                "#B0BEC5",
                "#B0BEC5",
                "red",
                "#B0BEC5"
               ]
              ]
             }
            ],
            "label": "Topic 19",
            "method": "update"
           },
           {
            "args": [
             {
              "marker.color": [
               [
                "#B0BEC5",
                "#B0BEC5",
                "#B0BEC5",
                "#B0BEC5",
                "#B0BEC5",
                "#B0BEC5",
                "#B0BEC5",
                "#B0BEC5",
                "#B0BEC5",
                "#B0BEC5",
                "#B0BEC5",
                "#B0BEC5",
                "#B0BEC5",
                "#B0BEC5",
                "#B0BEC5",
                "#B0BEC5",
                "#B0BEC5",
                "#B0BEC5",
                "#B0BEC5",
                "#B0BEC5",
                "red"
               ]
              ]
             }
            ],
            "label": "Topic 20",
            "method": "update"
           }
          ]
         }
        ],
        "template": {
         "data": {
          "bar": [
           {
            "error_x": {
             "color": "rgb(36,36,36)"
            },
            "error_y": {
             "color": "rgb(36,36,36)"
            },
            "marker": {
             "line": {
              "color": "white",
              "width": 0.5
             },
             "pattern": {
              "fillmode": "overlay",
              "size": 10,
              "solidity": 0.2
             }
            },
            "type": "bar"
           }
          ],
          "barpolar": [
           {
            "marker": {
             "line": {
              "color": "white",
              "width": 0.5
             },
             "pattern": {
              "fillmode": "overlay",
              "size": 10,
              "solidity": 0.2
             }
            },
            "type": "barpolar"
           }
          ],
          "carpet": [
           {
            "aaxis": {
             "endlinecolor": "rgb(36,36,36)",
             "gridcolor": "white",
             "linecolor": "white",
             "minorgridcolor": "white",
             "startlinecolor": "rgb(36,36,36)"
            },
            "baxis": {
             "endlinecolor": "rgb(36,36,36)",
             "gridcolor": "white",
             "linecolor": "white",
             "minorgridcolor": "white",
             "startlinecolor": "rgb(36,36,36)"
            },
            "type": "carpet"
           }
          ],
          "choropleth": [
           {
            "colorbar": {
             "outlinewidth": 1,
             "tickcolor": "rgb(36,36,36)",
             "ticks": "outside"
            },
            "type": "choropleth"
           }
          ],
          "contour": [
           {
            "colorbar": {
             "outlinewidth": 1,
             "tickcolor": "rgb(36,36,36)",
             "ticks": "outside"
            },
            "colorscale": [
             [
              0,
              "#440154"
             ],
             [
              0.1111111111111111,
              "#482878"
             ],
             [
              0.2222222222222222,
              "#3e4989"
             ],
             [
              0.3333333333333333,
              "#31688e"
             ],
             [
              0.4444444444444444,
              "#26828e"
             ],
             [
              0.5555555555555556,
              "#1f9e89"
             ],
             [
              0.6666666666666666,
              "#35b779"
             ],
             [
              0.7777777777777778,
              "#6ece58"
             ],
             [
              0.8888888888888888,
              "#b5de2b"
             ],
             [
              1,
              "#fde725"
             ]
            ],
            "type": "contour"
           }
          ],
          "contourcarpet": [
           {
            "colorbar": {
             "outlinewidth": 1,
             "tickcolor": "rgb(36,36,36)",
             "ticks": "outside"
            },
            "type": "contourcarpet"
           }
          ],
          "heatmap": [
           {
            "colorbar": {
             "outlinewidth": 1,
             "tickcolor": "rgb(36,36,36)",
             "ticks": "outside"
            },
            "colorscale": [
             [
              0,
              "#440154"
             ],
             [
              0.1111111111111111,
              "#482878"
             ],
             [
              0.2222222222222222,
              "#3e4989"
             ],
             [
              0.3333333333333333,
              "#31688e"
             ],
             [
              0.4444444444444444,
              "#26828e"
             ],
             [
              0.5555555555555556,
              "#1f9e89"
             ],
             [
              0.6666666666666666,
              "#35b779"
             ],
             [
              0.7777777777777778,
              "#6ece58"
             ],
             [
              0.8888888888888888,
              "#b5de2b"
             ],
             [
              1,
              "#fde725"
             ]
            ],
            "type": "heatmap"
           }
          ],
          "heatmapgl": [
           {
            "colorbar": {
             "outlinewidth": 1,
             "tickcolor": "rgb(36,36,36)",
             "ticks": "outside"
            },
            "colorscale": [
             [
              0,
              "#440154"
             ],
             [
              0.1111111111111111,
              "#482878"
             ],
             [
              0.2222222222222222,
              "#3e4989"
             ],
             [
              0.3333333333333333,
              "#31688e"
             ],
             [
              0.4444444444444444,
              "#26828e"
             ],
             [
              0.5555555555555556,
              "#1f9e89"
             ],
             [
              0.6666666666666666,
              "#35b779"
             ],
             [
              0.7777777777777778,
              "#6ece58"
             ],
             [
              0.8888888888888888,
              "#b5de2b"
             ],
             [
              1,
              "#fde725"
             ]
            ],
            "type": "heatmapgl"
           }
          ],
          "histogram": [
           {
            "marker": {
             "line": {
              "color": "white",
              "width": 0.6
             }
            },
            "type": "histogram"
           }
          ],
          "histogram2d": [
           {
            "colorbar": {
             "outlinewidth": 1,
             "tickcolor": "rgb(36,36,36)",
             "ticks": "outside"
            },
            "colorscale": [
             [
              0,
              "#440154"
             ],
             [
              0.1111111111111111,
              "#482878"
             ],
             [
              0.2222222222222222,
              "#3e4989"
             ],
             [
              0.3333333333333333,
              "#31688e"
             ],
             [
              0.4444444444444444,
              "#26828e"
             ],
             [
              0.5555555555555556,
              "#1f9e89"
             ],
             [
              0.6666666666666666,
              "#35b779"
             ],
             [
              0.7777777777777778,
              "#6ece58"
             ],
             [
              0.8888888888888888,
              "#b5de2b"
             ],
             [
              1,
              "#fde725"
             ]
            ],
            "type": "histogram2d"
           }
          ],
          "histogram2dcontour": [
           {
            "colorbar": {
             "outlinewidth": 1,
             "tickcolor": "rgb(36,36,36)",
             "ticks": "outside"
            },
            "colorscale": [
             [
              0,
              "#440154"
             ],
             [
              0.1111111111111111,
              "#482878"
             ],
             [
              0.2222222222222222,
              "#3e4989"
             ],
             [
              0.3333333333333333,
              "#31688e"
             ],
             [
              0.4444444444444444,
              "#26828e"
             ],
             [
              0.5555555555555556,
              "#1f9e89"
             ],
             [
              0.6666666666666666,
              "#35b779"
             ],
             [
              0.7777777777777778,
              "#6ece58"
             ],
             [
              0.8888888888888888,
              "#b5de2b"
             ],
             [
              1,
              "#fde725"
             ]
            ],
            "type": "histogram2dcontour"
           }
          ],
          "mesh3d": [
           {
            "colorbar": {
             "outlinewidth": 1,
             "tickcolor": "rgb(36,36,36)",
             "ticks": "outside"
            },
            "type": "mesh3d"
           }
          ],
          "parcoords": [
           {
            "line": {
             "colorbar": {
              "outlinewidth": 1,
              "tickcolor": "rgb(36,36,36)",
              "ticks": "outside"
             }
            },
            "type": "parcoords"
           }
          ],
          "pie": [
           {
            "automargin": true,
            "type": "pie"
           }
          ],
          "scatter": [
           {
            "fillpattern": {
             "fillmode": "overlay",
             "size": 10,
             "solidity": 0.2
            },
            "type": "scatter"
           }
          ],
          "scatter3d": [
           {
            "line": {
             "colorbar": {
              "outlinewidth": 1,
              "tickcolor": "rgb(36,36,36)",
              "ticks": "outside"
             }
            },
            "marker": {
             "colorbar": {
              "outlinewidth": 1,
              "tickcolor": "rgb(36,36,36)",
              "ticks": "outside"
             }
            },
            "type": "scatter3d"
           }
          ],
          "scattercarpet": [
           {
            "marker": {
             "colorbar": {
              "outlinewidth": 1,
              "tickcolor": "rgb(36,36,36)",
              "ticks": "outside"
             }
            },
            "type": "scattercarpet"
           }
          ],
          "scattergeo": [
           {
            "marker": {
             "colorbar": {
              "outlinewidth": 1,
              "tickcolor": "rgb(36,36,36)",
              "ticks": "outside"
             }
            },
            "type": "scattergeo"
           }
          ],
          "scattergl": [
           {
            "marker": {
             "colorbar": {
              "outlinewidth": 1,
              "tickcolor": "rgb(36,36,36)",
              "ticks": "outside"
             }
            },
            "type": "scattergl"
           }
          ],
          "scattermapbox": [
           {
            "marker": {
             "colorbar": {
              "outlinewidth": 1,
              "tickcolor": "rgb(36,36,36)",
              "ticks": "outside"
             }
            },
            "type": "scattermapbox"
           }
          ],
          "scatterpolar": [
           {
            "marker": {
             "colorbar": {
              "outlinewidth": 1,
              "tickcolor": "rgb(36,36,36)",
              "ticks": "outside"
             }
            },
            "type": "scatterpolar"
           }
          ],
          "scatterpolargl": [
           {
            "marker": {
             "colorbar": {
              "outlinewidth": 1,
              "tickcolor": "rgb(36,36,36)",
              "ticks": "outside"
             }
            },
            "type": "scatterpolargl"
           }
          ],
          "scatterternary": [
           {
            "marker": {
             "colorbar": {
              "outlinewidth": 1,
              "tickcolor": "rgb(36,36,36)",
              "ticks": "outside"
             }
            },
            "type": "scatterternary"
           }
          ],
          "surface": [
           {
            "colorbar": {
             "outlinewidth": 1,
             "tickcolor": "rgb(36,36,36)",
             "ticks": "outside"
            },
            "colorscale": [
             [
              0,
              "#440154"
             ],
             [
              0.1111111111111111,
              "#482878"
             ],
             [
              0.2222222222222222,
              "#3e4989"
             ],
             [
              0.3333333333333333,
              "#31688e"
             ],
             [
              0.4444444444444444,
              "#26828e"
             ],
             [
              0.5555555555555556,
              "#1f9e89"
             ],
             [
              0.6666666666666666,
              "#35b779"
             ],
             [
              0.7777777777777778,
              "#6ece58"
             ],
             [
              0.8888888888888888,
              "#b5de2b"
             ],
             [
              1,
              "#fde725"
             ]
            ],
            "type": "surface"
           }
          ],
          "table": [
           {
            "cells": {
             "fill": {
              "color": "rgb(237,237,237)"
             },
             "line": {
              "color": "white"
             }
            },
            "header": {
             "fill": {
              "color": "rgb(217,217,217)"
             },
             "line": {
              "color": "white"
             }
            },
            "type": "table"
           }
          ]
         },
         "layout": {
          "annotationdefaults": {
           "arrowhead": 0,
           "arrowwidth": 1
          },
          "autotypenumbers": "strict",
          "coloraxis": {
           "colorbar": {
            "outlinewidth": 1,
            "tickcolor": "rgb(36,36,36)",
            "ticks": "outside"
           }
          },
          "colorscale": {
           "diverging": [
            [
             0,
             "rgb(103,0,31)"
            ],
            [
             0.1,
             "rgb(178,24,43)"
            ],
            [
             0.2,
             "rgb(214,96,77)"
            ],
            [
             0.3,
             "rgb(244,165,130)"
            ],
            [
             0.4,
             "rgb(253,219,199)"
            ],
            [
             0.5,
             "rgb(247,247,247)"
            ],
            [
             0.6,
             "rgb(209,229,240)"
            ],
            [
             0.7,
             "rgb(146,197,222)"
            ],
            [
             0.8,
             "rgb(67,147,195)"
            ],
            [
             0.9,
             "rgb(33,102,172)"
            ],
            [
             1,
             "rgb(5,48,97)"
            ]
           ],
           "sequential": [
            [
             0,
             "#440154"
            ],
            [
             0.1111111111111111,
             "#482878"
            ],
            [
             0.2222222222222222,
             "#3e4989"
            ],
            [
             0.3333333333333333,
             "#31688e"
            ],
            [
             0.4444444444444444,
             "#26828e"
            ],
            [
             0.5555555555555556,
             "#1f9e89"
            ],
            [
             0.6666666666666666,
             "#35b779"
            ],
            [
             0.7777777777777778,
             "#6ece58"
            ],
            [
             0.8888888888888888,
             "#b5de2b"
            ],
            [
             1,
             "#fde725"
            ]
           ],
           "sequentialminus": [
            [
             0,
             "#440154"
            ],
            [
             0.1111111111111111,
             "#482878"
            ],
            [
             0.2222222222222222,
             "#3e4989"
            ],
            [
             0.3333333333333333,
             "#31688e"
            ],
            [
             0.4444444444444444,
             "#26828e"
            ],
            [
             0.5555555555555556,
             "#1f9e89"
            ],
            [
             0.6666666666666666,
             "#35b779"
            ],
            [
             0.7777777777777778,
             "#6ece58"
            ],
            [
             0.8888888888888888,
             "#b5de2b"
            ],
            [
             1,
             "#fde725"
            ]
           ]
          },
          "colorway": [
           "#1F77B4",
           "#FF7F0E",
           "#2CA02C",
           "#D62728",
           "#9467BD",
           "#8C564B",
           "#E377C2",
           "#7F7F7F",
           "#BCBD22",
           "#17BECF"
          ],
          "font": {
           "color": "rgb(36,36,36)"
          },
          "geo": {
           "bgcolor": "white",
           "lakecolor": "white",
           "landcolor": "white",
           "showlakes": true,
           "showland": true,
           "subunitcolor": "white"
          },
          "hoverlabel": {
           "align": "left"
          },
          "hovermode": "closest",
          "mapbox": {
           "style": "light"
          },
          "paper_bgcolor": "white",
          "plot_bgcolor": "white",
          "polar": {
           "angularaxis": {
            "gridcolor": "rgb(232,232,232)",
            "linecolor": "rgb(36,36,36)",
            "showgrid": false,
            "showline": true,
            "ticks": "outside"
           },
           "bgcolor": "white",
           "radialaxis": {
            "gridcolor": "rgb(232,232,232)",
            "linecolor": "rgb(36,36,36)",
            "showgrid": false,
            "showline": true,
            "ticks": "outside"
           }
          },
          "scene": {
           "xaxis": {
            "backgroundcolor": "white",
            "gridcolor": "rgb(232,232,232)",
            "gridwidth": 2,
            "linecolor": "rgb(36,36,36)",
            "showbackground": true,
            "showgrid": false,
            "showline": true,
            "ticks": "outside",
            "zeroline": false,
            "zerolinecolor": "rgb(36,36,36)"
           },
           "yaxis": {
            "backgroundcolor": "white",
            "gridcolor": "rgb(232,232,232)",
            "gridwidth": 2,
            "linecolor": "rgb(36,36,36)",
            "showbackground": true,
            "showgrid": false,
            "showline": true,
            "ticks": "outside",
            "zeroline": false,
            "zerolinecolor": "rgb(36,36,36)"
           },
           "zaxis": {
            "backgroundcolor": "white",
            "gridcolor": "rgb(232,232,232)",
            "gridwidth": 2,
            "linecolor": "rgb(36,36,36)",
            "showbackground": true,
            "showgrid": false,
            "showline": true,
            "ticks": "outside",
            "zeroline": false,
            "zerolinecolor": "rgb(36,36,36)"
           }
          },
          "shapedefaults": {
           "fillcolor": "black",
           "line": {
            "width": 0
           },
           "opacity": 0.3
          },
          "ternary": {
           "aaxis": {
            "gridcolor": "rgb(232,232,232)",
            "linecolor": "rgb(36,36,36)",
            "showgrid": false,
            "showline": true,
            "ticks": "outside"
           },
           "baxis": {
            "gridcolor": "rgb(232,232,232)",
            "linecolor": "rgb(36,36,36)",
            "showgrid": false,
            "showline": true,
            "ticks": "outside"
           },
           "bgcolor": "white",
           "caxis": {
            "gridcolor": "rgb(232,232,232)",
            "linecolor": "rgb(36,36,36)",
            "showgrid": false,
            "showline": true,
            "ticks": "outside"
           }
          },
          "title": {
           "x": 0.05
          },
          "xaxis": {
           "automargin": true,
           "gridcolor": "rgb(232,232,232)",
           "linecolor": "rgb(36,36,36)",
           "showgrid": false,
           "showline": true,
           "ticks": "outside",
           "title": {
            "standoff": 15
           },
           "zeroline": false,
           "zerolinecolor": "rgb(36,36,36)"
          },
          "yaxis": {
           "automargin": true,
           "gridcolor": "rgb(232,232,232)",
           "linecolor": "rgb(36,36,36)",
           "showgrid": false,
           "showline": true,
           "ticks": "outside",
           "title": {
            "standoff": 15
           },
           "zeroline": false,
           "zerolinecolor": "rgb(36,36,36)"
          }
         }
        },
        "title": {
         "font": {
          "color": "Black",
          "size": 22
         },
         "text": "<b>Intertopic Distance Map</b>",
         "x": 0.5,
         "xanchor": "center",
         "y": 0.95,
         "yanchor": "top"
        },
        "width": 650,
        "xaxis": {
         "anchor": "y",
         "domain": [
          0,
          1
         ],
         "range": [
          -9.410019636154175,
          10.774566555023194
         ],
         "title": {
          "text": ""
         },
         "visible": false
        },
        "yaxis": {
         "anchor": "x",
         "domain": [
          0,
          1
         ],
         "range": [
          -6.149364352226257,
          13.85740041732788
         ],
         "title": {
          "text": ""
         },
         "visible": false
        }
       }
      }
     },
     "metadata": {},
     "output_type": "display_data"
    }
   ],
   "source": [
    "topic_model.visualize_topics()"
   ]
  },
  {
   "cell_type": "code",
   "execution_count": 8,
   "metadata": {},
   "outputs": [],
   "source": [
    "topic_labels = {\n",
    "0:'Systems modeling, control, and optimization',\n",
    "1:'Wireless communication systems',\n",
    "2:'Medical imaging and segmentation',\n",
    "3:'Power systems and energy storage',\n",
    "4:'Autonomous vehicles and traffic system',\n",
    "5:'Robotics and control systems',\n",
    "\n",
    "6:'Synthetic Aperture Radar (SAR) and image processing',\n",
    "7:'Music generation and audio processing',\n",
    "8:'Unmanned Aerial Vehicles (UAVs)',\n",
    "9:'Video compression and image quality',\n",
    "10:'Cardiac signal processing',\n",
    "\n",
    "11:'EEG and brain signal processing',\n",
    "12:'MRI image reconstruction',\n",
    "13:'Human activity recognition with wearable sensors',\n",
    "14:'Microscopy and high-resolution imaging',\n",
    "15:'Retinal image processing',\n",
    "\n",
    "16:'Hyperspectral imaging',\n",
    "17:'Underwater modelling and marine exploration',\n",
    "18:'Low Earth Orbit (LEO) Satellite Networks and Communication Systems',\n",
    "19:'Flight control and trajectory tracking',\n",
    "20:'Generative models for image processing'\n",
    "}"
   ]
  },
  {
   "cell_type": "code",
   "execution_count": 18,
   "metadata": {},
   "outputs": [
    {
     "data": {
      "image/png": "[encoded data removed]",
      "text/plain": [
       "<Figure size 1400x600 with 1 Axes>"
      ]
     },
     "metadata": {},
     "output_type": "display_data"
    }
   ],
   "source": [
    "specific_topics = [0,1,2,3,4,5]\n",
    "\n",
    "# Filter monthly_data to include only these specific topics\n",
    "filtered_monthly_data = monthly_data[monthly_data['Topic'].isin(specific_topics)]\n",
    "\n",
    "# Pivot the table to make it suitable for bar plotting (topics as columns)\n",
    "pivoted_data = filtered_monthly_data.pivot(index='Timestamp', columns='Topic', values='Frequency')\n",
    "\n",
    "# Plot as stacked bar chart\n",
    "ax = pivoted_data.plot(kind='bar', stacked=False, figsize=(14, 6), colormap='Paired')\n",
    "\n",
    "# Add legend outside the plot\n",
    "ax.legend(title='Global Topic Representation', labels=[topic_labels.get(topic, topic) for topic in pivoted_data.columns],  bbox_to_anchor=(1, 1), loc='upper left')\n",
    "\n",
    "# Customize the plot (similar to your image)\n",
    "ax.set_title('Topics over time', fontsize=14)\n",
    "ax.set_xlabel('')\n",
    "ax.set_ylabel('Frequency')\n",
    "\n",
    "# Rotate x-axis labels for better readability\n",
    "ax.set_xticklabels(pivoted_data.index.astype(str), rotation=0)\n",
    "\n",
    "# Add gridlines for better readability\n",
    "plt.grid(axis='y', linestyle='--', alpha=0.7)\n",
    "\n",
    "# Adjust layout to fit everything well\n",
    "plt.tight_layout()\n",
    "\n",
    "# Show the plot\n",
    "plt.show()"
   ]
  },
  {
   "cell_type": "code",
   "execution_count": 15,
   "metadata": {},
   "outputs": [
    {
     "data": {
      "image/png": "[encoded data removed]",
      "text/plain": [
       "<Figure size 1400x600 with 1 Axes>"
      ]
     },
     "metadata": {},
     "output_type": "display_data"
    }
   ],
   "source": [
    "specific_topics = [6,7,8,9,10]\n",
    "\n",
    "# Filter monthly_data to include only these specific topics\n",
    "filtered_monthly_data = monthly_data[monthly_data['Topic'].isin(specific_topics)]\n",
    "\n",
    "# Pivot the table to make it suitable for bar plotting (topics as columns)\n",
    "pivoted_data = filtered_monthly_data.pivot(index='Timestamp', columns='Topic', values='Frequency')\n",
    "\n",
    "# Plot as stacked bar chart\n",
    "ax = pivoted_data.plot(kind='bar', stacked=False, figsize=(14, 6), colormap='Paired')\n",
    "\n",
    "# Add legend outside the plot\n",
    "ax.legend(title='Global Topic Representation', labels=[topic_labels.get(topic, topic) for topic in pivoted_data.columns],  bbox_to_anchor=(1, 1), loc='upper left')\n",
    "\n",
    "# Customize the plot (similar to your image)\n",
    "ax.set_title('Topics over time', fontsize=14)\n",
    "ax.set_xlabel('')\n",
    "ax.set_ylabel('Frequency')\n",
    "\n",
    "# Rotate x-axis labels for better readability\n",
    "ax.set_xticklabels(pivoted_data.index.astype(str), rotation=0)\n",
    "\n",
    "# Add gridlines for better readability\n",
    "plt.grid(axis='y', linestyle='--', alpha=0.7)\n",
    "\n",
    "# Adjust layout to fit everything well\n",
    "plt.tight_layout()\n",
    "\n",
    "# Show the plot\n",
    "plt.show()"
   ]
  },
  {
   "cell_type": "code",
   "execution_count": 14,
   "metadata": {},
   "outputs": [
    {
     "data": {
      "image/png": "[encoded data removed]",
      "text/plain": [
       "<Figure size 1400x600 with 1 Axes>"
      ]
     },
     "metadata": {},
     "output_type": "display_data"
    }
   ],
   "source": [
    "specific_topics = [11,12,13,14,15]\n",
    "\n",
    "# Filter monthly_data to include only these specific topics\n",
    "filtered_monthly_data = monthly_data[monthly_data['Topic'].isin(specific_topics)]\n",
    "\n",
    "# Pivot the table to make it suitable for bar plotting (topics as columns)\n",
    "pivoted_data = filtered_monthly_data.pivot(index='Timestamp', columns='Topic', values='Frequency')\n",
    "\n",
    "# Plot as stacked bar chart\n",
    "ax = pivoted_data.plot(kind='bar', stacked=False, figsize=(14, 6), colormap='Paired')\n",
    "\n",
    "# Add legend outside the plot\n",
    "ax.legend(title='Global Topic Representation', labels=[topic_labels.get(topic, topic) for topic in pivoted_data.columns],  bbox_to_anchor=(1, 1), loc='upper left')\n",
    "\n",
    "# Customize the plot (similar to your image)\n",
    "ax.set_title('Topics over time', fontsize=14)\n",
    "ax.set_xlabel('')\n",
    "ax.set_ylabel('Frequency')\n",
    "\n",
    "# Rotate x-axis labels for better readability\n",
    "ax.set_xticklabels(pivoted_data.index.astype(str), rotation=0)\n",
    "\n",
    "# Add gridlines for better readability\n",
    "plt.grid(axis='y', linestyle='--', alpha=0.7)\n",
    "\n",
    "# Adjust layout to fit everything well\n",
    "plt.tight_layout()\n",
    "\n",
    "# Show the plot\n",
    "plt.show()"
   ]
  },
  {
   "cell_type": "code",
   "execution_count": 13,
   "metadata": {},
   "outputs": [
    {
     "data": {
      "image/png": "[encoded data removed]",
      "text/plain": [
       "<Figure size 1400x600 with 1 Axes>"
      ]
     },
     "metadata": {},
     "output_type": "display_data"
    }
   ],
   "source": [
    "specific_topics = [16,17,18,19,20]\n",
    "\n",
    "# Filter monthly_data to include only these specific topics\n",
    "filtered_monthly_data = monthly_data[monthly_data['Topic'].isin(specific_topics)]\n",
    "\n",
    "# Pivot the table to make it suitable for bar plotting (topics as columns)\n",
    "pivoted_data = filtered_monthly_data.pivot(index='Timestamp', columns='Topic', values='Frequency')\n",
    "\n",
    "# Plot as stacked bar chart\n",
    "ax = pivoted_data.plot(kind='bar', stacked=False, figsize=(14, 6), colormap='Paired')\n",
    "\n",
    "# Add legend outside the plot\n",
    "ax.legend(title='Global Topic Representation', labels=[topic_labels.get(topic, topic) for topic in pivoted_data.columns],  bbox_to_anchor=(1, 1), loc='upper left')\n",
    "\n",
    "# Customize the plot (similar to your image)\n",
    "ax.set_title('Topics over time', fontsize=14)\n",
    "ax.set_xlabel('')\n",
    "ax.set_ylabel('Frequency')\n",
    "\n",
    "# Rotate x-axis labels for better readability\n",
    "ax.set_xticklabels(pivoted_data.index.astype(str), rotation=0)\n",
    "\n",
    "# Add gridlines for better readability\n",
    "plt.grid(axis='y', linestyle='--', alpha=0.7)\n",
    "\n",
    "# Adjust layout to fit everything well\n",
    "plt.tight_layout()\n",
    "\n",
    "# Show the plot\n",
    "plt.show()"
   ]
  }
 ],
 "metadata": {
  "kernelspec": {
   "display_name": "myenv2",
   "language": "python",
   "name": "python3"
  },
  "language_info": {
   "codemirror_mode": {
    "name": "ipython",
    "version": 3
   },
   "file_extension": ".py",
   "mimetype": "text/x-python",
   "name": "python",
   "nbconvert_exporter": "python",
   "pygments_lexer": "ipython3",
   "version": "3.10.6"
  }
 },
 "nbformat": 4,
 "nbformat_minor": 2
}
